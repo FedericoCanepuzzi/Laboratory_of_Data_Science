{
 "cells": [
  {
   "cell_type": "code",
   "execution_count": 1,
   "id": "AmXcHTRwzQvJ",
   "metadata": {
    "executionInfo": {
     "elapsed": 1644,
     "status": "ok",
     "timestamp": 1637403936939,
     "user": {
      "displayName": "FEDERICO CANEPUZZI",
      "photoUrl": "https://lh3.googleusercontent.com/a/default-user=s64",
      "userId": "05015019107900810205"
     },
     "user_tz": -60
    },
    "id": "AmXcHTRwzQvJ"
   },
   "outputs": [],
   "source": [
    "import numpy as np\n",
    "import pandas as pd\n",
    "from statistics import mean\n",
    "from nltk.tokenize import word_tokenize\n",
    "from datetime import datetime, date, timedelta  \n",
    "pd.set_option('display.max_columns', None)"
   ]
  },
  {
   "cell_type": "code",
   "execution_count": null,
   "id": "rhC4RhKy6wDY",
   "metadata": {
    "colab": {
     "base_uri": "https://localhost:8080/"
    },
    "executionInfo": {
     "elapsed": 27943,
     "status": "ok",
     "timestamp": 1637404728787,
     "user": {
      "displayName": "FEDERICO CANEPUZZI",
      "photoUrl": "https://lh3.googleusercontent.com/a/default-user=s64",
      "userId": "05015019107900810205"
     },
     "user_tz": -60
    },
    "id": "rhC4RhKy6wDY",
    "outputId": "27a89e20-17be-4110-cad3-cf87011ea65a"
   },
   "outputs": [],
   "source": []
  },
  {
   "cell_type": "code",
   "execution_count": null,
   "id": "qiD4m3tK8oCB",
   "metadata": {
    "colab": {
     "base_uri": "https://localhost:8080/"
    },
    "executionInfo": {
     "elapsed": 271,
     "status": "ok",
     "timestamp": 1637405320596,
     "user": {
      "displayName": "FEDERICO CANEPUZZI",
      "photoUrl": "https://lh3.googleusercontent.com/a/default-user=s64",
      "userId": "05015019107900810205"
     },
     "user_tz": -60
    },
    "id": "qiD4m3tK8oCB",
    "outputId": "f9b58409-4e57-43f4-931a-ecf2faabba9e"
   },
   "outputs": [],
   "source": []
  },
  {
   "cell_type": "code",
   "execution_count": 2,
   "id": "SOwAh6pezQvO",
   "metadata": {
    "colab": {
     "base_uri": "https://localhost:8080/"
    },
    "executionInfo": {
     "elapsed": 3759,
     "status": "ok",
     "timestamp": 1637405379244,
     "user": {
      "displayName": "FEDERICO CANEPUZZI",
      "photoUrl": "https://lh3.googleusercontent.com/a/default-user=s64",
      "userId": "05015019107900810205"
     },
     "user_tz": -60
    },
    "id": "SOwAh6pezQvO",
    "outputId": "75e0961e-4f8d-4fed-bbfb-5889baf7ed59"
   },
   "outputs": [
    {
     "name": "stderr",
     "output_type": "stream",
     "text": [
      "C:\\Users\\Federico\\anaconda3\\lib\\site-packages\\IPython\\core\\interactiveshell.py:3441: DtypeWarning: Columns (4) have mixed types.Specify dtype option on import or set low_memory=False.\n",
      "  exec(code_obj, self.user_global_ns, self.user_ns)\n"
     ]
    }
   ],
   "source": [
    "tennis = pd.read_csv('data/tennis.csv')"
   ]
  },
  {
   "cell_type": "code",
   "execution_count": 3,
   "id": "7fp15qnizQvP",
   "metadata": {
    "executionInfo": {
     "elapsed": 268,
     "status": "ok",
     "timestamp": 1637405389375,
     "user": {
      "displayName": "FEDERICO CANEPUZZI",
      "photoUrl": "https://lh3.googleusercontent.com/a/default-user=s64",
      "userId": "05015019107900810205"
     },
     "user_tz": -60
    },
    "id": "7fp15qnizQvP"
   },
   "outputs": [],
   "source": [
    "#trasformo tutti i valori riferiti al livello in str, altrimenti \n",
    "#mi da dei problemi perchè alcuni valori vengono letti come stringa ed altri come interi\n",
    "tennis=tennis.astype({'tourney_level':str})"
   ]
  },
  {
   "cell_type": "code",
   "execution_count": 4,
   "id": "_IKU-wJXzQvQ",
   "metadata": {
    "colab": {
     "base_uri": "https://localhost:8080/",
     "height": 721
    },
    "executionInfo": {
     "elapsed": 390,
     "status": "ok",
     "timestamp": 1637405391404,
     "user": {
      "displayName": "FEDERICO CANEPUZZI",
      "photoUrl": "https://lh3.googleusercontent.com/a/default-user=s64",
      "userId": "05015019107900810205"
     },
     "user_tz": -60
    },
    "id": "_IKU-wJXzQvQ",
    "outputId": "f69695fb-bc0c-4b3f-8016-365b4abf86d3"
   },
   "outputs": [
    {
     "data": {
      "text/html": [
       "<div>\n",
       "<style scoped>\n",
       "    .dataframe tbody tr th:only-of-type {\n",
       "        vertical-align: middle;\n",
       "    }\n",
       "\n",
       "    .dataframe tbody tr th {\n",
       "        vertical-align: top;\n",
       "    }\n",
       "\n",
       "    .dataframe thead th {\n",
       "        text-align: right;\n",
       "    }\n",
       "</style>\n",
       "<table border=\"1\" class=\"dataframe\">\n",
       "  <thead>\n",
       "    <tr style=\"text-align: right;\">\n",
       "      <th></th>\n",
       "      <th>tourney_id</th>\n",
       "      <th>tourney_name</th>\n",
       "      <th>surface</th>\n",
       "      <th>draw_size</th>\n",
       "      <th>tourney_level</th>\n",
       "      <th>tourney_date</th>\n",
       "      <th>match_num</th>\n",
       "      <th>winner_id</th>\n",
       "      <th>winner_entry</th>\n",
       "      <th>winner_name</th>\n",
       "      <th>winner_hand</th>\n",
       "      <th>winner_ht</th>\n",
       "      <th>winner_ioc</th>\n",
       "      <th>winner_age</th>\n",
       "      <th>loser_id</th>\n",
       "      <th>loser_entry</th>\n",
       "      <th>loser_name</th>\n",
       "      <th>loser_hand</th>\n",
       "      <th>loser_ht</th>\n",
       "      <th>loser_ioc</th>\n",
       "      <th>loser_age</th>\n",
       "      <th>score</th>\n",
       "      <th>best_of</th>\n",
       "      <th>round</th>\n",
       "      <th>minutes</th>\n",
       "      <th>w_ace</th>\n",
       "      <th>w_df</th>\n",
       "      <th>w_svpt</th>\n",
       "      <th>w_1stIn</th>\n",
       "      <th>w_1stWon</th>\n",
       "      <th>w_2ndWon</th>\n",
       "      <th>w_SvGms</th>\n",
       "      <th>w_bpSaved</th>\n",
       "      <th>w_bpFaced</th>\n",
       "      <th>l_ace</th>\n",
       "      <th>l_df</th>\n",
       "      <th>l_svpt</th>\n",
       "      <th>l_1stIn</th>\n",
       "      <th>l_1stWon</th>\n",
       "      <th>l_2ndWon</th>\n",
       "      <th>l_SvGms</th>\n",
       "      <th>l_bpSaved</th>\n",
       "      <th>l_bpFaced</th>\n",
       "      <th>winner_rank</th>\n",
       "      <th>winner_rank_points</th>\n",
       "      <th>loser_rank</th>\n",
       "      <th>loser_rank_points</th>\n",
       "      <th>tourney_spectators</th>\n",
       "      <th>tourney_revenue</th>\n",
       "    </tr>\n",
       "  </thead>\n",
       "  <tbody>\n",
       "    <tr>\n",
       "      <th>0</th>\n",
       "      <td>2019-M020</td>\n",
       "      <td>Brisbane</td>\n",
       "      <td>Hard</td>\n",
       "      <td>32</td>\n",
       "      <td>A</td>\n",
       "      <td>20181231</td>\n",
       "      <td>300</td>\n",
       "      <td>105453</td>\n",
       "      <td>NaN</td>\n",
       "      <td>Kei Nishikori</td>\n",
       "      <td>R</td>\n",
       "      <td>178.0</td>\n",
       "      <td>JPN</td>\n",
       "      <td>29.004791</td>\n",
       "      <td>106421</td>\n",
       "      <td>NaN</td>\n",
       "      <td>Daniil Medvedev</td>\n",
       "      <td>R</td>\n",
       "      <td>198.0</td>\n",
       "      <td>RUS</td>\n",
       "      <td>22.885695</td>\n",
       "      <td>6-4 3-6 6-2</td>\n",
       "      <td>3</td>\n",
       "      <td>F</td>\n",
       "      <td>124.0</td>\n",
       "      <td>3.0</td>\n",
       "      <td>3.0</td>\n",
       "      <td>77.0</td>\n",
       "      <td>44.0</td>\n",
       "      <td>31.0</td>\n",
       "      <td>17.0</td>\n",
       "      <td>13.0</td>\n",
       "      <td>3.0</td>\n",
       "      <td>6.0</td>\n",
       "      <td>8.0</td>\n",
       "      <td>6.0</td>\n",
       "      <td>100.0</td>\n",
       "      <td>54.0</td>\n",
       "      <td>34.0</td>\n",
       "      <td>20.0</td>\n",
       "      <td>14.0</td>\n",
       "      <td>10.0</td>\n",
       "      <td>15.0</td>\n",
       "      <td>9.0</td>\n",
       "      <td>3590.0</td>\n",
       "      <td>16.0</td>\n",
       "      <td>1977.0</td>\n",
       "      <td>3928</td>\n",
       "      <td>742618.69</td>\n",
       "    </tr>\n",
       "    <tr>\n",
       "      <th>1</th>\n",
       "      <td>2019-M020</td>\n",
       "      <td>Brisbane</td>\n",
       "      <td>Hard</td>\n",
       "      <td>32</td>\n",
       "      <td>A</td>\n",
       "      <td>20181231</td>\n",
       "      <td>299</td>\n",
       "      <td>106421</td>\n",
       "      <td>NaN</td>\n",
       "      <td>Daniil Medvedev</td>\n",
       "      <td>R</td>\n",
       "      <td>198.0</td>\n",
       "      <td>RUS</td>\n",
       "      <td>22.885695</td>\n",
       "      <td>104542</td>\n",
       "      <td>PR</td>\n",
       "      <td>Jo-Wilfried Tsonga</td>\n",
       "      <td>R</td>\n",
       "      <td>188.0</td>\n",
       "      <td>FRA</td>\n",
       "      <td>33.705681</td>\n",
       "      <td>7-6(6) 6-2</td>\n",
       "      <td>3</td>\n",
       "      <td>SF</td>\n",
       "      <td>82.0</td>\n",
       "      <td>10.0</td>\n",
       "      <td>1.0</td>\n",
       "      <td>52.0</td>\n",
       "      <td>33.0</td>\n",
       "      <td>28.0</td>\n",
       "      <td>14.0</td>\n",
       "      <td>10.0</td>\n",
       "      <td>0.0</td>\n",
       "      <td>1.0</td>\n",
       "      <td>17.0</td>\n",
       "      <td>2.0</td>\n",
       "      <td>77.0</td>\n",
       "      <td>52.0</td>\n",
       "      <td>36.0</td>\n",
       "      <td>7.0</td>\n",
       "      <td>10.0</td>\n",
       "      <td>10.0</td>\n",
       "      <td>13.0</td>\n",
       "      <td>16.0</td>\n",
       "      <td>1977.0</td>\n",
       "      <td>239.0</td>\n",
       "      <td>200.0</td>\n",
       "      <td>3928</td>\n",
       "      <td>742618.69</td>\n",
       "    </tr>\n",
       "    <tr>\n",
       "      <th>2</th>\n",
       "      <td>2019-M020</td>\n",
       "      <td>Brisbane</td>\n",
       "      <td>Hard</td>\n",
       "      <td>32</td>\n",
       "      <td>A</td>\n",
       "      <td>20181231</td>\n",
       "      <td>298</td>\n",
       "      <td>105453</td>\n",
       "      <td>NaN</td>\n",
       "      <td>Kei Nishikori</td>\n",
       "      <td>R</td>\n",
       "      <td>178.0</td>\n",
       "      <td>JPN</td>\n",
       "      <td>29.004791</td>\n",
       "      <td>104871</td>\n",
       "      <td>NaN</td>\n",
       "      <td>Jeremy Chardy</td>\n",
       "      <td>R</td>\n",
       "      <td>188.0</td>\n",
       "      <td>FRA</td>\n",
       "      <td>31.882272</td>\n",
       "      <td>6-2 6-2</td>\n",
       "      <td>3</td>\n",
       "      <td>SF</td>\n",
       "      <td>66.0</td>\n",
       "      <td>2.0</td>\n",
       "      <td>2.0</td>\n",
       "      <td>47.0</td>\n",
       "      <td>33.0</td>\n",
       "      <td>26.0</td>\n",
       "      <td>9.0</td>\n",
       "      <td>8.0</td>\n",
       "      <td>2.0</td>\n",
       "      <td>2.0</td>\n",
       "      <td>10.0</td>\n",
       "      <td>3.0</td>\n",
       "      <td>46.0</td>\n",
       "      <td>27.0</td>\n",
       "      <td>15.0</td>\n",
       "      <td>6.0</td>\n",
       "      <td>8.0</td>\n",
       "      <td>1.0</td>\n",
       "      <td>5.0</td>\n",
       "      <td>9.0</td>\n",
       "      <td>3590.0</td>\n",
       "      <td>40.0</td>\n",
       "      <td>1050.0</td>\n",
       "      <td>3928</td>\n",
       "      <td>742618.69</td>\n",
       "    </tr>\n",
       "    <tr>\n",
       "      <th>3</th>\n",
       "      <td>2019-M020</td>\n",
       "      <td>Brisbane</td>\n",
       "      <td>Hard</td>\n",
       "      <td>32</td>\n",
       "      <td>A</td>\n",
       "      <td>20181231</td>\n",
       "      <td>297</td>\n",
       "      <td>104542</td>\n",
       "      <td>PR</td>\n",
       "      <td>Jo-Wilfried Tsonga</td>\n",
       "      <td>R</td>\n",
       "      <td>188.0</td>\n",
       "      <td>FRA</td>\n",
       "      <td>33.705681</td>\n",
       "      <td>200282</td>\n",
       "      <td>NaN</td>\n",
       "      <td>Alex De Minaur</td>\n",
       "      <td>R</td>\n",
       "      <td>183.0</td>\n",
       "      <td>AUS</td>\n",
       "      <td>19.868583</td>\n",
       "      <td>6-4 7-6(2)</td>\n",
       "      <td>3</td>\n",
       "      <td>QF</td>\n",
       "      <td>106.0</td>\n",
       "      <td>12.0</td>\n",
       "      <td>2.0</td>\n",
       "      <td>68.0</td>\n",
       "      <td>43.0</td>\n",
       "      <td>34.0</td>\n",
       "      <td>15.0</td>\n",
       "      <td>11.0</td>\n",
       "      <td>4.0</td>\n",
       "      <td>5.0</td>\n",
       "      <td>1.0</td>\n",
       "      <td>2.0</td>\n",
       "      <td>81.0</td>\n",
       "      <td>60.0</td>\n",
       "      <td>38.0</td>\n",
       "      <td>9.0</td>\n",
       "      <td>11.0</td>\n",
       "      <td>4.0</td>\n",
       "      <td>6.0</td>\n",
       "      <td>239.0</td>\n",
       "      <td>200.0</td>\n",
       "      <td>31.0</td>\n",
       "      <td>1298.0</td>\n",
       "      <td>3928</td>\n",
       "      <td>742618.69</td>\n",
       "    </tr>\n",
       "    <tr>\n",
       "      <th>4</th>\n",
       "      <td>2019-M020</td>\n",
       "      <td>Brisbane</td>\n",
       "      <td>Hard</td>\n",
       "      <td>32</td>\n",
       "      <td>A</td>\n",
       "      <td>20181231</td>\n",
       "      <td>296</td>\n",
       "      <td>106421</td>\n",
       "      <td>NaN</td>\n",
       "      <td>Daniil Medvedev</td>\n",
       "      <td>R</td>\n",
       "      <td>198.0</td>\n",
       "      <td>RUS</td>\n",
       "      <td>22.885695</td>\n",
       "      <td>105683</td>\n",
       "      <td>NaN</td>\n",
       "      <td>Milos Raonic</td>\n",
       "      <td>R</td>\n",
       "      <td>196.0</td>\n",
       "      <td>CAN</td>\n",
       "      <td>28.010951</td>\n",
       "      <td>6-7(2) 6-3 6-4</td>\n",
       "      <td>3</td>\n",
       "      <td>QF</td>\n",
       "      <td>129.0</td>\n",
       "      <td>12.0</td>\n",
       "      <td>3.0</td>\n",
       "      <td>105.0</td>\n",
       "      <td>68.0</td>\n",
       "      <td>48.0</td>\n",
       "      <td>25.0</td>\n",
       "      <td>16.0</td>\n",
       "      <td>8.0</td>\n",
       "      <td>8.0</td>\n",
       "      <td>29.0</td>\n",
       "      <td>5.0</td>\n",
       "      <td>94.0</td>\n",
       "      <td>56.0</td>\n",
       "      <td>46.0</td>\n",
       "      <td>19.0</td>\n",
       "      <td>15.0</td>\n",
       "      <td>2.0</td>\n",
       "      <td>4.0</td>\n",
       "      <td>16.0</td>\n",
       "      <td>1977.0</td>\n",
       "      <td>18.0</td>\n",
       "      <td>1855.0</td>\n",
       "      <td>3928</td>\n",
       "      <td>742618.69</td>\n",
       "    </tr>\n",
       "    <tr>\n",
       "      <th>...</th>\n",
       "      <td>...</td>\n",
       "      <td>...</td>\n",
       "      <td>...</td>\n",
       "      <td>...</td>\n",
       "      <td>...</td>\n",
       "      <td>...</td>\n",
       "      <td>...</td>\n",
       "      <td>...</td>\n",
       "      <td>...</td>\n",
       "      <td>...</td>\n",
       "      <td>...</td>\n",
       "      <td>...</td>\n",
       "      <td>...</td>\n",
       "      <td>...</td>\n",
       "      <td>...</td>\n",
       "      <td>...</td>\n",
       "      <td>...</td>\n",
       "      <td>...</td>\n",
       "      <td>...</td>\n",
       "      <td>...</td>\n",
       "      <td>...</td>\n",
       "      <td>...</td>\n",
       "      <td>...</td>\n",
       "      <td>...</td>\n",
       "      <td>...</td>\n",
       "      <td>...</td>\n",
       "      <td>...</td>\n",
       "      <td>...</td>\n",
       "      <td>...</td>\n",
       "      <td>...</td>\n",
       "      <td>...</td>\n",
       "      <td>...</td>\n",
       "      <td>...</td>\n",
       "      <td>...</td>\n",
       "      <td>...</td>\n",
       "      <td>...</td>\n",
       "      <td>...</td>\n",
       "      <td>...</td>\n",
       "      <td>...</td>\n",
       "      <td>...</td>\n",
       "      <td>...</td>\n",
       "      <td>...</td>\n",
       "      <td>...</td>\n",
       "      <td>...</td>\n",
       "      <td>...</td>\n",
       "      <td>...</td>\n",
       "      <td>...</td>\n",
       "      <td>...</td>\n",
       "      <td>...</td>\n",
       "    </tr>\n",
       "    <tr>\n",
       "      <th>186068</th>\n",
       "      <td>2020-W-ITF-USA-48A-2020</td>\n",
       "      <td>W25 Orlando FL</td>\n",
       "      <td>Hard</td>\n",
       "      <td>32</td>\n",
       "      <td>25</td>\n",
       "      <td>20201109</td>\n",
       "      <td>204</td>\n",
       "      <td>215794</td>\n",
       "      <td>WC</td>\n",
       "      <td>Hurricane Tyra Black</td>\n",
       "      <td>R</td>\n",
       "      <td>NaN</td>\n",
       "      <td>USA</td>\n",
       "      <td>19.690623</td>\n",
       "      <td>222081</td>\n",
       "      <td>NaN</td>\n",
       "      <td>Eleana Yu</td>\n",
       "      <td>R</td>\n",
       "      <td>NaN</td>\n",
       "      <td>USA</td>\n",
       "      <td>16.002738</td>\n",
       "      <td>7-6(1) 6-1</td>\n",
       "      <td>3</td>\n",
       "      <td>Q2</td>\n",
       "      <td>NaN</td>\n",
       "      <td>NaN</td>\n",
       "      <td>NaN</td>\n",
       "      <td>NaN</td>\n",
       "      <td>NaN</td>\n",
       "      <td>NaN</td>\n",
       "      <td>NaN</td>\n",
       "      <td>NaN</td>\n",
       "      <td>NaN</td>\n",
       "      <td>NaN</td>\n",
       "      <td>NaN</td>\n",
       "      <td>NaN</td>\n",
       "      <td>NaN</td>\n",
       "      <td>NaN</td>\n",
       "      <td>NaN</td>\n",
       "      <td>NaN</td>\n",
       "      <td>NaN</td>\n",
       "      <td>NaN</td>\n",
       "      <td>NaN</td>\n",
       "      <td>598.0</td>\n",
       "      <td>57.0</td>\n",
       "      <td>1216.0</td>\n",
       "      <td>6.0</td>\n",
       "      <td>2312</td>\n",
       "      <td>471620.95</td>\n",
       "    </tr>\n",
       "    <tr>\n",
       "      <th>186069</th>\n",
       "      <td>2020-W-ITF-USA-48A-2020</td>\n",
       "      <td>W25 Orlando FL</td>\n",
       "      <td>Hard</td>\n",
       "      <td>32</td>\n",
       "      <td>25</td>\n",
       "      <td>20201109</td>\n",
       "      <td>205</td>\n",
       "      <td>210754</td>\n",
       "      <td>NaN</td>\n",
       "      <td>Vivian Heisen</td>\n",
       "      <td>U</td>\n",
       "      <td>NaN</td>\n",
       "      <td>GER</td>\n",
       "      <td>26.869268</td>\n",
       "      <td>220723</td>\n",
       "      <td>NaN</td>\n",
       "      <td>Jessica Livianu</td>\n",
       "      <td>R</td>\n",
       "      <td>NaN</td>\n",
       "      <td>USA</td>\n",
       "      <td>22.713210</td>\n",
       "      <td>2-6 6-2 10-3</td>\n",
       "      <td>3</td>\n",
       "      <td>Q2</td>\n",
       "      <td>NaN</td>\n",
       "      <td>NaN</td>\n",
       "      <td>NaN</td>\n",
       "      <td>NaN</td>\n",
       "      <td>NaN</td>\n",
       "      <td>NaN</td>\n",
       "      <td>NaN</td>\n",
       "      <td>NaN</td>\n",
       "      <td>NaN</td>\n",
       "      <td>NaN</td>\n",
       "      <td>NaN</td>\n",
       "      <td>NaN</td>\n",
       "      <td>NaN</td>\n",
       "      <td>NaN</td>\n",
       "      <td>NaN</td>\n",
       "      <td>NaN</td>\n",
       "      <td>NaN</td>\n",
       "      <td>NaN</td>\n",
       "      <td>NaN</td>\n",
       "      <td>429.0</td>\n",
       "      <td>102.0</td>\n",
       "      <td>729.0</td>\n",
       "      <td>35.0</td>\n",
       "      <td>2312</td>\n",
       "      <td>471620.95</td>\n",
       "    </tr>\n",
       "    <tr>\n",
       "      <th>186070</th>\n",
       "      <td>2020-W-ITF-USA-48A-2020</td>\n",
       "      <td>W25 Orlando FL</td>\n",
       "      <td>Hard</td>\n",
       "      <td>32</td>\n",
       "      <td>25</td>\n",
       "      <td>20201109</td>\n",
       "      <td>206</td>\n",
       "      <td>211874</td>\n",
       "      <td>NaN</td>\n",
       "      <td>Victoria Rodriguez</td>\n",
       "      <td>U</td>\n",
       "      <td>NaN</td>\n",
       "      <td>MEX</td>\n",
       "      <td>25.552361</td>\n",
       "      <td>202478</td>\n",
       "      <td>NaN</td>\n",
       "      <td>Tara Moore</td>\n",
       "      <td>R</td>\n",
       "      <td>NaN</td>\n",
       "      <td>GBR</td>\n",
       "      <td>28.260096</td>\n",
       "      <td>6-2 7-6(8)</td>\n",
       "      <td>3</td>\n",
       "      <td>Q2</td>\n",
       "      <td>NaN</td>\n",
       "      <td>NaN</td>\n",
       "      <td>NaN</td>\n",
       "      <td>NaN</td>\n",
       "      <td>NaN</td>\n",
       "      <td>NaN</td>\n",
       "      <td>NaN</td>\n",
       "      <td>NaN</td>\n",
       "      <td>NaN</td>\n",
       "      <td>NaN</td>\n",
       "      <td>NaN</td>\n",
       "      <td>NaN</td>\n",
       "      <td>NaN</td>\n",
       "      <td>NaN</td>\n",
       "      <td>NaN</td>\n",
       "      <td>NaN</td>\n",
       "      <td>NaN</td>\n",
       "      <td>NaN</td>\n",
       "      <td>NaN</td>\n",
       "      <td>643.0</td>\n",
       "      <td>48.0</td>\n",
       "      <td>454.0</td>\n",
       "      <td>93.0</td>\n",
       "      <td>2312</td>\n",
       "      <td>471620.95</td>\n",
       "    </tr>\n",
       "    <tr>\n",
       "      <th>186071</th>\n",
       "      <td>2020-W-ITF-USA-48A-2020</td>\n",
       "      <td>W25 Orlando FL</td>\n",
       "      <td>Hard</td>\n",
       "      <td>32</td>\n",
       "      <td>25</td>\n",
       "      <td>20201109</td>\n",
       "      <td>207</td>\n",
       "      <td>213789</td>\n",
       "      <td>NaN</td>\n",
       "      <td>Katarina Jokic</td>\n",
       "      <td>U</td>\n",
       "      <td>NaN</td>\n",
       "      <td>BIH</td>\n",
       "      <td>22.559890</td>\n",
       "      <td>205922</td>\n",
       "      <td>NaN</td>\n",
       "      <td>Chanelle Van Nguyen</td>\n",
       "      <td>U</td>\n",
       "      <td>NaN</td>\n",
       "      <td>USA</td>\n",
       "      <td>26.806297</td>\n",
       "      <td>6-4 6-2</td>\n",
       "      <td>3</td>\n",
       "      <td>Q2</td>\n",
       "      <td>NaN</td>\n",
       "      <td>NaN</td>\n",
       "      <td>NaN</td>\n",
       "      <td>NaN</td>\n",
       "      <td>NaN</td>\n",
       "      <td>NaN</td>\n",
       "      <td>NaN</td>\n",
       "      <td>NaN</td>\n",
       "      <td>NaN</td>\n",
       "      <td>NaN</td>\n",
       "      <td>NaN</td>\n",
       "      <td>NaN</td>\n",
       "      <td>NaN</td>\n",
       "      <td>NaN</td>\n",
       "      <td>NaN</td>\n",
       "      <td>NaN</td>\n",
       "      <td>NaN</td>\n",
       "      <td>NaN</td>\n",
       "      <td>NaN</td>\n",
       "      <td>923.0</td>\n",
       "      <td>17.0</td>\n",
       "      <td>627.0</td>\n",
       "      <td>51.0</td>\n",
       "      <td>2312</td>\n",
       "      <td>471620.95</td>\n",
       "    </tr>\n",
       "    <tr>\n",
       "      <th>186072</th>\n",
       "      <td>2020-W-ITF-USA-48A-2020</td>\n",
       "      <td>W25 Orlando FL</td>\n",
       "      <td>Hard</td>\n",
       "      <td>32</td>\n",
       "      <td>25</td>\n",
       "      <td>20201109</td>\n",
       "      <td>208</td>\n",
       "      <td>215306</td>\n",
       "      <td>NaN</td>\n",
       "      <td>Emiliana Arango</td>\n",
       "      <td>R</td>\n",
       "      <td>NaN</td>\n",
       "      <td>COL</td>\n",
       "      <td>19.947981</td>\n",
       "      <td>223453</td>\n",
       "      <td>WC</td>\n",
       "      <td>Brooklyn Olson</td>\n",
       "      <td>U</td>\n",
       "      <td>NaN</td>\n",
       "      <td>USA</td>\n",
       "      <td>NaN</td>\n",
       "      <td>6-1 6-2</td>\n",
       "      <td>3</td>\n",
       "      <td>Q2</td>\n",
       "      <td>NaN</td>\n",
       "      <td>NaN</td>\n",
       "      <td>NaN</td>\n",
       "      <td>NaN</td>\n",
       "      <td>NaN</td>\n",
       "      <td>NaN</td>\n",
       "      <td>NaN</td>\n",
       "      <td>NaN</td>\n",
       "      <td>NaN</td>\n",
       "      <td>NaN</td>\n",
       "      <td>NaN</td>\n",
       "      <td>NaN</td>\n",
       "      <td>NaN</td>\n",
       "      <td>NaN</td>\n",
       "      <td>NaN</td>\n",
       "      <td>NaN</td>\n",
       "      <td>NaN</td>\n",
       "      <td>NaN</td>\n",
       "      <td>NaN</td>\n",
       "      <td>493.0</td>\n",
       "      <td>83.0</td>\n",
       "      <td>NaN</td>\n",
       "      <td>NaN</td>\n",
       "      <td>2312</td>\n",
       "      <td>471620.95</td>\n",
       "    </tr>\n",
       "  </tbody>\n",
       "</table>\n",
       "<p>186073 rows × 49 columns</p>\n",
       "</div>"
      ],
      "text/plain": [
       "                     tourney_id    tourney_name surface  draw_size  \\\n",
       "0                     2019-M020        Brisbane    Hard         32   \n",
       "1                     2019-M020        Brisbane    Hard         32   \n",
       "2                     2019-M020        Brisbane    Hard         32   \n",
       "3                     2019-M020        Brisbane    Hard         32   \n",
       "4                     2019-M020        Brisbane    Hard         32   \n",
       "...                         ...             ...     ...        ...   \n",
       "186068  2020-W-ITF-USA-48A-2020  W25 Orlando FL    Hard         32   \n",
       "186069  2020-W-ITF-USA-48A-2020  W25 Orlando FL    Hard         32   \n",
       "186070  2020-W-ITF-USA-48A-2020  W25 Orlando FL    Hard         32   \n",
       "186071  2020-W-ITF-USA-48A-2020  W25 Orlando FL    Hard         32   \n",
       "186072  2020-W-ITF-USA-48A-2020  W25 Orlando FL    Hard         32   \n",
       "\n",
       "       tourney_level  tourney_date  match_num  winner_id winner_entry  \\\n",
       "0                  A      20181231        300     105453          NaN   \n",
       "1                  A      20181231        299     106421          NaN   \n",
       "2                  A      20181231        298     105453          NaN   \n",
       "3                  A      20181231        297     104542           PR   \n",
       "4                  A      20181231        296     106421          NaN   \n",
       "...              ...           ...        ...        ...          ...   \n",
       "186068            25      20201109        204     215794           WC   \n",
       "186069            25      20201109        205     210754          NaN   \n",
       "186070            25      20201109        206     211874          NaN   \n",
       "186071            25      20201109        207     213789          NaN   \n",
       "186072            25      20201109        208     215306          NaN   \n",
       "\n",
       "                 winner_name winner_hand  winner_ht winner_ioc  winner_age  \\\n",
       "0              Kei Nishikori           R      178.0        JPN   29.004791   \n",
       "1            Daniil Medvedev           R      198.0        RUS   22.885695   \n",
       "2              Kei Nishikori           R      178.0        JPN   29.004791   \n",
       "3         Jo-Wilfried Tsonga           R      188.0        FRA   33.705681   \n",
       "4            Daniil Medvedev           R      198.0        RUS   22.885695   \n",
       "...                      ...         ...        ...        ...         ...   \n",
       "186068  Hurricane Tyra Black           R        NaN        USA   19.690623   \n",
       "186069         Vivian Heisen           U        NaN        GER   26.869268   \n",
       "186070    Victoria Rodriguez           U        NaN        MEX   25.552361   \n",
       "186071        Katarina Jokic           U        NaN        BIH   22.559890   \n",
       "186072       Emiliana Arango           R        NaN        COL   19.947981   \n",
       "\n",
       "        loser_id loser_entry           loser_name loser_hand  loser_ht  \\\n",
       "0         106421         NaN      Daniil Medvedev          R     198.0   \n",
       "1         104542          PR   Jo-Wilfried Tsonga          R     188.0   \n",
       "2         104871         NaN        Jeremy Chardy          R     188.0   \n",
       "3         200282         NaN       Alex De Minaur          R     183.0   \n",
       "4         105683         NaN         Milos Raonic          R     196.0   \n",
       "...          ...         ...                  ...        ...       ...   \n",
       "186068    222081         NaN            Eleana Yu          R       NaN   \n",
       "186069    220723         NaN      Jessica Livianu          R       NaN   \n",
       "186070    202478         NaN           Tara Moore          R       NaN   \n",
       "186071    205922         NaN  Chanelle Van Nguyen          U       NaN   \n",
       "186072    223453          WC       Brooklyn Olson          U       NaN   \n",
       "\n",
       "       loser_ioc  loser_age           score  best_of round  minutes  w_ace  \\\n",
       "0            RUS  22.885695     6-4 3-6 6-2        3     F    124.0    3.0   \n",
       "1            FRA  33.705681      7-6(6) 6-2        3    SF     82.0   10.0   \n",
       "2            FRA  31.882272         6-2 6-2        3    SF     66.0    2.0   \n",
       "3            AUS  19.868583      6-4 7-6(2)        3    QF    106.0   12.0   \n",
       "4            CAN  28.010951  6-7(2) 6-3 6-4        3    QF    129.0   12.0   \n",
       "...          ...        ...             ...      ...   ...      ...    ...   \n",
       "186068       USA  16.002738      7-6(1) 6-1        3    Q2      NaN    NaN   \n",
       "186069       USA  22.713210    2-6 6-2 10-3        3    Q2      NaN    NaN   \n",
       "186070       GBR  28.260096      6-2 7-6(8)        3    Q2      NaN    NaN   \n",
       "186071       USA  26.806297         6-4 6-2        3    Q2      NaN    NaN   \n",
       "186072       USA        NaN         6-1 6-2        3    Q2      NaN    NaN   \n",
       "\n",
       "        w_df  w_svpt  w_1stIn  w_1stWon  w_2ndWon  w_SvGms  w_bpSaved  \\\n",
       "0        3.0    77.0     44.0      31.0      17.0     13.0        3.0   \n",
       "1        1.0    52.0     33.0      28.0      14.0     10.0        0.0   \n",
       "2        2.0    47.0     33.0      26.0       9.0      8.0        2.0   \n",
       "3        2.0    68.0     43.0      34.0      15.0     11.0        4.0   \n",
       "4        3.0   105.0     68.0      48.0      25.0     16.0        8.0   \n",
       "...      ...     ...      ...       ...       ...      ...        ...   \n",
       "186068   NaN     NaN      NaN       NaN       NaN      NaN        NaN   \n",
       "186069   NaN     NaN      NaN       NaN       NaN      NaN        NaN   \n",
       "186070   NaN     NaN      NaN       NaN       NaN      NaN        NaN   \n",
       "186071   NaN     NaN      NaN       NaN       NaN      NaN        NaN   \n",
       "186072   NaN     NaN      NaN       NaN       NaN      NaN        NaN   \n",
       "\n",
       "        w_bpFaced  l_ace  l_df  l_svpt  l_1stIn  l_1stWon  l_2ndWon  l_SvGms  \\\n",
       "0             6.0    8.0   6.0   100.0     54.0      34.0      20.0     14.0   \n",
       "1             1.0   17.0   2.0    77.0     52.0      36.0       7.0     10.0   \n",
       "2             2.0   10.0   3.0    46.0     27.0      15.0       6.0      8.0   \n",
       "3             5.0    1.0   2.0    81.0     60.0      38.0       9.0     11.0   \n",
       "4             8.0   29.0   5.0    94.0     56.0      46.0      19.0     15.0   \n",
       "...           ...    ...   ...     ...      ...       ...       ...      ...   \n",
       "186068        NaN    NaN   NaN     NaN      NaN       NaN       NaN      NaN   \n",
       "186069        NaN    NaN   NaN     NaN      NaN       NaN       NaN      NaN   \n",
       "186070        NaN    NaN   NaN     NaN      NaN       NaN       NaN      NaN   \n",
       "186071        NaN    NaN   NaN     NaN      NaN       NaN       NaN      NaN   \n",
       "186072        NaN    NaN   NaN     NaN      NaN       NaN       NaN      NaN   \n",
       "\n",
       "        l_bpSaved  l_bpFaced  winner_rank  winner_rank_points  loser_rank  \\\n",
       "0            10.0       15.0          9.0              3590.0        16.0   \n",
       "1            10.0       13.0         16.0              1977.0       239.0   \n",
       "2             1.0        5.0          9.0              3590.0        40.0   \n",
       "3             4.0        6.0        239.0               200.0        31.0   \n",
       "4             2.0        4.0         16.0              1977.0        18.0   \n",
       "...           ...        ...          ...                 ...         ...   \n",
       "186068        NaN        NaN        598.0                57.0      1216.0   \n",
       "186069        NaN        NaN        429.0               102.0       729.0   \n",
       "186070        NaN        NaN        643.0                48.0       454.0   \n",
       "186071        NaN        NaN        923.0                17.0       627.0   \n",
       "186072        NaN        NaN        493.0                83.0         NaN   \n",
       "\n",
       "        loser_rank_points  tourney_spectators  tourney_revenue  \n",
       "0                  1977.0                3928        742618.69  \n",
       "1                   200.0                3928        742618.69  \n",
       "2                  1050.0                3928        742618.69  \n",
       "3                  1298.0                3928        742618.69  \n",
       "4                  1855.0                3928        742618.69  \n",
       "...                   ...                 ...              ...  \n",
       "186068                6.0                2312        471620.95  \n",
       "186069               35.0                2312        471620.95  \n",
       "186070               93.0                2312        471620.95  \n",
       "186071               51.0                2312        471620.95  \n",
       "186072                NaN                2312        471620.95  \n",
       "\n",
       "[186073 rows x 49 columns]"
      ]
     },
     "execution_count": 4,
     "metadata": {},
     "output_type": "execute_result"
    }
   ],
   "source": [
    "tennis"
   ]
  },
  {
   "cell_type": "code",
   "execution_count": 5,
   "id": "6dP2BCQxzQvR",
   "metadata": {
    "executionInfo": {
     "elapsed": 647,
     "status": "ok",
     "timestamp": 1637405397944,
     "user": {
      "displayName": "FEDERICO CANEPUZZI",
      "photoUrl": "https://lh3.googleusercontent.com/a/default-user=s64",
      "userId": "05015019107900810205"
     },
     "user_tz": -60
    },
    "id": "6dP2BCQxzQvR"
   },
   "outputs": [],
   "source": [
    "#elimino le row duplicate\n",
    "tennis=tennis.drop_duplicates(keep='first')"
   ]
  },
  {
   "cell_type": "code",
   "execution_count": 6,
   "id": "R5qxPBiEzQvR",
   "metadata": {
    "colab": {
     "base_uri": "https://localhost:8080/"
    },
    "executionInfo": {
     "elapsed": 264,
     "status": "ok",
     "timestamp": 1637405399294,
     "user": {
      "displayName": "FEDERICO CANEPUZZI",
      "photoUrl": "https://lh3.googleusercontent.com/a/default-user=s64",
      "userId": "05015019107900810205"
     },
     "user_tz": -60
    },
    "id": "R5qxPBiEzQvR",
    "outputId": "1ac105ea-94b8-4efe-a07a-b7b00073120e"
   },
   "outputs": [
    {
     "name": "stdout",
     "output_type": "stream",
     "text": [
      "<class 'pandas.core.frame.DataFrame'>\n",
      "Int64Index: 185764 entries, 0 to 186072\n",
      "Data columns (total 49 columns):\n",
      " #   Column              Non-Null Count   Dtype  \n",
      "---  ------              --------------   -----  \n",
      " 0   tourney_id          185764 non-null  object \n",
      " 1   tourney_name        185764 non-null  object \n",
      " 2   surface             185602 non-null  object \n",
      " 3   draw_size           185764 non-null  int64  \n",
      " 4   tourney_level       185764 non-null  object \n",
      " 5   tourney_date        185764 non-null  int64  \n",
      " 6   match_num           185764 non-null  int64  \n",
      " 7   winner_id           185764 non-null  int64  \n",
      " 8   winner_entry        25806 non-null   object \n",
      " 9   winner_name         185764 non-null  object \n",
      " 10  winner_hand         185748 non-null  object \n",
      " 11  winner_ht           49290 non-null   float64\n",
      " 12  winner_ioc          185764 non-null  object \n",
      " 13  winner_age          182936 non-null  float64\n",
      " 14  loser_id            185764 non-null  int64  \n",
      " 15  loser_entry         44080 non-null   object \n",
      " 16  loser_name          185764 non-null  object \n",
      " 17  loser_hand          185693 non-null  object \n",
      " 18  loser_ht            38326 non-null   float64\n",
      " 19  loser_ioc           185764 non-null  object \n",
      " 20  loser_age           179263 non-null  float64\n",
      " 21  score               185595 non-null  object \n",
      " 22  best_of             185764 non-null  int64  \n",
      " 23  round               185764 non-null  object \n",
      " 24  minutes             81334 non-null   float64\n",
      " 25  w_ace               81982 non-null   float64\n",
      " 26  w_df                81982 non-null   float64\n",
      " 27  w_svpt              81982 non-null   float64\n",
      " 28  w_1stIn             81982 non-null   float64\n",
      " 29  w_1stWon            81982 non-null   float64\n",
      " 30  w_2ndWon            81982 non-null   float64\n",
      " 31  w_SvGms             81986 non-null   float64\n",
      " 32  w_bpSaved           81982 non-null   float64\n",
      " 33  w_bpFaced           81982 non-null   float64\n",
      " 34  l_ace               81982 non-null   float64\n",
      " 35  l_df                81982 non-null   float64\n",
      " 36  l_svpt              81982 non-null   float64\n",
      " 37  l_1stIn             81982 non-null   float64\n",
      " 38  l_1stWon            81982 non-null   float64\n",
      " 39  l_2ndWon            81982 non-null   float64\n",
      " 40  l_SvGms             81986 non-null   float64\n",
      " 41  l_bpSaved           81982 non-null   float64\n",
      " 42  l_bpFaced           81982 non-null   float64\n",
      " 43  winner_rank         166392 non-null  float64\n",
      " 44  winner_rank_points  166376 non-null  float64\n",
      " 45  loser_rank          150532 non-null  float64\n",
      " 46  loser_rank_points   150516 non-null  float64\n",
      " 47  tourney_spectators  185764 non-null  int64  \n",
      " 48  tourney_revenue     185764 non-null  float64\n",
      "dtypes: float64(28), int64(7), object(14)\n",
      "memory usage: 70.9+ MB\n"
     ]
    }
   ],
   "source": [
    "tennis.info()"
   ]
  },
  {
   "cell_type": "code",
   "execution_count": null,
   "id": "VePlOxhm6qX9",
   "metadata": {
    "executionInfo": {
     "elapsed": 259,
     "status": "ok",
     "timestamp": 1637405401920,
     "user": {
      "displayName": "FEDERICO CANEPUZZI",
      "photoUrl": "https://lh3.googleusercontent.com/a/default-user=s64",
      "userId": "05015019107900810205"
     },
     "user_tz": -60
    },
    "id": "VePlOxhm6qX9"
   },
   "outputs": [],
   "source": []
  },
  {
   "cell_type": "code",
   "execution_count": 7,
   "id": "7XAO9l_RzQvS",
   "metadata": {
    "executionInfo": {
     "elapsed": 9993,
     "status": "ok",
     "timestamp": 1637405442839,
     "user": {
      "displayName": "FEDERICO CANEPUZZI",
      "photoUrl": "https://lh3.googleusercontent.com/a/default-user=s64",
      "userId": "05015019107900810205"
     },
     "user_tz": -60
    },
    "id": "7XAO9l_RzQvS"
   },
   "outputs": [],
   "source": [
    "#per riempire successivamente alcuni missing value, utilizzando medie dei valori in base al sesso,\n",
    "# mi servono le due tabella male_players e female_players\n",
    "\n",
    "male = pd.read_csv('data/male_players.csv')\n",
    "female = pd.read_csv('data/female_players.csv')\n",
    "#elimino le righe dove sono presenti null value su nome o cognome\n",
    "male=male.dropna()\n",
    "female=female.dropna()\n",
    "\n",
    "#creo un set per male e uno per female in modo da poter poi fare ricerche hashing rapide. Concateno nome e cognome insieme\n",
    "#stando attento alla spaziatura\n",
    "male_set=set()\n",
    "for index, row in male.iterrows():\n",
    "\n",
    "    value=''\n",
    "    for val in row:\n",
    "        value=value + val +' '\n",
    "    value=value[:-1]\n",
    "    male_set.add(value)\n",
    "    \n",
    "    \n",
    "female_set=set()\n",
    "\n",
    "for index, row in female.iterrows():\n",
    "    value=''\n",
    "    for val in row:\n",
    "        value=value + val +' '\n",
    "    value=value[:-1]\n",
    "    female_set.add(value)\n"
   ]
  },
  {
   "cell_type": "code",
   "execution_count": 8,
   "id": "a02JhZa5zQvT",
   "metadata": {
    "colab": {
     "base_uri": "https://localhost:8080/",
     "height": 423
    },
    "executionInfo": {
     "elapsed": 256,
     "status": "ok",
     "timestamp": 1637405446580,
     "user": {
      "displayName": "FEDERICO CANEPUZZI",
      "photoUrl": "https://lh3.googleusercontent.com/a/default-user=s64",
      "userId": "05015019107900810205"
     },
     "user_tz": -60
    },
    "id": "a02JhZa5zQvT",
    "outputId": "cd81f591-a829-4215-ad31-0b83842c995a"
   },
   "outputs": [
    {
     "data": {
      "text/html": [
       "<div>\n",
       "<style scoped>\n",
       "    .dataframe tbody tr th:only-of-type {\n",
       "        vertical-align: middle;\n",
       "    }\n",
       "\n",
       "    .dataframe tbody tr th {\n",
       "        vertical-align: top;\n",
       "    }\n",
       "\n",
       "    .dataframe thead th {\n",
       "        text-align: right;\n",
       "    }\n",
       "</style>\n",
       "<table border=\"1\" class=\"dataframe\">\n",
       "  <thead>\n",
       "    <tr style=\"text-align: right;\">\n",
       "      <th></th>\n",
       "      <th>name</th>\n",
       "      <th>surname</th>\n",
       "    </tr>\n",
       "  </thead>\n",
       "  <tbody>\n",
       "    <tr>\n",
       "      <th>0</th>\n",
       "      <td>Gardnar</td>\n",
       "      <td>Mulloy</td>\n",
       "    </tr>\n",
       "    <tr>\n",
       "      <th>1</th>\n",
       "      <td>Pancho</td>\n",
       "      <td>Segura</td>\n",
       "    </tr>\n",
       "    <tr>\n",
       "      <th>2</th>\n",
       "      <td>Frank</td>\n",
       "      <td>Sedgman</td>\n",
       "    </tr>\n",
       "    <tr>\n",
       "      <th>3</th>\n",
       "      <td>Giuseppe</td>\n",
       "      <td>Merlo</td>\n",
       "    </tr>\n",
       "    <tr>\n",
       "      <th>4</th>\n",
       "      <td>Richard Pancho</td>\n",
       "      <td>Gonzales</td>\n",
       "    </tr>\n",
       "    <tr>\n",
       "      <th>...</th>\n",
       "      <td>...</td>\n",
       "      <td>...</td>\n",
       "    </tr>\n",
       "    <tr>\n",
       "      <th>55203</th>\n",
       "      <td>Borys</td>\n",
       "      <td>Zgola</td>\n",
       "    </tr>\n",
       "    <tr>\n",
       "      <th>55204</th>\n",
       "      <td>Noah</td>\n",
       "      <td>Schlagenhauf</td>\n",
       "    </tr>\n",
       "    <tr>\n",
       "      <th>55205</th>\n",
       "      <td>Areg</td>\n",
       "      <td>Stepanian</td>\n",
       "    </tr>\n",
       "    <tr>\n",
       "      <th>55206</th>\n",
       "      <td>Hamzeh</td>\n",
       "      <td>Al Aswad</td>\n",
       "    </tr>\n",
       "    <tr>\n",
       "      <th>55207</th>\n",
       "      <td>Marc</td>\n",
       "      <td>Ros Mesas</td>\n",
       "    </tr>\n",
       "  </tbody>\n",
       "</table>\n",
       "<p>55031 rows × 2 columns</p>\n",
       "</div>"
      ],
      "text/plain": [
       "                 name       surname\n",
       "0             Gardnar        Mulloy\n",
       "1              Pancho        Segura\n",
       "2               Frank       Sedgman\n",
       "3            Giuseppe         Merlo\n",
       "4      Richard Pancho      Gonzales\n",
       "...               ...           ...\n",
       "55203           Borys         Zgola\n",
       "55204            Noah  Schlagenhauf\n",
       "55205            Areg     Stepanian\n",
       "55206          Hamzeh      Al Aswad\n",
       "55207            Marc     Ros Mesas\n",
       "\n",
       "[55031 rows x 2 columns]"
      ]
     },
     "execution_count": 8,
     "metadata": {},
     "output_type": "execute_result"
    }
   ],
   "source": [
    "male"
   ]
  },
  {
   "cell_type": "code",
   "execution_count": null,
   "id": "zqMCJHE-zQvU",
   "metadata": {
    "executionInfo": {
     "elapsed": 417,
     "status": "ok",
     "timestamp": 1637405449243,
     "user": {
      "displayName": "FEDERICO CANEPUZZI",
      "photoUrl": "https://lh3.googleusercontent.com/a/default-user=s64",
      "userId": "05015019107900810205"
     },
     "user_tz": -60
    },
    "id": "zqMCJHE-zQvU"
   },
   "outputs": [],
   "source": []
  },
  {
   "cell_type": "markdown",
   "id": "SW9f95cZzQvV",
   "metadata": {
    "id": "SW9f95cZzQvV"
   },
   "source": [
    "## Elimino winner_entry e loser_entry perchè non richiesti nel DW"
   ]
  },
  {
   "cell_type": "code",
   "execution_count": 9,
   "id": "FNC4kuBMzQvX",
   "metadata": {
    "executionInfo": {
     "elapsed": 2,
     "status": "ok",
     "timestamp": 1637405449678,
     "user": {
      "displayName": "FEDERICO CANEPUZZI",
      "photoUrl": "https://lh3.googleusercontent.com/a/default-user=s64",
      "userId": "05015019107900810205"
     },
     "user_tz": -60
    },
    "id": "FNC4kuBMzQvX"
   },
   "outputs": [],
   "source": [
    "#Elimino winner_entry e loser_entry perchè non richiesti nel DW\n",
    "tennis=tennis.drop(['winner_entry', 'loser_entry'], axis=1)"
   ]
  },
  {
   "cell_type": "markdown",
   "id": "k0TKLRQjzQvX",
   "metadata": {
    "id": "k0TKLRQjzQvX"
   },
   "source": [
    "## Problema con gli ID dei player\n"
   ]
  },
  {
   "cell_type": "markdown",
   "id": "RPOmDCJEzQvY",
   "metadata": {
    "id": "RPOmDCJEzQvY"
   },
   "source": [
    "49 player presentano stesso ID ma nome differente. In un caso l'errore è nella spaziatura del nome; in un altro caso l'errore è in una lettera nel nome; negli altri 47 casi sono giocatori diversi con stesso ID"
   ]
  },
  {
   "cell_type": "code",
   "execution_count": 10,
   "id": "67NdOUe0zQvY",
   "metadata": {
    "colab": {
     "base_uri": "https://localhost:8080/",
     "height": 423
    },
    "executionInfo": {
     "elapsed": 278,
     "status": "ok",
     "timestamp": 1637405451717,
     "user": {
      "displayName": "FEDERICO CANEPUZZI",
      "photoUrl": "https://lh3.googleusercontent.com/a/default-user=s64",
      "userId": "05015019107900810205"
     },
     "user_tz": -60
    },
    "id": "67NdOUe0zQvY",
    "outputId": "85e1b9bb-4936-4168-dd31-73ad1ff88448"
   },
   "outputs": [
    {
     "data": {
      "text/html": [
       "<div>\n",
       "<style scoped>\n",
       "    .dataframe tbody tr th:only-of-type {\n",
       "        vertical-align: middle;\n",
       "    }\n",
       "\n",
       "    .dataframe tbody tr th {\n",
       "        vertical-align: top;\n",
       "    }\n",
       "\n",
       "    .dataframe thead th {\n",
       "        text-align: right;\n",
       "    }\n",
       "</style>\n",
       "<table border=\"1\" class=\"dataframe\">\n",
       "  <thead>\n",
       "    <tr style=\"text-align: right;\">\n",
       "      <th></th>\n",
       "      <th>player_id</th>\n",
       "      <th>player_name</th>\n",
       "    </tr>\n",
       "  </thead>\n",
       "  <tbody>\n",
       "    <tr>\n",
       "      <th>0</th>\n",
       "      <td>105453</td>\n",
       "      <td>Kei Nishikori</td>\n",
       "    </tr>\n",
       "    <tr>\n",
       "      <th>1</th>\n",
       "      <td>106421</td>\n",
       "      <td>Daniil Medvedev</td>\n",
       "    </tr>\n",
       "    <tr>\n",
       "      <th>2</th>\n",
       "      <td>105453</td>\n",
       "      <td>Kei Nishikori</td>\n",
       "    </tr>\n",
       "    <tr>\n",
       "      <th>3</th>\n",
       "      <td>104542</td>\n",
       "      <td>Jo-Wilfried Tsonga</td>\n",
       "    </tr>\n",
       "    <tr>\n",
       "      <th>4</th>\n",
       "      <td>106421</td>\n",
       "      <td>Daniil Medvedev</td>\n",
       "    </tr>\n",
       "    <tr>\n",
       "      <th>...</th>\n",
       "      <td>...</td>\n",
       "      <td>...</td>\n",
       "    </tr>\n",
       "    <tr>\n",
       "      <th>186068</th>\n",
       "      <td>222081</td>\n",
       "      <td>Eleana Yu</td>\n",
       "    </tr>\n",
       "    <tr>\n",
       "      <th>186069</th>\n",
       "      <td>220723</td>\n",
       "      <td>Jessica Livianu</td>\n",
       "    </tr>\n",
       "    <tr>\n",
       "      <th>186070</th>\n",
       "      <td>202478</td>\n",
       "      <td>Tara Moore</td>\n",
       "    </tr>\n",
       "    <tr>\n",
       "      <th>186071</th>\n",
       "      <td>205922</td>\n",
       "      <td>Chanelle Van Nguyen</td>\n",
       "    </tr>\n",
       "    <tr>\n",
       "      <th>186072</th>\n",
       "      <td>223453</td>\n",
       "      <td>Brooklyn Olson</td>\n",
       "    </tr>\n",
       "  </tbody>\n",
       "</table>\n",
       "<p>371528 rows × 2 columns</p>\n",
       "</div>"
      ],
      "text/plain": [
       "        player_id          player_name\n",
       "0          105453        Kei Nishikori\n",
       "1          106421      Daniil Medvedev\n",
       "2          105453        Kei Nishikori\n",
       "3          104542   Jo-Wilfried Tsonga\n",
       "4          106421      Daniil Medvedev\n",
       "...           ...                  ...\n",
       "186068     222081            Eleana Yu\n",
       "186069     220723      Jessica Livianu\n",
       "186070     202478           Tara Moore\n",
       "186071     205922  Chanelle Van Nguyen\n",
       "186072     223453       Brooklyn Olson\n",
       "\n",
       "[371528 rows x 2 columns]"
      ]
     },
     "execution_count": 10,
     "metadata": {},
     "output_type": "execute_result"
    }
   ],
   "source": [
    "#Creao un nuovo dataframe riferito ai diversi player, con id e nome, concatenando i valori \n",
    "#sugli attributi winner_id e loser_id\n",
    "winner=tennis[['winner_id','winner_name']]\n",
    "winner=winner.rename(columns={'winner_id': 'player_id','winner_name':'player_name'})    \n",
    "loser=tennis[['loser_id','loser_name']]\n",
    "loser=loser.rename(columns={'loser_id': 'player_id','loser_name':'player_name'})\n",
    "player=[winner,loser]\n",
    "player = pd.concat(player)\n",
    "player\n",
    "\n",
    "\n"
   ]
  },
  {
   "cell_type": "code",
   "execution_count": 11,
   "id": "N1chxa0lzQvZ",
   "metadata": {
    "colab": {
     "base_uri": "https://localhost:8080/"
    },
    "executionInfo": {
     "elapsed": 260,
     "status": "ok",
     "timestamp": 1637405454899,
     "user": {
      "displayName": "FEDERICO CANEPUZZI",
      "photoUrl": "https://lh3.googleusercontent.com/a/default-user=s64",
      "userId": "05015019107900810205"
     },
     "user_tz": -60
    },
    "id": "N1chxa0lzQvZ",
    "outputId": "1b4b4286-2e67-413b-aca4-9c0b34634cfc"
   },
   "outputs": [
    {
     "name": "stdout",
     "output_type": "stream",
     "text": [
      "player_id\n",
      "200033    2\n",
      "202273    2\n",
      "202277    2\n",
      "202349    2\n",
      "202359    2\n",
      "202414    2\n",
      "202419    2\n",
      "202420    2\n",
      "202421    2\n",
      "202426    2\n",
      "202428    2\n",
      "202429    2\n",
      "202432    2\n",
      "202433    2\n",
      "202434    2\n",
      "202436    2\n",
      "202437    2\n",
      "202440    2\n",
      "202443    2\n",
      "202447    2\n",
      "202475    2\n",
      "202477    2\n",
      "205831    2\n",
      "205842    2\n",
      "205941    2\n",
      "205984    2\n",
      "206000    2\n",
      "206003    2\n",
      "206062    2\n",
      "206091    2\n",
      "206137    2\n",
      "206145    2\n",
      "206171    2\n",
      "206173    2\n",
      "206199    2\n",
      "206258    2\n",
      "206299    2\n",
      "206363    2\n",
      "206377    2\n",
      "206403    2\n",
      "206426    2\n",
      "206430    2\n",
      "206579    2\n",
      "207990    2\n",
      "208147    2\n",
      "208518    2\n",
      "208603    2\n",
      "209866    2\n",
      "216569    2\n",
      "Name: player_id, dtype: int64\n",
      "\n",
      "Totale ID con nomi diversi = 49\n"
     ]
    }
   ],
   "source": [
    "##elimino le righe duplicate con stesso ID e stesso nome\n",
    "player=player.drop_duplicates(subset=['player_id', 'player_name'])\n",
    "#faccio una groupby su player_id per vedere quanti nomi diversi sono associati allo stesso id\n",
    "player_Error_ID=player.groupby(['player_id'])['player_id'].count()\n",
    "#mantengo solo quelli che hanno più di un nome associato\n",
    "player_Error_ID=player_Error_ID[player_Error_ID>1]\n",
    "print(player_Error_ID)\n",
    "print('')\n",
    "\n",
    "print('Totale ID con nomi diversi = ',end='')\n",
    "print(len(player_Error_ID))"
   ]
  },
  {
   "cell_type": "code",
   "execution_count": 12,
   "id": "xxYiW3DCzQva",
   "metadata": {
    "colab": {
     "base_uri": "https://localhost:8080/"
    },
    "executionInfo": {
     "elapsed": 260,
     "status": "ok",
     "timestamp": 1637405457556,
     "user": {
      "displayName": "FEDERICO CANEPUZZI",
      "photoUrl": "https://lh3.googleusercontent.com/a/default-user=s64",
      "userId": "05015019107900810205"
     },
     "user_tz": -60
    },
    "id": "xxYiW3DCzQva",
    "outputId": "d281c118-cf6a-4a6d-9120-db5047334182"
   },
   "outputs": [
    {
     "name": "stdout",
     "output_type": "stream",
     "text": [
      "200033 --> Serena Williams - Kushaan Nath\n",
      "202273 --> Liga Dekmeijere - Anurag Nenwani\n",
      "202277 --> Mariana Correa - Damien Wenger\n",
      "202349 --> Rushmi Chakravarthi - Kai Lemstra\n",
      "202359 --> Chin Wei Chan - Marvin Moeller\n",
      "202414 --> Catherine Harrison - Alexandre Rotsaert\n",
      "202419 --> Barbara Luz - Justin Schlageter\n",
      "202420 --> An Sophie Mestach - Aidan Mchugh\n",
      "202421 --> Alison Van Uytvanck - George Houghton\n",
      "202426 --> Julia Boserup - Matt Halpin\n",
      "202428 --> Kiki Bertens - Joao Pedro Alcantara\n",
      "202429 --> Camila Giorgi - David Lucas Ambrozic\n",
      "202432 --> Hilda Melander - Nick Stachowiak\n",
      "202433 --> Anna Giulia Remondina - Cong Tien Le\n",
      "202434 --> Aleksandra Krunic - Ricardo Ortiz\n",
      "202436 --> Reka Luca Jani - Zi Yang Cai\n",
      "202437 --> Anastasia Grymalska - Yang Liu\n",
      "202440 --> Paula Ormaechea - Marco Miceli\n",
      "202443 --> Valeria Savinykh - Tobias Sonne\n",
      "202447 --> Alexandra Mueller - Naru Shirafuji\n",
      "202475 --> Philip Henning - Jasmina Tinjic\n",
      "202477 --> Dinah Pfizenmaier - Milan Radojkovic\n",
      "205831 --> Isabella Robbiani - Ammar Alhogbani\n",
      "205842 --> Carla Lucero - Arthur Reymond\n",
      "205941 --> Ganna Poznikhirenko - Rishi Reddy\n",
      "205984 --> Linda Prenkovic - Daniil Klimov\n",
      "206000 --> Kana Daniel - Michel Saade\n",
      "206003 --> Laura Schaeder - Chih Chi Huang\n",
      "206062 --> Adrija Runcha - Werapath Sirijariyaporn\n",
      "206091 --> Yolande Leacock - Yan Bondarevskiy\n",
      "206137 --> Oleksandra Piskun - Andrej Glvac\n",
      "206145 --> Diana Sumova - Thomas Wright\n",
      "206171 --> Alice Bacquie - Barnaby Smith\n",
      "206173 --> Jannik Sinner - Beatrice Lombardo\n",
      "206199 --> Kevin Cheruiyot - Ai Wen Zhu\n",
      "206258 --> Dunja Stamenkovic - Saul Verdugo Vicente\n",
      "206299 --> Sarah Adegoke - Max Benaim\n",
      "206363 --> Anna Danilina - Alexander Wolfschmidt\n",
      "206377 --> Emma Janssen - Michel Alexandre Fortin\n",
      "206403 --> Alona Fomina - Alena Fomina\n",
      "206426 --> Giulia Pairone - Mihailo Samardzija\n",
      "206430 --> Carolina Meligeni Rodrigues Alves - Andrea Del Federico\n",
      "206579 --> Sarah Tami Masi - Sean Van Rensburg\n",
      "207990 --> Moritz Thiem - Marine Nizri Spiegel\n",
      "208147 --> Alexandre Aubriot - Pamela Duran Vinueza\n",
      "208518 --> Hazem Naw - Ana Paula Saviole\n",
      "208603 --> Amira Benaissa - Cleeve Harper\n",
      "209866 --> Grace Leake - Karlis Ozolins\n",
      "216569 --> Zeynep  Sena Sarioglan - Zeynep Sena Sarioglan\n"
     ]
    }
   ],
   "source": [
    "##stampo tutte le coppie di nomi con stesso ID\n",
    "for index, value in player_Error_ID.items():\n",
    "    \n",
    "    print(str(index) + ' --> ',end='')\n",
    "\n",
    "    rows=player.loc[player['player_id']==index]\n",
    "    first=True\n",
    "    for index_player, row_player in rows.iterrows():\n",
    "        if first:\n",
    "            print(row_player['player_name'] + ' - ',end='')\n",
    "            first=False\n",
    "        else:\n",
    "            print(row_player['player_name'])"
   ]
  },
  {
   "cell_type": "code",
   "execution_count": 13,
   "id": "OIXHq-ESzQvb",
   "metadata": {
    "executionInfo": {
     "elapsed": 1559,
     "status": "ok",
     "timestamp": 1637405466376,
     "user": {
      "displayName": "FEDERICO CANEPUZZI",
      "photoUrl": "https://lh3.googleusercontent.com/a/default-user=s64",
      "userId": "05015019107900810205"
     },
     "user_tz": -60
    },
    "id": "OIXHq-ESzQvb"
   },
   "outputs": [],
   "source": [
    "#vado a vedere quale è il valore massimo tra tutti gli ID di player, in modo da poter assegnare dei nuovi ID\n",
    "#ai giocatori presenti in player_Error\n",
    "max_Id=player['player_id'].max()\n",
    "    \n",
    "#itero player_Error_ID che è una Series con index uguale all'ID per andare a selezionare gli ID doppioni\n",
    "#nel dataframe player\n",
    "for index, value in player_Error_ID.items():\n",
    "    \n",
    "    # a questo specifico ID corrispondono 2 nomi per un errore di spaziatura\n",
    "    if index==216569:\n",
    "        colonne=['winner','loser']\n",
    "        for col in colonne:\n",
    "            rowsPlayerName=tennis.loc[tennis[col+'_name']=='Zeynep  Sena Sarioglan']\n",
    "            for index_tennis, row_tennis in rowsPlayerName.iterrows():\n",
    "                #aggiorno il valore\n",
    "                tennis.at[index_tennis, col+'_name'] = 'Zeynep Sena Sarioglan'\n",
    "    \n",
    "    #a questo ID corrispondono 2 nomi diversi per un errore di una vocale\n",
    "    if index==206403:\n",
    "        colonne=['winner','loser']\n",
    "        for col in colonne:\n",
    "            rowsPlayerName=tennis.loc[tennis[col+'_name']=='Alona Fomina']\n",
    "            for index_tennis, row_tennis in rowsPlayerName.iterrows():\n",
    "                #aggiorno il valore\n",
    "                tennis.at[index_tennis, col+'_name'] = 'Alena Fomina'\n",
    "    \n",
    "    \n",
    "    #per ID==index seleziono le righe della tabella player con quell'ID in modo da recuperare i nomi\n",
    "    rows=player.loc[player['player_id']==index]\n",
    "    #questo first mi serve per non modificare l'ID del primo giocatore. Modifico solo quelli dal secondo in poi\n",
    "    first=True\n",
    "    #aumento di uno il massimo dell'ID, cosi da avere un nuovo ID non utilizzato nel dataframe\n",
    "    max_Id=max_Id+1\n",
    "    #itero sui diversi nomi presenti nel dataframe player con stesso ID\n",
    "    for index_player, row_player in rows.iterrows():\n",
    "        #il primo non lo modifico\n",
    "        if first:\n",
    "            first=False\n",
    "            continue\n",
    "        else:\n",
    "            #vado a modificare il valore dell'ID su winner_id e loser_id nella tabella tennis,\n",
    "            #andando prima ad individuare le righe dove è presente quel nome e poi iterando su di esse\n",
    "            colonne=['winner','loser']\n",
    "            for col in colonne:\n",
    "                rowsPlayerName=tennis.loc[tennis[col+'_name']==row_player['player_name']]\n",
    "                for index_tennis, row_tennis in rowsPlayerName.iterrows():\n",
    "                    #aggiorno il valore\n",
    "                    tennis.at[index_tennis, col+'_id'] = max_Id\n",
    "                \n",
    "            "
   ]
  },
  {
   "cell_type": "code",
   "execution_count": 14,
   "id": "3QOH8QL9zQvc",
   "metadata": {
    "colab": {
     "base_uri": "https://localhost:8080/"
    },
    "executionInfo": {
     "elapsed": 297,
     "status": "ok",
     "timestamp": 1637405469943,
     "user": {
      "displayName": "FEDERICO CANEPUZZI",
      "photoUrl": "https://lh3.googleusercontent.com/a/default-user=s64",
      "userId": "05015019107900810205"
     },
     "user_tz": -60
    },
    "id": "3QOH8QL9zQvc",
    "outputId": "080674c8-73af-41ee-a780-2455212d5d83"
   },
   "outputs": [
    {
     "name": "stdout",
     "output_type": "stream",
     "text": [
      "Series([], Name: player_id, dtype: int64)\n",
      "\n",
      "Totale ID con nomi diversi = 0\n"
     ]
    }
   ],
   "source": [
    "#controllo che non ci siano più ID con nomi diversi\n",
    "winner=tennis[['winner_id','winner_name']]\n",
    "winner=winner.rename(columns={'winner_id': 'player_id','winner_name':'player_name'})\n",
    "          \n",
    "loser=tennis[['loser_id','loser_name']]\n",
    "loser=loser.rename(columns={'loser_id': 'player_id','loser_name':'player_name'})\n",
    "\n",
    "player=[winner,loser]\n",
    "player = pd.concat(player)\n",
    "\n",
    "##elimino le righe duplicate con stesso ID e stesso nome\n",
    "player=player.drop_duplicates(subset=['player_id', 'player_name'])\n",
    "#faccio una groupby su player_id per vedere quanti nomi diversi sono associati allo stesso id\n",
    "player_Error_ID=player.groupby(['player_id'])['player_id'].count()\n",
    "#mantengo solo quelli che hanno più di un nome associato\n",
    "player_Error_ID=player_Error_ID[player_Error_ID>1]\n",
    "print(player_Error_ID)\n",
    "print('')\n",
    "\n",
    "print('Totale ID con nomi diversi = ',end='')\n",
    "print(len(player_Error_ID))\n"
   ]
  },
  {
   "cell_type": "code",
   "execution_count": null,
   "id": "3LOBK1kCzQvc",
   "metadata": {
    "executionInfo": {
     "elapsed": 297,
     "status": "ok",
     "timestamp": 1637405472770,
     "user": {
      "displayName": "FEDERICO CANEPUZZI",
      "photoUrl": "https://lh3.googleusercontent.com/a/default-user=s64",
      "userId": "05015019107900810205"
     },
     "user_tz": -60
    },
    "id": "3LOBK1kCzQvc"
   },
   "outputs": [],
   "source": []
  },
  {
   "cell_type": "markdown",
   "id": "bH_eFLFkzQvc",
   "metadata": {
    "id": "bH_eFLFkzQvc"
   },
   "source": [
    "19 player presentano stesso Nome ma ID differente"
   ]
  },
  {
   "cell_type": "code",
   "execution_count": 15,
   "id": "S_XNf881zQvd",
   "metadata": {
    "colab": {
     "base_uri": "https://localhost:8080/"
    },
    "executionInfo": {
     "elapsed": 5,
     "status": "ok",
     "timestamp": 1637405473821,
     "user": {
      "displayName": "FEDERICO CANEPUZZI",
      "photoUrl": "https://lh3.googleusercontent.com/a/default-user=s64",
      "userId": "05015019107900810205"
     },
     "user_tz": -60
    },
    "id": "S_XNf881zQvd",
    "outputId": "c7123720-fc55-4680-d2f7-d70997bc8dd7"
   },
   "outputs": [
    {
     "name": "stdout",
     "output_type": "stream",
     "text": [
      "player_name\n",
      "Astrid Cirotte             2\n",
      "Ekaterina Makarova         2\n",
      "Eleni Fasoula              2\n",
      "Ellie Myers                2\n",
      "Emilse Lujan Ruiz          2\n",
      "Fitriani Sabatini          2\n",
      "Giuseppe Tresca            2\n",
      "Guy Stokman                2\n",
      "Hei Ching Claudia Ng       2\n",
      "Holly Fischer              2\n",
      "Kuan Yi Lee                2\n",
      "Lara Onal                  2\n",
      "Liisa Varul                2\n",
      "Maria Fernanda Navarro     2\n",
      "Matylda Burylo             2\n",
      "Nana Kawagishi             2\n",
      "Sofia Nahiara Garcia       2\n",
      "Stanislava Bobrovnikova    2\n",
      "Valentina Lia              2\n",
      "Name: player_name, dtype: int64\n",
      "\n",
      "Totale nomi con ID diversi = 19\n"
     ]
    }
   ],
   "source": [
    "##faccio una groupby su player_name per vedere quanti ID diversi sono associati allo stesso nome\n",
    "player_Error_Name=player.groupby(['player_name'])['player_name'].count()\n",
    "#mantengo solo quelli che hanno più di un ID associato\n",
    "player_Error_Name=player_Error_Name[player_Error_Name>1]\n",
    "\n",
    "print(player_Error_Name)\n",
    "print('')\n",
    "print('Totale nomi con ID diversi = ',end='')\n",
    "print(len(player_Error_Name))\n"
   ]
  },
  {
   "cell_type": "code",
   "execution_count": 16,
   "id": "xfIGie0DzQvd",
   "metadata": {
    "colab": {
     "base_uri": "https://localhost:8080/"
    },
    "executionInfo": {
     "elapsed": 289,
     "status": "ok",
     "timestamp": 1637405476164,
     "user": {
      "displayName": "FEDERICO CANEPUZZI",
      "photoUrl": "https://lh3.googleusercontent.com/a/default-user=s64",
      "userId": "05015019107900810205"
     },
     "user_tz": -60
    },
    "id": "xfIGie0DzQvd",
    "outputId": "85b6d2b6-ba85-4f42-bfc5-e8465c82a90d"
   },
   "outputs": [
    {
     "name": "stdout",
     "output_type": "stream",
     "text": [
      "Astrid Cirotte --> 236980 - 223401\n",
      "Ekaterina Makarova --> 201505 - 223126\n",
      "Eleni Fasoula --> 222943 - 222942\n",
      "Ellie Myers --> 222407 - 240168\n",
      "Emilse Lujan Ruiz --> 222646 - 236974\n",
      "Fitriani Sabatini --> 221189 - 239429\n",
      "Giuseppe Tresca --> 207982 - 206834\n",
      "Guy Stokman --> 206883 - 207142\n",
      "Hei Ching Claudia Ng --> 219835 - 216586\n",
      "Holly Fischer --> 221142 - 222228\n",
      "Kuan Yi Lee --> 134120 - 221745\n",
      "Lara Onal --> 224486 - 223215\n",
      "Liisa Varul --> 222914 - 222915\n",
      "Maria Fernanda Navarro --> 223367 - 223287\n",
      "Matylda Burylo --> 222845 - 222066\n",
      "Nana Kawagishi --> 221771 - 244078\n",
      "Sofia Nahiara Garcia --> 220928 - 236977\n",
      "Stanislava Bobrovnikova --> 221347 - 225865\n",
      "Valentina Lia --> 220334 - 239415\n"
     ]
    }
   ],
   "source": [
    "##stampo tutte le coppie di ID con stesso nome\n",
    "for index, value in player_Error_Name.items():\n",
    "    \n",
    "    print(str(index) + ' --> ',end='')\n",
    "\n",
    "    rows=player.loc[player['player_name']==index]\n",
    "    first=True\n",
    "    for index_player, row_player in rows.iterrows():\n",
    "        if first:\n",
    "            print(str(row_player['player_id']) + ' - ',end='')\n",
    "            first=False\n",
    "        else:\n",
    "            print(row_player['player_id'])\n",
    "        "
   ]
  },
  {
   "cell_type": "code",
   "execution_count": 17,
   "id": "2bryQgalzQve",
   "metadata": {
    "executionInfo": {
     "elapsed": 398,
     "status": "ok",
     "timestamp": 1637405477586,
     "user": {
      "displayName": "FEDERICO CANEPUZZI",
      "photoUrl": "https://lh3.googleusercontent.com/a/default-user=s64",
      "userId": "05015019107900810205"
     },
     "user_tz": -60
    },
    "id": "2bryQgalzQve"
   },
   "outputs": [],
   "source": [
    "#itero player_Error_Name che è una Series con index uguale al nome per andare a selezionare i nomi \n",
    "#nel dataframe player con differenti ID\n",
    "for index, value in player_Error_Name.items():\n",
    "\n",
    "    #per name==index seleziono le righe della tabella player con quel nome in modo da recuperare gli ID\n",
    "    rows=player.loc[player['player_name']==index]\n",
    "    #questo first mi serve per non modificare l'ID del primo giocatore. Modifico solo quelli dal secondo in poi\n",
    "    #mettendoli uguali al primo\n",
    "    first=True\n",
    "    id_Player=''\n",
    "    \n",
    "    #itero sui diversi ID presenti nel dataframe player con stesso nome\n",
    "    for index_player, row_player in rows.iterrows():\n",
    "\n",
    "        #il primo non lo modifico\n",
    "        if first:\n",
    "            first=False\n",
    "            id_Player=row_player['player_id']\n",
    "            continue\n",
    "        else:\n",
    "            #vado a modificare il valore dell'ID su winner_id e loser_id nella tabella tennis,\n",
    "            #andando prima ad individuare le righe dove è presente l'ID da modificare e poi iterando su di esse\n",
    "            colonne=['winner','loser']\n",
    "            for col in colonne:\n",
    "                rowsPlayerName=tennis.loc[tennis[col+'_id']==row_player['player_id']]\n",
    "                for index_tennis, row_tennis in rowsPlayerName.iterrows():\n",
    "                    #aggiorno il valore\n",
    "                    tennis.at[index_tennis, col+'_id'] = id_Player\n",
    "                    \n",
    "                    \n",
    "                    \n",
    "                    \n",
    "    "
   ]
  },
  {
   "cell_type": "code",
   "execution_count": 18,
   "id": "qt1RXVmszQve",
   "metadata": {
    "colab": {
     "base_uri": "https://localhost:8080/"
    },
    "executionInfo": {
     "elapsed": 336,
     "status": "ok",
     "timestamp": 1637405483882,
     "user": {
      "displayName": "FEDERICO CANEPUZZI",
      "photoUrl": "https://lh3.googleusercontent.com/a/default-user=s64",
      "userId": "05015019107900810205"
     },
     "user_tz": -60
    },
    "id": "qt1RXVmszQve",
    "outputId": "b5332293-06c1-472e-ab5f-ae3ed727eb60"
   },
   "outputs": [
    {
     "name": "stdout",
     "output_type": "stream",
     "text": [
      "Series([], Name: player_name, dtype: int64)\n",
      "\n",
      "Totale nomi con ID diversi = 0\n"
     ]
    }
   ],
   "source": [
    "#controllo che non ci siano più nomi con ID diversi\n",
    "winner=tennis[['winner_id','winner_name']]\n",
    "winner=winner.rename(columns={'winner_id': 'player_id','winner_name':'player_name'})\n",
    "          \n",
    "loser=tennis[['loser_id','loser_name']]\n",
    "loser=loser.rename(columns={'loser_id': 'player_id','loser_name':'player_name'})\n",
    "\n",
    "player=[winner,loser]\n",
    "player = pd.concat(player)\n",
    "\n",
    "\n",
    "##elimino le righe duplicate con stesso ID e stesso nome\n",
    "player=player.drop_duplicates(subset=['player_id', 'player_name'])\n",
    "\n",
    "##faccio una groupby su player_name per vedere quanti ID diversi sono associati allo stesso nome\n",
    "player_Error_Name=player.groupby(['player_name'])['player_name'].count()\n",
    "#mantengo solo quelli che hanno più di un ID associato\n",
    "player_Error_Name=player_Error_Name[player_Error_Name>1]\n",
    "\n",
    "print(player_Error_Name)\n",
    "print('')\n",
    "print('Totale nomi con ID diversi = ',end='')\n",
    "print(len(player_Error_Name))\n",
    "\n"
   ]
  },
  {
   "cell_type": "markdown",
   "id": "ShLphaNPzQvf",
   "metadata": {
    "id": "ShLphaNPzQvf"
   },
   "source": [
    "sono presenti 6 righe con una partita tra giocatori con lo stesso nome. Elimino queste 6 righe"
   ]
  },
  {
   "cell_type": "code",
   "execution_count": 19,
   "id": "zowV8siPzQvg",
   "metadata": {
    "colab": {
     "base_uri": "https://localhost:8080/",
     "height": 535
    },
    "executionInfo": {
     "elapsed": 16639,
     "status": "ok",
     "timestamp": 1637405510115,
     "user": {
      "displayName": "FEDERICO CANEPUZZI",
      "photoUrl": "https://lh3.googleusercontent.com/a/default-user=s64",
      "userId": "05015019107900810205"
     },
     "user_tz": -60
    },
    "id": "zowV8siPzQvg",
    "outputId": "4a804674-5dde-40bd-b663-b8f1abb08cc1"
   },
   "outputs": [
    {
     "name": "stdout",
     "output_type": "stream",
     "text": [
      "index riga 72793 --> partita tra Steven De Waard e Steven De Waard\n",
      "index riga 75235 --> partita tra Takuto Niki e Takuto Niki\n",
      "index riga 75636 --> partita tra Andrei Vasilevski e Andrei Vasilevski\n",
      "index riga 133100 --> partita tra Lyubov Kostenko e Lyubov Kostenko\n",
      "index riga 135577 --> partita tra Sophia Fry e Sophia Fry\n",
      "index riga 179935 --> partita tra Liisa Varul e Liisa Varul\n"
     ]
    },
    {
     "data": {
      "text/html": [
       "<div>\n",
       "<style scoped>\n",
       "    .dataframe tbody tr th:only-of-type {\n",
       "        vertical-align: middle;\n",
       "    }\n",
       "\n",
       "    .dataframe tbody tr th {\n",
       "        vertical-align: top;\n",
       "    }\n",
       "\n",
       "    .dataframe thead th {\n",
       "        text-align: right;\n",
       "    }\n",
       "</style>\n",
       "<table border=\"1\" class=\"dataframe\">\n",
       "  <thead>\n",
       "    <tr style=\"text-align: right;\">\n",
       "      <th></th>\n",
       "      <th>tourney_id</th>\n",
       "      <th>tourney_name</th>\n",
       "      <th>surface</th>\n",
       "      <th>draw_size</th>\n",
       "      <th>tourney_level</th>\n",
       "      <th>tourney_date</th>\n",
       "      <th>match_num</th>\n",
       "      <th>winner_id</th>\n",
       "      <th>winner_name</th>\n",
       "      <th>winner_hand</th>\n",
       "      <th>winner_ht</th>\n",
       "      <th>winner_ioc</th>\n",
       "      <th>winner_age</th>\n",
       "      <th>loser_id</th>\n",
       "      <th>loser_name</th>\n",
       "      <th>loser_hand</th>\n",
       "      <th>loser_ht</th>\n",
       "      <th>loser_ioc</th>\n",
       "      <th>loser_age</th>\n",
       "      <th>score</th>\n",
       "      <th>best_of</th>\n",
       "      <th>round</th>\n",
       "      <th>minutes</th>\n",
       "      <th>w_ace</th>\n",
       "      <th>w_df</th>\n",
       "      <th>w_svpt</th>\n",
       "      <th>w_1stIn</th>\n",
       "      <th>w_1stWon</th>\n",
       "      <th>w_2ndWon</th>\n",
       "      <th>w_SvGms</th>\n",
       "      <th>w_bpSaved</th>\n",
       "      <th>w_bpFaced</th>\n",
       "      <th>l_ace</th>\n",
       "      <th>l_df</th>\n",
       "      <th>l_svpt</th>\n",
       "      <th>l_1stIn</th>\n",
       "      <th>l_1stWon</th>\n",
       "      <th>l_2ndWon</th>\n",
       "      <th>l_SvGms</th>\n",
       "      <th>l_bpSaved</th>\n",
       "      <th>l_bpFaced</th>\n",
       "      <th>winner_rank</th>\n",
       "      <th>winner_rank_points</th>\n",
       "      <th>loser_rank</th>\n",
       "      <th>loser_rank_points</th>\n",
       "      <th>tourney_spectators</th>\n",
       "      <th>tourney_revenue</th>\n",
       "    </tr>\n",
       "  </thead>\n",
       "  <tbody>\n",
       "    <tr>\n",
       "      <th>72793</th>\n",
       "      <td>2016-7182</td>\n",
       "      <td>Happy Valley CH</td>\n",
       "      <td>Hard</td>\n",
       "      <td>32</td>\n",
       "      <td>C</td>\n",
       "      <td>20160104</td>\n",
       "      <td>244</td>\n",
       "      <td>122059</td>\n",
       "      <td>Steven De Waard</td>\n",
       "      <td>R</td>\n",
       "      <td>NaN</td>\n",
       "      <td>AUS</td>\n",
       "      <td>24.668036</td>\n",
       "      <td>122059</td>\n",
       "      <td>Steven De Waard</td>\n",
       "      <td>R</td>\n",
       "      <td>NaN</td>\n",
       "      <td>AUS</td>\n",
       "      <td>24.668036</td>\n",
       "      <td>6-7(3) 6-4 6-2</td>\n",
       "      <td>3</td>\n",
       "      <td>Q1</td>\n",
       "      <td>64.0</td>\n",
       "      <td>7.0</td>\n",
       "      <td>5.0</td>\n",
       "      <td>82.0</td>\n",
       "      <td>44.0</td>\n",
       "      <td>33.0</td>\n",
       "      <td>24.0</td>\n",
       "      <td>15.0</td>\n",
       "      <td>1.0</td>\n",
       "      <td>3.0</td>\n",
       "      <td>7.0</td>\n",
       "      <td>5.0</td>\n",
       "      <td>82.0</td>\n",
       "      <td>44.0</td>\n",
       "      <td>33.0</td>\n",
       "      <td>24.0</td>\n",
       "      <td>15.0</td>\n",
       "      <td>1.0</td>\n",
       "      <td>3.0</td>\n",
       "      <td>1161.0</td>\n",
       "      <td>8.0</td>\n",
       "      <td>1161.0</td>\n",
       "      <td>8.0</td>\n",
       "      <td>2730</td>\n",
       "      <td>554426.23</td>\n",
       "    </tr>\n",
       "    <tr>\n",
       "      <th>75235</th>\n",
       "      <td>2016-7553</td>\n",
       "      <td>Chengdu CH</td>\n",
       "      <td>Hard</td>\n",
       "      <td>32</td>\n",
       "      <td>C</td>\n",
       "      <td>20160801</td>\n",
       "      <td>261</td>\n",
       "      <td>105026</td>\n",
       "      <td>Takuto Niki</td>\n",
       "      <td>U</td>\n",
       "      <td>NaN</td>\n",
       "      <td>JPN</td>\n",
       "      <td>28.804928</td>\n",
       "      <td>105026</td>\n",
       "      <td>Takuto Niki</td>\n",
       "      <td>U</td>\n",
       "      <td>NaN</td>\n",
       "      <td>JPN</td>\n",
       "      <td>28.804928</td>\n",
       "      <td>6-0 6-0</td>\n",
       "      <td>3</td>\n",
       "      <td>Q1</td>\n",
       "      <td>55.0</td>\n",
       "      <td>2.0</td>\n",
       "      <td>1.0</td>\n",
       "      <td>33.0</td>\n",
       "      <td>23.0</td>\n",
       "      <td>20.0</td>\n",
       "      <td>6.0</td>\n",
       "      <td>6.0</td>\n",
       "      <td>2.0</td>\n",
       "      <td>2.0</td>\n",
       "      <td>2.0</td>\n",
       "      <td>1.0</td>\n",
       "      <td>33.0</td>\n",
       "      <td>23.0</td>\n",
       "      <td>20.0</td>\n",
       "      <td>6.0</td>\n",
       "      <td>6.0</td>\n",
       "      <td>2.0</td>\n",
       "      <td>2.0</td>\n",
       "      <td>509.0</td>\n",
       "      <td>71.0</td>\n",
       "      <td>509.0</td>\n",
       "      <td>71.0</td>\n",
       "      <td>3551</td>\n",
       "      <td>551056.44</td>\n",
       "    </tr>\n",
       "    <tr>\n",
       "      <th>75636</th>\n",
       "      <td>2016-7614</td>\n",
       "      <td>Astana CH</td>\n",
       "      <td>Hard</td>\n",
       "      <td>32</td>\n",
       "      <td>C</td>\n",
       "      <td>20161121</td>\n",
       "      <td>249</td>\n",
       "      <td>105781</td>\n",
       "      <td>Andrei Vasilevski</td>\n",
       "      <td>R</td>\n",
       "      <td>NaN</td>\n",
       "      <td>BLR</td>\n",
       "      <td>25.486653</td>\n",
       "      <td>105781</td>\n",
       "      <td>Andrei Vasilevski</td>\n",
       "      <td>R</td>\n",
       "      <td>NaN</td>\n",
       "      <td>BLR</td>\n",
       "      <td>25.486653</td>\n",
       "      <td>6-1 6-3</td>\n",
       "      <td>3</td>\n",
       "      <td>Q1</td>\n",
       "      <td>55.0</td>\n",
       "      <td>5.0</td>\n",
       "      <td>1.0</td>\n",
       "      <td>41.0</td>\n",
       "      <td>22.0</td>\n",
       "      <td>19.0</td>\n",
       "      <td>10.0</td>\n",
       "      <td>8.0</td>\n",
       "      <td>0.0</td>\n",
       "      <td>1.0</td>\n",
       "      <td>5.0</td>\n",
       "      <td>1.0</td>\n",
       "      <td>41.0</td>\n",
       "      <td>22.0</td>\n",
       "      <td>19.0</td>\n",
       "      <td>10.0</td>\n",
       "      <td>8.0</td>\n",
       "      <td>0.0</td>\n",
       "      <td>1.0</td>\n",
       "      <td>741.0</td>\n",
       "      <td>28.0</td>\n",
       "      <td>741.0</td>\n",
       "      <td>28.0</td>\n",
       "      <td>3135</td>\n",
       "      <td>555708.14</td>\n",
       "    </tr>\n",
       "    <tr>\n",
       "      <th>133100</th>\n",
       "      <td>2018-W-WITF-UKR-02A-2018</td>\n",
       "      <td>Chornomorsk $15K</td>\n",
       "      <td>Clay</td>\n",
       "      <td>32</td>\n",
       "      <td>15</td>\n",
       "      <td>20181001</td>\n",
       "      <td>6</td>\n",
       "      <td>221371</td>\n",
       "      <td>Lyubov Kostenko</td>\n",
       "      <td>R</td>\n",
       "      <td>NaN</td>\n",
       "      <td>UKR</td>\n",
       "      <td>15.512663</td>\n",
       "      <td>221371</td>\n",
       "      <td>Lyubov Kostenko</td>\n",
       "      <td>R</td>\n",
       "      <td>NaN</td>\n",
       "      <td>UKR</td>\n",
       "      <td>15.512663</td>\n",
       "      <td>6-2 6-4</td>\n",
       "      <td>3</td>\n",
       "      <td>R32</td>\n",
       "      <td>NaN</td>\n",
       "      <td>NaN</td>\n",
       "      <td>NaN</td>\n",
       "      <td>NaN</td>\n",
       "      <td>NaN</td>\n",
       "      <td>NaN</td>\n",
       "      <td>NaN</td>\n",
       "      <td>NaN</td>\n",
       "      <td>NaN</td>\n",
       "      <td>NaN</td>\n",
       "      <td>NaN</td>\n",
       "      <td>NaN</td>\n",
       "      <td>NaN</td>\n",
       "      <td>NaN</td>\n",
       "      <td>NaN</td>\n",
       "      <td>NaN</td>\n",
       "      <td>NaN</td>\n",
       "      <td>NaN</td>\n",
       "      <td>NaN</td>\n",
       "      <td>NaN</td>\n",
       "      <td>NaN</td>\n",
       "      <td>NaN</td>\n",
       "      <td>NaN</td>\n",
       "      <td>3130</td>\n",
       "      <td>564093.49</td>\n",
       "    </tr>\n",
       "    <tr>\n",
       "      <th>135577</th>\n",
       "      <td>2019-W-ITF-AUS-04A-2019</td>\n",
       "      <td>W15 Port Pirie</td>\n",
       "      <td>Hard</td>\n",
       "      <td>32</td>\n",
       "      <td>15</td>\n",
       "      <td>20190211</td>\n",
       "      <td>15</td>\n",
       "      <td>221862</td>\n",
       "      <td>Sophia Fry</td>\n",
       "      <td>R</td>\n",
       "      <td>NaN</td>\n",
       "      <td>AUS</td>\n",
       "      <td>18.532512</td>\n",
       "      <td>221862</td>\n",
       "      <td>Sophia Fry</td>\n",
       "      <td>R</td>\n",
       "      <td>NaN</td>\n",
       "      <td>AUS</td>\n",
       "      <td>18.532512</td>\n",
       "      <td>6-0 6-2</td>\n",
       "      <td>3</td>\n",
       "      <td>R32</td>\n",
       "      <td>NaN</td>\n",
       "      <td>NaN</td>\n",
       "      <td>NaN</td>\n",
       "      <td>NaN</td>\n",
       "      <td>NaN</td>\n",
       "      <td>NaN</td>\n",
       "      <td>NaN</td>\n",
       "      <td>NaN</td>\n",
       "      <td>NaN</td>\n",
       "      <td>NaN</td>\n",
       "      <td>NaN</td>\n",
       "      <td>NaN</td>\n",
       "      <td>NaN</td>\n",
       "      <td>NaN</td>\n",
       "      <td>NaN</td>\n",
       "      <td>NaN</td>\n",
       "      <td>NaN</td>\n",
       "      <td>NaN</td>\n",
       "      <td>NaN</td>\n",
       "      <td>NaN</td>\n",
       "      <td>NaN</td>\n",
       "      <td>NaN</td>\n",
       "      <td>NaN</td>\n",
       "      <td>3243</td>\n",
       "      <td>558383.46</td>\n",
       "    </tr>\n",
       "    <tr>\n",
       "      <th>179935</th>\n",
       "      <td>2020-W-ITF-EST-01A-2020</td>\n",
       "      <td>W15 Haabneeme</td>\n",
       "      <td>Hard</td>\n",
       "      <td>32</td>\n",
       "      <td>15</td>\n",
       "      <td>20201116</td>\n",
       "      <td>110</td>\n",
       "      <td>222914</td>\n",
       "      <td>Liisa Varul</td>\n",
       "      <td>U</td>\n",
       "      <td>NaN</td>\n",
       "      <td>EST</td>\n",
       "      <td>NaN</td>\n",
       "      <td>222914</td>\n",
       "      <td>Liisa Varul</td>\n",
       "      <td>U</td>\n",
       "      <td>NaN</td>\n",
       "      <td>EST</td>\n",
       "      <td>NaN</td>\n",
       "      <td>W/O</td>\n",
       "      <td>3</td>\n",
       "      <td>Q1</td>\n",
       "      <td>NaN</td>\n",
       "      <td>NaN</td>\n",
       "      <td>NaN</td>\n",
       "      <td>NaN</td>\n",
       "      <td>NaN</td>\n",
       "      <td>NaN</td>\n",
       "      <td>NaN</td>\n",
       "      <td>NaN</td>\n",
       "      <td>NaN</td>\n",
       "      <td>NaN</td>\n",
       "      <td>NaN</td>\n",
       "      <td>NaN</td>\n",
       "      <td>NaN</td>\n",
       "      <td>NaN</td>\n",
       "      <td>NaN</td>\n",
       "      <td>NaN</td>\n",
       "      <td>NaN</td>\n",
       "      <td>NaN</td>\n",
       "      <td>NaN</td>\n",
       "      <td>NaN</td>\n",
       "      <td>NaN</td>\n",
       "      <td>NaN</td>\n",
       "      <td>NaN</td>\n",
       "      <td>3475</td>\n",
       "      <td>705886.05</td>\n",
       "    </tr>\n",
       "  </tbody>\n",
       "</table>\n",
       "</div>"
      ],
      "text/plain": [
       "                      tourney_id      tourney_name surface  draw_size  \\\n",
       "72793                  2016-7182   Happy Valley CH    Hard         32   \n",
       "75235                  2016-7553        Chengdu CH    Hard         32   \n",
       "75636                  2016-7614         Astana CH    Hard         32   \n",
       "133100  2018-W-WITF-UKR-02A-2018  Chornomorsk $15K    Clay         32   \n",
       "135577   2019-W-ITF-AUS-04A-2019    W15 Port Pirie    Hard         32   \n",
       "179935   2020-W-ITF-EST-01A-2020     W15 Haabneeme    Hard         32   \n",
       "\n",
       "       tourney_level  tourney_date  match_num  winner_id        winner_name  \\\n",
       "72793              C      20160104        244     122059    Steven De Waard   \n",
       "75235              C      20160801        261     105026        Takuto Niki   \n",
       "75636              C      20161121        249     105781  Andrei Vasilevski   \n",
       "133100            15      20181001          6     221371    Lyubov Kostenko   \n",
       "135577            15      20190211         15     221862         Sophia Fry   \n",
       "179935            15      20201116        110     222914        Liisa Varul   \n",
       "\n",
       "       winner_hand  winner_ht winner_ioc  winner_age  loser_id  \\\n",
       "72793            R        NaN        AUS   24.668036    122059   \n",
       "75235            U        NaN        JPN   28.804928    105026   \n",
       "75636            R        NaN        BLR   25.486653    105781   \n",
       "133100           R        NaN        UKR   15.512663    221371   \n",
       "135577           R        NaN        AUS   18.532512    221862   \n",
       "179935           U        NaN        EST         NaN    222914   \n",
       "\n",
       "               loser_name loser_hand  loser_ht loser_ioc  loser_age  \\\n",
       "72793     Steven De Waard          R       NaN       AUS  24.668036   \n",
       "75235         Takuto Niki          U       NaN       JPN  28.804928   \n",
       "75636   Andrei Vasilevski          R       NaN       BLR  25.486653   \n",
       "133100    Lyubov Kostenko          R       NaN       UKR  15.512663   \n",
       "135577         Sophia Fry          R       NaN       AUS  18.532512   \n",
       "179935        Liisa Varul          U       NaN       EST        NaN   \n",
       "\n",
       "                 score  best_of round  minutes  w_ace  w_df  w_svpt  w_1stIn  \\\n",
       "72793   6-7(3) 6-4 6-2        3    Q1     64.0    7.0   5.0    82.0     44.0   \n",
       "75235          6-0 6-0        3    Q1     55.0    2.0   1.0    33.0     23.0   \n",
       "75636          6-1 6-3        3    Q1     55.0    5.0   1.0    41.0     22.0   \n",
       "133100         6-2 6-4        3   R32      NaN    NaN   NaN     NaN      NaN   \n",
       "135577         6-0 6-2        3   R32      NaN    NaN   NaN     NaN      NaN   \n",
       "179935             W/O        3    Q1      NaN    NaN   NaN     NaN      NaN   \n",
       "\n",
       "        w_1stWon  w_2ndWon  w_SvGms  w_bpSaved  w_bpFaced  l_ace  l_df  \\\n",
       "72793       33.0      24.0     15.0        1.0        3.0    7.0   5.0   \n",
       "75235       20.0       6.0      6.0        2.0        2.0    2.0   1.0   \n",
       "75636       19.0      10.0      8.0        0.0        1.0    5.0   1.0   \n",
       "133100       NaN       NaN      NaN        NaN        NaN    NaN   NaN   \n",
       "135577       NaN       NaN      NaN        NaN        NaN    NaN   NaN   \n",
       "179935       NaN       NaN      NaN        NaN        NaN    NaN   NaN   \n",
       "\n",
       "        l_svpt  l_1stIn  l_1stWon  l_2ndWon  l_SvGms  l_bpSaved  l_bpFaced  \\\n",
       "72793     82.0     44.0      33.0      24.0     15.0        1.0        3.0   \n",
       "75235     33.0     23.0      20.0       6.0      6.0        2.0        2.0   \n",
       "75636     41.0     22.0      19.0      10.0      8.0        0.0        1.0   \n",
       "133100     NaN      NaN       NaN       NaN      NaN        NaN        NaN   \n",
       "135577     NaN      NaN       NaN       NaN      NaN        NaN        NaN   \n",
       "179935     NaN      NaN       NaN       NaN      NaN        NaN        NaN   \n",
       "\n",
       "        winner_rank  winner_rank_points  loser_rank  loser_rank_points  \\\n",
       "72793        1161.0                 8.0      1161.0                8.0   \n",
       "75235         509.0                71.0       509.0               71.0   \n",
       "75636         741.0                28.0       741.0               28.0   \n",
       "133100          NaN                 NaN         NaN                NaN   \n",
       "135577          NaN                 NaN         NaN                NaN   \n",
       "179935          NaN                 NaN         NaN                NaN   \n",
       "\n",
       "        tourney_spectators  tourney_revenue  \n",
       "72793                 2730        554426.23  \n",
       "75235                 3551        551056.44  \n",
       "75636                 3135        555708.14  \n",
       "133100                3130        564093.49  \n",
       "135577                3243        558383.46  \n",
       "179935                3475        705886.05  "
      ]
     },
     "execution_count": 19,
     "metadata": {},
     "output_type": "execute_result"
    }
   ],
   "source": [
    "##leggo tutto il dataframe per riga, se winner_name e loser_ name sono uguali aggiungo \n",
    "#l'index della riga alla lista\n",
    "lista=[]\n",
    "for index, row in tennis.iterrows():\n",
    "    if row['winner_name']==row['loser_name']:\n",
    "        print('index riga '+str(index)+' --> partita tra '+row['winner_name']+ ' e '+row['loser_name'])\n",
    "        lista.append(index)\n",
    "tennis.loc[lista]"
   ]
  },
  {
   "cell_type": "code",
   "execution_count": 20,
   "id": "p3RqO8wSzQvg",
   "metadata": {
    "executionInfo": {
     "elapsed": 262,
     "status": "ok",
     "timestamp": 1637405513263,
     "user": {
      "displayName": "FEDERICO CANEPUZZI",
      "photoUrl": "https://lh3.googleusercontent.com/a/default-user=s64",
      "userId": "05015019107900810205"
     },
     "user_tz": -60
    },
    "id": "p3RqO8wSzQvg"
   },
   "outputs": [],
   "source": [
    "#elimino questi 6 record\n",
    "tennis.drop(lista, inplace=True)"
   ]
  },
  {
   "cell_type": "markdown",
   "id": "FZnwJmbyzQvg",
   "metadata": {
    "id": "FZnwJmbyzQvg"
   },
   "source": [
    "## inserisco in male e female i nomi mancanti presenti in tennis"
   ]
  },
  {
   "cell_type": "code",
   "execution_count": 21,
   "id": "BKB0ZKVrzQvg",
   "metadata": {
    "colab": {
     "base_uri": "https://localhost:8080/"
    },
    "executionInfo": {
     "elapsed": 262,
     "status": "ok",
     "timestamp": 1637405517799,
     "user": {
      "displayName": "FEDERICO CANEPUZZI",
      "photoUrl": "https://lh3.googleusercontent.com/a/default-user=s64",
      "userId": "05015019107900810205"
     },
     "user_tz": -60
    },
    "id": "BKB0ZKVrzQvg",
    "outputId": "0166343f-4d84-4405-ed97-5d0cc25f8722"
   },
   "outputs": [
    {
     "name": "stdout",
     "output_type": "stream",
     "text": [
      "64\n",
      "{'M Bonner', 'M Williams', 'Ziyu Zhang', 'P Dyson', 'P Smith', 'J Neville', 'J Moran', 'S Sullivan', 'H Brown', 'I Baker', 'Yang Liu', 'E Barker', 'Hui Zhang', 'M Ferenczy', 'A Smith', 'Bunny Austin', 'R Lyons', 'J Lambert', 'M Noble', 'J Robinson', 'P Scott', 'Robin White', 'J Tobin', 'R Weber', 'J Walker', 'C Ward', 'J Nicholson', 'L Darby', 'Hao Zhang', 'J May', 'R Mortoire', 'L Robinson', 'B Butcher', 'M Bruce', 'Di Zhao', 'D Hall', 'S Davis', 'J Thomson', 'Yi Liu', 'J Smith', 'A Jackson', 'A Hall', 'Robin Schneider', 'D Turner', 'Peter Smith', 'N Willman', 'C Mann', 'Austin Smith', 'P Moore', 'G Roberts', 'B Johnson', 'A Foster', 'J Lacey', 'Kuan Yi Lee', 'J Young', 'M Thomas', 'B Morgan', 'M Graham', 'Yi Yang', 'Xin Yang', 'K Roberts', 'K Williams', 'M Hamilton', 'Bobby Riggs'}\n"
     ]
    }
   ],
   "source": [
    "#prima di tutto osservo che ci sono alcuni nomi di player sia in female che in male\n",
    "inter = male_set.intersection(female_set)\n",
    "print(len(inter))\n",
    "print (inter)"
   ]
  },
  {
   "cell_type": "code",
   "execution_count": 22,
   "id": "aaunUf2uzQvh",
   "metadata": {
    "colab": {
     "base_uri": "https://localhost:8080/",
     "height": 423
    },
    "executionInfo": {
     "elapsed": 283,
     "status": "ok",
     "timestamp": 1637405520162,
     "user": {
      "displayName": "FEDERICO CANEPUZZI",
      "photoUrl": "https://lh3.googleusercontent.com/a/default-user=s64",
      "userId": "05015019107900810205"
     },
     "user_tz": -60
    },
    "id": "aaunUf2uzQvh",
    "outputId": "5071dbcb-c3cf-4612-fd90-e0edfa1e9df7"
   },
   "outputs": [
    {
     "data": {
      "text/html": [
       "<div>\n",
       "<style scoped>\n",
       "    .dataframe tbody tr th:only-of-type {\n",
       "        vertical-align: middle;\n",
       "    }\n",
       "\n",
       "    .dataframe tbody tr th {\n",
       "        vertical-align: top;\n",
       "    }\n",
       "\n",
       "    .dataframe thead th {\n",
       "        text-align: right;\n",
       "    }\n",
       "</style>\n",
       "<table border=\"1\" class=\"dataframe\">\n",
       "  <thead>\n",
       "    <tr style=\"text-align: right;\">\n",
       "      <th></th>\n",
       "      <th>name</th>\n",
       "      <th>surname</th>\n",
       "    </tr>\n",
       "  </thead>\n",
       "  <tbody>\n",
       "    <tr>\n",
       "      <th>0</th>\n",
       "      <td>Gardnar</td>\n",
       "      <td>Mulloy</td>\n",
       "    </tr>\n",
       "    <tr>\n",
       "      <th>1</th>\n",
       "      <td>Pancho</td>\n",
       "      <td>Segura</td>\n",
       "    </tr>\n",
       "    <tr>\n",
       "      <th>2</th>\n",
       "      <td>Frank</td>\n",
       "      <td>Sedgman</td>\n",
       "    </tr>\n",
       "    <tr>\n",
       "      <th>3</th>\n",
       "      <td>Giuseppe</td>\n",
       "      <td>Merlo</td>\n",
       "    </tr>\n",
       "    <tr>\n",
       "      <th>4</th>\n",
       "      <td>Richard Pancho</td>\n",
       "      <td>Gonzales</td>\n",
       "    </tr>\n",
       "    <tr>\n",
       "      <th>...</th>\n",
       "      <td>...</td>\n",
       "      <td>...</td>\n",
       "    </tr>\n",
       "    <tr>\n",
       "      <th>55203</th>\n",
       "      <td>Borys</td>\n",
       "      <td>Zgola</td>\n",
       "    </tr>\n",
       "    <tr>\n",
       "      <th>55204</th>\n",
       "      <td>Noah</td>\n",
       "      <td>Schlagenhauf</td>\n",
       "    </tr>\n",
       "    <tr>\n",
       "      <th>55205</th>\n",
       "      <td>Areg</td>\n",
       "      <td>Stepanian</td>\n",
       "    </tr>\n",
       "    <tr>\n",
       "      <th>55206</th>\n",
       "      <td>Hamzeh</td>\n",
       "      <td>Al Aswad</td>\n",
       "    </tr>\n",
       "    <tr>\n",
       "      <th>55207</th>\n",
       "      <td>Marc</td>\n",
       "      <td>Ros Mesas</td>\n",
       "    </tr>\n",
       "  </tbody>\n",
       "</table>\n",
       "<p>55031 rows × 2 columns</p>\n",
       "</div>"
      ],
      "text/plain": [
       "                 name       surname\n",
       "0             Gardnar        Mulloy\n",
       "1              Pancho        Segura\n",
       "2               Frank       Sedgman\n",
       "3            Giuseppe         Merlo\n",
       "4      Richard Pancho      Gonzales\n",
       "...               ...           ...\n",
       "55203           Borys         Zgola\n",
       "55204            Noah  Schlagenhauf\n",
       "55205            Areg     Stepanian\n",
       "55206          Hamzeh      Al Aswad\n",
       "55207            Marc     Ros Mesas\n",
       "\n",
       "[55031 rows x 2 columns]"
      ]
     },
     "execution_count": 22,
     "metadata": {},
     "output_type": "execute_result"
    }
   ],
   "source": [
    "male"
   ]
  },
  {
   "cell_type": "code",
   "execution_count": 23,
   "id": "pdgBHJvazQvh",
   "metadata": {
    "colab": {
     "base_uri": "https://localhost:8080/",
     "height": 423
    },
    "executionInfo": {
     "elapsed": 283,
     "status": "ok",
     "timestamp": 1637405522059,
     "user": {
      "displayName": "FEDERICO CANEPUZZI",
      "photoUrl": "https://lh3.googleusercontent.com/a/default-user=s64",
      "userId": "05015019107900810205"
     },
     "user_tz": -60
    },
    "id": "pdgBHJvazQvh",
    "outputId": "0774b0a2-fd85-40eb-bab9-6e5f541990bc"
   },
   "outputs": [
    {
     "data": {
      "text/html": [
       "<div>\n",
       "<style scoped>\n",
       "    .dataframe tbody tr th:only-of-type {\n",
       "        vertical-align: middle;\n",
       "    }\n",
       "\n",
       "    .dataframe tbody tr th {\n",
       "        vertical-align: top;\n",
       "    }\n",
       "\n",
       "    .dataframe thead th {\n",
       "        text-align: right;\n",
       "    }\n",
       "</style>\n",
       "<table border=\"1\" class=\"dataframe\">\n",
       "  <thead>\n",
       "    <tr style=\"text-align: right;\">\n",
       "      <th></th>\n",
       "      <th>name</th>\n",
       "      <th>surname</th>\n",
       "      <th>nome</th>\n",
       "    </tr>\n",
       "  </thead>\n",
       "  <tbody>\n",
       "    <tr>\n",
       "      <th>0</th>\n",
       "      <td>Gardnar</td>\n",
       "      <td>Mulloy</td>\n",
       "      <td>Gardnar Mulloy</td>\n",
       "    </tr>\n",
       "    <tr>\n",
       "      <th>1</th>\n",
       "      <td>Pancho</td>\n",
       "      <td>Segura</td>\n",
       "      <td>Pancho Segura</td>\n",
       "    </tr>\n",
       "    <tr>\n",
       "      <th>2</th>\n",
       "      <td>Frank</td>\n",
       "      <td>Sedgman</td>\n",
       "      <td>Frank Sedgman</td>\n",
       "    </tr>\n",
       "    <tr>\n",
       "      <th>3</th>\n",
       "      <td>Giuseppe</td>\n",
       "      <td>Merlo</td>\n",
       "      <td>Giuseppe Merlo</td>\n",
       "    </tr>\n",
       "    <tr>\n",
       "      <th>4</th>\n",
       "      <td>Richard Pancho</td>\n",
       "      <td>Gonzales</td>\n",
       "      <td>Richard Pancho Gonzales</td>\n",
       "    </tr>\n",
       "    <tr>\n",
       "      <th>...</th>\n",
       "      <td>...</td>\n",
       "      <td>...</td>\n",
       "      <td>...</td>\n",
       "    </tr>\n",
       "    <tr>\n",
       "      <th>55203</th>\n",
       "      <td>Borys</td>\n",
       "      <td>Zgola</td>\n",
       "      <td>Borys Zgola</td>\n",
       "    </tr>\n",
       "    <tr>\n",
       "      <th>55204</th>\n",
       "      <td>Noah</td>\n",
       "      <td>Schlagenhauf</td>\n",
       "      <td>Noah Schlagenhauf</td>\n",
       "    </tr>\n",
       "    <tr>\n",
       "      <th>55205</th>\n",
       "      <td>Areg</td>\n",
       "      <td>Stepanian</td>\n",
       "      <td>Areg Stepanian</td>\n",
       "    </tr>\n",
       "    <tr>\n",
       "      <th>55206</th>\n",
       "      <td>Hamzeh</td>\n",
       "      <td>Al Aswad</td>\n",
       "      <td>Hamzeh Al Aswad</td>\n",
       "    </tr>\n",
       "    <tr>\n",
       "      <th>55207</th>\n",
       "      <td>Marc</td>\n",
       "      <td>Ros Mesas</td>\n",
       "      <td>Marc Ros Mesas</td>\n",
       "    </tr>\n",
       "  </tbody>\n",
       "</table>\n",
       "<p>55031 rows × 3 columns</p>\n",
       "</div>"
      ],
      "text/plain": [
       "                 name       surname                     nome\n",
       "0             Gardnar        Mulloy           Gardnar Mulloy\n",
       "1              Pancho        Segura            Pancho Segura\n",
       "2               Frank       Sedgman            Frank Sedgman\n",
       "3            Giuseppe         Merlo           Giuseppe Merlo\n",
       "4      Richard Pancho      Gonzales  Richard Pancho Gonzales\n",
       "...               ...           ...                      ...\n",
       "55203           Borys         Zgola              Borys Zgola\n",
       "55204            Noah  Schlagenhauf        Noah Schlagenhauf\n",
       "55205            Areg     Stepanian           Areg Stepanian\n",
       "55206          Hamzeh      Al Aswad          Hamzeh Al Aswad\n",
       "55207            Marc     Ros Mesas           Marc Ros Mesas\n",
       "\n",
       "[55031 rows x 3 columns]"
      ]
     },
     "execution_count": 23,
     "metadata": {},
     "output_type": "execute_result"
    }
   ],
   "source": [
    "#per eliminare i nomi su entrambe le tabelle, creo altre due copie di tabelle con la concatenzione\n",
    "#di nome e cognome. Questo mi serve per risalire all'index partendo da una stringa dove ho concatenato\n",
    "#nome e cognome\n",
    "male_2=male.copy()\n",
    "male_2['nome']=male['name']+' '+male['surname']\n",
    "male_2"
   ]
  },
  {
   "cell_type": "code",
   "execution_count": 24,
   "id": "WFzu8KOkzQvh",
   "metadata": {
    "colab": {
     "base_uri": "https://localhost:8080/",
     "height": 423
    },
    "executionInfo": {
     "elapsed": 275,
     "status": "ok",
     "timestamp": 1637405523674,
     "user": {
      "displayName": "FEDERICO CANEPUZZI",
      "photoUrl": "https://lh3.googleusercontent.com/a/default-user=s64",
      "userId": "05015019107900810205"
     },
     "user_tz": -60
    },
    "id": "WFzu8KOkzQvh",
    "outputId": "31a13270-987a-4f06-83b7-3e4d0003d741"
   },
   "outputs": [
    {
     "data": {
      "text/html": [
       "<div>\n",
       "<style scoped>\n",
       "    .dataframe tbody tr th:only-of-type {\n",
       "        vertical-align: middle;\n",
       "    }\n",
       "\n",
       "    .dataframe tbody tr th {\n",
       "        vertical-align: top;\n",
       "    }\n",
       "\n",
       "    .dataframe thead th {\n",
       "        text-align: right;\n",
       "    }\n",
       "</style>\n",
       "<table border=\"1\" class=\"dataframe\">\n",
       "  <thead>\n",
       "    <tr style=\"text-align: right;\">\n",
       "      <th></th>\n",
       "      <th>name</th>\n",
       "      <th>surname</th>\n",
       "      <th>nome</th>\n",
       "    </tr>\n",
       "  </thead>\n",
       "  <tbody>\n",
       "    <tr>\n",
       "      <th>0</th>\n",
       "      <td>Bobby</td>\n",
       "      <td>Riggs</td>\n",
       "      <td>Bobby Riggs</td>\n",
       "    </tr>\n",
       "    <tr>\n",
       "      <th>1</th>\n",
       "      <td>X</td>\n",
       "      <td>X</td>\n",
       "      <td>X X</td>\n",
       "    </tr>\n",
       "    <tr>\n",
       "      <th>2</th>\n",
       "      <td>Martina</td>\n",
       "      <td>Hingis</td>\n",
       "      <td>Martina Hingis</td>\n",
       "    </tr>\n",
       "    <tr>\n",
       "      <th>3</th>\n",
       "      <td>Mirjana</td>\n",
       "      <td>Lucic</td>\n",
       "      <td>Mirjana Lucic</td>\n",
       "    </tr>\n",
       "    <tr>\n",
       "      <th>4</th>\n",
       "      <td>Justine</td>\n",
       "      <td>Henin</td>\n",
       "      <td>Justine Henin</td>\n",
       "    </tr>\n",
       "    <tr>\n",
       "      <th>...</th>\n",
       "      <td>...</td>\n",
       "      <td>...</td>\n",
       "      <td>...</td>\n",
       "    </tr>\n",
       "    <tr>\n",
       "      <th>46167</th>\n",
       "      <td>Kathleen</td>\n",
       "      <td>Allen</td>\n",
       "      <td>Kathleen Allen</td>\n",
       "    </tr>\n",
       "    <tr>\n",
       "      <th>46168</th>\n",
       "      <td>Mrs</td>\n",
       "      <td>Dransfield</td>\n",
       "      <td>Mrs Dransfield</td>\n",
       "    </tr>\n",
       "    <tr>\n",
       "      <th>46169</th>\n",
       "      <td>Jessie</td>\n",
       "      <td>Greene</td>\n",
       "      <td>Jessie Greene</td>\n",
       "    </tr>\n",
       "    <tr>\n",
       "      <th>46170</th>\n",
       "      <td>Mary</td>\n",
       "      <td>Trumbull</td>\n",
       "      <td>Mary Trumbull</td>\n",
       "    </tr>\n",
       "    <tr>\n",
       "      <th>46171</th>\n",
       "      <td>Inga</td>\n",
       "      <td>Sperling</td>\n",
       "      <td>Inga Sperling</td>\n",
       "    </tr>\n",
       "  </tbody>\n",
       "</table>\n",
       "<p>44505 rows × 3 columns</p>\n",
       "</div>"
      ],
      "text/plain": [
       "           name     surname            nome\n",
       "0         Bobby       Riggs     Bobby Riggs\n",
       "1             X           X             X X\n",
       "2       Martina      Hingis  Martina Hingis\n",
       "3       Mirjana       Lucic   Mirjana Lucic\n",
       "4       Justine       Henin   Justine Henin\n",
       "...         ...         ...             ...\n",
       "46167  Kathleen       Allen  Kathleen Allen\n",
       "46168       Mrs  Dransfield  Mrs Dransfield\n",
       "46169    Jessie      Greene   Jessie Greene\n",
       "46170      Mary    Trumbull   Mary Trumbull\n",
       "46171      Inga    Sperling   Inga Sperling\n",
       "\n",
       "[44505 rows x 3 columns]"
      ]
     },
     "execution_count": 24,
     "metadata": {},
     "output_type": "execute_result"
    }
   ],
   "source": [
    "female_2=female.copy()\n",
    "female_2['nome']=female['name']+' '+female['surname']\n",
    "female_2"
   ]
  },
  {
   "cell_type": "code",
   "execution_count": 25,
   "id": "PL2-LnX_zQvi",
   "metadata": {
    "executionInfo": {
     "elapsed": 1214,
     "status": "ok",
     "timestamp": 1637405525901,
     "user": {
      "displayName": "FEDERICO CANEPUZZI",
      "photoUrl": "https://lh3.googleusercontent.com/a/default-user=s64",
      "userId": "05015019107900810205"
     },
     "user_tz": -60
    },
    "id": "PL2-LnX_zQvi"
   },
   "outputs": [],
   "source": [
    "#elimino questi valori da entrambi i set. Andrò poi a calcolare in base alla partita\n",
    "#dove aggiungerli. Li elimino anche dai file male e female attraverso l'index\n",
    "for name in inter:\n",
    "    female_set.remove(name)\n",
    "    rows=female_2.loc[female_2['nome'] == name]\n",
    "    for index, row in rows.iterrows():\n",
    "        female=female.drop([index])\n",
    "    male_set.remove(name)\n",
    "    rows=male_2.loc[male_2['nome'] == name]\n",
    "    for index, row in rows.iterrows():\n",
    "       male=male.drop([index])"
   ]
  },
  {
   "cell_type": "code",
   "execution_count": 26,
   "id": "uTYBlQW1zQvi",
   "metadata": {
    "colab": {
     "base_uri": "https://localhost:8080/"
    },
    "executionInfo": {
     "elapsed": 911,
     "status": "ok",
     "timestamp": 1637405526809,
     "user": {
      "displayName": "FEDERICO CANEPUZZI",
      "photoUrl": "https://lh3.googleusercontent.com/a/default-user=s64",
      "userId": "05015019107900810205"
     },
     "user_tz": -60
    },
    "id": "uTYBlQW1zQvi",
    "outputId": "03cf382c-51d5-4d10-9a39-680b4f626c4d"
   },
   "outputs": [
    {
     "name": "stdout",
     "output_type": "stream",
     "text": [
      "Jo-Wilfried Tsonga non ha valore su sex\n",
      "Cristian Garin non ha valore su sex\n",
      "Stan Wawrinka non ha valore su sex\n",
      "Antoine Hoang non ha valore su sex\n",
      "Taylor Fritz non ha valore su sex\n",
      "Mackenzie McDonald non ha valore su sex\n",
      "Diego Schwartzman non ha valore su sex\n",
      "Frances Tiafoe non ha valore su sex\n",
      "Pedro Martinez non ha valore su sex\n",
      "Lloyd Harris non ha valore su sex\n",
      "Franko Skugor non ha valore su sex\n",
      "Juan Martin del Potro non ha valore su sex\n",
      "J.J. Wolf non ha valore su sex\n",
      "Daniel Elahi Galan non ha valore su sex\n",
      "Joao Menezes non ha valore su sex\n",
      "Jurabek Karimov non ha valore su sex\n",
      "Juan Pablo Varillas non ha valore su sex\n",
      "Holger Rune non ha valore su sex\n",
      "Khumoun Sultanov non ha valore su sex\n",
      "Evgenii Tiurnev non ha valore su sex\n",
      "Di Zhao non ha valore su sex\n",
      "Christopher O'Connell non ha valore su sex\n",
      "Sam Groth non ha valore su sex\n",
      "Daniel Munoz de la Nava non ha valore su sex\n",
      "Botic van de Zandschulp non ha valore su sex\n",
      "Austin Smith non ha valore su sex\n",
      "Alexandar Lazov non ha valore su sex\n",
      "David O'Hare non ha valore su sex\n",
      "Kuan Yi Lee non ha valore su sex\n",
      "Ben Patael non ha valore su sex\n",
      "Andres Artunedo Martinavarro non ha valore su sex\n",
      "Yi Liu non ha valore su sex\n",
      "Ziyu Zhang non ha valore su sex\n",
      "Yang Liu non ha valore su sex\n",
      "34\n"
     ]
    }
   ],
   "source": [
    "#vado a vedere quali player di tennis non sono presenti nei due set \n",
    "\n",
    "#creo un dataframe con tutti i player presenti in tennis con id e name. Prendo i dati dai \n",
    "#campi di winner e loser su ogni riga\n",
    "winner=tennis[['winner_id','winner_name']]\n",
    "winner=winner.rename(columns={'winner_id': 'player_id','winner_name':'player_name'})\n",
    "          \n",
    "loser=tennis[['loser_id','loser_name']]\n",
    "loser=loser.rename(columns={'loser_id': 'player_id','loser_name':'player_name'})\n",
    "\n",
    "player=[winner,loser]\n",
    "player = pd.concat(player)\n",
    "#elimino i duplicati, cioè player che hanno giocato più di una partita\n",
    "player=player.drop_duplicates(subset=['player_id', 'player_name'])\n",
    "\n",
    "#lista dove andrò ad inserire i nomi dei giocatori presenti in tennis ma non in male o female\n",
    "lista=list()\n",
    "\n",
    "#se il player non è presente ne in male_set ne in female_set, allora stampo il nome e lo inserisco in lista\n",
    "a=0\n",
    "for index, row in player.iterrows():\n",
    "    if row['player_name'] in male_set:\n",
    "        continue\n",
    "    elif row['player_name'] in female_set:\n",
    "        continue\n",
    "    else:\n",
    "        lista.append(row['player_name'])\n",
    "        a=a+1\n",
    "        print(row['player_name']+' non ha valore su sex')\n",
    "print(a)"
   ]
  },
  {
   "cell_type": "code",
   "execution_count": 27,
   "id": "gMXz2rEZzQvj",
   "metadata": {
    "colab": {
     "base_uri": "https://localhost:8080/",
     "height": 423
    },
    "executionInfo": {
     "elapsed": 326,
     "status": "ok",
     "timestamp": 1637405528486,
     "user": {
      "displayName": "FEDERICO CANEPUZZI",
      "photoUrl": "https://lh3.googleusercontent.com/a/default-user=s64",
      "userId": "05015019107900810205"
     },
     "user_tz": -60
    },
    "id": "gMXz2rEZzQvj",
    "outputId": "9993fa06-c962-44d7-9b6d-da854eefca5c"
   },
   "outputs": [
    {
     "data": {
      "text/html": [
       "<div>\n",
       "<style scoped>\n",
       "    .dataframe tbody tr th:only-of-type {\n",
       "        vertical-align: middle;\n",
       "    }\n",
       "\n",
       "    .dataframe tbody tr th {\n",
       "        vertical-align: top;\n",
       "    }\n",
       "\n",
       "    .dataframe thead th {\n",
       "        text-align: right;\n",
       "    }\n",
       "</style>\n",
       "<table border=\"1\" class=\"dataframe\">\n",
       "  <thead>\n",
       "    <tr style=\"text-align: right;\">\n",
       "      <th></th>\n",
       "      <th>name</th>\n",
       "      <th>surname</th>\n",
       "    </tr>\n",
       "  </thead>\n",
       "  <tbody>\n",
       "    <tr>\n",
       "      <th>0</th>\n",
       "      <td>Gardnar</td>\n",
       "      <td>Mulloy</td>\n",
       "    </tr>\n",
       "    <tr>\n",
       "      <th>1</th>\n",
       "      <td>Pancho</td>\n",
       "      <td>Segura</td>\n",
       "    </tr>\n",
       "    <tr>\n",
       "      <th>2</th>\n",
       "      <td>Frank</td>\n",
       "      <td>Sedgman</td>\n",
       "    </tr>\n",
       "    <tr>\n",
       "      <th>3</th>\n",
       "      <td>Giuseppe</td>\n",
       "      <td>Merlo</td>\n",
       "    </tr>\n",
       "    <tr>\n",
       "      <th>4</th>\n",
       "      <td>Richard Pancho</td>\n",
       "      <td>Gonzales</td>\n",
       "    </tr>\n",
       "    <tr>\n",
       "      <th>...</th>\n",
       "      <td>...</td>\n",
       "      <td>...</td>\n",
       "    </tr>\n",
       "    <tr>\n",
       "      <th>55203</th>\n",
       "      <td>Borys</td>\n",
       "      <td>Zgola</td>\n",
       "    </tr>\n",
       "    <tr>\n",
       "      <th>55204</th>\n",
       "      <td>Noah</td>\n",
       "      <td>Schlagenhauf</td>\n",
       "    </tr>\n",
       "    <tr>\n",
       "      <th>55205</th>\n",
       "      <td>Areg</td>\n",
       "      <td>Stepanian</td>\n",
       "    </tr>\n",
       "    <tr>\n",
       "      <th>55206</th>\n",
       "      <td>Hamzeh</td>\n",
       "      <td>Al Aswad</td>\n",
       "    </tr>\n",
       "    <tr>\n",
       "      <th>55207</th>\n",
       "      <td>Marc</td>\n",
       "      <td>Ros Mesas</td>\n",
       "    </tr>\n",
       "  </tbody>\n",
       "</table>\n",
       "<p>54967 rows × 2 columns</p>\n",
       "</div>"
      ],
      "text/plain": [
       "                 name       surname\n",
       "0             Gardnar        Mulloy\n",
       "1              Pancho        Segura\n",
       "2               Frank       Sedgman\n",
       "3            Giuseppe         Merlo\n",
       "4      Richard Pancho      Gonzales\n",
       "...               ...           ...\n",
       "55203           Borys         Zgola\n",
       "55204            Noah  Schlagenhauf\n",
       "55205            Areg     Stepanian\n",
       "55206          Hamzeh      Al Aswad\n",
       "55207            Marc     Ros Mesas\n",
       "\n",
       "[54967 rows x 2 columns]"
      ]
     },
     "execution_count": 27,
     "metadata": {},
     "output_type": "execute_result"
    }
   ],
   "source": [
    "male"
   ]
  },
  {
   "cell_type": "code",
   "execution_count": 28,
   "id": "s5VuhFY-zQvj",
   "metadata": {
    "colab": {
     "base_uri": "https://localhost:8080/",
     "height": 423
    },
    "executionInfo": {
     "elapsed": 5,
     "status": "ok",
     "timestamp": 1637405529486,
     "user": {
      "displayName": "FEDERICO CANEPUZZI",
      "photoUrl": "https://lh3.googleusercontent.com/a/default-user=s64",
      "userId": "05015019107900810205"
     },
     "user_tz": -60
    },
    "id": "s5VuhFY-zQvj",
    "outputId": "4ddd6c3c-1874-4988-8248-c3cb962ec69c"
   },
   "outputs": [
    {
     "data": {
      "text/html": [
       "<div>\n",
       "<style scoped>\n",
       "    .dataframe tbody tr th:only-of-type {\n",
       "        vertical-align: middle;\n",
       "    }\n",
       "\n",
       "    .dataframe tbody tr th {\n",
       "        vertical-align: top;\n",
       "    }\n",
       "\n",
       "    .dataframe thead th {\n",
       "        text-align: right;\n",
       "    }\n",
       "</style>\n",
       "<table border=\"1\" class=\"dataframe\">\n",
       "  <thead>\n",
       "    <tr style=\"text-align: right;\">\n",
       "      <th></th>\n",
       "      <th>name</th>\n",
       "      <th>surname</th>\n",
       "    </tr>\n",
       "  </thead>\n",
       "  <tbody>\n",
       "    <tr>\n",
       "      <th>1</th>\n",
       "      <td>X</td>\n",
       "      <td>X</td>\n",
       "    </tr>\n",
       "    <tr>\n",
       "      <th>2</th>\n",
       "      <td>Martina</td>\n",
       "      <td>Hingis</td>\n",
       "    </tr>\n",
       "    <tr>\n",
       "      <th>3</th>\n",
       "      <td>Mirjana</td>\n",
       "      <td>Lucic</td>\n",
       "    </tr>\n",
       "    <tr>\n",
       "      <th>4</th>\n",
       "      <td>Justine</td>\n",
       "      <td>Henin</td>\n",
       "    </tr>\n",
       "    <tr>\n",
       "      <th>5</th>\n",
       "      <td>Kerry Anne</td>\n",
       "      <td>Guse</td>\n",
       "    </tr>\n",
       "    <tr>\n",
       "      <th>...</th>\n",
       "      <td>...</td>\n",
       "      <td>...</td>\n",
       "    </tr>\n",
       "    <tr>\n",
       "      <th>46167</th>\n",
       "      <td>Kathleen</td>\n",
       "      <td>Allen</td>\n",
       "    </tr>\n",
       "    <tr>\n",
       "      <th>46168</th>\n",
       "      <td>Mrs</td>\n",
       "      <td>Dransfield</td>\n",
       "    </tr>\n",
       "    <tr>\n",
       "      <th>46169</th>\n",
       "      <td>Jessie</td>\n",
       "      <td>Greene</td>\n",
       "    </tr>\n",
       "    <tr>\n",
       "      <th>46170</th>\n",
       "      <td>Mary</td>\n",
       "      <td>Trumbull</td>\n",
       "    </tr>\n",
       "    <tr>\n",
       "      <th>46171</th>\n",
       "      <td>Inga</td>\n",
       "      <td>Sperling</td>\n",
       "    </tr>\n",
       "  </tbody>\n",
       "</table>\n",
       "<p>44434 rows × 2 columns</p>\n",
       "</div>"
      ],
      "text/plain": [
       "             name     surname\n",
       "1               X           X\n",
       "2         Martina      Hingis\n",
       "3         Mirjana       Lucic\n",
       "4         Justine       Henin\n",
       "5      Kerry Anne        Guse\n",
       "...           ...         ...\n",
       "46167    Kathleen       Allen\n",
       "46168         Mrs  Dransfield\n",
       "46169      Jessie      Greene\n",
       "46170        Mary    Trumbull\n",
       "46171        Inga    Sperling\n",
       "\n",
       "[44434 rows x 2 columns]"
      ]
     },
     "execution_count": 28,
     "metadata": {},
     "output_type": "execute_result"
    }
   ],
   "source": [
    "female"
   ]
  },
  {
   "cell_type": "code",
   "execution_count": 29,
   "id": "ax1t_cU7zQvj",
   "metadata": {
    "executionInfo": {
     "elapsed": 3,
     "status": "ok",
     "timestamp": 1637405530585,
     "user": {
      "displayName": "FEDERICO CANEPUZZI",
      "photoUrl": "https://lh3.googleusercontent.com/a/default-user=s64",
      "userId": "05015019107900810205"
     },
     "user_tz": -60
    },
    "id": "ax1t_cU7zQvj"
   },
   "outputs": [],
   "source": [
    "\n",
    "# funzione che tokenizza il nome in modo da dividerlo in name e surname\n",
    "def split_players(name):\n",
    "    nome_token=name.split()\n",
    "    if len(nome_token)==2:\n",
    "        new_row={'name':nome_token[0],'surname':nome_token[1]}\n",
    "    elif len(nome_token)==3:\n",
    "        new_row={'name':nome_token[0]+' '+nome_token[1],'surname':nome_token[2]}\n",
    "    elif len(nome_token)==4:\n",
    "        new_row={'name':nome_token[0]+' '+nome_token[1],'surname':nome_token[2]+' '+nome_token[3]}\n",
    "    elif len(nome_token)==5:\n",
    "        new_row={'name':nome_token[0]+' '+nome_token[1],'surname':nome_token[2]+' '+nome_token[3]+' '+nome_token[4]}\n",
    "    else:\n",
    "        print('ci sono più di 5 token per il player '+player)\n",
    "        return ' '\n",
    "    return new_row\n"
   ]
  },
  {
   "cell_type": "code",
   "execution_count": 30,
   "id": "5vwfAoHYzQvj",
   "metadata": {
    "colab": {
     "base_uri": "https://localhost:8080/"
    },
    "executionInfo": {
     "elapsed": 12703,
     "status": "ok",
     "timestamp": 1637405544189,
     "user": {
      "displayName": "FEDERICO CANEPUZZI",
      "photoUrl": "https://lh3.googleusercontent.com/a/default-user=s64",
      "userId": "05015019107900810205"
     },
     "user_tz": -60
    },
    "id": "5vwfAoHYzQvj",
    "outputId": "0558a78b-4292-45e0-931e-54de632f6a6f"
   },
   "outputs": [
    {
     "name": "stdout",
     "output_type": "stream",
     "text": [
      "Cristian Garin\n",
      "Christopher O'Connell\n"
     ]
    }
   ],
   "source": [
    "# vado a scorrere il dataframe tennis; se un giocare è in lista (cioè non è presente ne in male ne in female)\n",
    "# controllo l'altro giocatore con cui sta giocando. In base all'altro capisco il sesso. Aggiungo\n",
    "#il nome al set corrispondente ed aggiungo la row al dataframe male o female\n",
    "lista_non_aggiunti=[]\n",
    "for index, row in tennis.iterrows():\n",
    "    if len(lista)==0:\n",
    "        break\n",
    "    if row['winner_name'] in lista:\n",
    "        if row['loser_name'] in male_set:\n",
    "            male_set.add(row['winner_name'])\n",
    "            new_row=split_players(row['winner_name'])\n",
    "            male=male.append(new_row, ignore_index=True)\n",
    "            lista.remove(row['winner_name'])\n",
    "\n",
    "        elif row['loser_name'] in female_set:\n",
    "            female_set.add(row['winner_name'])\n",
    "            new_row=split_players(row['winner_name'])\n",
    "            female=female.append(new_row, ignore_index=True)\n",
    "            lista.remove(row['winner_name'])\n",
    "        else:\n",
    "            lista_non_aggiunti.append(row['winner_name'])\n",
    "            print(row['winner_name'])\n",
    "        \n",
    "        \n",
    "    if row['loser_name'] in lista:\n",
    "        if row['winner_name'] in male_set:\n",
    "            male_set.add(row['loser_name'])\n",
    "            new_row=split_players(row['loser_name'])\n",
    "            male=male.append(new_row, ignore_index=True)\n",
    "            lista.remove(row['loser_name'])\n",
    "        elif row['winner_name'] in female_set:\n",
    "            female_set.add(row['loser_name'])\n",
    "            new_row=split_players(row['loser_name'])\n",
    "            female=female.append(new_row, ignore_index=True)\n",
    "            lista.remove(row['loser_name'])\n",
    "\n",
    "        else:\n",
    "            lista_non_aggiunti.append(row['loser_name'])\n",
    "            print(row['loser_name'])        \n",
    "    else:\n",
    "        continue"
   ]
  },
  {
   "cell_type": "code",
   "execution_count": 31,
   "id": "JWcaRReDzQvk",
   "metadata": {
    "colab": {
     "base_uri": "https://localhost:8080/"
    },
    "executionInfo": {
     "elapsed": 23,
     "status": "ok",
     "timestamp": 1637405544194,
     "user": {
      "displayName": "FEDERICO CANEPUZZI",
      "photoUrl": "https://lh3.googleusercontent.com/a/default-user=s64",
      "userId": "05015019107900810205"
     },
     "user_tz": -60
    },
    "id": "JWcaRReDzQvk",
    "outputId": "72add3f3-ad02-4ded-8888-d7574f52fc4d"
   },
   "outputs": [
    {
     "data": {
      "text/plain": [
       "['Cristian Garin', \"Christopher O'Connell\"]"
      ]
     },
     "execution_count": 31,
     "metadata": {},
     "output_type": "execute_result"
    }
   ],
   "source": [
    "lista_non_aggiunti"
   ]
  },
  {
   "cell_type": "code",
   "execution_count": 32,
   "id": "qpUcRjUzzQvk",
   "metadata": {
    "executionInfo": {
     "elapsed": 20,
     "status": "ok",
     "timestamp": 1637405544195,
     "user": {
      "displayName": "FEDERICO CANEPUZZI",
      "photoUrl": "https://lh3.googleusercontent.com/a/default-user=s64",
      "userId": "05015019107900810205"
     },
     "user_tz": -60
    },
    "id": "qpUcRjUzzQvk"
   },
   "outputs": [],
   "source": [
    "for i in lista_non_aggiunti:\n",
    "    if i in male_set or i in female_set:\n",
    "        continue\n",
    "    else:\n",
    "        print (i)"
   ]
  },
  {
   "cell_type": "code",
   "execution_count": 33,
   "id": "l_clNSlRzQvk",
   "metadata": {
    "colab": {
     "base_uri": "https://localhost:8080/",
     "height": 423
    },
    "executionInfo": {
     "elapsed": 20,
     "status": "ok",
     "timestamp": 1637405544196,
     "user": {
      "displayName": "FEDERICO CANEPUZZI",
      "photoUrl": "https://lh3.googleusercontent.com/a/default-user=s64",
      "userId": "05015019107900810205"
     },
     "user_tz": -60
    },
    "id": "l_clNSlRzQvk",
    "outputId": "f0788aee-f501-4105-cf7d-e4ec1ca0e956"
   },
   "outputs": [
    {
     "data": {
      "text/html": [
       "<div>\n",
       "<style scoped>\n",
       "    .dataframe tbody tr th:only-of-type {\n",
       "        vertical-align: middle;\n",
       "    }\n",
       "\n",
       "    .dataframe tbody tr th {\n",
       "        vertical-align: top;\n",
       "    }\n",
       "\n",
       "    .dataframe thead th {\n",
       "        text-align: right;\n",
       "    }\n",
       "</style>\n",
       "<table border=\"1\" class=\"dataframe\">\n",
       "  <thead>\n",
       "    <tr style=\"text-align: right;\">\n",
       "      <th></th>\n",
       "      <th>name</th>\n",
       "      <th>surname</th>\n",
       "    </tr>\n",
       "  </thead>\n",
       "  <tbody>\n",
       "    <tr>\n",
       "      <th>0</th>\n",
       "      <td>Gardnar</td>\n",
       "      <td>Mulloy</td>\n",
       "    </tr>\n",
       "    <tr>\n",
       "      <th>1</th>\n",
       "      <td>Pancho</td>\n",
       "      <td>Segura</td>\n",
       "    </tr>\n",
       "    <tr>\n",
       "      <th>2</th>\n",
       "      <td>Frank</td>\n",
       "      <td>Sedgman</td>\n",
       "    </tr>\n",
       "    <tr>\n",
       "      <th>3</th>\n",
       "      <td>Giuseppe</td>\n",
       "      <td>Merlo</td>\n",
       "    </tr>\n",
       "    <tr>\n",
       "      <th>4</th>\n",
       "      <td>Richard Pancho</td>\n",
       "      <td>Gonzales</td>\n",
       "    </tr>\n",
       "    <tr>\n",
       "      <th>...</th>\n",
       "      <td>...</td>\n",
       "      <td>...</td>\n",
       "    </tr>\n",
       "    <tr>\n",
       "      <th>54993</th>\n",
       "      <td>Ben</td>\n",
       "      <td>Patael</td>\n",
       "    </tr>\n",
       "    <tr>\n",
       "      <th>54994</th>\n",
       "      <td>Austin</td>\n",
       "      <td>Smith</td>\n",
       "    </tr>\n",
       "    <tr>\n",
       "      <th>54995</th>\n",
       "      <td>David</td>\n",
       "      <td>O'Hare</td>\n",
       "    </tr>\n",
       "    <tr>\n",
       "      <th>54996</th>\n",
       "      <td>Yang</td>\n",
       "      <td>Liu</td>\n",
       "    </tr>\n",
       "    <tr>\n",
       "      <th>54997</th>\n",
       "      <td>Andres Artunedo</td>\n",
       "      <td>Martinavarro</td>\n",
       "    </tr>\n",
       "  </tbody>\n",
       "</table>\n",
       "<p>54998 rows × 2 columns</p>\n",
       "</div>"
      ],
      "text/plain": [
       "                  name       surname\n",
       "0              Gardnar        Mulloy\n",
       "1               Pancho        Segura\n",
       "2                Frank       Sedgman\n",
       "3             Giuseppe         Merlo\n",
       "4       Richard Pancho      Gonzales\n",
       "...                ...           ...\n",
       "54993              Ben        Patael\n",
       "54994           Austin         Smith\n",
       "54995            David        O'Hare\n",
       "54996             Yang           Liu\n",
       "54997  Andres Artunedo  Martinavarro\n",
       "\n",
       "[54998 rows x 2 columns]"
      ]
     },
     "execution_count": 33,
     "metadata": {},
     "output_type": "execute_result"
    }
   ],
   "source": [
    "male"
   ]
  },
  {
   "cell_type": "code",
   "execution_count": 34,
   "id": "9tqLq6RrzQvk",
   "metadata": {
    "colab": {
     "base_uri": "https://localhost:8080/",
     "height": 423
    },
    "executionInfo": {
     "elapsed": 22,
     "status": "ok",
     "timestamp": 1637405544199,
     "user": {
      "displayName": "FEDERICO CANEPUZZI",
      "photoUrl": "https://lh3.googleusercontent.com/a/default-user=s64",
      "userId": "05015019107900810205"
     },
     "user_tz": -60
    },
    "id": "9tqLq6RrzQvk",
    "outputId": "5d347a48-502b-4d07-fe7c-a162d3e1c045"
   },
   "outputs": [
    {
     "data": {
      "text/html": [
       "<div>\n",
       "<style scoped>\n",
       "    .dataframe tbody tr th:only-of-type {\n",
       "        vertical-align: middle;\n",
       "    }\n",
       "\n",
       "    .dataframe tbody tr th {\n",
       "        vertical-align: top;\n",
       "    }\n",
       "\n",
       "    .dataframe thead th {\n",
       "        text-align: right;\n",
       "    }\n",
       "</style>\n",
       "<table border=\"1\" class=\"dataframe\">\n",
       "  <thead>\n",
       "    <tr style=\"text-align: right;\">\n",
       "      <th></th>\n",
       "      <th>name</th>\n",
       "      <th>surname</th>\n",
       "    </tr>\n",
       "  </thead>\n",
       "  <tbody>\n",
       "    <tr>\n",
       "      <th>0</th>\n",
       "      <td>X</td>\n",
       "      <td>X</td>\n",
       "    </tr>\n",
       "    <tr>\n",
       "      <th>1</th>\n",
       "      <td>Martina</td>\n",
       "      <td>Hingis</td>\n",
       "    </tr>\n",
       "    <tr>\n",
       "      <th>2</th>\n",
       "      <td>Mirjana</td>\n",
       "      <td>Lucic</td>\n",
       "    </tr>\n",
       "    <tr>\n",
       "      <th>3</th>\n",
       "      <td>Justine</td>\n",
       "      <td>Henin</td>\n",
       "    </tr>\n",
       "    <tr>\n",
       "      <th>4</th>\n",
       "      <td>Kerry Anne</td>\n",
       "      <td>Guse</td>\n",
       "    </tr>\n",
       "    <tr>\n",
       "      <th>...</th>\n",
       "      <td>...</td>\n",
       "      <td>...</td>\n",
       "    </tr>\n",
       "    <tr>\n",
       "      <th>44432</th>\n",
       "      <td>Mary</td>\n",
       "      <td>Trumbull</td>\n",
       "    </tr>\n",
       "    <tr>\n",
       "      <th>44433</th>\n",
       "      <td>Inga</td>\n",
       "      <td>Sperling</td>\n",
       "    </tr>\n",
       "    <tr>\n",
       "      <th>44434</th>\n",
       "      <td>Di</td>\n",
       "      <td>Zhao</td>\n",
       "    </tr>\n",
       "    <tr>\n",
       "      <th>44435</th>\n",
       "      <td>Yi</td>\n",
       "      <td>Liu</td>\n",
       "    </tr>\n",
       "    <tr>\n",
       "      <th>44436</th>\n",
       "      <td>Ziyu</td>\n",
       "      <td>Zhang</td>\n",
       "    </tr>\n",
       "  </tbody>\n",
       "</table>\n",
       "<p>44437 rows × 2 columns</p>\n",
       "</div>"
      ],
      "text/plain": [
       "             name   surname\n",
       "0               X         X\n",
       "1         Martina    Hingis\n",
       "2         Mirjana     Lucic\n",
       "3         Justine     Henin\n",
       "4      Kerry Anne      Guse\n",
       "...           ...       ...\n",
       "44432        Mary  Trumbull\n",
       "44433        Inga  Sperling\n",
       "44434          Di      Zhao\n",
       "44435          Yi       Liu\n",
       "44436        Ziyu     Zhang\n",
       "\n",
       "[44437 rows x 2 columns]"
      ]
     },
     "execution_count": 34,
     "metadata": {},
     "output_type": "execute_result"
    }
   ],
   "source": [
    "female\n"
   ]
  },
  {
   "cell_type": "code",
   "execution_count": null,
   "id": "8lW9bbKlzQvl",
   "metadata": {
    "executionInfo": {
     "elapsed": 393,
     "status": "ok",
     "timestamp": 1637405550754,
     "user": {
      "displayName": "FEDERICO CANEPUZZI",
      "photoUrl": "https://lh3.googleusercontent.com/a/default-user=s64",
      "userId": "05015019107900810205"
     },
     "user_tz": -60
    },
    "id": "8lW9bbKlzQvl"
   },
   "outputs": [],
   "source": [
    "\n",
    "  "
   ]
  },
  {
   "cell_type": "code",
   "execution_count": null,
   "id": "Sugrga-8zQvl",
   "metadata": {
    "executionInfo": {
     "elapsed": 2,
     "status": "ok",
     "timestamp": 1637405551138,
     "user": {
      "displayName": "FEDERICO CANEPUZZI",
      "photoUrl": "https://lh3.googleusercontent.com/a/default-user=s64",
      "userId": "05015019107900810205"
     },
     "user_tz": -60
    },
    "id": "Sugrga-8zQvl"
   },
   "outputs": [],
   "source": []
  },
  {
   "cell_type": "markdown",
   "id": "IXp16EQMzQvl",
   "metadata": {
    "id": "IXp16EQMzQvl"
   },
   "source": [
    "## PROBLEMA CON HAND DEI PLAYER"
   ]
  },
  {
   "cell_type": "code",
   "execution_count": 35,
   "id": "IHtJtPFTzQvl",
   "metadata": {
    "colab": {
     "base_uri": "https://localhost:8080/"
    },
    "executionInfo": {
     "elapsed": 263,
     "status": "ok",
     "timestamp": 1637405554446,
     "user": {
      "displayName": "FEDERICO CANEPUZZI",
      "photoUrl": "https://lh3.googleusercontent.com/a/default-user=s64",
      "userId": "05015019107900810205"
     },
     "user_tz": -60
    },
    "id": "IHtJtPFTzQvl",
    "outputId": "e4f5a3ae-93b4-4b1d-b38a-7f5ef7007c99"
   },
   "outputs": [
    {
     "data": {
      "text/plain": [
       "R    120369\n",
       "U     49114\n",
       "L     16259\n",
       "Name: winner_hand, dtype: int64"
      ]
     },
     "execution_count": 35,
     "metadata": {},
     "output_type": "execute_result"
    }
   ],
   "source": [
    "tennis['winner_hand'].value_counts()"
   ]
  },
  {
   "cell_type": "code",
   "execution_count": 36,
   "id": "Q_TEtdfkzQvl",
   "metadata": {
    "colab": {
     "base_uri": "https://localhost:8080/"
    },
    "executionInfo": {
     "elapsed": 6,
     "status": "ok",
     "timestamp": 1637405554862,
     "user": {
      "displayName": "FEDERICO CANEPUZZI",
      "photoUrl": "https://lh3.googleusercontent.com/a/default-user=s64",
      "userId": "05015019107900810205"
     },
     "user_tz": -60
    },
    "id": "Q_TEtdfkzQvl",
    "outputId": "a08d9b57-8cdb-43f9-c5fa-e576e9ff0979"
   },
   "outputs": [
    {
     "data": {
      "text/plain": [
       "R    109059\n",
       "U     61866\n",
       "L     14762\n",
       "Name: loser_hand, dtype: int64"
      ]
     },
     "execution_count": 36,
     "metadata": {},
     "output_type": "execute_result"
    }
   ],
   "source": [
    "tennis['loser_hand'].value_counts()"
   ]
  },
  {
   "cell_type": "code",
   "execution_count": 37,
   "id": "k3HuZxBFzQvm",
   "metadata": {
    "executionInfo": {
     "elapsed": 2,
     "status": "ok",
     "timestamp": 1637405555199,
     "user": {
      "displayName": "FEDERICO CANEPUZZI",
      "photoUrl": "https://lh3.googleusercontent.com/a/default-user=s64",
      "userId": "05015019107900810205"
     },
     "user_tz": -60
    },
    "id": "k3HuZxBFzQvm"
   },
   "outputs": [],
   "source": [
    "#setto per i null value il valore U che corrisponde a Undefined\n",
    "tennis['winner_hand'] = tennis['winner_hand'].fillna('U')\n",
    "tennis['loser_hand'] = tennis['loser_hand'].fillna('U')"
   ]
  },
  {
   "cell_type": "code",
   "execution_count": 38,
   "id": "poY2au_PzQvm",
   "metadata": {
    "colab": {
     "base_uri": "https://localhost:8080/",
     "height": 423
    },
    "executionInfo": {
     "elapsed": 6,
     "status": "ok",
     "timestamp": 1637405556218,
     "user": {
      "displayName": "FEDERICO CANEPUZZI",
      "photoUrl": "https://lh3.googleusercontent.com/a/default-user=s64",
      "userId": "05015019107900810205"
     },
     "user_tz": -60
    },
    "id": "poY2au_PzQvm",
    "outputId": "cbfca170-fbeb-4f9a-dd69-52ffb791e080"
   },
   "outputs": [
    {
     "data": {
      "text/html": [
       "<div>\n",
       "<style scoped>\n",
       "    .dataframe tbody tr th:only-of-type {\n",
       "        vertical-align: middle;\n",
       "    }\n",
       "\n",
       "    .dataframe tbody tr th {\n",
       "        vertical-align: top;\n",
       "    }\n",
       "\n",
       "    .dataframe thead th {\n",
       "        text-align: right;\n",
       "    }\n",
       "</style>\n",
       "<table border=\"1\" class=\"dataframe\">\n",
       "  <thead>\n",
       "    <tr style=\"text-align: right;\">\n",
       "      <th></th>\n",
       "      <th>player_id</th>\n",
       "      <th>player_name</th>\n",
       "      <th>player_hand</th>\n",
       "    </tr>\n",
       "  </thead>\n",
       "  <tbody>\n",
       "    <tr>\n",
       "      <th>0</th>\n",
       "      <td>105453</td>\n",
       "      <td>Kei Nishikori</td>\n",
       "      <td>R</td>\n",
       "    </tr>\n",
       "    <tr>\n",
       "      <th>1</th>\n",
       "      <td>106421</td>\n",
       "      <td>Daniil Medvedev</td>\n",
       "      <td>R</td>\n",
       "    </tr>\n",
       "    <tr>\n",
       "      <th>2</th>\n",
       "      <td>105453</td>\n",
       "      <td>Kei Nishikori</td>\n",
       "      <td>R</td>\n",
       "    </tr>\n",
       "    <tr>\n",
       "      <th>3</th>\n",
       "      <td>104542</td>\n",
       "      <td>Jo-Wilfried Tsonga</td>\n",
       "      <td>R</td>\n",
       "    </tr>\n",
       "    <tr>\n",
       "      <th>4</th>\n",
       "      <td>106421</td>\n",
       "      <td>Daniil Medvedev</td>\n",
       "      <td>R</td>\n",
       "    </tr>\n",
       "    <tr>\n",
       "      <th>...</th>\n",
       "      <td>...</td>\n",
       "      <td>...</td>\n",
       "      <td>...</td>\n",
       "    </tr>\n",
       "    <tr>\n",
       "      <th>186068</th>\n",
       "      <td>222081</td>\n",
       "      <td>Eleana Yu</td>\n",
       "      <td>R</td>\n",
       "    </tr>\n",
       "    <tr>\n",
       "      <th>186069</th>\n",
       "      <td>220723</td>\n",
       "      <td>Jessica Livianu</td>\n",
       "      <td>R</td>\n",
       "    </tr>\n",
       "    <tr>\n",
       "      <th>186070</th>\n",
       "      <td>202478</td>\n",
       "      <td>Tara Moore</td>\n",
       "      <td>R</td>\n",
       "    </tr>\n",
       "    <tr>\n",
       "      <th>186071</th>\n",
       "      <td>205922</td>\n",
       "      <td>Chanelle Van Nguyen</td>\n",
       "      <td>U</td>\n",
       "    </tr>\n",
       "    <tr>\n",
       "      <th>186072</th>\n",
       "      <td>223453</td>\n",
       "      <td>Brooklyn Olson</td>\n",
       "      <td>U</td>\n",
       "    </tr>\n",
       "  </tbody>\n",
       "</table>\n",
       "<p>371516 rows × 3 columns</p>\n",
       "</div>"
      ],
      "text/plain": [
       "        player_id          player_name player_hand\n",
       "0          105453        Kei Nishikori           R\n",
       "1          106421      Daniil Medvedev           R\n",
       "2          105453        Kei Nishikori           R\n",
       "3          104542   Jo-Wilfried Tsonga           R\n",
       "4          106421      Daniil Medvedev           R\n",
       "...           ...                  ...         ...\n",
       "186068     222081            Eleana Yu           R\n",
       "186069     220723      Jessica Livianu           R\n",
       "186070     202478           Tara Moore           R\n",
       "186071     205922  Chanelle Van Nguyen           U\n",
       "186072     223453       Brooklyn Olson           U\n",
       "\n",
       "[371516 rows x 3 columns]"
      ]
     },
     "execution_count": 38,
     "metadata": {},
     "output_type": "execute_result"
    }
   ],
   "source": [
    "\n",
    "winner=tennis[['winner_id','winner_name','winner_hand']]\n",
    "winner=winner.rename(columns={'winner_id': 'player_id','winner_name':'player_name','winner_hand':'player_hand'})\n",
    "          \n",
    "loser=tennis[['loser_id','loser_name','loser_hand']]\n",
    "loser=loser.rename(columns={'loser_id': 'player_id','loser_name':'player_name','loser_hand':'player_hand'})\n",
    "\n",
    "player=[winner,loser]\n",
    "player = pd.concat(player)\n",
    "player"
   ]
  },
  {
   "cell_type": "code",
   "execution_count": 39,
   "id": "MqhSXkWIzQvm",
   "metadata": {
    "colab": {
     "base_uri": "https://localhost:8080/"
    },
    "executionInfo": {
     "elapsed": 5,
     "status": "ok",
     "timestamp": 1637405556633,
     "user": {
      "displayName": "FEDERICO CANEPUZZI",
      "photoUrl": "https://lh3.googleusercontent.com/a/default-user=s64",
      "userId": "05015019107900810205"
     },
     "user_tz": -60
    },
    "id": "MqhSXkWIzQvm",
    "outputId": "fa44a043-d3ad-4df8-bfdf-3d03eb03aa7a"
   },
   "outputs": [
    {
     "name": "stdout",
     "output_type": "stream",
     "text": [
      "player_name\n",
      "Amina Anshba            2\n",
      "Anastasia Kulikova      2\n",
      "Ekaterina Makarova      2\n",
      "Eva Shaw                2\n",
      "Hei Ching Claudia Ng    2\n",
      "Qinwen Zheng            2\n",
      "Vanessa Ersoz           2\n",
      "Weronika Baszak         2\n",
      "Name: player_name, dtype: int64\n",
      "\n",
      "Totale nomi con hand diverse = 8\n"
     ]
    }
   ],
   "source": [
    "player=player.drop_duplicates(subset=['player_id', 'player_name','player_hand'])\n",
    "player_Error_Hand=player.groupby(['player_name'])['player_name'].count()\n",
    "player_Error_Hand=player_Error_Hand[player_Error_Hand>1]\n",
    "\n",
    "print(player_Error_Hand)\n",
    "\n",
    "print('')\n",
    "print('Totale nomi con hand diverse = ',end='')\n",
    "print(len(player_Error_Hand))\n",
    "\n"
   ]
  },
  {
   "cell_type": "code",
   "execution_count": 40,
   "id": "LlL0BJvzzQvm",
   "metadata": {
    "colab": {
     "base_uri": "https://localhost:8080/"
    },
    "executionInfo": {
     "elapsed": 5,
     "status": "ok",
     "timestamp": 1637405557807,
     "user": {
      "displayName": "FEDERICO CANEPUZZI",
      "photoUrl": "https://lh3.googleusercontent.com/a/default-user=s64",
      "userId": "05015019107900810205"
     },
     "user_tz": -60
    },
    "id": "LlL0BJvzzQvm",
    "outputId": "91490f97-51cf-41b5-c4ec-d03a357104fe"
   },
   "outputs": [
    {
     "name": "stdout",
     "output_type": "stream",
     "text": [
      "Amina Anshba --> U - L\n",
      "Anastasia Kulikova --> U - L\n",
      "Ekaterina Makarova --> L - U\n",
      "Eva Shaw --> U - R\n",
      "Hei Ching Claudia Ng --> U - R\n",
      "Qinwen Zheng --> R - U\n",
      "Vanessa Ersoz --> R - U\n",
      "Weronika Baszak --> R - U\n"
     ]
    }
   ],
   "source": [
    "##stampo tutti i player con diverso valori su hand\n",
    "for index, value in player_Error_Hand.items():\n",
    "    \n",
    "    print(str(index) + ' --> ',end='')\n",
    "\n",
    "    rows=player.loc[player['player_name']==index]\n",
    "    first=True\n",
    "    for index_player, row_player in rows.iterrows():\n",
    "        if first:\n",
    "            print(str(row_player['player_hand']) + ' - ',end='')\n",
    "            first=False\n",
    "        else:\n",
    "            print(row_player['player_hand'])"
   ]
  },
  {
   "cell_type": "code",
   "execution_count": 41,
   "id": "7pZ88veazQvm",
   "metadata": {
    "executionInfo": {
     "elapsed": 456,
     "status": "ok",
     "timestamp": 1637405559087,
     "user": {
      "displayName": "FEDERICO CANEPUZZI",
      "photoUrl": "https://lh3.googleusercontent.com/a/default-user=s64",
      "userId": "05015019107900810205"
     },
     "user_tz": -60
    },
    "id": "7pZ88veazQvm"
   },
   "outputs": [],
   "source": [
    "#PER QUESTI 8 GIOCATORI VADO A SOSTITUIRE IL VALORE U (undefined) CON R OPPURE L IN BASE AI VALORI PRESENTI\n",
    "for index, value in player_Error_Hand.items():\n",
    "    \n",
    "    #per name==index seleziono le righe della tabella player con quel nome in modo da recuperare il valore R o L per hand\n",
    "    rows=player.loc[player['player_name']==index]\n",
    "    hand='U'\n",
    "    for index_player, row_player in rows.iterrows():\n",
    "       #cerco un valore diverso da U, appena lo trovo esco dal ciclo\n",
    "        if row_player['player_hand'] != 'U':\n",
    "            hand=row_player['player_hand']\n",
    "            break \n",
    "           \n",
    "    #se non trova valori diversi da U termina per quel player (non dovrebbe accadere in questo caso)\n",
    "    if hand== 'U':\n",
    "            continue\n",
    "    else:\n",
    "       \n",
    "        #vado a modificare il valore di hand su winner_hand e loser_hand nella tabella tennis,\n",
    "        #andando prima ad individuare le righe dove è presente il nome del player da modificare e poi iterando su di esse\n",
    "        colonne=['winner','loser']\n",
    "        for col in colonne:\n",
    "            rowsPlayerName=tennis.loc[tennis[col+'_name']==index]\n",
    "            for index_tennis, row_tennis in rowsPlayerName.iterrows():\n",
    "                #aggiorno il valore\n",
    "                tennis.at[index_tennis, col+'_hand'] = hand\n"
   ]
  },
  {
   "cell_type": "code",
   "execution_count": 42,
   "id": "oi_DjqaizQvn",
   "metadata": {
    "colab": {
     "base_uri": "https://localhost:8080/"
    },
    "executionInfo": {
     "elapsed": 393,
     "status": "ok",
     "timestamp": 1637405559873,
     "user": {
      "displayName": "FEDERICO CANEPUZZI",
      "photoUrl": "https://lh3.googleusercontent.com/a/default-user=s64",
      "userId": "05015019107900810205"
     },
     "user_tz": -60
    },
    "id": "oi_DjqaizQvn",
    "outputId": "5c41efcc-c873-4bed-8919-18c6cf397c32"
   },
   "outputs": [
    {
     "name": "stdout",
     "output_type": "stream",
     "text": [
      "Series([], Name: player_name, dtype: int64)\n",
      "\n",
      "Totale nomi con ID diversi = 0\n"
     ]
    }
   ],
   "source": [
    "#controllo che non ci siano giocatori con tesso nome e diversa hand\n",
    "winner=tennis[['winner_id','winner_name','winner_hand']]\n",
    "winner=winner.rename(columns={'winner_id': 'player_id','winner_name':'player_name','winner_hand':'player_hand'})\n",
    "          \n",
    "loser=tennis[['loser_id','loser_name','loser_hand']]\n",
    "loser=loser.rename(columns={'loser_id': 'player_id','loser_name':'player_name','loser_hand':'player_hand'})\n",
    "\n",
    "player=[winner,loser]\n",
    "player = pd.concat(player)\n",
    "\n",
    "player=player.drop_duplicates(subset=['player_id', 'player_name','player_hand'])\n",
    "player_Error_Hand=player.groupby(['player_name'])['player_name'].count()\n",
    "player_Error_Hand=player_Error_Hand[player_Error_Hand>1]\n",
    "\n",
    "print(player_Error_Hand)\n",
    "\n",
    "print('')\n",
    "print('Totale nomi con ID diversi = ',end='')\n",
    "print(len(player_Error_Hand))"
   ]
  },
  {
   "cell_type": "code",
   "execution_count": null,
   "id": "hWj6WTlLzQvn",
   "metadata": {
    "executionInfo": {
     "elapsed": 3,
     "status": "ok",
     "timestamp": 1637405560780,
     "user": {
      "displayName": "FEDERICO CANEPUZZI",
      "photoUrl": "https://lh3.googleusercontent.com/a/default-user=s64",
      "userId": "05015019107900810205"
     },
     "user_tz": -60
    },
    "id": "hWj6WTlLzQvn"
   },
   "outputs": [],
   "source": []
  },
  {
   "cell_type": "markdown",
   "id": "wDH6gWQazQvn",
   "metadata": {
    "id": "wDH6gWQazQvn"
   },
   "source": [
    "## PROBLEMA CON IOC DI PLAYER"
   ]
  },
  {
   "cell_type": "markdown",
   "id": "0FEPkODezQvn",
   "metadata": {
    "id": "0FEPkODezQvn"
   },
   "source": [
    "sono presenti 4 player con diverso valore su IOC"
   ]
  },
  {
   "cell_type": "code",
   "execution_count": 43,
   "id": "VeH0GmNvzQvn",
   "metadata": {
    "colab": {
     "base_uri": "https://localhost:8080/",
     "height": 423
    },
    "executionInfo": {
     "elapsed": 271,
     "status": "ok",
     "timestamp": 1637405564025,
     "user": {
      "displayName": "FEDERICO CANEPUZZI",
      "photoUrl": "https://lh3.googleusercontent.com/a/default-user=s64",
      "userId": "05015019107900810205"
     },
     "user_tz": -60
    },
    "id": "VeH0GmNvzQvn",
    "outputId": "3b66e406-d46c-4f47-bb94-a377a9a7eccb"
   },
   "outputs": [
    {
     "data": {
      "text/html": [
       "<div>\n",
       "<style scoped>\n",
       "    .dataframe tbody tr th:only-of-type {\n",
       "        vertical-align: middle;\n",
       "    }\n",
       "\n",
       "    .dataframe tbody tr th {\n",
       "        vertical-align: top;\n",
       "    }\n",
       "\n",
       "    .dataframe thead th {\n",
       "        text-align: right;\n",
       "    }\n",
       "</style>\n",
       "<table border=\"1\" class=\"dataframe\">\n",
       "  <thead>\n",
       "    <tr style=\"text-align: right;\">\n",
       "      <th></th>\n",
       "      <th>player_id</th>\n",
       "      <th>player_name</th>\n",
       "      <th>player_ioc</th>\n",
       "    </tr>\n",
       "  </thead>\n",
       "  <tbody>\n",
       "    <tr>\n",
       "      <th>0</th>\n",
       "      <td>105453</td>\n",
       "      <td>Kei Nishikori</td>\n",
       "      <td>JPN</td>\n",
       "    </tr>\n",
       "    <tr>\n",
       "      <th>1</th>\n",
       "      <td>106421</td>\n",
       "      <td>Daniil Medvedev</td>\n",
       "      <td>RUS</td>\n",
       "    </tr>\n",
       "    <tr>\n",
       "      <th>3</th>\n",
       "      <td>104542</td>\n",
       "      <td>Jo-Wilfried Tsonga</td>\n",
       "      <td>FRA</td>\n",
       "    </tr>\n",
       "    <tr>\n",
       "      <th>5</th>\n",
       "      <td>104871</td>\n",
       "      <td>Jeremy Chardy</td>\n",
       "      <td>FRA</td>\n",
       "    </tr>\n",
       "    <tr>\n",
       "      <th>8</th>\n",
       "      <td>200282</td>\n",
       "      <td>Alex De Minaur</td>\n",
       "      <td>AUS</td>\n",
       "    </tr>\n",
       "    <tr>\n",
       "      <th>...</th>\n",
       "      <td>...</td>\n",
       "      <td>...</td>\n",
       "      <td>...</td>\n",
       "    </tr>\n",
       "    <tr>\n",
       "      <th>185021</th>\n",
       "      <td>223315</td>\n",
       "      <td>Dilara Sultanova</td>\n",
       "      <td>TKM</td>\n",
       "    </tr>\n",
       "    <tr>\n",
       "      <th>185560</th>\n",
       "      <td>223075</td>\n",
       "      <td>Madeleine Jessup</td>\n",
       "      <td>USA</td>\n",
       "    </tr>\n",
       "    <tr>\n",
       "      <th>185780</th>\n",
       "      <td>223216</td>\n",
       "      <td>Katie Codd</td>\n",
       "      <td>USA</td>\n",
       "    </tr>\n",
       "    <tr>\n",
       "      <th>185781</th>\n",
       "      <td>223217</td>\n",
       "      <td>Amy Huang</td>\n",
       "      <td>USA</td>\n",
       "    </tr>\n",
       "    <tr>\n",
       "      <th>185940</th>\n",
       "      <td>223451</td>\n",
       "      <td>Chloe Henderson</td>\n",
       "      <td>USA</td>\n",
       "    </tr>\n",
       "  </tbody>\n",
       "</table>\n",
       "<p>10106 rows × 3 columns</p>\n",
       "</div>"
      ],
      "text/plain": [
       "        player_id         player_name player_ioc\n",
       "0          105453       Kei Nishikori        JPN\n",
       "1          106421     Daniil Medvedev        RUS\n",
       "3          104542  Jo-Wilfried Tsonga        FRA\n",
       "5          104871       Jeremy Chardy        FRA\n",
       "8          200282      Alex De Minaur        AUS\n",
       "...           ...                 ...        ...\n",
       "185021     223315    Dilara Sultanova        TKM\n",
       "185560     223075    Madeleine Jessup        USA\n",
       "185780     223216          Katie Codd        USA\n",
       "185781     223217           Amy Huang        USA\n",
       "185940     223451     Chloe Henderson        USA\n",
       "\n",
       "[10106 rows x 3 columns]"
      ]
     },
     "execution_count": 43,
     "metadata": {},
     "output_type": "execute_result"
    }
   ],
   "source": [
    "winner=tennis[['winner_id','winner_name','winner_ioc']]\n",
    "winner=winner.rename(columns={'winner_id': 'player_id','winner_name':'player_name','winner_ioc':'player_ioc'})\n",
    "          \n",
    "loser=tennis[['loser_id','loser_name','loser_ioc']]\n",
    "loser=loser.rename(columns={'loser_id': 'player_id','loser_name':'player_name','loser_ioc':'player_ioc'})\n",
    "\n",
    "player=[winner,loser]\n",
    "player = pd.concat(player)\n",
    "player=player.drop_duplicates(subset=['player_id', 'player_name','player_ioc'])\n",
    "player"
   ]
  },
  {
   "cell_type": "code",
   "execution_count": 44,
   "id": "HBS8xmrdzQvn",
   "metadata": {
    "colab": {
     "base_uri": "https://localhost:8080/"
    },
    "executionInfo": {
     "elapsed": 390,
     "status": "ok",
     "timestamp": 1637405565548,
     "user": {
      "displayName": "FEDERICO CANEPUZZI",
      "photoUrl": "https://lh3.googleusercontent.com/a/default-user=s64",
      "userId": "05015019107900810205"
     },
     "user_tz": -60
    },
    "id": "HBS8xmrdzQvn",
    "outputId": "dfc6773d-6f13-4ab8-880e-fe60ed2d8c17"
   },
   "outputs": [
    {
     "name": "stdout",
     "output_type": "stream",
     "text": [
      "player_name\n",
      "Alena Fomina          2\n",
      "Anastasia Kulikova    2\n",
      "Eleni Fasoula         2\n",
      "Matylda Burylo        2\n",
      "Name: player_name, dtype: int64\n",
      "\n",
      "Totale nomi con IOC diversi = 4\n"
     ]
    }
   ],
   "source": [
    "player_Error_IOC=player.groupby(['player_name'])['player_name'].count()\n",
    "player_Error_IOC=player_Error_IOC[player_Error_IOC>1]\n",
    "\n",
    "print(player_Error_IOC)\n",
    "\n",
    "print('')\n",
    "print('Totale nomi con IOC diversi = ',end='')\n",
    "print(len(player_Error_IOC))\n"
   ]
  },
  {
   "cell_type": "code",
   "execution_count": 45,
   "id": "3ZdTrOjgzQvo",
   "metadata": {
    "colab": {
     "base_uri": "https://localhost:8080/"
    },
    "executionInfo": {
     "elapsed": 7,
     "status": "ok",
     "timestamp": 1637405566435,
     "user": {
      "displayName": "FEDERICO CANEPUZZI",
      "photoUrl": "https://lh3.googleusercontent.com/a/default-user=s64",
      "userId": "05015019107900810205"
     },
     "user_tz": -60
    },
    "id": "3ZdTrOjgzQvo",
    "outputId": "3eebfd74-c311-4853-b253-eb4c2efc0231"
   },
   "outputs": [
    {
     "name": "stdout",
     "output_type": "stream",
     "text": [
      "Alena Fomina --> UKR - RUS\n",
      "Anastasia Kulikova --> RUS - FIN\n",
      "Eleni Fasoula --> KAZ - GRE\n",
      "Matylda Burylo --> POL - NOR\n"
     ]
    }
   ],
   "source": [
    "##stampo tutti i player con diverso valori su ioc\n",
    "for index, value in player_Error_IOC.items():\n",
    "    \n",
    "    print(str(index) + ' --> ',end='')\n",
    "\n",
    "    rows=player.loc[player['player_name']==index]\n",
    "    first=True\n",
    "    for index_player, row_player in rows.iterrows():\n",
    "        if first:\n",
    "            print(str(row_player['player_ioc']) + ' - ',end='')\n",
    "            first=False\n",
    "        else:\n",
    "            print(row_player['player_ioc'])"
   ]
  },
  {
   "cell_type": "code",
   "execution_count": 46,
   "id": "RZWy3HgvzQvo",
   "metadata": {
    "executionInfo": {
     "elapsed": 267,
     "status": "ok",
     "timestamp": 1637405567763,
     "user": {
      "displayName": "FEDERICO CANEPUZZI",
      "photoUrl": "https://lh3.googleusercontent.com/a/default-user=s64",
      "userId": "05015019107900810205"
     },
     "user_tz": -60
    },
    "id": "RZWy3HgvzQvo"
   },
   "outputs": [],
   "source": [
    "#non sapendo il valore da scegliere ed essendo solo 4 casi, li abbiamo scelti guardando su google\n",
    "dizionario={'Alena Fomina':'RUS','Anastasia Kulikova':'FIN','Eleni Fasoula':'GRE','Matylda Burylo':'NOR'}\n",
    "colonne=['winner','loser']\n",
    "#itero sul dizionario e vado a modificare i valori di oic su winner e loser\n",
    "for index in dizionario:\n",
    "    for col in colonne:\n",
    "            rowsPlayerName=tennis.loc[tennis[col+'_name']==index]\n",
    "            for index_tennis, row_tennis in rowsPlayerName.iterrows():\n",
    "                #aggiorno il valore\n",
    "                tennis.at[index_tennis, col+'_ioc'] = dizionario[index]\n",
    "                \n",
    "                \n"
   ]
  },
  {
   "cell_type": "code",
   "execution_count": 47,
   "id": "RzDqu118zQvo",
   "metadata": {
    "colab": {
     "base_uri": "https://localhost:8080/"
    },
    "executionInfo": {
     "elapsed": 380,
     "status": "ok",
     "timestamp": 1637405569054,
     "user": {
      "displayName": "FEDERICO CANEPUZZI",
      "photoUrl": "https://lh3.googleusercontent.com/a/default-user=s64",
      "userId": "05015019107900810205"
     },
     "user_tz": -60
    },
    "id": "RzDqu118zQvo",
    "outputId": "1285f015-5782-4df2-926c-ef8905ac7509"
   },
   "outputs": [
    {
     "data": {
      "text/plain": [
       "Series([], Name: player_name, dtype: int64)"
      ]
     },
     "execution_count": 47,
     "metadata": {},
     "output_type": "execute_result"
    }
   ],
   "source": [
    "#controllo se ho risolto i problemi su IOC\n",
    "winner=tennis[['winner_id','winner_name','winner_ioc']]\n",
    "winner=winner.rename(columns={'winner_id': 'player_id','winner_name':'player_name','winner_ioc':'player_ioc'})\n",
    "          \n",
    "loser=tennis[['loser_id','loser_name','loser_ioc']]\n",
    "loser=loser.rename(columns={'loser_id': 'player_id','loser_name':'player_name','loser_ioc':'player_ioc'})\n",
    "\n",
    "player=[winner,loser]\n",
    "player = pd.concat(player)\n",
    "player=player.drop_duplicates(subset=['player_id', 'player_name','player_ioc'])\n",
    "\n",
    "\n",
    "player_Error_IOC=player.groupby(['player_name'])['player_name'].count()\n",
    "player_Error_IOC=player_Error_IOC[player_Error_IOC>1]\n",
    "\n",
    "player_Error_IOC.sort_values()"
   ]
  },
  {
   "cell_type": "code",
   "execution_count": null,
   "id": "zZhXLIAEzQvo",
   "metadata": {
    "executionInfo": {
     "elapsed": 2,
     "status": "ok",
     "timestamp": 1637405569373,
     "user": {
      "displayName": "FEDERICO CANEPUZZI",
      "photoUrl": "https://lh3.googleusercontent.com/a/default-user=s64",
      "userId": "05015019107900810205"
     },
     "user_tz": -60
    },
    "id": "zZhXLIAEzQvo"
   },
   "outputs": [],
   "source": []
  },
  {
   "cell_type": "markdown",
   "id": "RRomOEIqzQvp",
   "metadata": {
    "id": "RRomOEIqzQvp"
   },
   "source": [
    "## PROBLEMA CON HT DEI PLAYER"
   ]
  },
  {
   "cell_type": "code",
   "execution_count": 48,
   "id": "BixovvUEzQvp",
   "metadata": {
    "colab": {
     "base_uri": "https://localhost:8080/",
     "height": 423
    },
    "executionInfo": {
     "elapsed": 381,
     "status": "ok",
     "timestamp": 1637405570902,
     "user": {
      "displayName": "FEDERICO CANEPUZZI",
      "photoUrl": "https://lh3.googleusercontent.com/a/default-user=s64",
      "userId": "05015019107900810205"
     },
     "user_tz": -60
    },
    "id": "BixovvUEzQvp",
    "outputId": "fdc035cb-3075-4dc1-be75-b76b910b28f3"
   },
   "outputs": [
    {
     "data": {
      "text/html": [
       "<div>\n",
       "<style scoped>\n",
       "    .dataframe tbody tr th:only-of-type {\n",
       "        vertical-align: middle;\n",
       "    }\n",
       "\n",
       "    .dataframe tbody tr th {\n",
       "        vertical-align: top;\n",
       "    }\n",
       "\n",
       "    .dataframe thead th {\n",
       "        text-align: right;\n",
       "    }\n",
       "</style>\n",
       "<table border=\"1\" class=\"dataframe\">\n",
       "  <thead>\n",
       "    <tr style=\"text-align: right;\">\n",
       "      <th></th>\n",
       "      <th>player_id</th>\n",
       "      <th>player_name</th>\n",
       "      <th>player_ht</th>\n",
       "    </tr>\n",
       "  </thead>\n",
       "  <tbody>\n",
       "    <tr>\n",
       "      <th>0</th>\n",
       "      <td>105453</td>\n",
       "      <td>Kei Nishikori</td>\n",
       "      <td>178.0</td>\n",
       "    </tr>\n",
       "    <tr>\n",
       "      <th>1</th>\n",
       "      <td>106421</td>\n",
       "      <td>Daniil Medvedev</td>\n",
       "      <td>198.0</td>\n",
       "    </tr>\n",
       "    <tr>\n",
       "      <th>3</th>\n",
       "      <td>104542</td>\n",
       "      <td>Jo-Wilfried Tsonga</td>\n",
       "      <td>188.0</td>\n",
       "    </tr>\n",
       "    <tr>\n",
       "      <th>5</th>\n",
       "      <td>104871</td>\n",
       "      <td>Jeremy Chardy</td>\n",
       "      <td>188.0</td>\n",
       "    </tr>\n",
       "    <tr>\n",
       "      <th>8</th>\n",
       "      <td>200282</td>\n",
       "      <td>Alex De Minaur</td>\n",
       "      <td>183.0</td>\n",
       "    </tr>\n",
       "    <tr>\n",
       "      <th>...</th>\n",
       "      <td>...</td>\n",
       "      <td>...</td>\n",
       "      <td>...</td>\n",
       "    </tr>\n",
       "    <tr>\n",
       "      <th>185021</th>\n",
       "      <td>223315</td>\n",
       "      <td>Dilara Sultanova</td>\n",
       "      <td>NaN</td>\n",
       "    </tr>\n",
       "    <tr>\n",
       "      <th>185560</th>\n",
       "      <td>223075</td>\n",
       "      <td>Madeleine Jessup</td>\n",
       "      <td>NaN</td>\n",
       "    </tr>\n",
       "    <tr>\n",
       "      <th>185780</th>\n",
       "      <td>223216</td>\n",
       "      <td>Katie Codd</td>\n",
       "      <td>NaN</td>\n",
       "    </tr>\n",
       "    <tr>\n",
       "      <th>185781</th>\n",
       "      <td>223217</td>\n",
       "      <td>Amy Huang</td>\n",
       "      <td>NaN</td>\n",
       "    </tr>\n",
       "    <tr>\n",
       "      <th>185940</th>\n",
       "      <td>223451</td>\n",
       "      <td>Chloe Henderson</td>\n",
       "      <td>NaN</td>\n",
       "    </tr>\n",
       "  </tbody>\n",
       "</table>\n",
       "<p>10123 rows × 3 columns</p>\n",
       "</div>"
      ],
      "text/plain": [
       "        player_id         player_name  player_ht\n",
       "0          105453       Kei Nishikori      178.0\n",
       "1          106421     Daniil Medvedev      198.0\n",
       "3          104542  Jo-Wilfried Tsonga      188.0\n",
       "5          104871       Jeremy Chardy      188.0\n",
       "8          200282      Alex De Minaur      183.0\n",
       "...           ...                 ...        ...\n",
       "185021     223315    Dilara Sultanova        NaN\n",
       "185560     223075    Madeleine Jessup        NaN\n",
       "185780     223216          Katie Codd        NaN\n",
       "185781     223217           Amy Huang        NaN\n",
       "185940     223451     Chloe Henderson        NaN\n",
       "\n",
       "[10123 rows x 3 columns]"
      ]
     },
     "execution_count": 48,
     "metadata": {},
     "output_type": "execute_result"
    }
   ],
   "source": [
    "winner=tennis[['winner_id','winner_name','winner_ht']]\n",
    "winner=winner.rename(columns={'winner_id': 'player_id','winner_name':'player_name','winner_ht':'player_ht'})\n",
    "          \n",
    "loser=tennis[['loser_id','loser_name','loser_ht']]\n",
    "loser=loser.rename(columns={'loser_id': 'player_id','loser_name':'player_name','loser_ht':'player_ht'})\n",
    "\n",
    "player=[winner,loser]\n",
    "player = pd.concat(player)\n",
    "player=player.drop_duplicates(subset=['player_id', 'player_name','player_ht'])\n",
    "player"
   ]
  },
  {
   "cell_type": "code",
   "execution_count": 49,
   "id": "9dkqos95zQvp",
   "metadata": {
    "colab": {
     "base_uri": "https://localhost:8080/"
    },
    "executionInfo": {
     "elapsed": 291,
     "status": "ok",
     "timestamp": 1637405572323,
     "user": {
      "displayName": "FEDERICO CANEPUZZI",
      "photoUrl": "https://lh3.googleusercontent.com/a/default-user=s64",
      "userId": "05015019107900810205"
     },
     "user_tz": -60
    },
    "id": "9dkqos95zQvp",
    "outputId": "c76eb9f0-d7de-4cd7-a43d-882f23866e48"
   },
   "outputs": [
    {
     "name": "stdout",
     "output_type": "stream",
     "text": [
      "player_name\n",
      "Ajla Tomljanovic          2\n",
      "Amanda Anisimova          2\n",
      "Anastasia Potapova        2\n",
      "Anastasija Sevastova      2\n",
      "Ann Li                    2\n",
      "Danka Kovinic             2\n",
      "David Goffin              2\n",
      "Donna Vekic               2\n",
      "Ekaterina Makarova        2\n",
      "Emma Raducanu             2\n",
      "Jil Belen Teichmann       2\n",
      "Kaja Juvan                2\n",
      "Kamilla Rakhimova         2\n",
      "Laura Siegemund           2\n",
      "Leylah Annie Fernandez    2\n",
      "Ludmilla Samsonova        2\n",
      "Marta Kostyuk             2\n",
      "Martina Trevisan          2\n",
      "Rebecca Peterson          2\n",
      "Sara Sorribes Tormo       2\n",
      "Viktorija Golubic         2\n",
      "Name: player_name, dtype: int64\n",
      "\n",
      "Totale nomi con ht diversi = 21\n"
     ]
    }
   ],
   "source": [
    "\n",
    "player_Error_HT=player.groupby(['player_name'])['player_name'].count()\n",
    "player_Error_HT=player_Error_HT[player_Error_HT>1]\n",
    "\n",
    "\n",
    "print(player_Error_HT)\n",
    "\n",
    "print('')\n",
    "print('Totale nomi con ht diversi = ',end='')\n",
    "print(len(player_Error_HT))"
   ]
  },
  {
   "cell_type": "code",
   "execution_count": 50,
   "id": "YoYxpe9azQvp",
   "metadata": {
    "colab": {
     "base_uri": "https://localhost:8080/"
    },
    "executionInfo": {
     "elapsed": 86,
     "status": "ok",
     "timestamp": 1637405573383,
     "user": {
      "displayName": "FEDERICO CANEPUZZI",
      "photoUrl": "https://lh3.googleusercontent.com/a/default-user=s64",
      "userId": "05015019107900810205"
     },
     "user_tz": -60
    },
    "id": "YoYxpe9azQvp",
    "outputId": "66dc23b4-6c3c-49a9-ea26-21f097f65ba2"
   },
   "outputs": [
    {
     "name": "stdout",
     "output_type": "stream",
     "text": [
      "Ajla Tomljanovic --> nan - 180.0\n",
      "Amanda Anisimova --> nan - 180.0\n",
      "Anastasia Potapova --> nan - 175.0\n",
      "Anastasija Sevastova --> nan - 169.0\n",
      "Ann Li --> nan - 170.0\n",
      "Danka Kovinic --> nan - 169.0\n",
      "David Goffin --> 180.0 - 163.0\n",
      "Donna Vekic --> nan - 179.0\n",
      "Ekaterina Makarova --> 178.0 - nan\n",
      "Emma Raducanu --> 175.0 - nan\n",
      "Jil Belen Teichmann --> nan - 170.0\n",
      "Kaja Juvan --> nan - 170.0\n",
      "Kamilla Rakhimova --> 2.0 - nan\n",
      "Laura Siegemund --> nan - 168.0\n",
      "Leylah Annie Fernandez --> nan - 168.0\n",
      "Ludmilla Samsonova --> nan - 180.0\n",
      "Marta Kostyuk --> nan - 175.0\n",
      "Martina Trevisan --> nan - 160.0\n",
      "Rebecca Peterson --> nan - 173.0\n",
      "Sara Sorribes Tormo --> nan - 176.0\n",
      "Viktorija Golubic --> nan - 169.0\n"
     ]
    }
   ],
   "source": [
    "##stampo tutti i player con diverso valori su ht\n",
    "for index, value in player_Error_HT.items():\n",
    "    \n",
    "    print(str(index) + ' --> ',end='')\n",
    "\n",
    "    rows=player.loc[player['player_name']==index]\n",
    "    first=True\n",
    "    for index_player, row_player in rows.iterrows():\n",
    "        if first:\n",
    "            print(str(row_player['player_ht']) + ' - ',end='')\n",
    "            first=False\n",
    "        else:\n",
    "            print(row_player['player_ht'])"
   ]
  },
  {
   "cell_type": "markdown",
   "id": "SQ21bWnOzQvp",
   "metadata": {
    "id": "SQ21bWnOzQvp"
   },
   "source": [
    "David Goffin presenta diversi valori sull'altezza. Gli altri 20 presentano valori diversi solo perchè presentano valori null. Kamilla Rakhimova presenta inoltre un valore di 2 cm evidentemente errato"
   ]
  },
  {
   "cell_type": "code",
   "execution_count": 51,
   "id": "JrQwi0DXzQvq",
   "metadata": {
    "executionInfo": {
     "elapsed": 1374,
     "status": "ok",
     "timestamp": 1637405575798,
     "user": {
      "displayName": "FEDERICO CANEPUZZI",
      "photoUrl": "https://lh3.googleusercontent.com/a/default-user=s64",
      "userId": "05015019107900810205"
     },
     "user_tz": -60
    },
    "id": "JrQwi0DXzQvq"
   },
   "outputs": [],
   "source": [
    "#PER QUESTI GIOCATORI VADO A SOSTITUIRE IL VALORE NULL L'ALTRO VALORE PRESENTE. \n",
    "#IL VALORE CORRETTO PER DAVID GOFFIN E' STATO RICERCATO SU GOOGLE\n",
    "for index, value in player_Error_HT.items():\n",
    "    \n",
    "    \n",
    "    # a questo specifico name corrispondono due valori, quello corretto è 180\n",
    "    if index=='David Goffin':\n",
    "        colonne=['winner','loser']\n",
    "        for col in colonne:\n",
    "            rowsPlayerName=tennis.loc[tennis[col+'_name']=='David Goffin']\n",
    "            for index_tennis, row_tennis in rowsPlayerName.iterrows():\n",
    "                #aggiorno il valore\n",
    "                tennis.at[index_tennis, col+'_ht'] = 180\n",
    "    \n",
    "    # a questo specifico name corrispondono due valori, uno null e uno pari a 2 cm. Essendo errato il valore 2 cm, setto \n",
    "    #tutto a null\n",
    "    if index=='Kamilla Rakhimova':\n",
    "        colonne=['winner','loser']\n",
    "        for col in colonne:\n",
    "            rowsPlayerName=tennis.loc[tennis[col+'_name']=='Kamilla Rakhimova']\n",
    "            for index_tennis, row_tennis in rowsPlayerName.iterrows():\n",
    "                #aggiorno il valore\n",
    "                tennis.at[index_tennis, col+'_ht'] = np.nan\n",
    "    \n",
    "    \n",
    "    \n",
    "    #per name==index seleziono le righe della tabella player con quel nome in modo da recuperare il valore dell'altezza\n",
    "    rows=player.loc[player['player_name']==index]\n",
    "    ht=0\n",
    "    for index_player, row_player in rows.iterrows():\n",
    "       #cerco un valore non null, appena lo trovo esco dal ciclo\n",
    "        if pd.isna(row_player['player_ht']):\n",
    "            continue\n",
    "        else:\n",
    "            ht=row_player['player_ht']\n",
    "            break \n",
    "    #se non trova valori diversi da null termina per quel player (non dovrebbe accadere in questo caso)\n",
    "    if ht== 0:\n",
    "            continue\n",
    "    else:\n",
    "       \n",
    "        #vado a modificare il valore di ht su winner_ht e loser_ht nella tabella tennis,\n",
    "        #andando prima ad individuare le righe dove è presente il nome del player da modificare e poi iterando su di esse\n",
    "        colonne=['winner','loser']\n",
    "        for col in colonne:\n",
    "            rowsPlayerName=tennis.loc[tennis[col+'_name']==index]\n",
    "            for index_tennis, row_tennis in rowsPlayerName.iterrows():\n",
    "                #aggiorno il valore\n",
    "                tennis.at[index_tennis, col+'_ht'] = ht\n"
   ]
  },
  {
   "cell_type": "code",
   "execution_count": 52,
   "id": "HorBMcbpzQvq",
   "metadata": {
    "colab": {
     "base_uri": "https://localhost:8080/"
    },
    "executionInfo": {
     "elapsed": 8,
     "status": "ok",
     "timestamp": 1637405575799,
     "user": {
      "displayName": "FEDERICO CANEPUZZI",
      "photoUrl": "https://lh3.googleusercontent.com/a/default-user=s64",
      "userId": "05015019107900810205"
     },
     "user_tz": -60
    },
    "id": "HorBMcbpzQvq",
    "outputId": "5b8cea02-510c-4941-beb6-29e513ff2574"
   },
   "outputs": [
    {
     "name": "stdout",
     "output_type": "stream",
     "text": [
      "Series([], Name: player_name, dtype: int64)\n",
      "\n",
      "Totale nomi con ht diversi = 0\n"
     ]
    }
   ],
   "source": [
    "\n",
    "winner=tennis[['winner_id','winner_name','winner_ht']]\n",
    "winner=winner.rename(columns={'winner_id': 'player_id','winner_name':'player_name','winner_ht':'player_ht'})\n",
    "          \n",
    "loser=tennis[['loser_id','loser_name','loser_ht']]\n",
    "loser=loser.rename(columns={'loser_id': 'player_id','loser_name':'player_name','loser_ht':'player_ht'})\n",
    "\n",
    "player=[winner,loser]\n",
    "player = pd.concat(player)\n",
    "player=player.drop_duplicates(subset=['player_id', 'player_name','player_ht'])\n",
    "\n",
    "player_Error_HT=player.groupby(['player_name'])['player_name'].count()\n",
    "player_Error_HT=player_Error_HT[player_Error_HT>1]\n",
    "\n",
    "\n",
    "print(player_Error_HT)\n",
    "\n",
    "print('')\n",
    "print('Totale nomi con ht diversi = ',end='')\n",
    "print(len(player_Error_HT))"
   ]
  },
  {
   "cell_type": "markdown",
   "id": "fmnDyZKezQvq",
   "metadata": {
    "id": "fmnDyZKezQvq"
   },
   "source": [
    "per riempire i valore null faccio una media dei valori in base al sesso.\n"
   ]
  },
  {
   "cell_type": "code",
   "execution_count": 53,
   "id": "t1_xR44JzQvq",
   "metadata": {
    "colab": {
     "base_uri": "https://localhost:8080/",
     "height": 206
    },
    "executionInfo": {
     "elapsed": 300,
     "status": "ok",
     "timestamp": 1637405578159,
     "user": {
      "displayName": "FEDERICO CANEPUZZI",
      "photoUrl": "https://lh3.googleusercontent.com/a/default-user=s64",
      "userId": "05015019107900810205"
     },
     "user_tz": -60
    },
    "id": "t1_xR44JzQvq",
    "outputId": "082a6675-4b8b-41e9-c08c-d51921c63b7d"
   },
   "outputs": [
    {
     "data": {
      "text/html": [
       "<div>\n",
       "<style scoped>\n",
       "    .dataframe tbody tr th:only-of-type {\n",
       "        vertical-align: middle;\n",
       "    }\n",
       "\n",
       "    .dataframe tbody tr th {\n",
       "        vertical-align: top;\n",
       "    }\n",
       "\n",
       "    .dataframe thead th {\n",
       "        text-align: right;\n",
       "    }\n",
       "</style>\n",
       "<table border=\"1\" class=\"dataframe\">\n",
       "  <thead>\n",
       "    <tr style=\"text-align: right;\">\n",
       "      <th></th>\n",
       "      <th>name</th>\n",
       "      <th>surname</th>\n",
       "    </tr>\n",
       "  </thead>\n",
       "  <tbody>\n",
       "    <tr>\n",
       "      <th>0</th>\n",
       "      <td>Gardnar</td>\n",
       "      <td>Mulloy</td>\n",
       "    </tr>\n",
       "    <tr>\n",
       "      <th>1</th>\n",
       "      <td>Pancho</td>\n",
       "      <td>Segura</td>\n",
       "    </tr>\n",
       "    <tr>\n",
       "      <th>2</th>\n",
       "      <td>Frank</td>\n",
       "      <td>Sedgman</td>\n",
       "    </tr>\n",
       "    <tr>\n",
       "      <th>3</th>\n",
       "      <td>Giuseppe</td>\n",
       "      <td>Merlo</td>\n",
       "    </tr>\n",
       "    <tr>\n",
       "      <th>4</th>\n",
       "      <td>Richard Pancho</td>\n",
       "      <td>Gonzales</td>\n",
       "    </tr>\n",
       "  </tbody>\n",
       "</table>\n",
       "</div>"
      ],
      "text/plain": [
       "             name   surname\n",
       "0         Gardnar    Mulloy\n",
       "1          Pancho    Segura\n",
       "2           Frank   Sedgman\n",
       "3        Giuseppe     Merlo\n",
       "4  Richard Pancho  Gonzales"
      ]
     },
     "execution_count": 53,
     "metadata": {},
     "output_type": "execute_result"
    }
   ],
   "source": [
    "male.head()"
   ]
  },
  {
   "cell_type": "code",
   "execution_count": null,
   "id": "q1XnGO1WzQvr",
   "metadata": {
    "executionInfo": {
     "elapsed": 4,
     "status": "ok",
     "timestamp": 1637405579195,
     "user": {
      "displayName": "FEDERICO CANEPUZZI",
      "photoUrl": "https://lh3.googleusercontent.com/a/default-user=s64",
      "userId": "05015019107900810205"
     },
     "user_tz": -60
    },
    "id": "q1XnGO1WzQvr"
   },
   "outputs": [],
   "source": []
  },
  {
   "cell_type": "code",
   "execution_count": 54,
   "id": "loBLPAoMzQvr",
   "metadata": {
    "colab": {
     "base_uri": "https://localhost:8080/",
     "height": 423
    },
    "executionInfo": {
     "elapsed": 4,
     "status": "ok",
     "timestamp": 1637405580211,
     "user": {
      "displayName": "FEDERICO CANEPUZZI",
      "photoUrl": "https://lh3.googleusercontent.com/a/default-user=s64",
      "userId": "05015019107900810205"
     },
     "user_tz": -60
    },
    "id": "loBLPAoMzQvr",
    "outputId": "c7aefa71-7098-4ed0-d35c-ef37c1873f73"
   },
   "outputs": [
    {
     "data": {
      "text/html": [
       "<div>\n",
       "<style scoped>\n",
       "    .dataframe tbody tr th:only-of-type {\n",
       "        vertical-align: middle;\n",
       "    }\n",
       "\n",
       "    .dataframe tbody tr th {\n",
       "        vertical-align: top;\n",
       "    }\n",
       "\n",
       "    .dataframe thead th {\n",
       "        text-align: right;\n",
       "    }\n",
       "</style>\n",
       "<table border=\"1\" class=\"dataframe\">\n",
       "  <thead>\n",
       "    <tr style=\"text-align: right;\">\n",
       "      <th></th>\n",
       "      <th>player_id</th>\n",
       "      <th>player_name</th>\n",
       "      <th>player_ht</th>\n",
       "    </tr>\n",
       "  </thead>\n",
       "  <tbody>\n",
       "    <tr>\n",
       "      <th>0</th>\n",
       "      <td>105453</td>\n",
       "      <td>Kei Nishikori</td>\n",
       "      <td>178.0</td>\n",
       "    </tr>\n",
       "    <tr>\n",
       "      <th>1</th>\n",
       "      <td>106421</td>\n",
       "      <td>Daniil Medvedev</td>\n",
       "      <td>198.0</td>\n",
       "    </tr>\n",
       "    <tr>\n",
       "      <th>3</th>\n",
       "      <td>104542</td>\n",
       "      <td>Jo-Wilfried Tsonga</td>\n",
       "      <td>188.0</td>\n",
       "    </tr>\n",
       "    <tr>\n",
       "      <th>5</th>\n",
       "      <td>104871</td>\n",
       "      <td>Jeremy Chardy</td>\n",
       "      <td>188.0</td>\n",
       "    </tr>\n",
       "    <tr>\n",
       "      <th>8</th>\n",
       "      <td>200282</td>\n",
       "      <td>Alex De Minaur</td>\n",
       "      <td>183.0</td>\n",
       "    </tr>\n",
       "    <tr>\n",
       "      <th>...</th>\n",
       "      <td>...</td>\n",
       "      <td>...</td>\n",
       "      <td>...</td>\n",
       "    </tr>\n",
       "    <tr>\n",
       "      <th>95755</th>\n",
       "      <td>201364</td>\n",
       "      <td>Tatiana Golovin</td>\n",
       "      <td>175.0</td>\n",
       "    </tr>\n",
       "    <tr>\n",
       "      <th>112247</th>\n",
       "      <td>104583</td>\n",
       "      <td>Filip Polasek</td>\n",
       "      <td>196.0</td>\n",
       "    </tr>\n",
       "    <tr>\n",
       "      <th>116251</th>\n",
       "      <td>103657</td>\n",
       "      <td>Ivo Klec</td>\n",
       "      <td>183.0</td>\n",
       "    </tr>\n",
       "    <tr>\n",
       "      <th>142416</th>\n",
       "      <td>201431</td>\n",
       "      <td>Aravane Rezai</td>\n",
       "      <td>165.0</td>\n",
       "    </tr>\n",
       "    <tr>\n",
       "      <th>162740</th>\n",
       "      <td>104495</td>\n",
       "      <td>Florin Mergea</td>\n",
       "      <td>180.0</td>\n",
       "    </tr>\n",
       "  </tbody>\n",
       "</table>\n",
       "<p>541 rows × 3 columns</p>\n",
       "</div>"
      ],
      "text/plain": [
       "        player_id         player_name  player_ht\n",
       "0          105453       Kei Nishikori      178.0\n",
       "1          106421     Daniil Medvedev      198.0\n",
       "3          104542  Jo-Wilfried Tsonga      188.0\n",
       "5          104871       Jeremy Chardy      188.0\n",
       "8          200282      Alex De Minaur      183.0\n",
       "...           ...                 ...        ...\n",
       "95755      201364     Tatiana Golovin      175.0\n",
       "112247     104583       Filip Polasek      196.0\n",
       "116251     103657            Ivo Klec      183.0\n",
       "142416     201431       Aravane Rezai      165.0\n",
       "162740     104495       Florin Mergea      180.0\n",
       "\n",
       "[541 rows x 3 columns]"
      ]
     },
     "execution_count": 54,
     "metadata": {},
     "output_type": "execute_result"
    }
   ],
   "source": [
    "#creo una tabella player senza null value, in modo da calcolare le medie per il sesso male e female\n",
    "winner=tennis[['winner_id','winner_name','winner_ht']]\n",
    "winner=winner.rename(columns={'winner_id': 'player_id','winner_name':'player_name','winner_ht':'player_ht'})\n",
    "          \n",
    "loser=tennis[['loser_id','loser_name','loser_ht']]\n",
    "loser=loser.rename(columns={'loser_id': 'player_id','loser_name':'player_name','loser_ht':'player_ht'})\n",
    "\n",
    "player=[winner,loser]\n",
    "player = pd.concat(player)\n",
    "player=player.drop_duplicates(subset=['player_id', 'player_name','player_ht'])\n",
    "player=player.dropna()\n",
    "player"
   ]
  },
  {
   "cell_type": "code",
   "execution_count": 55,
   "id": "DmyireWbzQvr",
   "metadata": {
    "executionInfo": {
     "elapsed": 258,
     "status": "ok",
     "timestamp": 1637405581448,
     "user": {
      "displayName": "FEDERICO CANEPUZZI",
      "photoUrl": "https://lh3.googleusercontent.com/a/default-user=s64",
      "userId": "05015019107900810205"
     },
     "user_tz": -60
    },
    "id": "DmyireWbzQvr"
   },
   "outputs": [],
   "source": [
    "#aggiungo a player una colonna con il sesso, ricercando il nome nei due insiemi. Se un nome non è presente nei due insiemi\n",
    "#setto il sesso a null\n",
    "player['player_sex']=''\n",
    "for index, row in player.iterrows():\n",
    "    if (row['player_name'] in male_set):\n",
    "        player.at[index, 'player_sex'] = 'male'\n",
    "    elif (row['player_name']  in female_set):\n",
    "        player.at[index, 'player_sex'] = 'female'\n",
    "    else:\n",
    "        player.at[index, 'player_sex'] = np.nan\n",
    "        print(str(index)+' non ha il sesso')\n",
    "\n"
   ]
  },
  {
   "cell_type": "code",
   "execution_count": 56,
   "id": "JMLHawV0zQvr",
   "metadata": {
    "colab": {
     "base_uri": "https://localhost:8080/",
     "height": 423
    },
    "executionInfo": {
     "elapsed": 10,
     "status": "ok",
     "timestamp": 1637405582524,
     "user": {
      "displayName": "FEDERICO CANEPUZZI",
      "photoUrl": "https://lh3.googleusercontent.com/a/default-user=s64",
      "userId": "05015019107900810205"
     },
     "user_tz": -60
    },
    "id": "JMLHawV0zQvr",
    "outputId": "6c9585f4-bb44-4791-c715-83e1d3674f00"
   },
   "outputs": [
    {
     "data": {
      "text/html": [
       "<div>\n",
       "<style scoped>\n",
       "    .dataframe tbody tr th:only-of-type {\n",
       "        vertical-align: middle;\n",
       "    }\n",
       "\n",
       "    .dataframe tbody tr th {\n",
       "        vertical-align: top;\n",
       "    }\n",
       "\n",
       "    .dataframe thead th {\n",
       "        text-align: right;\n",
       "    }\n",
       "</style>\n",
       "<table border=\"1\" class=\"dataframe\">\n",
       "  <thead>\n",
       "    <tr style=\"text-align: right;\">\n",
       "      <th></th>\n",
       "      <th>player_id</th>\n",
       "      <th>player_name</th>\n",
       "      <th>player_ht</th>\n",
       "      <th>player_sex</th>\n",
       "    </tr>\n",
       "  </thead>\n",
       "  <tbody>\n",
       "    <tr>\n",
       "      <th>0</th>\n",
       "      <td>105453</td>\n",
       "      <td>Kei Nishikori</td>\n",
       "      <td>178.0</td>\n",
       "      <td>male</td>\n",
       "    </tr>\n",
       "    <tr>\n",
       "      <th>1</th>\n",
       "      <td>106421</td>\n",
       "      <td>Daniil Medvedev</td>\n",
       "      <td>198.0</td>\n",
       "      <td>male</td>\n",
       "    </tr>\n",
       "    <tr>\n",
       "      <th>3</th>\n",
       "      <td>104542</td>\n",
       "      <td>Jo-Wilfried Tsonga</td>\n",
       "      <td>188.0</td>\n",
       "      <td>male</td>\n",
       "    </tr>\n",
       "    <tr>\n",
       "      <th>5</th>\n",
       "      <td>104871</td>\n",
       "      <td>Jeremy Chardy</td>\n",
       "      <td>188.0</td>\n",
       "      <td>male</td>\n",
       "    </tr>\n",
       "    <tr>\n",
       "      <th>8</th>\n",
       "      <td>200282</td>\n",
       "      <td>Alex De Minaur</td>\n",
       "      <td>183.0</td>\n",
       "      <td>male</td>\n",
       "    </tr>\n",
       "    <tr>\n",
       "      <th>...</th>\n",
       "      <td>...</td>\n",
       "      <td>...</td>\n",
       "      <td>...</td>\n",
       "      <td>...</td>\n",
       "    </tr>\n",
       "    <tr>\n",
       "      <th>95755</th>\n",
       "      <td>201364</td>\n",
       "      <td>Tatiana Golovin</td>\n",
       "      <td>175.0</td>\n",
       "      <td>female</td>\n",
       "    </tr>\n",
       "    <tr>\n",
       "      <th>112247</th>\n",
       "      <td>104583</td>\n",
       "      <td>Filip Polasek</td>\n",
       "      <td>196.0</td>\n",
       "      <td>male</td>\n",
       "    </tr>\n",
       "    <tr>\n",
       "      <th>116251</th>\n",
       "      <td>103657</td>\n",
       "      <td>Ivo Klec</td>\n",
       "      <td>183.0</td>\n",
       "      <td>male</td>\n",
       "    </tr>\n",
       "    <tr>\n",
       "      <th>142416</th>\n",
       "      <td>201431</td>\n",
       "      <td>Aravane Rezai</td>\n",
       "      <td>165.0</td>\n",
       "      <td>female</td>\n",
       "    </tr>\n",
       "    <tr>\n",
       "      <th>162740</th>\n",
       "      <td>104495</td>\n",
       "      <td>Florin Mergea</td>\n",
       "      <td>180.0</td>\n",
       "      <td>male</td>\n",
       "    </tr>\n",
       "  </tbody>\n",
       "</table>\n",
       "<p>541 rows × 4 columns</p>\n",
       "</div>"
      ],
      "text/plain": [
       "        player_id         player_name  player_ht player_sex\n",
       "0          105453       Kei Nishikori      178.0       male\n",
       "1          106421     Daniil Medvedev      198.0       male\n",
       "3          104542  Jo-Wilfried Tsonga      188.0       male\n",
       "5          104871       Jeremy Chardy      188.0       male\n",
       "8          200282      Alex De Minaur      183.0       male\n",
       "...           ...                 ...        ...        ...\n",
       "95755      201364     Tatiana Golovin      175.0     female\n",
       "112247     104583       Filip Polasek      196.0       male\n",
       "116251     103657            Ivo Klec      183.0       male\n",
       "142416     201431       Aravane Rezai      165.0     female\n",
       "162740     104495       Florin Mergea      180.0       male\n",
       "\n",
       "[541 rows x 4 columns]"
      ]
     },
     "execution_count": 56,
     "metadata": {},
     "output_type": "execute_result"
    }
   ],
   "source": [
    "#elimino i player con sex null, inutili per calcolare le medie\n",
    "player=player.dropna()\n",
    "player"
   ]
  },
  {
   "cell_type": "code",
   "execution_count": 57,
   "id": "SH1eKD7QzQvr",
   "metadata": {
    "colab": {
     "base_uri": "https://localhost:8080/"
    },
    "executionInfo": {
     "elapsed": 272,
     "status": "ok",
     "timestamp": 1637405585140,
     "user": {
      "displayName": "FEDERICO CANEPUZZI",
      "photoUrl": "https://lh3.googleusercontent.com/a/default-user=s64",
      "userId": "05015019107900810205"
     },
     "user_tz": -60
    },
    "id": "SH1eKD7QzQvr",
    "outputId": "58f799ef-9758-4cfe-c197-7d0b2dfe1fd1"
   },
   "outputs": [
    {
     "data": {
      "text/plain": [
       "player_sex\n",
       "female    172.815000\n",
       "male      185.844575\n",
       "Name: player_ht, dtype: float64"
      ]
     },
     "execution_count": 57,
     "metadata": {},
     "output_type": "execute_result"
    }
   ],
   "source": [
    "#calcolo le medie\n",
    "media_Altezza=player.groupby(['player_sex'])['player_ht'].mean()\n",
    "media_Altezza"
   ]
  },
  {
   "cell_type": "code",
   "execution_count": 58,
   "id": "Gk3bvEcHzQvs",
   "metadata": {
    "executionInfo": {
     "elapsed": 4,
     "status": "ok",
     "timestamp": 1637405586101,
     "user": {
      "displayName": "FEDERICO CANEPUZZI",
      "photoUrl": "https://lh3.googleusercontent.com/a/default-user=s64",
      "userId": "05015019107900810205"
     },
     "user_tz": -60
    },
    "id": "Gk3bvEcHzQvs"
   },
   "outputs": [],
   "source": [
    "#tolgo i decimali ma lascio il tipo float\n",
    "media_donna=float(int(media_Altezza[0]))\n",
    "media_uomo=float(int(media_Altezza[1]))\n",
    "#calcolo anche la media per i player senza sesso\n",
    "media_senzaSesso=float(int(mean([media_donna,media_uomo])))\n"
   ]
  },
  {
   "cell_type": "code",
   "execution_count": 59,
   "id": "bOWO4ik7zQvs",
   "metadata": {
    "executionInfo": {
     "elapsed": 24217,
     "status": "ok",
     "timestamp": 1637405611344,
     "user": {
      "displayName": "FEDERICO CANEPUZZI",
      "photoUrl": "https://lh3.googleusercontent.com/a/default-user=s64",
      "userId": "05015019107900810205"
     },
     "user_tz": -60
    },
    "id": "bOWO4ik7zQvs"
   },
   "outputs": [],
   "source": [
    "#itero su tennis, riempiendo i null value con le medie in base al sesso. Ricerco il sesso sui due set\n",
    "#avendo completato la tabella male con i nomi mancanti nessun player è senza sesso\n",
    "for index, row in tennis.iterrows():\n",
    "    \n",
    "    colonne=['winner','loser']\n",
    "    for col in colonne:\n",
    "        if pd.isna(row[col+'_ht']):\n",
    "            if row[col+'_name'] in male_set:\n",
    "                altezza=media_uomo\n",
    "            elif row[col+'_name'] in female_set:\n",
    "                altezza=media_donna\n",
    "            else:\n",
    "                altezza=media_senzaSesso\n",
    "\n",
    "            tennis.at[index, col+'_ht'] = altezza\n",
    "       \n",
    "\n",
    "\n"
   ]
  },
  {
   "cell_type": "code",
   "execution_count": 60,
   "id": "63hSlYQDzQvs",
   "metadata": {
    "colab": {
     "base_uri": "https://localhost:8080/"
    },
    "executionInfo": {
     "elapsed": 10,
     "status": "ok",
     "timestamp": 1637405611346,
     "user": {
      "displayName": "FEDERICO CANEPUZZI",
      "photoUrl": "https://lh3.googleusercontent.com/a/default-user=s64",
      "userId": "05015019107900810205"
     },
     "user_tz": -60
    },
    "id": "63hSlYQDzQvs",
    "outputId": "fa9aec82-7bc2-481e-d725-98fb008a9abf"
   },
   "outputs": [
    {
     "name": "stdout",
     "output_type": "stream",
     "text": [
      "<class 'pandas.core.frame.DataFrame'>\n",
      "Int64Index: 185758 entries, 0 to 186072\n",
      "Data columns (total 47 columns):\n",
      " #   Column              Non-Null Count   Dtype  \n",
      "---  ------              --------------   -----  \n",
      " 0   tourney_id          185758 non-null  object \n",
      " 1   tourney_name        185758 non-null  object \n",
      " 2   surface             185596 non-null  object \n",
      " 3   draw_size           185758 non-null  int64  \n",
      " 4   tourney_level       185758 non-null  object \n",
      " 5   tourney_date        185758 non-null  int64  \n",
      " 6   match_num           185758 non-null  int64  \n",
      " 7   winner_id           185758 non-null  int64  \n",
      " 8   winner_name         185758 non-null  object \n",
      " 9   winner_hand         185758 non-null  object \n",
      " 10  winner_ht           185758 non-null  float64\n",
      " 11  winner_ioc          185758 non-null  object \n",
      " 12  winner_age          182931 non-null  float64\n",
      " 13  loser_id            185758 non-null  int64  \n",
      " 14  loser_name          185758 non-null  object \n",
      " 15  loser_hand          185758 non-null  object \n",
      " 16  loser_ht            185758 non-null  float64\n",
      " 17  loser_ioc           185758 non-null  object \n",
      " 18  loser_age           179258 non-null  float64\n",
      " 19  score               185589 non-null  object \n",
      " 20  best_of             185758 non-null  int64  \n",
      " 21  round               185758 non-null  object \n",
      " 22  minutes             81331 non-null   float64\n",
      " 23  w_ace               81979 non-null   float64\n",
      " 24  w_df                81979 non-null   float64\n",
      " 25  w_svpt              81979 non-null   float64\n",
      " 26  w_1stIn             81979 non-null   float64\n",
      " 27  w_1stWon            81979 non-null   float64\n",
      " 28  w_2ndWon            81979 non-null   float64\n",
      " 29  w_SvGms             81983 non-null   float64\n",
      " 30  w_bpSaved           81979 non-null   float64\n",
      " 31  w_bpFaced           81979 non-null   float64\n",
      " 32  l_ace               81979 non-null   float64\n",
      " 33  l_df                81979 non-null   float64\n",
      " 34  l_svpt              81979 non-null   float64\n",
      " 35  l_1stIn             81979 non-null   float64\n",
      " 36  l_1stWon            81979 non-null   float64\n",
      " 37  l_2ndWon            81979 non-null   float64\n",
      " 38  l_SvGms             81983 non-null   float64\n",
      " 39  l_bpSaved           81979 non-null   float64\n",
      " 40  l_bpFaced           81979 non-null   float64\n",
      " 41  winner_rank         166389 non-null  float64\n",
      " 42  winner_rank_points  166373 non-null  float64\n",
      " 43  loser_rank          150529 non-null  float64\n",
      " 44  loser_rank_points   150513 non-null  float64\n",
      " 45  tourney_spectators  185758 non-null  int64  \n",
      " 46  tourney_revenue     185758 non-null  float64\n",
      "dtypes: float64(28), int64(7), object(12)\n",
      "memory usage: 72.1+ MB\n"
     ]
    }
   ],
   "source": [
    "tennis.info()"
   ]
  },
  {
   "cell_type": "code",
   "execution_count": null,
   "id": "03nmBMrUzQvt",
   "metadata": {
    "executionInfo": {
     "elapsed": 393,
     "status": "ok",
     "timestamp": 1637405617490,
     "user": {
      "displayName": "FEDERICO CANEPUZZI",
      "photoUrl": "https://lh3.googleusercontent.com/a/default-user=s64",
      "userId": "05015019107900810205"
     },
     "user_tz": -60
    },
    "id": "03nmBMrUzQvt"
   },
   "outputs": [],
   "source": []
  },
  {
   "cell_type": "markdown",
   "id": "MGMMljt9zQvt",
   "metadata": {
    "id": "MGMMljt9zQvt"
   },
   "source": [
    "## PROBLEMA AGE"
   ]
  },
  {
   "cell_type": "markdown",
   "id": "OzW3H13RzQvt",
   "metadata": {
    "id": "OzW3H13RzQvt"
   },
   "source": [
    "VANNO RIEMPITI I NULL VALUE. Alcuni player presentano il valore di age su alcuni record  ma non su altri. Mentre altri presentano val null su tutti i record. In questo ultimo caso i valori null sono riempiti con la media attualizzata in base al sesso. cioè prima ho calcolato l'età nell'anno 2021 di ogni giocatore, poi ho calcolato la media e successivamente ho calcolato age in base alla data del torneo"
   ]
  },
  {
   "cell_type": "code",
   "execution_count": 61,
   "id": "6TV_PW6HzQvt",
   "metadata": {
    "colab": {
     "base_uri": "https://localhost:8080/",
     "height": 423
    },
    "executionInfo": {
     "elapsed": 281,
     "status": "ok",
     "timestamp": 1637405618981,
     "user": {
      "displayName": "FEDERICO CANEPUZZI",
      "photoUrl": "https://lh3.googleusercontent.com/a/default-user=s64",
      "userId": "05015019107900810205"
     },
     "user_tz": -60
    },
    "id": "6TV_PW6HzQvt",
    "outputId": "adacfa7f-710d-4e4b-f4c1-3b861fbbc454"
   },
   "outputs": [
    {
     "data": {
      "text/html": [
       "<div>\n",
       "<style scoped>\n",
       "    .dataframe tbody tr th:only-of-type {\n",
       "        vertical-align: middle;\n",
       "    }\n",
       "\n",
       "    .dataframe tbody tr th {\n",
       "        vertical-align: top;\n",
       "    }\n",
       "\n",
       "    .dataframe thead th {\n",
       "        text-align: right;\n",
       "    }\n",
       "</style>\n",
       "<table border=\"1\" class=\"dataframe\">\n",
       "  <thead>\n",
       "    <tr style=\"text-align: right;\">\n",
       "      <th></th>\n",
       "      <th>player_id</th>\n",
       "      <th>player_name</th>\n",
       "      <th>player_age</th>\n",
       "      <th>tourney_date</th>\n",
       "    </tr>\n",
       "  </thead>\n",
       "  <tbody>\n",
       "    <tr>\n",
       "      <th>0</th>\n",
       "      <td>105453</td>\n",
       "      <td>Kei Nishikori</td>\n",
       "      <td>29.004791</td>\n",
       "      <td>20181231</td>\n",
       "    </tr>\n",
       "    <tr>\n",
       "      <th>1</th>\n",
       "      <td>106421</td>\n",
       "      <td>Daniil Medvedev</td>\n",
       "      <td>22.885695</td>\n",
       "      <td>20181231</td>\n",
       "    </tr>\n",
       "    <tr>\n",
       "      <th>2</th>\n",
       "      <td>105453</td>\n",
       "      <td>Kei Nishikori</td>\n",
       "      <td>29.004791</td>\n",
       "      <td>20181231</td>\n",
       "    </tr>\n",
       "    <tr>\n",
       "      <th>3</th>\n",
       "      <td>104542</td>\n",
       "      <td>Jo-Wilfried Tsonga</td>\n",
       "      <td>33.705681</td>\n",
       "      <td>20181231</td>\n",
       "    </tr>\n",
       "    <tr>\n",
       "      <th>4</th>\n",
       "      <td>106421</td>\n",
       "      <td>Daniil Medvedev</td>\n",
       "      <td>22.885695</td>\n",
       "      <td>20181231</td>\n",
       "    </tr>\n",
       "    <tr>\n",
       "      <th>...</th>\n",
       "      <td>...</td>\n",
       "      <td>...</td>\n",
       "      <td>...</td>\n",
       "      <td>...</td>\n",
       "    </tr>\n",
       "    <tr>\n",
       "      <th>186068</th>\n",
       "      <td>222081</td>\n",
       "      <td>Eleana Yu</td>\n",
       "      <td>16.002738</td>\n",
       "      <td>20201109</td>\n",
       "    </tr>\n",
       "    <tr>\n",
       "      <th>186069</th>\n",
       "      <td>220723</td>\n",
       "      <td>Jessica Livianu</td>\n",
       "      <td>22.713210</td>\n",
       "      <td>20201109</td>\n",
       "    </tr>\n",
       "    <tr>\n",
       "      <th>186070</th>\n",
       "      <td>202478</td>\n",
       "      <td>Tara Moore</td>\n",
       "      <td>28.260096</td>\n",
       "      <td>20201109</td>\n",
       "    </tr>\n",
       "    <tr>\n",
       "      <th>186071</th>\n",
       "      <td>205922</td>\n",
       "      <td>Chanelle Van Nguyen</td>\n",
       "      <td>26.806297</td>\n",
       "      <td>20201109</td>\n",
       "    </tr>\n",
       "    <tr>\n",
       "      <th>186072</th>\n",
       "      <td>223453</td>\n",
       "      <td>Brooklyn Olson</td>\n",
       "      <td>NaN</td>\n",
       "      <td>20201109</td>\n",
       "    </tr>\n",
       "  </tbody>\n",
       "</table>\n",
       "<p>371516 rows × 4 columns</p>\n",
       "</div>"
      ],
      "text/plain": [
       "        player_id          player_name  player_age  tourney_date\n",
       "0          105453        Kei Nishikori   29.004791      20181231\n",
       "1          106421      Daniil Medvedev   22.885695      20181231\n",
       "2          105453        Kei Nishikori   29.004791      20181231\n",
       "3          104542   Jo-Wilfried Tsonga   33.705681      20181231\n",
       "4          106421      Daniil Medvedev   22.885695      20181231\n",
       "...           ...                  ...         ...           ...\n",
       "186068     222081            Eleana Yu   16.002738      20201109\n",
       "186069     220723      Jessica Livianu   22.713210      20201109\n",
       "186070     202478           Tara Moore   28.260096      20201109\n",
       "186071     205922  Chanelle Van Nguyen   26.806297      20201109\n",
       "186072     223453       Brooklyn Olson         NaN      20201109\n",
       "\n",
       "[371516 rows x 4 columns]"
      ]
     },
     "execution_count": 61,
     "metadata": {},
     "output_type": "execute_result"
    }
   ],
   "source": [
    "#unisco i player con i loro valori su age tra quelli in winner e quelli in loser\n",
    "winner=tennis[['winner_id','winner_name','winner_age','tourney_date']]\n",
    "winner=winner.rename(columns={'winner_id': 'player_id','winner_name':'player_name','winner_age':'player_age'})\n",
    "          \n",
    "loser=tennis[['loser_id','loser_name','loser_age','tourney_date']]\n",
    "loser=loser.rename(columns={'loser_id': 'player_id','loser_name':'player_name','loser_age':'player_age'})\n",
    "\n",
    "player=[winner,loser]\n",
    "player = pd.concat(player)\n",
    "\n",
    "player"
   ]
  },
  {
   "cell_type": "code",
   "execution_count": 62,
   "id": "Xo-099mRzQvt",
   "metadata": {
    "colab": {
     "base_uri": "https://localhost:8080/",
     "height": 423
    },
    "executionInfo": {
     "elapsed": 7,
     "status": "ok",
     "timestamp": 1637405619874,
     "user": {
      "displayName": "FEDERICO CANEPUZZI",
      "photoUrl": "https://lh3.googleusercontent.com/a/default-user=s64",
      "userId": "05015019107900810205"
     },
     "user_tz": -60
    },
    "id": "Xo-099mRzQvt",
    "outputId": "f49ca12b-3b6b-4962-efc7-d7855064ed4c"
   },
   "outputs": [
    {
     "data": {
      "text/html": [
       "<div>\n",
       "<style scoped>\n",
       "    .dataframe tbody tr th:only-of-type {\n",
       "        vertical-align: middle;\n",
       "    }\n",
       "\n",
       "    .dataframe tbody tr th {\n",
       "        vertical-align: top;\n",
       "    }\n",
       "\n",
       "    .dataframe thead th {\n",
       "        text-align: right;\n",
       "    }\n",
       "</style>\n",
       "<table border=\"1\" class=\"dataframe\">\n",
       "  <thead>\n",
       "    <tr style=\"text-align: right;\">\n",
       "      <th></th>\n",
       "      <th>player_id</th>\n",
       "      <th>player_name</th>\n",
       "      <th>player_age</th>\n",
       "      <th>tourney_date</th>\n",
       "    </tr>\n",
       "  </thead>\n",
       "  <tbody>\n",
       "    <tr>\n",
       "      <th>0</th>\n",
       "      <td>105453</td>\n",
       "      <td>Kei Nishikori</td>\n",
       "      <td>29.004791</td>\n",
       "      <td>20181231</td>\n",
       "    </tr>\n",
       "    <tr>\n",
       "      <th>1</th>\n",
       "      <td>106421</td>\n",
       "      <td>Daniil Medvedev</td>\n",
       "      <td>22.885695</td>\n",
       "      <td>20181231</td>\n",
       "    </tr>\n",
       "    <tr>\n",
       "      <th>2</th>\n",
       "      <td>105453</td>\n",
       "      <td>Kei Nishikori</td>\n",
       "      <td>29.004791</td>\n",
       "      <td>20181231</td>\n",
       "    </tr>\n",
       "    <tr>\n",
       "      <th>3</th>\n",
       "      <td>104542</td>\n",
       "      <td>Jo-Wilfried Tsonga</td>\n",
       "      <td>33.705681</td>\n",
       "      <td>20181231</td>\n",
       "    </tr>\n",
       "    <tr>\n",
       "      <th>4</th>\n",
       "      <td>106421</td>\n",
       "      <td>Daniil Medvedev</td>\n",
       "      <td>22.885695</td>\n",
       "      <td>20181231</td>\n",
       "    </tr>\n",
       "    <tr>\n",
       "      <th>...</th>\n",
       "      <td>...</td>\n",
       "      <td>...</td>\n",
       "      <td>...</td>\n",
       "      <td>...</td>\n",
       "    </tr>\n",
       "    <tr>\n",
       "      <th>186067</th>\n",
       "      <td>211765</td>\n",
       "      <td>Emina Bektas</td>\n",
       "      <td>27.613963</td>\n",
       "      <td>20201109</td>\n",
       "    </tr>\n",
       "    <tr>\n",
       "      <th>186068</th>\n",
       "      <td>222081</td>\n",
       "      <td>Eleana Yu</td>\n",
       "      <td>16.002738</td>\n",
       "      <td>20201109</td>\n",
       "    </tr>\n",
       "    <tr>\n",
       "      <th>186069</th>\n",
       "      <td>220723</td>\n",
       "      <td>Jessica Livianu</td>\n",
       "      <td>22.713210</td>\n",
       "      <td>20201109</td>\n",
       "    </tr>\n",
       "    <tr>\n",
       "      <th>186070</th>\n",
       "      <td>202478</td>\n",
       "      <td>Tara Moore</td>\n",
       "      <td>28.260096</td>\n",
       "      <td>20201109</td>\n",
       "    </tr>\n",
       "    <tr>\n",
       "      <th>186071</th>\n",
       "      <td>205922</td>\n",
       "      <td>Chanelle Van Nguyen</td>\n",
       "      <td>26.806297</td>\n",
       "      <td>20201109</td>\n",
       "    </tr>\n",
       "  </tbody>\n",
       "</table>\n",
       "<p>362189 rows × 4 columns</p>\n",
       "</div>"
      ],
      "text/plain": [
       "        player_id          player_name  player_age  tourney_date\n",
       "0          105453        Kei Nishikori   29.004791      20181231\n",
       "1          106421      Daniil Medvedev   22.885695      20181231\n",
       "2          105453        Kei Nishikori   29.004791      20181231\n",
       "3          104542   Jo-Wilfried Tsonga   33.705681      20181231\n",
       "4          106421      Daniil Medvedev   22.885695      20181231\n",
       "...           ...                  ...         ...           ...\n",
       "186067     211765         Emina Bektas   27.613963      20201109\n",
       "186068     222081            Eleana Yu   16.002738      20201109\n",
       "186069     220723      Jessica Livianu   22.713210      20201109\n",
       "186070     202478           Tara Moore   28.260096      20201109\n",
       "186071     205922  Chanelle Van Nguyen   26.806297      20201109\n",
       "\n",
       "[362189 rows x 4 columns]"
      ]
     },
     "execution_count": 62,
     "metadata": {},
     "output_type": "execute_result"
    }
   ],
   "source": [
    "#creo una tabella con solo i valori non null\n",
    "senza_NAN=player.dropna()\n",
    "\n",
    "senza_NAN"
   ]
  },
  {
   "cell_type": "code",
   "execution_count": 63,
   "id": "bPfmi0QWzQvt",
   "metadata": {
    "colab": {
     "base_uri": "https://localhost:8080/",
     "height": 423
    },
    "executionInfo": {
     "elapsed": 327,
     "status": "ok",
     "timestamp": 1637405620998,
     "user": {
      "displayName": "FEDERICO CANEPUZZI",
      "photoUrl": "https://lh3.googleusercontent.com/a/default-user=s64",
      "userId": "05015019107900810205"
     },
     "user_tz": -60
    },
    "id": "bPfmi0QWzQvt",
    "outputId": "430e03dc-bcea-4271-e99e-6fc0b46fff75"
   },
   "outputs": [
    {
     "data": {
      "text/html": [
       "<div>\n",
       "<style scoped>\n",
       "    .dataframe tbody tr th:only-of-type {\n",
       "        vertical-align: middle;\n",
       "    }\n",
       "\n",
       "    .dataframe tbody tr th {\n",
       "        vertical-align: top;\n",
       "    }\n",
       "\n",
       "    .dataframe thead th {\n",
       "        text-align: right;\n",
       "    }\n",
       "</style>\n",
       "<table border=\"1\" class=\"dataframe\">\n",
       "  <thead>\n",
       "    <tr style=\"text-align: right;\">\n",
       "      <th></th>\n",
       "      <th>index</th>\n",
       "      <th>player_id</th>\n",
       "      <th>player_name</th>\n",
       "      <th>player_age</th>\n",
       "      <th>tourney_date</th>\n",
       "    </tr>\n",
       "  </thead>\n",
       "  <tbody>\n",
       "    <tr>\n",
       "      <th>0</th>\n",
       "      <td>5890</td>\n",
       "      <td>209188</td>\n",
       "      <td>Ari Fahresi</td>\n",
       "      <td>NaN</td>\n",
       "      <td>20190914</td>\n",
       "    </tr>\n",
       "    <tr>\n",
       "      <th>1</th>\n",
       "      <td>19065</td>\n",
       "      <td>220019</td>\n",
       "      <td>Venia Yeung</td>\n",
       "      <td>NaN</td>\n",
       "      <td>20170724</td>\n",
       "    </tr>\n",
       "    <tr>\n",
       "      <th>2</th>\n",
       "      <td>21732</td>\n",
       "      <td>220257</td>\n",
       "      <td>Nour Dib</td>\n",
       "      <td>NaN</td>\n",
       "      <td>20170925</td>\n",
       "    </tr>\n",
       "    <tr>\n",
       "      <th>3</th>\n",
       "      <td>36444</td>\n",
       "      <td>220246</td>\n",
       "      <td>Daria Lukyanova</td>\n",
       "      <td>NaN</td>\n",
       "      <td>20161212</td>\n",
       "    </tr>\n",
       "    <tr>\n",
       "      <th>4</th>\n",
       "      <td>37538</td>\n",
       "      <td>220247</td>\n",
       "      <td>Shufaa Changawa Ruwa</td>\n",
       "      <td>NaN</td>\n",
       "      <td>20161212</td>\n",
       "    </tr>\n",
       "    <tr>\n",
       "      <th>...</th>\n",
       "      <td>...</td>\n",
       "      <td>...</td>\n",
       "      <td>...</td>\n",
       "      <td>...</td>\n",
       "      <td>...</td>\n",
       "    </tr>\n",
       "    <tr>\n",
       "      <th>9322</th>\n",
       "      <td>185786</td>\n",
       "      <td>222947</td>\n",
       "      <td>Maya Pitts</td>\n",
       "      <td>NaN</td>\n",
       "      <td>20200224</td>\n",
       "    </tr>\n",
       "    <tr>\n",
       "      <th>9323</th>\n",
       "      <td>185940</td>\n",
       "      <td>223451</td>\n",
       "      <td>Chloe Henderson</td>\n",
       "      <td>NaN</td>\n",
       "      <td>20201026</td>\n",
       "    </tr>\n",
       "    <tr>\n",
       "      <th>9324</th>\n",
       "      <td>185999</td>\n",
       "      <td>223452</td>\n",
       "      <td>Emma Charney</td>\n",
       "      <td>NaN</td>\n",
       "      <td>20201102</td>\n",
       "    </tr>\n",
       "    <tr>\n",
       "      <th>9325</th>\n",
       "      <td>186009</td>\n",
       "      <td>223318</td>\n",
       "      <td>Whitley Pate</td>\n",
       "      <td>NaN</td>\n",
       "      <td>20201102</td>\n",
       "    </tr>\n",
       "    <tr>\n",
       "      <th>9326</th>\n",
       "      <td>186072</td>\n",
       "      <td>223453</td>\n",
       "      <td>Brooklyn Olson</td>\n",
       "      <td>NaN</td>\n",
       "      <td>20201109</td>\n",
       "    </tr>\n",
       "  </tbody>\n",
       "</table>\n",
       "<p>9327 rows × 5 columns</p>\n",
       "</div>"
      ],
      "text/plain": [
       "       index  player_id           player_name  player_age  tourney_date\n",
       "0       5890     209188           Ari Fahresi         NaN      20190914\n",
       "1      19065     220019           Venia Yeung         NaN      20170724\n",
       "2      21732     220257              Nour Dib         NaN      20170925\n",
       "3      36444     220246       Daria Lukyanova         NaN      20161212\n",
       "4      37538     220247  Shufaa Changawa Ruwa         NaN      20161212\n",
       "...      ...        ...                   ...         ...           ...\n",
       "9322  185786     222947            Maya Pitts         NaN      20200224\n",
       "9323  185940     223451       Chloe Henderson         NaN      20201026\n",
       "9324  185999     223452          Emma Charney         NaN      20201102\n",
       "9325  186009     223318          Whitley Pate         NaN      20201102\n",
       "9326  186072     223453        Brooklyn Olson         NaN      20201109\n",
       "\n",
       "[9327 rows x 5 columns]"
      ]
     },
     "execution_count": 63,
     "metadata": {},
     "output_type": "execute_result"
    }
   ],
   "source": [
    "#creo una tabella con solo valori null\n",
    "\n",
    "solo_NAN=player[player['player_age'].isna()]\n",
    "#faccio reset dell'index, altrimenti, perchè avendo concatenato 2 dataframe, ho indici doppi\n",
    "solo_NAN=solo_NAN.reset_index()\n",
    "solo_NAN"
   ]
  },
  {
   "cell_type": "code",
   "execution_count": 64,
   "id": "bnEoPSS6zQvu",
   "metadata": {
    "colab": {
     "base_uri": "https://localhost:8080/"
    },
    "executionInfo": {
     "elapsed": 1147,
     "status": "ok",
     "timestamp": 1637405623187,
     "user": {
      "displayName": "FEDERICO CANEPUZZI",
      "photoUrl": "https://lh3.googleusercontent.com/a/default-user=s64",
      "userId": "05015019107900810205"
     },
     "user_tz": -60
    },
    "id": "bnEoPSS6zQvu",
    "outputId": "4d6bde44-475b-4c70-d840-088e8d29f121"
   },
   "outputs": [
    {
     "name": "stdout",
     "output_type": "stream",
     "text": [
      "Sofia Nahiara Garcia ha l eta su altro record\n",
      "Valentina Lia ha l eta su altro record\n",
      "Stanislava Bobrovnikova ha l eta su altro record\n",
      "Fitriani Sabatini ha l eta su altro record\n",
      "Fitriani Sabatini ha l eta su altro record\n",
      "Fitriani Sabatini ha l eta su altro record\n",
      "Fitriani Sabatini ha l eta su altro record\n",
      "Fitriani Sabatini ha l eta su altro record\n",
      "Fitriani Sabatini ha l eta su altro record\n",
      "Nana Kawagishi ha l eta su altro record\n",
      "Nana Kawagishi ha l eta su altro record\n",
      "Nana Kawagishi ha l eta su altro record\n",
      "Nana Kawagishi ha l eta su altro record\n",
      "Nana Kawagishi ha l eta su altro record\n",
      "Nana Kawagishi ha l eta su altro record\n",
      "Stanislava Bobrovnikova ha l eta su altro record\n",
      "Eva Shaw ha l eta su altro record\n",
      "Vanessa Ersoz ha l eta su altro record\n",
      "Stanislava Bobrovnikova ha l eta su altro record\n",
      "Hei Ching Claudia Ng ha l eta su altro record\n",
      "Ekaterina Makarova ha l eta su altro record\n",
      "Giuseppe Tresca ha l eta su altro record\n",
      "Giuseppe Tresca ha l eta su altro record\n",
      "Giuseppe Tresca ha l eta su altro record\n",
      "Guy Stokman ha l eta su altro record\n",
      "Mia Kupres ha l eta su altro record\n",
      "Mia Kupres ha l eta su altro record\n",
      "Mia Kupres ha l eta su altro record\n",
      "Dominika Salkova ha l eta su altro record\n",
      "Holly Fischer ha l eta su altro record\n",
      "Hei Ching Claudia Ng ha l eta su altro record\n",
      "Hei Ching Claudia Ng ha l eta su altro record\n",
      "Sofia Nahiara Garcia ha l eta su altro record\n",
      "Valentina Lia ha l eta su altro record\n",
      "Valentina Lia ha l eta su altro record\n",
      "Stanislava Bobrovnikova ha l eta su altro record\n",
      "Stanislava Bobrovnikova ha l eta su altro record\n",
      "Fitriani Sabatini ha l eta su altro record\n",
      "Fitriani Sabatini ha l eta su altro record\n",
      "Fitriani Sabatini ha l eta su altro record\n",
      "Fitriani Sabatini ha l eta su altro record\n",
      "Fitriani Sabatini ha l eta su altro record\n",
      "Nana Kawagishi ha l eta su altro record\n",
      "Nana Kawagishi ha l eta su altro record\n",
      "Stanislava Bobrovnikova ha l eta su altro record\n",
      "Stanislava Bobrovnikova ha l eta su altro record\n",
      "Eva Shaw ha l eta su altro record\n",
      "Vanessa Ersoz ha l eta su altro record\n",
      "Vanessa Ersoz ha l eta su altro record\n",
      "Vanessa Ersoz ha l eta su altro record\n",
      "Stanislava Bobrovnikova ha l eta su altro record\n",
      "Stanislava Bobrovnikova ha l eta su altro record\n",
      "52\n"
     ]
    }
   ],
   "source": [
    "#creo un set a partire dalla tabella senza null value. Il set contiene i nomi dei giocatori. \n",
    "#In questo modo vado a capire quali sono i player che non presentano mai un valore su age\n",
    "insieme_Player_Age=set(senza_NAN['player_name'])\n",
    "a=0\n",
    "#itero su una lista cosi posso eliminare immediatamente i player che che\n",
    "#si trovano nel set con valori su età\n",
    "for index, row in list(solo_NAN.iterrows()):\n",
    "    if row['player_name'] in insieme_Player_Age:\n",
    "        a=a+1\n",
    "        solo_NAN=solo_NAN.drop([index])\n",
    "        print(row['player_name']+' ha l eta su altro record')\n",
    "print(a)\n"
   ]
  },
  {
   "cell_type": "code",
   "execution_count": null,
   "id": "wGSbtlXAzQvu",
   "metadata": {
    "executionInfo": {
     "elapsed": 6,
     "status": "ok",
     "timestamp": 1637405624270,
     "user": {
      "displayName": "FEDERICO CANEPUZZI",
      "photoUrl": "https://lh3.googleusercontent.com/a/default-user=s64",
      "userId": "05015019107900810205"
     },
     "user_tz": -60
    },
    "id": "wGSbtlXAzQvu"
   },
   "outputs": [],
   "source": []
  },
  {
   "cell_type": "code",
   "execution_count": null,
   "id": "iqVD98SLzQvu",
   "metadata": {
    "executionInfo": {
     "elapsed": 2,
     "status": "ok",
     "timestamp": 1637405624657,
     "user": {
      "displayName": "FEDERICO CANEPUZZI",
      "photoUrl": "https://lh3.googleusercontent.com/a/default-user=s64",
      "userId": "05015019107900810205"
     },
     "user_tz": -60
    },
    "id": "iqVD98SLzQvu"
   },
   "outputs": [],
   "source": []
  },
  {
   "cell_type": "code",
   "execution_count": null,
   "id": "YlVMdA_yzQvu",
   "metadata": {
    "executionInfo": {
     "elapsed": 2,
     "status": "ok",
     "timestamp": 1637405625618,
     "user": {
      "displayName": "FEDERICO CANEPUZZI",
      "photoUrl": "https://lh3.googleusercontent.com/a/default-user=s64",
      "userId": "05015019107900810205"
     },
     "user_tz": -60
    },
    "id": "YlVMdA_yzQvu"
   },
   "outputs": [],
   "source": []
  },
  {
   "cell_type": "code",
   "execution_count": 65,
   "id": "qMmIqimrzQvu",
   "metadata": {
    "colab": {
     "base_uri": "https://localhost:8080/"
    },
    "executionInfo": {
     "elapsed": 5,
     "status": "ok",
     "timestamp": 1637405625969,
     "user": {
      "displayName": "FEDERICO CANEPUZZI",
      "photoUrl": "https://lh3.googleusercontent.com/a/default-user=s64",
      "userId": "05015019107900810205"
     },
     "user_tz": -60
    },
    "id": "qMmIqimrzQvu",
    "outputId": "de6f5486-212c-403a-cd93-33c7818db9bc"
   },
   "outputs": [
    {
     "data": {
      "text/plain": [
       "135277    16.446270\n",
       "135305    16.465435\n",
       "135364    16.522930\n",
       "163295          NaN\n",
       "Name: loser_age, dtype: float64"
      ]
     },
     "execution_count": 65,
     "metadata": {},
     "output_type": "execute_result"
    }
   ],
   "source": [
    "rowsPlayerID=tennis.loc[tennis['loser_name']=='Sofia Nahiara Garcia']\n",
    "rowsPlayerID['loser_age']\n"
   ]
  },
  {
   "cell_type": "code",
   "execution_count": null,
   "id": "zca7FEBIzQvv",
   "metadata": {
    "executionInfo": {
     "elapsed": 3,
     "status": "ok",
     "timestamp": 1637405626740,
     "user": {
      "displayName": "FEDERICO CANEPUZZI",
      "photoUrl": "https://lh3.googleusercontent.com/a/default-user=s64",
      "userId": "05015019107900810205"
     },
     "user_tz": -60
    },
    "id": "zca7FEBIzQvv"
   },
   "outputs": [],
   "source": []
  },
  {
   "cell_type": "code",
   "execution_count": 66,
   "id": "QWQ0X78czQvv",
   "metadata": {
    "colab": {
     "base_uri": "https://localhost:8080/",
     "height": 423
    },
    "executionInfo": {
     "elapsed": 260,
     "status": "ok",
     "timestamp": 1637405627828,
     "user": {
      "displayName": "FEDERICO CANEPUZZI",
      "photoUrl": "https://lh3.googleusercontent.com/a/default-user=s64",
      "userId": "05015019107900810205"
     },
     "user_tz": -60
    },
    "id": "QWQ0X78czQvv",
    "outputId": "0a0b70f6-e409-4323-ca43-328fe5546b0a"
   },
   "outputs": [
    {
     "data": {
      "text/html": [
       "<div>\n",
       "<style scoped>\n",
       "    .dataframe tbody tr th:only-of-type {\n",
       "        vertical-align: middle;\n",
       "    }\n",
       "\n",
       "    .dataframe tbody tr th {\n",
       "        vertical-align: top;\n",
       "    }\n",
       "\n",
       "    .dataframe thead th {\n",
       "        text-align: right;\n",
       "    }\n",
       "</style>\n",
       "<table border=\"1\" class=\"dataframe\">\n",
       "  <thead>\n",
       "    <tr style=\"text-align: right;\">\n",
       "      <th></th>\n",
       "      <th>index</th>\n",
       "      <th>player_id</th>\n",
       "      <th>player_name</th>\n",
       "      <th>player_age</th>\n",
       "      <th>tourney_date</th>\n",
       "    </tr>\n",
       "  </thead>\n",
       "  <tbody>\n",
       "    <tr>\n",
       "      <th>0</th>\n",
       "      <td>5890</td>\n",
       "      <td>209188</td>\n",
       "      <td>Ari Fahresi</td>\n",
       "      <td>NaN</td>\n",
       "      <td>20190914</td>\n",
       "    </tr>\n",
       "    <tr>\n",
       "      <th>1</th>\n",
       "      <td>19065</td>\n",
       "      <td>220019</td>\n",
       "      <td>Venia Yeung</td>\n",
       "      <td>NaN</td>\n",
       "      <td>20170724</td>\n",
       "    </tr>\n",
       "    <tr>\n",
       "      <th>2</th>\n",
       "      <td>21732</td>\n",
       "      <td>220257</td>\n",
       "      <td>Nour Dib</td>\n",
       "      <td>NaN</td>\n",
       "      <td>20170925</td>\n",
       "    </tr>\n",
       "    <tr>\n",
       "      <th>3</th>\n",
       "      <td>36444</td>\n",
       "      <td>220246</td>\n",
       "      <td>Daria Lukyanova</td>\n",
       "      <td>NaN</td>\n",
       "      <td>20161212</td>\n",
       "    </tr>\n",
       "    <tr>\n",
       "      <th>4</th>\n",
       "      <td>37538</td>\n",
       "      <td>220247</td>\n",
       "      <td>Shufaa Changawa Ruwa</td>\n",
       "      <td>NaN</td>\n",
       "      <td>20161212</td>\n",
       "    </tr>\n",
       "    <tr>\n",
       "      <th>...</th>\n",
       "      <td>...</td>\n",
       "      <td>...</td>\n",
       "      <td>...</td>\n",
       "      <td>...</td>\n",
       "      <td>...</td>\n",
       "    </tr>\n",
       "    <tr>\n",
       "      <th>9322</th>\n",
       "      <td>185786</td>\n",
       "      <td>222947</td>\n",
       "      <td>Maya Pitts</td>\n",
       "      <td>NaN</td>\n",
       "      <td>20200224</td>\n",
       "    </tr>\n",
       "    <tr>\n",
       "      <th>9323</th>\n",
       "      <td>185940</td>\n",
       "      <td>223451</td>\n",
       "      <td>Chloe Henderson</td>\n",
       "      <td>NaN</td>\n",
       "      <td>20201026</td>\n",
       "    </tr>\n",
       "    <tr>\n",
       "      <th>9324</th>\n",
       "      <td>185999</td>\n",
       "      <td>223452</td>\n",
       "      <td>Emma Charney</td>\n",
       "      <td>NaN</td>\n",
       "      <td>20201102</td>\n",
       "    </tr>\n",
       "    <tr>\n",
       "      <th>9325</th>\n",
       "      <td>186009</td>\n",
       "      <td>223318</td>\n",
       "      <td>Whitley Pate</td>\n",
       "      <td>NaN</td>\n",
       "      <td>20201102</td>\n",
       "    </tr>\n",
       "    <tr>\n",
       "      <th>9326</th>\n",
       "      <td>186072</td>\n",
       "      <td>223453</td>\n",
       "      <td>Brooklyn Olson</td>\n",
       "      <td>NaN</td>\n",
       "      <td>20201109</td>\n",
       "    </tr>\n",
       "  </tbody>\n",
       "</table>\n",
       "<p>9275 rows × 5 columns</p>\n",
       "</div>"
      ],
      "text/plain": [
       "       index  player_id           player_name  player_age  tourney_date\n",
       "0       5890     209188           Ari Fahresi         NaN      20190914\n",
       "1      19065     220019           Venia Yeung         NaN      20170724\n",
       "2      21732     220257              Nour Dib         NaN      20170925\n",
       "3      36444     220246       Daria Lukyanova         NaN      20161212\n",
       "4      37538     220247  Shufaa Changawa Ruwa         NaN      20161212\n",
       "...      ...        ...                   ...         ...           ...\n",
       "9322  185786     222947            Maya Pitts         NaN      20200224\n",
       "9323  185940     223451       Chloe Henderson         NaN      20201026\n",
       "9324  185999     223452          Emma Charney         NaN      20201102\n",
       "9325  186009     223318          Whitley Pate         NaN      20201102\n",
       "9326  186072     223453        Brooklyn Olson         NaN      20201109\n",
       "\n",
       "[9275 rows x 5 columns]"
      ]
     },
     "execution_count": 66,
     "metadata": {},
     "output_type": "execute_result"
    }
   ],
   "source": [
    "#questi 9265  non hanno mai l'età su nessun record (alcuni si ripetono)\n",
    "solo_NAN"
   ]
  },
  {
   "cell_type": "code",
   "execution_count": 67,
   "id": "JNLgna1EzQvv",
   "metadata": {
    "colab": {
     "base_uri": "https://localhost:8080/"
    },
    "executionInfo": {
     "elapsed": 7,
     "status": "ok",
     "timestamp": 1637405628773,
     "user": {
      "displayName": "FEDERICO CANEPUZZI",
      "photoUrl": "https://lh3.googleusercontent.com/a/default-user=s64",
      "userId": "05015019107900810205"
     },
     "user_tz": -60
    },
    "id": "JNLgna1EzQvv",
    "outputId": "0c861561-bb3e-42de-c71f-30e67def5de4"
   },
   "outputs": [
    {
     "data": {
      "text/plain": [
       "5890   NaN\n",
       "Name: winner_age, dtype: float64"
      ]
     },
     "execution_count": 67,
     "metadata": {},
     "output_type": "execute_result"
    }
   ],
   "source": [
    "rowsPlayerID=tennis.loc[tennis['winner_name']=='Ari Fahresi']\n",
    "rowsPlayerID['winner_age']\n"
   ]
  },
  {
   "cell_type": "markdown",
   "id": "-kPc2UGuzQvw",
   "metadata": {
    "id": "-kPc2UGuzQvw"
   },
   "source": [
    "per riempire i valore null faccio una media dei valori in base al sesso.\n"
   ]
  },
  {
   "cell_type": "code",
   "execution_count": null,
   "id": "PkSzdZ-JzQvw",
   "metadata": {
    "executionInfo": {
     "elapsed": 3,
     "status": "ok",
     "timestamp": 1637405629870,
     "user": {
      "displayName": "FEDERICO CANEPUZZI",
      "photoUrl": "https://lh3.googleusercontent.com/a/default-user=s64",
      "userId": "05015019107900810205"
     },
     "user_tz": -60
    },
    "id": "PkSzdZ-JzQvw"
   },
   "outputs": [],
   "source": []
  },
  {
   "cell_type": "code",
   "execution_count": 68,
   "id": "RpwWcNDhzQvw",
   "metadata": {
    "colab": {
     "base_uri": "https://localhost:8080/",
     "height": 423
    },
    "executionInfo": {
     "elapsed": 8,
     "status": "ok",
     "timestamp": 1637405630997,
     "user": {
      "displayName": "FEDERICO CANEPUZZI",
      "photoUrl": "https://lh3.googleusercontent.com/a/default-user=s64",
      "userId": "05015019107900810205"
     },
     "user_tz": -60
    },
    "id": "RpwWcNDhzQvw",
    "outputId": "f071a444-bf95-46a7-aa35-90b98e008260",
    "scrolled": true
   },
   "outputs": [
    {
     "data": {
      "text/html": [
       "<div>\n",
       "<style scoped>\n",
       "    .dataframe tbody tr th:only-of-type {\n",
       "        vertical-align: middle;\n",
       "    }\n",
       "\n",
       "    .dataframe tbody tr th {\n",
       "        vertical-align: top;\n",
       "    }\n",
       "\n",
       "    .dataframe thead th {\n",
       "        text-align: right;\n",
       "    }\n",
       "</style>\n",
       "<table border=\"1\" class=\"dataframe\">\n",
       "  <thead>\n",
       "    <tr style=\"text-align: right;\">\n",
       "      <th></th>\n",
       "      <th>player_id</th>\n",
       "      <th>player_name</th>\n",
       "      <th>player_age</th>\n",
       "      <th>tourney_date</th>\n",
       "    </tr>\n",
       "  </thead>\n",
       "  <tbody>\n",
       "    <tr>\n",
       "      <th>0</th>\n",
       "      <td>105453</td>\n",
       "      <td>Kei Nishikori</td>\n",
       "      <td>29.004791</td>\n",
       "      <td>20181231</td>\n",
       "    </tr>\n",
       "    <tr>\n",
       "      <th>1</th>\n",
       "      <td>106421</td>\n",
       "      <td>Daniil Medvedev</td>\n",
       "      <td>22.885695</td>\n",
       "      <td>20181231</td>\n",
       "    </tr>\n",
       "    <tr>\n",
       "      <th>3</th>\n",
       "      <td>104542</td>\n",
       "      <td>Jo-Wilfried Tsonga</td>\n",
       "      <td>33.705681</td>\n",
       "      <td>20181231</td>\n",
       "    </tr>\n",
       "    <tr>\n",
       "      <th>5</th>\n",
       "      <td>104871</td>\n",
       "      <td>Jeremy Chardy</td>\n",
       "      <td>31.882272</td>\n",
       "      <td>20181231</td>\n",
       "    </tr>\n",
       "    <tr>\n",
       "      <th>8</th>\n",
       "      <td>200282</td>\n",
       "      <td>Alex De Minaur</td>\n",
       "      <td>19.868583</td>\n",
       "      <td>20181231</td>\n",
       "    </tr>\n",
       "    <tr>\n",
       "      <th>...</th>\n",
       "      <td>...</td>\n",
       "      <td>...</td>\n",
       "      <td>...</td>\n",
       "      <td>...</td>\n",
       "    </tr>\n",
       "    <tr>\n",
       "      <th>182281</th>\n",
       "      <td>214056</td>\n",
       "      <td>Angelica Maria Ochoa Martinez</td>\n",
       "      <td>22.480493</td>\n",
       "      <td>20200309</td>\n",
       "    </tr>\n",
       "    <tr>\n",
       "      <th>182308</th>\n",
       "      <td>206306</td>\n",
       "      <td>Koralie Etienne</td>\n",
       "      <td>23.616701</td>\n",
       "      <td>20200113</td>\n",
       "    </tr>\n",
       "    <tr>\n",
       "      <th>182395</th>\n",
       "      <td>219358</td>\n",
       "      <td>Kelly Southwood</td>\n",
       "      <td>25.853525</td>\n",
       "      <td>20200210</td>\n",
       "    </tr>\n",
       "    <tr>\n",
       "      <th>184405</th>\n",
       "      <td>200712</td>\n",
       "      <td>Katerina Kroupova</td>\n",
       "      <td>46.852841</td>\n",
       "      <td>20201228</td>\n",
       "    </tr>\n",
       "    <tr>\n",
       "      <th>184461</th>\n",
       "      <td>221751</td>\n",
       "      <td>Elena Raffaeta</td>\n",
       "      <td>17.366188</td>\n",
       "      <td>20200106</td>\n",
       "    </tr>\n",
       "  </tbody>\n",
       "</table>\n",
       "<p>8011 rows × 4 columns</p>\n",
       "</div>"
      ],
      "text/plain": [
       "        player_id                    player_name  player_age  tourney_date\n",
       "0          105453                  Kei Nishikori   29.004791      20181231\n",
       "1          106421                Daniil Medvedev   22.885695      20181231\n",
       "3          104542             Jo-Wilfried Tsonga   33.705681      20181231\n",
       "5          104871                  Jeremy Chardy   31.882272      20181231\n",
       "8          200282                 Alex De Minaur   19.868583      20181231\n",
       "...           ...                            ...         ...           ...\n",
       "182281     214056  Angelica Maria Ochoa Martinez   22.480493      20200309\n",
       "182308     206306                Koralie Etienne   23.616701      20200113\n",
       "182395     219358                Kelly Southwood   25.853525      20200210\n",
       "184405     200712              Katerina Kroupova   46.852841      20201228\n",
       "184461     221751                 Elena Raffaeta   17.366188      20200106\n",
       "\n",
       "[8011 rows x 4 columns]"
      ]
     },
     "execution_count": 68,
     "metadata": {},
     "output_type": "execute_result"
    }
   ],
   "source": [
    "senza_NAN=senza_NAN.drop_duplicates(subset=['player_id', 'player_name'])\n",
    "senza_NAN\n"
   ]
  },
  {
   "cell_type": "code",
   "execution_count": 69,
   "id": "asYKPR6IzQvx",
   "metadata": {
    "executionInfo": {
     "elapsed": 1061,
     "status": "ok",
     "timestamp": 1637405632439,
     "user": {
      "displayName": "FEDERICO CANEPUZZI",
      "photoUrl": "https://lh3.googleusercontent.com/a/default-user=s64",
      "userId": "05015019107900810205"
     },
     "user_tz": -60
    },
    "id": "asYKPR6IzQvx"
   },
   "outputs": [],
   "source": [
    "#creo due liste, una con l'età attualizzata al 2021 per gli uomini e una per le donne\n",
    "from datetime import datetime \n",
    "\n",
    "lista_uomini=list()\n",
    "lista_donne=list()\n",
    "\n",
    "#itero per ogni player con almeno un valore di age. Qui ho eliminato i duplicati, tanto mi basta un record di un player\n",
    "#per calcolare l'età attualizzata al 2021\n",
    "for index, row in senza_NAN.iterrows():\n",
    "\n",
    "    annoTorneo = datetime.strptime(str(row['tourney_date']), '%Y%m%d').strftime('%Y')\n",
    "    age=int(row['player_age'])\n",
    "    age_2021= age + (2021- int(annoTorneo))\n",
    "    \n",
    "    if row['player_name'] in male_set:\n",
    "        lista_uomini.append(age_2021)\n",
    "    elif row['player_name'] in female_set:\n",
    "\n",
    "        lista_donne.append(age_2021)\n",
    "\n",
    "    else:\n",
    "        print(row['player_name']+' non ha valore su sex')\n",
    "    \n",
    "    "
   ]
  },
  {
   "cell_type": "code",
   "execution_count": 70,
   "id": "hu5wag_BzQvx",
   "metadata": {
    "colab": {
     "base_uri": "https://localhost:8080/"
    },
    "executionInfo": {
     "elapsed": 6,
     "status": "ok",
     "timestamp": 1637405632440,
     "user": {
      "displayName": "FEDERICO CANEPUZZI",
      "photoUrl": "https://lh3.googleusercontent.com/a/default-user=s64",
      "userId": "05015019107900810205"
     },
     "user_tz": -60
    },
    "id": "hu5wag_BzQvx",
    "outputId": "f0be7ba9-b2e9-4dbb-a14b-89cb2b62940d"
   },
   "outputs": [
    {
     "data": {
      "text/plain": [
       "26"
      ]
     },
     "execution_count": 70,
     "metadata": {},
     "output_type": "execute_result"
    }
   ],
   "source": [
    "media_uomini=int(mean(lista_uomini))\n",
    "media_uomini"
   ]
  },
  {
   "cell_type": "code",
   "execution_count": 71,
   "id": "K8PIyjvXzQvx",
   "metadata": {
    "colab": {
     "base_uri": "https://localhost:8080/"
    },
    "executionInfo": {
     "elapsed": 341,
     "status": "ok",
     "timestamp": 1637405634513,
     "user": {
      "displayName": "FEDERICO CANEPUZZI",
      "photoUrl": "https://lh3.googleusercontent.com/a/default-user=s64",
      "userId": "05015019107900810205"
     },
     "user_tz": -60
    },
    "id": "K8PIyjvXzQvx",
    "outputId": "a4af60c3-658c-455f-9cd6-65ea3469fcee"
   },
   "outputs": [
    {
     "data": {
      "text/plain": [
       "23"
      ]
     },
     "execution_count": 71,
     "metadata": {},
     "output_type": "execute_result"
    }
   ],
   "source": [
    "media_donne=int(mean(lista_donne))\n",
    "media_donne"
   ]
  },
  {
   "cell_type": "code",
   "execution_count": 72,
   "id": "mvuqZuk8zQvy",
   "metadata": {
    "executionInfo": {
     "elapsed": 3,
     "status": "ok",
     "timestamp": 1637405635552,
     "user": {
      "displayName": "FEDERICO CANEPUZZI",
      "photoUrl": "https://lh3.googleusercontent.com/a/default-user=s64",
      "userId": "05015019107900810205"
     },
     "user_tz": -60
    },
    "id": "mvuqZuk8zQvy"
   },
   "outputs": [],
   "source": [
    "\n",
    "#funzione che restituisce age di un player, prendendo come argomenti la data del torneo e \n",
    "#l'età del player nel 2021 ed assumendo che sia nato il 1 gennaio di 'etaAttualizzata' anni fa\n",
    "def calcoloAge(dataTorneo, etaAttualizzata):\n",
    "    \n",
    "    \n",
    "    #restituisce null se la data del torneo o l'età sono valori null\n",
    "    if (dataTorneo=='' or etaAttualizzata==''):\n",
    "        return '?'\n",
    "    \n",
    "    else:\n",
    "        \n",
    "        dataTorneo=str(dataTorneo)\n",
    "\n",
    "\n",
    "        #recupero anno mese e giorno del torneo\n",
    "        annoTorneo = datetime.strptime(dataTorneo, '%Y%m%d').strftime('%Y')\n",
    "        meseTorneo=datetime.strptime(dataTorneo, '%Y%m%d').strftime('%m')\n",
    "        giornoTorneo=datetime.strptime(dataTorneo, '%Y%m%d').strftime('%d')\n",
    "        \n",
    "        #calcolo numero di anni\n",
    "        age_anni=etaAttualizzata-(2021-int(annoTorneo))\n",
    "\n",
    "        #calcolo la differenza in giorni tra il torneo e il compleanno\n",
    "        d0 = date(int(annoTorneo), int(meseTorneo), int(giornoTorneo))\n",
    "        d1 = date(int(annoTorneo), 1, 1)\n",
    "        delta = d0 - d1\n",
    "        giorni=delta.days\n",
    "        #se la differenza in giorni è negativa vuol dire che non ha ancora compiuto gli anni e quindi tolgo un anno da age_anni\n",
    "        if giorni<0:\n",
    "            age_anni=age_anni-1\n",
    "            giorni=-(giorni)\n",
    "        #calcolo la percentuale sui giorni dell'anno\n",
    "        percentuale=giorni/365\n",
    "        \n",
    "        return age_anni+percentuale\n",
    "            \n",
    "            \n"
   ]
  },
  {
   "cell_type": "code",
   "execution_count": 73,
   "id": "h_eeqaHBzQvy",
   "metadata": {
    "colab": {
     "base_uri": "https://localhost:8080/"
    },
    "executionInfo": {
     "elapsed": 6,
     "status": "ok",
     "timestamp": 1637405636552,
     "user": {
      "displayName": "FEDERICO CANEPUZZI",
      "photoUrl": "https://lh3.googleusercontent.com/a/default-user=s64",
      "userId": "05015019107900810205"
     },
     "user_tz": -60
    },
    "id": "h_eeqaHBzQvy",
    "outputId": "5bb8a100-9029-48ef-a677-51be9789d9ec"
   },
   "outputs": [
    {
     "data": {
      "text/plain": [
       "23.997260273972604"
      ]
     },
     "execution_count": 73,
     "metadata": {},
     "output_type": "execute_result"
    }
   ],
   "source": [
    "calcoloAge(20181231,26)"
   ]
  },
  {
   "cell_type": "code",
   "execution_count": 74,
   "id": "v7RrcE-0zQvz",
   "metadata": {
    "colab": {
     "base_uri": "https://localhost:8080/",
     "height": 423
    },
    "executionInfo": {
     "elapsed": 7,
     "status": "ok",
     "timestamp": 1637405637604,
     "user": {
      "displayName": "FEDERICO CANEPUZZI",
      "photoUrl": "https://lh3.googleusercontent.com/a/default-user=s64",
      "userId": "05015019107900810205"
     },
     "user_tz": -60
    },
    "id": "v7RrcE-0zQvz",
    "outputId": "c66a91dd-0f83-4f7f-9287-1a9737a0b289"
   },
   "outputs": [
    {
     "data": {
      "text/html": [
       "<div>\n",
       "<style scoped>\n",
       "    .dataframe tbody tr th:only-of-type {\n",
       "        vertical-align: middle;\n",
       "    }\n",
       "\n",
       "    .dataframe tbody tr th {\n",
       "        vertical-align: top;\n",
       "    }\n",
       "\n",
       "    .dataframe thead th {\n",
       "        text-align: right;\n",
       "    }\n",
       "</style>\n",
       "<table border=\"1\" class=\"dataframe\">\n",
       "  <thead>\n",
       "    <tr style=\"text-align: right;\">\n",
       "      <th></th>\n",
       "      <th>index</th>\n",
       "      <th>player_id</th>\n",
       "      <th>player_name</th>\n",
       "      <th>player_age</th>\n",
       "      <th>tourney_date</th>\n",
       "    </tr>\n",
       "  </thead>\n",
       "  <tbody>\n",
       "    <tr>\n",
       "      <th>0</th>\n",
       "      <td>5890</td>\n",
       "      <td>209188</td>\n",
       "      <td>Ari Fahresi</td>\n",
       "      <td>NaN</td>\n",
       "      <td>20190914</td>\n",
       "    </tr>\n",
       "    <tr>\n",
       "      <th>1</th>\n",
       "      <td>19065</td>\n",
       "      <td>220019</td>\n",
       "      <td>Venia Yeung</td>\n",
       "      <td>NaN</td>\n",
       "      <td>20170724</td>\n",
       "    </tr>\n",
       "    <tr>\n",
       "      <th>2</th>\n",
       "      <td>21732</td>\n",
       "      <td>220257</td>\n",
       "      <td>Nour Dib</td>\n",
       "      <td>NaN</td>\n",
       "      <td>20170925</td>\n",
       "    </tr>\n",
       "    <tr>\n",
       "      <th>3</th>\n",
       "      <td>36444</td>\n",
       "      <td>220246</td>\n",
       "      <td>Daria Lukyanova</td>\n",
       "      <td>NaN</td>\n",
       "      <td>20161212</td>\n",
       "    </tr>\n",
       "    <tr>\n",
       "      <th>4</th>\n",
       "      <td>37538</td>\n",
       "      <td>220247</td>\n",
       "      <td>Shufaa Changawa Ruwa</td>\n",
       "      <td>NaN</td>\n",
       "      <td>20161212</td>\n",
       "    </tr>\n",
       "    <tr>\n",
       "      <th>...</th>\n",
       "      <td>...</td>\n",
       "      <td>...</td>\n",
       "      <td>...</td>\n",
       "      <td>...</td>\n",
       "      <td>...</td>\n",
       "    </tr>\n",
       "    <tr>\n",
       "      <th>9322</th>\n",
       "      <td>185786</td>\n",
       "      <td>222947</td>\n",
       "      <td>Maya Pitts</td>\n",
       "      <td>NaN</td>\n",
       "      <td>20200224</td>\n",
       "    </tr>\n",
       "    <tr>\n",
       "      <th>9323</th>\n",
       "      <td>185940</td>\n",
       "      <td>223451</td>\n",
       "      <td>Chloe Henderson</td>\n",
       "      <td>NaN</td>\n",
       "      <td>20201026</td>\n",
       "    </tr>\n",
       "    <tr>\n",
       "      <th>9324</th>\n",
       "      <td>185999</td>\n",
       "      <td>223452</td>\n",
       "      <td>Emma Charney</td>\n",
       "      <td>NaN</td>\n",
       "      <td>20201102</td>\n",
       "    </tr>\n",
       "    <tr>\n",
       "      <th>9325</th>\n",
       "      <td>186009</td>\n",
       "      <td>223318</td>\n",
       "      <td>Whitley Pate</td>\n",
       "      <td>NaN</td>\n",
       "      <td>20201102</td>\n",
       "    </tr>\n",
       "    <tr>\n",
       "      <th>9326</th>\n",
       "      <td>186072</td>\n",
       "      <td>223453</td>\n",
       "      <td>Brooklyn Olson</td>\n",
       "      <td>NaN</td>\n",
       "      <td>20201109</td>\n",
       "    </tr>\n",
       "  </tbody>\n",
       "</table>\n",
       "<p>9275 rows × 5 columns</p>\n",
       "</div>"
      ],
      "text/plain": [
       "       index  player_id           player_name  player_age  tourney_date\n",
       "0       5890     209188           Ari Fahresi         NaN      20190914\n",
       "1      19065     220019           Venia Yeung         NaN      20170724\n",
       "2      21732     220257              Nour Dib         NaN      20170925\n",
       "3      36444     220246       Daria Lukyanova         NaN      20161212\n",
       "4      37538     220247  Shufaa Changawa Ruwa         NaN      20161212\n",
       "...      ...        ...                   ...         ...           ...\n",
       "9322  185786     222947            Maya Pitts         NaN      20200224\n",
       "9323  185940     223451       Chloe Henderson         NaN      20201026\n",
       "9324  185999     223452          Emma Charney         NaN      20201102\n",
       "9325  186009     223318          Whitley Pate         NaN      20201102\n",
       "9326  186072     223453        Brooklyn Olson         NaN      20201109\n",
       "\n",
       "[9275 rows x 5 columns]"
      ]
     },
     "execution_count": 74,
     "metadata": {},
     "output_type": "execute_result"
    }
   ],
   "source": [
    "solo_NAN"
   ]
  },
  {
   "cell_type": "code",
   "execution_count": 75,
   "id": "o93PnHx7zQvz",
   "metadata": {
    "executionInfo": {
     "elapsed": 2290,
     "status": "ok",
     "timestamp": 1637405640939,
     "user": {
      "displayName": "FEDERICO CANEPUZZI",
      "photoUrl": "https://lh3.googleusercontent.com/a/default-user=s64",
      "userId": "05015019107900810205"
     },
     "user_tz": -60
    },
    "id": "o93PnHx7zQvz"
   },
   "outputs": [],
   "source": [
    "#itero sui player con valori null su age, riempiendo i null value con le medie in base al sesso, tenendo conto dalla data\n",
    "#del torneo\n",
    "\n",
    "for index, row in solo_NAN.iterrows():\n",
    "    \n",
    "    index_row=row['index']\n",
    "    if (tennis.loc[index_row, 'winner_id']==row['player_id']):\n",
    "        if row['player_name'] in male_set:\n",
    "            tennis.at[index_row, 'winner_age'] = calcoloAge(row['tourney_date'],media_uomini)\n",
    "        elif row['player_name'] in female_set:\n",
    "            tennis.at[index_row, 'winner_age'] = calcoloAge(row['tourney_date'],media_donne)\n",
    "        else:\n",
    "            print('errore')\n",
    "       \n",
    "\n",
    "    elif (tennis.loc[index_row, 'loser_id']==row['player_id']):\n",
    "        if row['player_name'] in male_set:\n",
    "            tennis.at[index_row, 'loser_age'] = calcoloAge(row['tourney_date'],media_uomini)\n",
    "        elif row['player_name'] in female_set:\n",
    "            tennis.at[index_row, 'loser_age'] = calcoloAge(row['tourney_date'],media_donne)\n",
    "        else:\n",
    "            print('errore')\n",
    "    else:\n",
    "        print('errore')\n",
    "\n",
    "    \n",
    "\n",
    "       "
   ]
  },
  {
   "cell_type": "code",
   "execution_count": 76,
   "id": "nwAyRXpmzQvz",
   "metadata": {
    "colab": {
     "base_uri": "https://localhost:8080/"
    },
    "executionInfo": {
     "elapsed": 257,
     "status": "ok",
     "timestamp": 1637405644043,
     "user": {
      "displayName": "FEDERICO CANEPUZZI",
      "photoUrl": "https://lh3.googleusercontent.com/a/default-user=s64",
      "userId": "05015019107900810205"
     },
     "user_tz": -60
    },
    "id": "nwAyRXpmzQvz",
    "outputId": "fb7709b7-d7ca-4a38-b78b-753e746d6ea5"
   },
   "outputs": [
    {
     "data": {
      "text/plain": [
       "True"
      ]
     },
     "execution_count": 76,
     "metadata": {},
     "output_type": "execute_result"
    }
   ],
   "source": [
    "tennis.loc[5890, 'winner_id']==209188"
   ]
  },
  {
   "cell_type": "code",
   "execution_count": 77,
   "id": "NQfHJPRpzQv0",
   "metadata": {
    "colab": {
     "base_uri": "https://localhost:8080/"
    },
    "executionInfo": {
     "elapsed": 6,
     "status": "ok",
     "timestamp": 1637405645060,
     "user": {
      "displayName": "FEDERICO CANEPUZZI",
      "photoUrl": "https://lh3.googleusercontent.com/a/default-user=s64",
      "userId": "05015019107900810205"
     },
     "user_tz": -60
    },
    "id": "NQfHJPRpzQv0",
    "outputId": "64687cc2-cc9d-45f4-fef4-3f0dee45d566"
   },
   "outputs": [
    {
     "name": "stdout",
     "output_type": "stream",
     "text": [
      "<class 'pandas.core.frame.DataFrame'>\n",
      "Int64Index: 52 entries, 163278 to 185303\n",
      "Data columns (total 4 columns):\n",
      " #   Column        Non-Null Count  Dtype  \n",
      "---  ------        --------------  -----  \n",
      " 0   player_id     52 non-null     int64  \n",
      " 1   player_name   52 non-null     object \n",
      " 2   player_age    0 non-null      float64\n",
      " 3   tourney_date  52 non-null     int64  \n",
      "dtypes: float64(1), int64(2), object(1)\n",
      "memory usage: 2.0+ KB\n"
     ]
    }
   ],
   "source": [
    "#unisco i player con i loro valori su age tra quelli in winner e quelli in loser\n",
    "winner=tennis[['winner_id','winner_name','winner_age','tourney_date']]\n",
    "winner=winner.rename(columns={'winner_id': 'player_id','winner_name':'player_name','winner_age':'player_age'})\n",
    "          \n",
    "loser=tennis[['loser_id','loser_name','loser_age','tourney_date']]\n",
    "loser=loser.rename(columns={'loser_id': 'player_id','loser_name':'player_name','loser_age':'player_age'})\n",
    "\n",
    "player=[winner,loser]\n",
    "player = pd.concat(player)\n",
    "\n",
    "#creo una tabella con solo valori null\n",
    "tutti_NAN=player[player['player_age'].isna()]\n",
    "\n",
    "tutti_NAN.info()"
   ]
  },
  {
   "cell_type": "code",
   "execution_count": null,
   "id": "cToeIoKq4Bm0",
   "metadata": {
    "executionInfo": {
     "elapsed": 263,
     "status": "ok",
     "timestamp": 1637405654298,
     "user": {
      "displayName": "FEDERICO CANEPUZZI",
      "photoUrl": "https://lh3.googleusercontent.com/a/default-user=s64",
      "userId": "05015019107900810205"
     },
     "user_tz": -60
    },
    "id": "cToeIoKq4Bm0"
   },
   "outputs": [],
   "source": []
  },
  {
   "cell_type": "markdown",
   "id": "uY7bQ0_I4CKP",
   "metadata": {
    "id": "uY7bQ0_I4CKP"
   },
   "source": [
    "Controllo che applicando una funzione che va a calcolare l'anno di nascita del player, tutti i player abbiano un unico anno di nascita"
   ]
  },
  {
   "cell_type": "code",
   "execution_count": 78,
   "id": "XHSaj10xzZUF",
   "metadata": {
    "executionInfo": {
     "elapsed": 284,
     "status": "ok",
     "timestamp": 1637405655995,
     "user": {
      "displayName": "FEDERICO CANEPUZZI",
      "photoUrl": "https://lh3.googleusercontent.com/a/default-user=s64",
      "userId": "05015019107900810205"
     },
     "user_tz": -60
    },
    "id": "XHSaj10xzZUF"
   },
   "outputs": [],
   "source": [
    "#funzione che restituisce l'anno di nascita, prendendo come argomenti la data del torneo e \n",
    "#l'età del player durante il torneo\n",
    "def annoNascita(dataTorneo, etaDuranteTorneo):\n",
    "    \n",
    "    #restituisce null se la data del torneo o l'età sono valori null\n",
    "    if (dataTorneo=='' or etaDuranteTorneo==''):\n",
    "        return '?'\n",
    "    \n",
    "    else:\n",
    "        #recupero anno mese e giorno del torneo\n",
    "        annoTorneo = datetime.strptime(str(dataTorneo), '%Y%m%d').strftime('%Y')\n",
    "        meseTorneo=datetime.strptime(str(dataTorneo), '%Y%m%d').strftime('%m')\n",
    "        giornoTorneo=datetime.strptime(str(dataTorneo), '%Y%m%d').strftime('%d')\n",
    "        \n",
    "        #tolgo la parte decimale dell'età del player. Prima da stringa lo trasformo in float e poi da float in int\n",
    "        anniPlayer=int(float(etaDuranteTorneo))\n",
    "        #recupero solo la parte decimale che è una frazione rispetto ad un anno di 365 giorni\n",
    "        frazioneEtaPlayer=float(etaDuranteTorneo) - anniPlayer\n",
    "        \n",
    "        #moltiplicando la parte decimale per 365 ottengo il numero di giorni tra il compleanno e la data del torneo\n",
    "        giorniTraCompleannoTorneo=int(frazioneEtaPlayer*365)\n",
    "        \n",
    "        #trasformo in formato date la data del torneo cosi da recuperare poi la data di nascita del player\n",
    "        dateTorneo=date(int(annoTorneo), int(meseTorneo), int(giornoTorneo)) \n",
    "        #recupero la data di nascita utilizzando la funzione timedelta. Vado a sottarre dalla data del \n",
    "        #torneo i giorni che separano il compleanno dal torneo. Avere la data di nascita è importante per altrimenti\n",
    "        #togliendo dalla data del torneo solo gli anni rischio di perdermi un anno se tra il compleanno e la data\n",
    "        #del torneo c'è di mezzo capodanno. In questo caso il risultato è il giorno ed il mese di nascita del player,\n",
    "        #ma non ancora l'anno; devo togliere l'età, senza decimali, del player ad inizio torneo\n",
    "        dateBirthday=dateTorneo - timedelta(days=(giorniTraCompleannoTorneo) )\n",
    "        \n",
    "        #dalla data di nascita del player recupero solo l'anno\n",
    "        result = dateBirthday.strftime(\"%Y\")\n",
    "        #tolgo dall'anno il valore intero dell'età del player\n",
    "        result=int(result) -anniPlayer\n",
    "        \n",
    "        return result"
   ]
  },
  {
   "cell_type": "code",
   "execution_count": 79,
   "id": "2gghZ9tZzZkv",
   "metadata": {
    "executionInfo": {
     "elapsed": 52238,
     "status": "ok",
     "timestamp": 1637405709160,
     "user": {
      "displayName": "FEDERICO CANEPUZZI",
      "photoUrl": "https://lh3.googleusercontent.com/a/default-user=s64",
      "userId": "05015019107900810205"
     },
     "user_tz": -60
    },
    "id": "2gghZ9tZzZkv"
   },
   "outputs": [],
   "source": [
    "#per ogni record di tennis vado ad aggiungere 2 colonne con l'anno di nascita del winner e del loser\n",
    "#il calcolo sfrutta la funzione annoNascita\n",
    "for index, row in tennis.iterrows():\n",
    "    \n",
    "    colonne=['winner','loser']\n",
    "    for col in colonne:\n",
    "        if pd.isna(row[col+'_age']):\n",
    "            tennis.at[index, col+'_data_nascita'] = np.nan\n",
    "        \n",
    "        else:\n",
    "            tennis.at[index, col+'_data_nascita'] = annoNascita(row['tourney_date'],row[col+'_age'])\n"
   ]
  },
  {
   "cell_type": "code",
   "execution_count": 80,
   "id": "Ys_UanzazZvW",
   "metadata": {
    "colab": {
     "base_uri": "https://localhost:8080/",
     "height": 721
    },
    "executionInfo": {
     "elapsed": 276,
     "status": "ok",
     "timestamp": 1637405725960,
     "user": {
      "displayName": "FEDERICO CANEPUZZI",
      "photoUrl": "https://lh3.googleusercontent.com/a/default-user=s64",
      "userId": "05015019107900810205"
     },
     "user_tz": -60
    },
    "id": "Ys_UanzazZvW",
    "outputId": "b111e9c4-a418-4b45-cea9-a036f0704bc5"
   },
   "outputs": [
    {
     "data": {
      "text/html": [
       "<div>\n",
       "<style scoped>\n",
       "    .dataframe tbody tr th:only-of-type {\n",
       "        vertical-align: middle;\n",
       "    }\n",
       "\n",
       "    .dataframe tbody tr th {\n",
       "        vertical-align: top;\n",
       "    }\n",
       "\n",
       "    .dataframe thead th {\n",
       "        text-align: right;\n",
       "    }\n",
       "</style>\n",
       "<table border=\"1\" class=\"dataframe\">\n",
       "  <thead>\n",
       "    <tr style=\"text-align: right;\">\n",
       "      <th></th>\n",
       "      <th>tourney_id</th>\n",
       "      <th>tourney_name</th>\n",
       "      <th>surface</th>\n",
       "      <th>draw_size</th>\n",
       "      <th>tourney_level</th>\n",
       "      <th>tourney_date</th>\n",
       "      <th>match_num</th>\n",
       "      <th>winner_id</th>\n",
       "      <th>winner_name</th>\n",
       "      <th>winner_hand</th>\n",
       "      <th>winner_ht</th>\n",
       "      <th>winner_ioc</th>\n",
       "      <th>winner_age</th>\n",
       "      <th>loser_id</th>\n",
       "      <th>loser_name</th>\n",
       "      <th>loser_hand</th>\n",
       "      <th>loser_ht</th>\n",
       "      <th>loser_ioc</th>\n",
       "      <th>loser_age</th>\n",
       "      <th>score</th>\n",
       "      <th>best_of</th>\n",
       "      <th>round</th>\n",
       "      <th>minutes</th>\n",
       "      <th>w_ace</th>\n",
       "      <th>w_df</th>\n",
       "      <th>w_svpt</th>\n",
       "      <th>w_1stIn</th>\n",
       "      <th>w_1stWon</th>\n",
       "      <th>w_2ndWon</th>\n",
       "      <th>w_SvGms</th>\n",
       "      <th>w_bpSaved</th>\n",
       "      <th>w_bpFaced</th>\n",
       "      <th>l_ace</th>\n",
       "      <th>l_df</th>\n",
       "      <th>l_svpt</th>\n",
       "      <th>l_1stIn</th>\n",
       "      <th>l_1stWon</th>\n",
       "      <th>l_2ndWon</th>\n",
       "      <th>l_SvGms</th>\n",
       "      <th>l_bpSaved</th>\n",
       "      <th>l_bpFaced</th>\n",
       "      <th>winner_rank</th>\n",
       "      <th>winner_rank_points</th>\n",
       "      <th>loser_rank</th>\n",
       "      <th>loser_rank_points</th>\n",
       "      <th>tourney_spectators</th>\n",
       "      <th>tourney_revenue</th>\n",
       "      <th>winner_data_nascita</th>\n",
       "      <th>loser_data_nascita</th>\n",
       "    </tr>\n",
       "  </thead>\n",
       "  <tbody>\n",
       "    <tr>\n",
       "      <th>0</th>\n",
       "      <td>2019-M020</td>\n",
       "      <td>Brisbane</td>\n",
       "      <td>Hard</td>\n",
       "      <td>32</td>\n",
       "      <td>A</td>\n",
       "      <td>20181231</td>\n",
       "      <td>300</td>\n",
       "      <td>105453</td>\n",
       "      <td>Kei Nishikori</td>\n",
       "      <td>R</td>\n",
       "      <td>178.0</td>\n",
       "      <td>JPN</td>\n",
       "      <td>29.004791</td>\n",
       "      <td>106421</td>\n",
       "      <td>Daniil Medvedev</td>\n",
       "      <td>R</td>\n",
       "      <td>198.0</td>\n",
       "      <td>RUS</td>\n",
       "      <td>22.885695</td>\n",
       "      <td>6-4 3-6 6-2</td>\n",
       "      <td>3</td>\n",
       "      <td>F</td>\n",
       "      <td>124.0</td>\n",
       "      <td>3.0</td>\n",
       "      <td>3.0</td>\n",
       "      <td>77.0</td>\n",
       "      <td>44.0</td>\n",
       "      <td>31.0</td>\n",
       "      <td>17.0</td>\n",
       "      <td>13.0</td>\n",
       "      <td>3.0</td>\n",
       "      <td>6.0</td>\n",
       "      <td>8.0</td>\n",
       "      <td>6.0</td>\n",
       "      <td>100.0</td>\n",
       "      <td>54.0</td>\n",
       "      <td>34.0</td>\n",
       "      <td>20.0</td>\n",
       "      <td>14.0</td>\n",
       "      <td>10.0</td>\n",
       "      <td>15.0</td>\n",
       "      <td>9.0</td>\n",
       "      <td>3590.0</td>\n",
       "      <td>16.0</td>\n",
       "      <td>1977.0</td>\n",
       "      <td>3928</td>\n",
       "      <td>742618.69</td>\n",
       "      <td>1989.0</td>\n",
       "      <td>1996.0</td>\n",
       "    </tr>\n",
       "    <tr>\n",
       "      <th>1</th>\n",
       "      <td>2019-M020</td>\n",
       "      <td>Brisbane</td>\n",
       "      <td>Hard</td>\n",
       "      <td>32</td>\n",
       "      <td>A</td>\n",
       "      <td>20181231</td>\n",
       "      <td>299</td>\n",
       "      <td>106421</td>\n",
       "      <td>Daniil Medvedev</td>\n",
       "      <td>R</td>\n",
       "      <td>198.0</td>\n",
       "      <td>RUS</td>\n",
       "      <td>22.885695</td>\n",
       "      <td>104542</td>\n",
       "      <td>Jo-Wilfried Tsonga</td>\n",
       "      <td>R</td>\n",
       "      <td>188.0</td>\n",
       "      <td>FRA</td>\n",
       "      <td>33.705681</td>\n",
       "      <td>7-6(6) 6-2</td>\n",
       "      <td>3</td>\n",
       "      <td>SF</td>\n",
       "      <td>82.0</td>\n",
       "      <td>10.0</td>\n",
       "      <td>1.0</td>\n",
       "      <td>52.0</td>\n",
       "      <td>33.0</td>\n",
       "      <td>28.0</td>\n",
       "      <td>14.0</td>\n",
       "      <td>10.0</td>\n",
       "      <td>0.0</td>\n",
       "      <td>1.0</td>\n",
       "      <td>17.0</td>\n",
       "      <td>2.0</td>\n",
       "      <td>77.0</td>\n",
       "      <td>52.0</td>\n",
       "      <td>36.0</td>\n",
       "      <td>7.0</td>\n",
       "      <td>10.0</td>\n",
       "      <td>10.0</td>\n",
       "      <td>13.0</td>\n",
       "      <td>16.0</td>\n",
       "      <td>1977.0</td>\n",
       "      <td>239.0</td>\n",
       "      <td>200.0</td>\n",
       "      <td>3928</td>\n",
       "      <td>742618.69</td>\n",
       "      <td>1996.0</td>\n",
       "      <td>1985.0</td>\n",
       "    </tr>\n",
       "    <tr>\n",
       "      <th>2</th>\n",
       "      <td>2019-M020</td>\n",
       "      <td>Brisbane</td>\n",
       "      <td>Hard</td>\n",
       "      <td>32</td>\n",
       "      <td>A</td>\n",
       "      <td>20181231</td>\n",
       "      <td>298</td>\n",
       "      <td>105453</td>\n",
       "      <td>Kei Nishikori</td>\n",
       "      <td>R</td>\n",
       "      <td>178.0</td>\n",
       "      <td>JPN</td>\n",
       "      <td>29.004791</td>\n",
       "      <td>104871</td>\n",
       "      <td>Jeremy Chardy</td>\n",
       "      <td>R</td>\n",
       "      <td>188.0</td>\n",
       "      <td>FRA</td>\n",
       "      <td>31.882272</td>\n",
       "      <td>6-2 6-2</td>\n",
       "      <td>3</td>\n",
       "      <td>SF</td>\n",
       "      <td>66.0</td>\n",
       "      <td>2.0</td>\n",
       "      <td>2.0</td>\n",
       "      <td>47.0</td>\n",
       "      <td>33.0</td>\n",
       "      <td>26.0</td>\n",
       "      <td>9.0</td>\n",
       "      <td>8.0</td>\n",
       "      <td>2.0</td>\n",
       "      <td>2.0</td>\n",
       "      <td>10.0</td>\n",
       "      <td>3.0</td>\n",
       "      <td>46.0</td>\n",
       "      <td>27.0</td>\n",
       "      <td>15.0</td>\n",
       "      <td>6.0</td>\n",
       "      <td>8.0</td>\n",
       "      <td>1.0</td>\n",
       "      <td>5.0</td>\n",
       "      <td>9.0</td>\n",
       "      <td>3590.0</td>\n",
       "      <td>40.0</td>\n",
       "      <td>1050.0</td>\n",
       "      <td>3928</td>\n",
       "      <td>742618.69</td>\n",
       "      <td>1989.0</td>\n",
       "      <td>1987.0</td>\n",
       "    </tr>\n",
       "    <tr>\n",
       "      <th>3</th>\n",
       "      <td>2019-M020</td>\n",
       "      <td>Brisbane</td>\n",
       "      <td>Hard</td>\n",
       "      <td>32</td>\n",
       "      <td>A</td>\n",
       "      <td>20181231</td>\n",
       "      <td>297</td>\n",
       "      <td>104542</td>\n",
       "      <td>Jo-Wilfried Tsonga</td>\n",
       "      <td>R</td>\n",
       "      <td>188.0</td>\n",
       "      <td>FRA</td>\n",
       "      <td>33.705681</td>\n",
       "      <td>200282</td>\n",
       "      <td>Alex De Minaur</td>\n",
       "      <td>R</td>\n",
       "      <td>183.0</td>\n",
       "      <td>AUS</td>\n",
       "      <td>19.868583</td>\n",
       "      <td>6-4 7-6(2)</td>\n",
       "      <td>3</td>\n",
       "      <td>QF</td>\n",
       "      <td>106.0</td>\n",
       "      <td>12.0</td>\n",
       "      <td>2.0</td>\n",
       "      <td>68.0</td>\n",
       "      <td>43.0</td>\n",
       "      <td>34.0</td>\n",
       "      <td>15.0</td>\n",
       "      <td>11.0</td>\n",
       "      <td>4.0</td>\n",
       "      <td>5.0</td>\n",
       "      <td>1.0</td>\n",
       "      <td>2.0</td>\n",
       "      <td>81.0</td>\n",
       "      <td>60.0</td>\n",
       "      <td>38.0</td>\n",
       "      <td>9.0</td>\n",
       "      <td>11.0</td>\n",
       "      <td>4.0</td>\n",
       "      <td>6.0</td>\n",
       "      <td>239.0</td>\n",
       "      <td>200.0</td>\n",
       "      <td>31.0</td>\n",
       "      <td>1298.0</td>\n",
       "      <td>3928</td>\n",
       "      <td>742618.69</td>\n",
       "      <td>1985.0</td>\n",
       "      <td>1999.0</td>\n",
       "    </tr>\n",
       "    <tr>\n",
       "      <th>4</th>\n",
       "      <td>2019-M020</td>\n",
       "      <td>Brisbane</td>\n",
       "      <td>Hard</td>\n",
       "      <td>32</td>\n",
       "      <td>A</td>\n",
       "      <td>20181231</td>\n",
       "      <td>296</td>\n",
       "      <td>106421</td>\n",
       "      <td>Daniil Medvedev</td>\n",
       "      <td>R</td>\n",
       "      <td>198.0</td>\n",
       "      <td>RUS</td>\n",
       "      <td>22.885695</td>\n",
       "      <td>105683</td>\n",
       "      <td>Milos Raonic</td>\n",
       "      <td>R</td>\n",
       "      <td>196.0</td>\n",
       "      <td>CAN</td>\n",
       "      <td>28.010951</td>\n",
       "      <td>6-7(2) 6-3 6-4</td>\n",
       "      <td>3</td>\n",
       "      <td>QF</td>\n",
       "      <td>129.0</td>\n",
       "      <td>12.0</td>\n",
       "      <td>3.0</td>\n",
       "      <td>105.0</td>\n",
       "      <td>68.0</td>\n",
       "      <td>48.0</td>\n",
       "      <td>25.0</td>\n",
       "      <td>16.0</td>\n",
       "      <td>8.0</td>\n",
       "      <td>8.0</td>\n",
       "      <td>29.0</td>\n",
       "      <td>5.0</td>\n",
       "      <td>94.0</td>\n",
       "      <td>56.0</td>\n",
       "      <td>46.0</td>\n",
       "      <td>19.0</td>\n",
       "      <td>15.0</td>\n",
       "      <td>2.0</td>\n",
       "      <td>4.0</td>\n",
       "      <td>16.0</td>\n",
       "      <td>1977.0</td>\n",
       "      <td>18.0</td>\n",
       "      <td>1855.0</td>\n",
       "      <td>3928</td>\n",
       "      <td>742618.69</td>\n",
       "      <td>1996.0</td>\n",
       "      <td>1990.0</td>\n",
       "    </tr>\n",
       "    <tr>\n",
       "      <th>...</th>\n",
       "      <td>...</td>\n",
       "      <td>...</td>\n",
       "      <td>...</td>\n",
       "      <td>...</td>\n",
       "      <td>...</td>\n",
       "      <td>...</td>\n",
       "      <td>...</td>\n",
       "      <td>...</td>\n",
       "      <td>...</td>\n",
       "      <td>...</td>\n",
       "      <td>...</td>\n",
       "      <td>...</td>\n",
       "      <td>...</td>\n",
       "      <td>...</td>\n",
       "      <td>...</td>\n",
       "      <td>...</td>\n",
       "      <td>...</td>\n",
       "      <td>...</td>\n",
       "      <td>...</td>\n",
       "      <td>...</td>\n",
       "      <td>...</td>\n",
       "      <td>...</td>\n",
       "      <td>...</td>\n",
       "      <td>...</td>\n",
       "      <td>...</td>\n",
       "      <td>...</td>\n",
       "      <td>...</td>\n",
       "      <td>...</td>\n",
       "      <td>...</td>\n",
       "      <td>...</td>\n",
       "      <td>...</td>\n",
       "      <td>...</td>\n",
       "      <td>...</td>\n",
       "      <td>...</td>\n",
       "      <td>...</td>\n",
       "      <td>...</td>\n",
       "      <td>...</td>\n",
       "      <td>...</td>\n",
       "      <td>...</td>\n",
       "      <td>...</td>\n",
       "      <td>...</td>\n",
       "      <td>...</td>\n",
       "      <td>...</td>\n",
       "      <td>...</td>\n",
       "      <td>...</td>\n",
       "      <td>...</td>\n",
       "      <td>...</td>\n",
       "      <td>...</td>\n",
       "      <td>...</td>\n",
       "    </tr>\n",
       "    <tr>\n",
       "      <th>186068</th>\n",
       "      <td>2020-W-ITF-USA-48A-2020</td>\n",
       "      <td>W25 Orlando FL</td>\n",
       "      <td>Hard</td>\n",
       "      <td>32</td>\n",
       "      <td>25</td>\n",
       "      <td>20201109</td>\n",
       "      <td>204</td>\n",
       "      <td>215794</td>\n",
       "      <td>Hurricane Tyra Black</td>\n",
       "      <td>R</td>\n",
       "      <td>172.0</td>\n",
       "      <td>USA</td>\n",
       "      <td>19.690623</td>\n",
       "      <td>222081</td>\n",
       "      <td>Eleana Yu</td>\n",
       "      <td>R</td>\n",
       "      <td>172.0</td>\n",
       "      <td>USA</td>\n",
       "      <td>16.002738</td>\n",
       "      <td>7-6(1) 6-1</td>\n",
       "      <td>3</td>\n",
       "      <td>Q2</td>\n",
       "      <td>NaN</td>\n",
       "      <td>NaN</td>\n",
       "      <td>NaN</td>\n",
       "      <td>NaN</td>\n",
       "      <td>NaN</td>\n",
       "      <td>NaN</td>\n",
       "      <td>NaN</td>\n",
       "      <td>NaN</td>\n",
       "      <td>NaN</td>\n",
       "      <td>NaN</td>\n",
       "      <td>NaN</td>\n",
       "      <td>NaN</td>\n",
       "      <td>NaN</td>\n",
       "      <td>NaN</td>\n",
       "      <td>NaN</td>\n",
       "      <td>NaN</td>\n",
       "      <td>NaN</td>\n",
       "      <td>NaN</td>\n",
       "      <td>NaN</td>\n",
       "      <td>598.0</td>\n",
       "      <td>57.0</td>\n",
       "      <td>1216.0</td>\n",
       "      <td>6.0</td>\n",
       "      <td>2312</td>\n",
       "      <td>471620.95</td>\n",
       "      <td>2001.0</td>\n",
       "      <td>2004.0</td>\n",
       "    </tr>\n",
       "    <tr>\n",
       "      <th>186069</th>\n",
       "      <td>2020-W-ITF-USA-48A-2020</td>\n",
       "      <td>W25 Orlando FL</td>\n",
       "      <td>Hard</td>\n",
       "      <td>32</td>\n",
       "      <td>25</td>\n",
       "      <td>20201109</td>\n",
       "      <td>205</td>\n",
       "      <td>210754</td>\n",
       "      <td>Vivian Heisen</td>\n",
       "      <td>U</td>\n",
       "      <td>172.0</td>\n",
       "      <td>GER</td>\n",
       "      <td>26.869268</td>\n",
       "      <td>220723</td>\n",
       "      <td>Jessica Livianu</td>\n",
       "      <td>R</td>\n",
       "      <td>172.0</td>\n",
       "      <td>USA</td>\n",
       "      <td>22.713210</td>\n",
       "      <td>2-6 6-2 10-3</td>\n",
       "      <td>3</td>\n",
       "      <td>Q2</td>\n",
       "      <td>NaN</td>\n",
       "      <td>NaN</td>\n",
       "      <td>NaN</td>\n",
       "      <td>NaN</td>\n",
       "      <td>NaN</td>\n",
       "      <td>NaN</td>\n",
       "      <td>NaN</td>\n",
       "      <td>NaN</td>\n",
       "      <td>NaN</td>\n",
       "      <td>NaN</td>\n",
       "      <td>NaN</td>\n",
       "      <td>NaN</td>\n",
       "      <td>NaN</td>\n",
       "      <td>NaN</td>\n",
       "      <td>NaN</td>\n",
       "      <td>NaN</td>\n",
       "      <td>NaN</td>\n",
       "      <td>NaN</td>\n",
       "      <td>NaN</td>\n",
       "      <td>429.0</td>\n",
       "      <td>102.0</td>\n",
       "      <td>729.0</td>\n",
       "      <td>35.0</td>\n",
       "      <td>2312</td>\n",
       "      <td>471620.95</td>\n",
       "      <td>1993.0</td>\n",
       "      <td>1998.0</td>\n",
       "    </tr>\n",
       "    <tr>\n",
       "      <th>186070</th>\n",
       "      <td>2020-W-ITF-USA-48A-2020</td>\n",
       "      <td>W25 Orlando FL</td>\n",
       "      <td>Hard</td>\n",
       "      <td>32</td>\n",
       "      <td>25</td>\n",
       "      <td>20201109</td>\n",
       "      <td>206</td>\n",
       "      <td>211874</td>\n",
       "      <td>Victoria Rodriguez</td>\n",
       "      <td>U</td>\n",
       "      <td>172.0</td>\n",
       "      <td>MEX</td>\n",
       "      <td>25.552361</td>\n",
       "      <td>202478</td>\n",
       "      <td>Tara Moore</td>\n",
       "      <td>R</td>\n",
       "      <td>172.0</td>\n",
       "      <td>GBR</td>\n",
       "      <td>28.260096</td>\n",
       "      <td>6-2 7-6(8)</td>\n",
       "      <td>3</td>\n",
       "      <td>Q2</td>\n",
       "      <td>NaN</td>\n",
       "      <td>NaN</td>\n",
       "      <td>NaN</td>\n",
       "      <td>NaN</td>\n",
       "      <td>NaN</td>\n",
       "      <td>NaN</td>\n",
       "      <td>NaN</td>\n",
       "      <td>NaN</td>\n",
       "      <td>NaN</td>\n",
       "      <td>NaN</td>\n",
       "      <td>NaN</td>\n",
       "      <td>NaN</td>\n",
       "      <td>NaN</td>\n",
       "      <td>NaN</td>\n",
       "      <td>NaN</td>\n",
       "      <td>NaN</td>\n",
       "      <td>NaN</td>\n",
       "      <td>NaN</td>\n",
       "      <td>NaN</td>\n",
       "      <td>643.0</td>\n",
       "      <td>48.0</td>\n",
       "      <td>454.0</td>\n",
       "      <td>93.0</td>\n",
       "      <td>2312</td>\n",
       "      <td>471620.95</td>\n",
       "      <td>1995.0</td>\n",
       "      <td>1992.0</td>\n",
       "    </tr>\n",
       "    <tr>\n",
       "      <th>186071</th>\n",
       "      <td>2020-W-ITF-USA-48A-2020</td>\n",
       "      <td>W25 Orlando FL</td>\n",
       "      <td>Hard</td>\n",
       "      <td>32</td>\n",
       "      <td>25</td>\n",
       "      <td>20201109</td>\n",
       "      <td>207</td>\n",
       "      <td>213789</td>\n",
       "      <td>Katarina Jokic</td>\n",
       "      <td>U</td>\n",
       "      <td>172.0</td>\n",
       "      <td>BIH</td>\n",
       "      <td>22.559890</td>\n",
       "      <td>205922</td>\n",
       "      <td>Chanelle Van Nguyen</td>\n",
       "      <td>U</td>\n",
       "      <td>172.0</td>\n",
       "      <td>USA</td>\n",
       "      <td>26.806297</td>\n",
       "      <td>6-4 6-2</td>\n",
       "      <td>3</td>\n",
       "      <td>Q2</td>\n",
       "      <td>NaN</td>\n",
       "      <td>NaN</td>\n",
       "      <td>NaN</td>\n",
       "      <td>NaN</td>\n",
       "      <td>NaN</td>\n",
       "      <td>NaN</td>\n",
       "      <td>NaN</td>\n",
       "      <td>NaN</td>\n",
       "      <td>NaN</td>\n",
       "      <td>NaN</td>\n",
       "      <td>NaN</td>\n",
       "      <td>NaN</td>\n",
       "      <td>NaN</td>\n",
       "      <td>NaN</td>\n",
       "      <td>NaN</td>\n",
       "      <td>NaN</td>\n",
       "      <td>NaN</td>\n",
       "      <td>NaN</td>\n",
       "      <td>NaN</td>\n",
       "      <td>923.0</td>\n",
       "      <td>17.0</td>\n",
       "      <td>627.0</td>\n",
       "      <td>51.0</td>\n",
       "      <td>2312</td>\n",
       "      <td>471620.95</td>\n",
       "      <td>1998.0</td>\n",
       "      <td>1994.0</td>\n",
       "    </tr>\n",
       "    <tr>\n",
       "      <th>186072</th>\n",
       "      <td>2020-W-ITF-USA-48A-2020</td>\n",
       "      <td>W25 Orlando FL</td>\n",
       "      <td>Hard</td>\n",
       "      <td>32</td>\n",
       "      <td>25</td>\n",
       "      <td>20201109</td>\n",
       "      <td>208</td>\n",
       "      <td>215306</td>\n",
       "      <td>Emiliana Arango</td>\n",
       "      <td>R</td>\n",
       "      <td>172.0</td>\n",
       "      <td>COL</td>\n",
       "      <td>19.947981</td>\n",
       "      <td>223453</td>\n",
       "      <td>Brooklyn Olson</td>\n",
       "      <td>U</td>\n",
       "      <td>172.0</td>\n",
       "      <td>USA</td>\n",
       "      <td>22.857534</td>\n",
       "      <td>6-1 6-2</td>\n",
       "      <td>3</td>\n",
       "      <td>Q2</td>\n",
       "      <td>NaN</td>\n",
       "      <td>NaN</td>\n",
       "      <td>NaN</td>\n",
       "      <td>NaN</td>\n",
       "      <td>NaN</td>\n",
       "      <td>NaN</td>\n",
       "      <td>NaN</td>\n",
       "      <td>NaN</td>\n",
       "      <td>NaN</td>\n",
       "      <td>NaN</td>\n",
       "      <td>NaN</td>\n",
       "      <td>NaN</td>\n",
       "      <td>NaN</td>\n",
       "      <td>NaN</td>\n",
       "      <td>NaN</td>\n",
       "      <td>NaN</td>\n",
       "      <td>NaN</td>\n",
       "      <td>NaN</td>\n",
       "      <td>NaN</td>\n",
       "      <td>493.0</td>\n",
       "      <td>83.0</td>\n",
       "      <td>NaN</td>\n",
       "      <td>NaN</td>\n",
       "      <td>2312</td>\n",
       "      <td>471620.95</td>\n",
       "      <td>2000.0</td>\n",
       "      <td>1998.0</td>\n",
       "    </tr>\n",
       "  </tbody>\n",
       "</table>\n",
       "<p>185758 rows × 49 columns</p>\n",
       "</div>"
      ],
      "text/plain": [
       "                     tourney_id    tourney_name surface  draw_size  \\\n",
       "0                     2019-M020        Brisbane    Hard         32   \n",
       "1                     2019-M020        Brisbane    Hard         32   \n",
       "2                     2019-M020        Brisbane    Hard         32   \n",
       "3                     2019-M020        Brisbane    Hard         32   \n",
       "4                     2019-M020        Brisbane    Hard         32   \n",
       "...                         ...             ...     ...        ...   \n",
       "186068  2020-W-ITF-USA-48A-2020  W25 Orlando FL    Hard         32   \n",
       "186069  2020-W-ITF-USA-48A-2020  W25 Orlando FL    Hard         32   \n",
       "186070  2020-W-ITF-USA-48A-2020  W25 Orlando FL    Hard         32   \n",
       "186071  2020-W-ITF-USA-48A-2020  W25 Orlando FL    Hard         32   \n",
       "186072  2020-W-ITF-USA-48A-2020  W25 Orlando FL    Hard         32   \n",
       "\n",
       "       tourney_level  tourney_date  match_num  winner_id  \\\n",
       "0                  A      20181231        300     105453   \n",
       "1                  A      20181231        299     106421   \n",
       "2                  A      20181231        298     105453   \n",
       "3                  A      20181231        297     104542   \n",
       "4                  A      20181231        296     106421   \n",
       "...              ...           ...        ...        ...   \n",
       "186068            25      20201109        204     215794   \n",
       "186069            25      20201109        205     210754   \n",
       "186070            25      20201109        206     211874   \n",
       "186071            25      20201109        207     213789   \n",
       "186072            25      20201109        208     215306   \n",
       "\n",
       "                 winner_name winner_hand  winner_ht winner_ioc  winner_age  \\\n",
       "0              Kei Nishikori           R      178.0        JPN   29.004791   \n",
       "1            Daniil Medvedev           R      198.0        RUS   22.885695   \n",
       "2              Kei Nishikori           R      178.0        JPN   29.004791   \n",
       "3         Jo-Wilfried Tsonga           R      188.0        FRA   33.705681   \n",
       "4            Daniil Medvedev           R      198.0        RUS   22.885695   \n",
       "...                      ...         ...        ...        ...         ...   \n",
       "186068  Hurricane Tyra Black           R      172.0        USA   19.690623   \n",
       "186069         Vivian Heisen           U      172.0        GER   26.869268   \n",
       "186070    Victoria Rodriguez           U      172.0        MEX   25.552361   \n",
       "186071        Katarina Jokic           U      172.0        BIH   22.559890   \n",
       "186072       Emiliana Arango           R      172.0        COL   19.947981   \n",
       "\n",
       "        loser_id           loser_name loser_hand  loser_ht loser_ioc  \\\n",
       "0         106421      Daniil Medvedev          R     198.0       RUS   \n",
       "1         104542   Jo-Wilfried Tsonga          R     188.0       FRA   \n",
       "2         104871        Jeremy Chardy          R     188.0       FRA   \n",
       "3         200282       Alex De Minaur          R     183.0       AUS   \n",
       "4         105683         Milos Raonic          R     196.0       CAN   \n",
       "...          ...                  ...        ...       ...       ...   \n",
       "186068    222081            Eleana Yu          R     172.0       USA   \n",
       "186069    220723      Jessica Livianu          R     172.0       USA   \n",
       "186070    202478           Tara Moore          R     172.0       GBR   \n",
       "186071    205922  Chanelle Van Nguyen          U     172.0       USA   \n",
       "186072    223453       Brooklyn Olson          U     172.0       USA   \n",
       "\n",
       "        loser_age           score  best_of round  minutes  w_ace  w_df  \\\n",
       "0       22.885695     6-4 3-6 6-2        3     F    124.0    3.0   3.0   \n",
       "1       33.705681      7-6(6) 6-2        3    SF     82.0   10.0   1.0   \n",
       "2       31.882272         6-2 6-2        3    SF     66.0    2.0   2.0   \n",
       "3       19.868583      6-4 7-6(2)        3    QF    106.0   12.0   2.0   \n",
       "4       28.010951  6-7(2) 6-3 6-4        3    QF    129.0   12.0   3.0   \n",
       "...           ...             ...      ...   ...      ...    ...   ...   \n",
       "186068  16.002738      7-6(1) 6-1        3    Q2      NaN    NaN   NaN   \n",
       "186069  22.713210    2-6 6-2 10-3        3    Q2      NaN    NaN   NaN   \n",
       "186070  28.260096      6-2 7-6(8)        3    Q2      NaN    NaN   NaN   \n",
       "186071  26.806297         6-4 6-2        3    Q2      NaN    NaN   NaN   \n",
       "186072  22.857534         6-1 6-2        3    Q2      NaN    NaN   NaN   \n",
       "\n",
       "        w_svpt  w_1stIn  w_1stWon  w_2ndWon  w_SvGms  w_bpSaved  w_bpFaced  \\\n",
       "0         77.0     44.0      31.0      17.0     13.0        3.0        6.0   \n",
       "1         52.0     33.0      28.0      14.0     10.0        0.0        1.0   \n",
       "2         47.0     33.0      26.0       9.0      8.0        2.0        2.0   \n",
       "3         68.0     43.0      34.0      15.0     11.0        4.0        5.0   \n",
       "4        105.0     68.0      48.0      25.0     16.0        8.0        8.0   \n",
       "...        ...      ...       ...       ...      ...        ...        ...   \n",
       "186068     NaN      NaN       NaN       NaN      NaN        NaN        NaN   \n",
       "186069     NaN      NaN       NaN       NaN      NaN        NaN        NaN   \n",
       "186070     NaN      NaN       NaN       NaN      NaN        NaN        NaN   \n",
       "186071     NaN      NaN       NaN       NaN      NaN        NaN        NaN   \n",
       "186072     NaN      NaN       NaN       NaN      NaN        NaN        NaN   \n",
       "\n",
       "        l_ace  l_df  l_svpt  l_1stIn  l_1stWon  l_2ndWon  l_SvGms  l_bpSaved  \\\n",
       "0         8.0   6.0   100.0     54.0      34.0      20.0     14.0       10.0   \n",
       "1        17.0   2.0    77.0     52.0      36.0       7.0     10.0       10.0   \n",
       "2        10.0   3.0    46.0     27.0      15.0       6.0      8.0        1.0   \n",
       "3         1.0   2.0    81.0     60.0      38.0       9.0     11.0        4.0   \n",
       "4        29.0   5.0    94.0     56.0      46.0      19.0     15.0        2.0   \n",
       "...       ...   ...     ...      ...       ...       ...      ...        ...   \n",
       "186068    NaN   NaN     NaN      NaN       NaN       NaN      NaN        NaN   \n",
       "186069    NaN   NaN     NaN      NaN       NaN       NaN      NaN        NaN   \n",
       "186070    NaN   NaN     NaN      NaN       NaN       NaN      NaN        NaN   \n",
       "186071    NaN   NaN     NaN      NaN       NaN       NaN      NaN        NaN   \n",
       "186072    NaN   NaN     NaN      NaN       NaN       NaN      NaN        NaN   \n",
       "\n",
       "        l_bpFaced  winner_rank  winner_rank_points  loser_rank  \\\n",
       "0            15.0          9.0              3590.0        16.0   \n",
       "1            13.0         16.0              1977.0       239.0   \n",
       "2             5.0          9.0              3590.0        40.0   \n",
       "3             6.0        239.0               200.0        31.0   \n",
       "4             4.0         16.0              1977.0        18.0   \n",
       "...           ...          ...                 ...         ...   \n",
       "186068        NaN        598.0                57.0      1216.0   \n",
       "186069        NaN        429.0               102.0       729.0   \n",
       "186070        NaN        643.0                48.0       454.0   \n",
       "186071        NaN        923.0                17.0       627.0   \n",
       "186072        NaN        493.0                83.0         NaN   \n",
       "\n",
       "        loser_rank_points  tourney_spectators  tourney_revenue  \\\n",
       "0                  1977.0                3928        742618.69   \n",
       "1                   200.0                3928        742618.69   \n",
       "2                  1050.0                3928        742618.69   \n",
       "3                  1298.0                3928        742618.69   \n",
       "4                  1855.0                3928        742618.69   \n",
       "...                   ...                 ...              ...   \n",
       "186068                6.0                2312        471620.95   \n",
       "186069               35.0                2312        471620.95   \n",
       "186070               93.0                2312        471620.95   \n",
       "186071               51.0                2312        471620.95   \n",
       "186072                NaN                2312        471620.95   \n",
       "\n",
       "        winner_data_nascita  loser_data_nascita  \n",
       "0                    1989.0              1996.0  \n",
       "1                    1996.0              1985.0  \n",
       "2                    1989.0              1987.0  \n",
       "3                    1985.0              1999.0  \n",
       "4                    1996.0              1990.0  \n",
       "...                     ...                 ...  \n",
       "186068               2001.0              2004.0  \n",
       "186069               1993.0              1998.0  \n",
       "186070               1995.0              1992.0  \n",
       "186071               1998.0              1994.0  \n",
       "186072               2000.0              1998.0  \n",
       "\n",
       "[185758 rows x 49 columns]"
      ]
     },
     "execution_count": 80,
     "metadata": {},
     "output_type": "execute_result"
    }
   ],
   "source": [
    "tennis"
   ]
  },
  {
   "cell_type": "code",
   "execution_count": 81,
   "id": "Nertk2O_zZ5X",
   "metadata": {
    "colab": {
     "base_uri": "https://localhost:8080/"
    },
    "executionInfo": {
     "elapsed": 310,
     "status": "ok",
     "timestamp": 1637405740120,
     "user": {
      "displayName": "FEDERICO CANEPUZZI",
      "photoUrl": "https://lh3.googleusercontent.com/a/default-user=s64",
      "userId": "05015019107900810205"
     },
     "user_tz": -60
    },
    "id": "Nertk2O_zZ5X",
    "outputId": "5fbb580e-9672-4c26-cad8-085eeb4d641e"
   },
   "outputs": [
    {
     "name": "stdout",
     "output_type": "stream",
     "text": [
      "player_name\n",
      "Adrian Menendez Maceiras    2\n",
      "Adrien Bossel               2\n",
      "Alexey Vatutin              2\n",
      "Andrea Arnaboldi            2\n",
      "Andrew Paulson              2\n",
      "Antoine Hoang               2\n",
      "Aslan Karatsev              2\n",
      "Blaz Rola                   2\n",
      "Bojana Jovanovski           2\n",
      "Botic van de Zandschulp     2\n",
      "Brydan Klein                2\n",
      "Camilo Andres Erazo         2\n",
      "Cedrik Marcel Stebe         2\n",
      "Dane Webb                   2\n",
      "Daniel Altmaier             2\n",
      "Dmitry Popko                2\n",
      "Elliot Benchetrit           2\n",
      "Eric Ahren Moonga           2\n",
      "Ernests Gulbis              2\n",
      "Evgeny Karlovskiy           2\n",
      "Facundo Mena                2\n",
      "Gilles Simon                2\n",
      "Giulio Zeppieri             2\n",
      "Hugo Gaston                 2\n",
      "Jacopo Berrettini           2\n",
      "Jiri Lehecka                2\n",
      "Joao Monteiro               2\n",
      "Jose Daniel Bendeck         2\n",
      "Jozef Kovalik               2\n",
      "Katie Volynets              2\n",
      "Kei Nishikori               2\n",
      "Kirill Komarov              2\n",
      "Kuan Yi Lee                 2\n",
      "Lenny Hampel                2\n",
      "Lorenzo Giustino            2\n",
      "Marco Cecchinato            2\n",
      "Maxime Janvier              2\n",
      "Michael Vrbensky            2\n",
      "Mikhail Kukushkin           2\n",
      "Nikola Mektic               2\n",
      "Petr Nouza                  2\n",
      "Philipp Kohlschreiber       2\n",
      "Rio Noguchi                 2\n",
      "Roberto Marcora             2\n",
      "Roman Safiullin             2\n",
      "Rudolf Molleker             2\n",
      "Sebastian Baez              2\n",
      "Sebastian Fanselow          2\n",
      "Steve Johnson               2\n",
      "Sumit Nagal                 2\n",
      "Thomaz Bellucci             2\n",
      "Tim Sandkaulen              2\n",
      "Tim Smyczek                 2\n",
      "Tomas Machac                2\n",
      "Viktor Galovic              2\n",
      "Yannick Hanfmann            2\n",
      "Yannick Maden               2\n",
      "Zdenek Kolar                2\n",
      "Name: player_name, dtype: int64\n",
      "\n",
      "Totale nomi con anno nascita diverso = 58\n"
     ]
    }
   ],
   "source": [
    "#vado a vedere quanti player hanno valori diversi su per l'anno di nascita\n",
    "#se hanno valori diversi vuol dire che l'attrbuto Age ha dati non corretti su alcuni record\n",
    "winner=tennis[['winner_id','winner_name','winner_age','tourney_date','winner_data_nascita']]\n",
    "winner=winner.rename(columns={'winner_id': 'player_id','winner_name':'player_name','winner_age':'player_age'\n",
    "                              ,'winner_data_nascita':'data_nascita'})\n",
    "          \n",
    "loser=tennis[['loser_id','loser_name','loser_age','tourney_date','loser_data_nascita']]\n",
    "loser=loser.rename(columns={'loser_id': 'player_id','loser_name':'player_name','loser_age':'player_age',\n",
    "                           'loser_data_nascita':'data_nascita'})\n",
    "\n",
    "player=[winner,loser]\n",
    "player = pd.concat(player)\n",
    "player=player.dropna()\n",
    "player=player.drop_duplicates(subset=['player_id', 'player_name','data_nascita'])\n",
    "\n",
    "player_Error_age=player.groupby(['player_name'])['player_name'].count()\n",
    "player_Error_age=player_Error_age[player_Error_age>1]\n",
    "\n",
    "\n",
    "print(player_Error_age)\n",
    "\n",
    "print('')\n",
    "print('Totale nomi con anno nascita diverso = ',end='')\n",
    "print(len(player_Error_age))"
   ]
  },
  {
   "cell_type": "code",
   "execution_count": 82,
   "id": "LFmQKKT3zaC_",
   "metadata": {
    "colab": {
     "base_uri": "https://localhost:8080/"
    },
    "executionInfo": {
     "elapsed": 385,
     "status": "ok",
     "timestamp": 1637405741492,
     "user": {
      "displayName": "FEDERICO CANEPUZZI",
      "photoUrl": "https://lh3.googleusercontent.com/a/default-user=s64",
      "userId": "05015019107900810205"
     },
     "user_tz": -60
    },
    "id": "LFmQKKT3zaC_",
    "outputId": "4df14388-4bea-4c7f-e5a0-c7c3bc04e9cf"
   },
   "outputs": [
    {
     "name": "stdout",
     "output_type": "stream",
     "text": [
      "Adrian Menendez Maceiras --> 1985.0 - 1986.0\n",
      "Adrien Bossel --> 1986.0 - 1987.0\n",
      "Alexey Vatutin --> 1992.0 - 1993.0\n",
      "Andrea Arnaboldi --> 1987.0 - 1988.0\n",
      "Andrew Paulson --> 2002.0 - 2001.0\n",
      "Antoine Hoang --> 1995.0 - 1996.0\n",
      "Aslan Karatsev --> 1993.0 - 1994.0\n",
      "Blaz Rola --> 1990.0 - 1991.0\n",
      "Bojana Jovanovski --> 1991.0 - 1992.0\n",
      "Botic van de Zandschulp --> 1995.0 - 1996.0\n",
      "Brydan Klein --> 1990.0 - 1989.0\n",
      "Camilo Andres Erazo --> 1996.0 - 1997.0\n",
      "Cedrik Marcel Stebe --> 1990.0 - 1991.0\n",
      "Dane Webb --> 1992.0 - 1993.0\n",
      "Daniel Altmaier --> 1998.0 - 1999.0\n",
      "Dmitry Popko --> 1996.0 - 1997.0\n",
      "Elliot Benchetrit --> 1998.0 - 1999.0\n",
      "Eric Ahren Moonga --> 1995.0 - 1996.0\n",
      "Ernests Gulbis --> 1988.0 - 1989.0\n",
      "Evgeny Karlovskiy --> 1994.0 - 1995.0\n",
      "Facundo Mena --> 1992.0 - 1993.0\n",
      "Gilles Simon --> 1984.0 - 1985.0\n",
      "Giulio Zeppieri --> 2001.0 - 2002.0\n",
      "Hugo Gaston --> 2000.0 - 2001.0\n",
      "Jacopo Berrettini --> 1998.0 - 1999.0\n",
      "Jiri Lehecka --> 2002.0 - 2001.0\n",
      "Joao Monteiro --> 1993.0 - 1994.0\n",
      "Jose Daniel Bendeck --> 1990.0 - 1991.0\n",
      "Jozef Kovalik --> 1992.0 - 1993.0\n",
      "Katie Volynets --> 2002.0 - 2001.0\n",
      "Kei Nishikori --> 1989.0 - 1990.0\n",
      "Kirill Komarov --> 1992.0 - 1991.0\n",
      "Kuan Yi Lee --> 1996.0 - 2002.0\n",
      "Lenny Hampel --> 1996.0 - 1997.0\n",
      "Lorenzo Giustino --> 1991.0 - 1992.0\n",
      "Marco Cecchinato --> 1992.0 - 1993.0\n",
      "Maxime Janvier --> 1996.0 - 1997.0\n",
      "Michael Vrbensky --> 1999.0 - 2000.0\n",
      "Mikhail Kukushkin --> 1987.0 - 1988.0\n",
      "Nikola Mektic --> 1988.0 - 1989.0\n",
      "Petr Nouza --> 1998.0 - 1999.0\n",
      "Philipp Kohlschreiber --> 1983.0 - 1984.0\n",
      "Rio Noguchi --> 1999.0 - 1998.0\n",
      "Roberto Marcora --> 1989.0 - 1990.0\n",
      "Roman Safiullin --> 1997.0 - 1998.0\n",
      "Rudolf Molleker --> 2000.0 - 2001.0\n",
      "Sebastian Baez --> 2000.0 - 2001.0\n",
      "Sebastian Fanselow --> 1991.0 - 1992.0\n",
      "Steve Johnson --> 1989.0 - 1990.0\n",
      "Sumit Nagal --> 1997.0 - 1998.0\n",
      "Thomaz Bellucci --> 1987.0 - 1988.0\n",
      "Tim Sandkaulen --> 1998.0 - 1997.0\n",
      "Tim Smyczek --> 1987.0 - 1988.0\n",
      "Tomas Machac --> 2000.0 - 2001.0\n",
      "Viktor Galovic --> 1990.0 - 1991.0\n",
      "Yannick Hanfmann --> 1991.0 - 1992.0\n",
      "Yannick Maden --> 1989.0 - 1990.0\n",
      "Zdenek Kolar --> 1996.0 - 1997.0\n"
     ]
    }
   ],
   "source": [
    "##stampo tutti i player con diverso valori su anno nascita. Sono 58.\n",
    "# inserisco in un dizionario il primo valore su anno di nascita che trovo, con chiave il nome del player\n",
    "dizionario=dict()\n",
    "for index, value in player_Error_age.items():\n",
    "    \n",
    "    print(str(index) + ' --> ',end='')\n",
    "\n",
    "    rows=player.loc[player['player_name']==index]\n",
    "    first=True\n",
    "    for index_player, row_player in rows.iterrows():\n",
    "        if first:\n",
    "            print(str(row_player['data_nascita']) + ' - ',end='')\n",
    "            first=False\n",
    "            dizionario[index]=row_player['data_nascita']\n",
    "        else:\n",
    "            print(row_player['data_nascita'])"
   ]
  },
  {
   "cell_type": "code",
   "execution_count": 83,
   "id": "q4p352IbzaSY",
   "metadata": {
    "colab": {
     "base_uri": "https://localhost:8080/",
     "height": 112
    },
    "executionInfo": {
     "elapsed": 5,
     "status": "ok",
     "timestamp": 1637405742577,
     "user": {
      "displayName": "FEDERICO CANEPUZZI",
      "photoUrl": "https://lh3.googleusercontent.com/a/default-user=s64",
      "userId": "05015019107900810205"
     },
     "user_tz": -60
    },
    "id": "q4p352IbzaSY",
    "outputId": "9f95c545-478b-41e2-92f4-ee294853a402"
   },
   "outputs": [
    {
     "data": {
      "text/html": [
       "<div>\n",
       "<style scoped>\n",
       "    .dataframe tbody tr th:only-of-type {\n",
       "        vertical-align: middle;\n",
       "    }\n",
       "\n",
       "    .dataframe tbody tr th {\n",
       "        vertical-align: top;\n",
       "    }\n",
       "\n",
       "    .dataframe thead th {\n",
       "        text-align: right;\n",
       "    }\n",
       "</style>\n",
       "<table border=\"1\" class=\"dataframe\">\n",
       "  <thead>\n",
       "    <tr style=\"text-align: right;\">\n",
       "      <th></th>\n",
       "      <th>player_id</th>\n",
       "      <th>player_name</th>\n",
       "      <th>player_age</th>\n",
       "      <th>tourney_date</th>\n",
       "      <th>data_nascita</th>\n",
       "    </tr>\n",
       "  </thead>\n",
       "  <tbody>\n",
       "    <tr>\n",
       "      <th>55419</th>\n",
       "      <td>106234</td>\n",
       "      <td>Aslan Karatsev</td>\n",
       "      <td>22.715948</td>\n",
       "      <td>20160523</td>\n",
       "      <td>1993.0</td>\n",
       "    </tr>\n",
       "    <tr>\n",
       "      <th>90624</th>\n",
       "      <td>106234</td>\n",
       "      <td>Aslan Karatsev</td>\n",
       "      <td>26.529774</td>\n",
       "      <td>20200817</td>\n",
       "      <td>1994.0</td>\n",
       "    </tr>\n",
       "  </tbody>\n",
       "</table>\n",
       "</div>"
      ],
      "text/plain": [
       "       player_id     player_name  player_age  tourney_date  data_nascita\n",
       "55419     106234  Aslan Karatsev   22.715948      20160523        1993.0\n",
       "90624     106234  Aslan Karatsev   26.529774      20200817        1994.0"
      ]
     },
     "execution_count": 83,
     "metadata": {},
     "output_type": "execute_result"
    }
   ],
   "source": [
    "player.loc[player['player_name']=='Aslan Karatsev']"
   ]
  },
  {
   "cell_type": "code",
   "execution_count": 84,
   "id": "Vlczov3g08lK",
   "metadata": {
    "executionInfo": {
     "elapsed": 16749,
     "status": "ok",
     "timestamp": 1637405760201,
     "user": {
      "displayName": "FEDERICO CANEPUZZI",
      "photoUrl": "https://lh3.googleusercontent.com/a/default-user=s64",
      "userId": "05015019107900810205"
     },
     "user_tz": -60
    },
    "id": "Vlczov3g08lK"
   },
   "outputs": [],
   "source": [
    "#itero su tennis, quando trovo un nome del player presente nel dizionario con valore di anno di nascita\n",
    "#diverso da quello scelto nel dizionario setto il valore su Age a Null.\n",
    "#in questo modo garantisco che da Age sia calcolato sempre lo stesso anno di nascita a prescinde dall'ordine in cui leggo i dati\n",
    "for index, row in tennis.iterrows():\n",
    "    \n",
    "    colonne=['winner','loser']\n",
    "    for col in colonne:\n",
    "        if (row[col+'_name']) in dizionario:\n",
    "            if row[col+'_data_nascita'] != dizionario[row[col+'_name']]:\n",
    "                tennis.at[index, col+'_age'] = np.nan\n"
   ]
  },
  {
   "cell_type": "code",
   "execution_count": 85,
   "id": "GPk2R0ED081a",
   "metadata": {
    "colab": {
     "base_uri": "https://localhost:8080/"
    },
    "executionInfo": {
     "elapsed": 6,
     "status": "ok",
     "timestamp": 1637405760202,
     "user": {
      "displayName": "FEDERICO CANEPUZZI",
      "photoUrl": "https://lh3.googleusercontent.com/a/default-user=s64",
      "userId": "05015019107900810205"
     },
     "user_tz": -60
    },
    "id": "GPk2R0ED081a",
    "outputId": "e17a2107-054d-46bd-d90f-66ae7eb4d8f8"
   },
   "outputs": [
    {
     "name": "stdout",
     "output_type": "stream",
     "text": [
      "Series([], Name: player_name, dtype: int64)\n",
      "\n",
      "Totale nomi con anno nascita diverso = 0\n"
     ]
    }
   ],
   "source": [
    "#controllo che non ci siano più errori\n",
    "winner=tennis[['winner_id','winner_name','winner_age','tourney_date','winner_data_nascita']]\n",
    "winner=winner.rename(columns={'winner_id': 'player_id','winner_name':'player_name','winner_age':'player_age'\n",
    "                              ,'winner_data_nascita':'data_nascita'})\n",
    "          \n",
    "loser=tennis[['loser_id','loser_name','loser_age','tourney_date','loser_data_nascita']]\n",
    "loser=loser.rename(columns={'loser_id': 'player_id','loser_name':'player_name','loser_age':'player_age',\n",
    "                           'loser_data_nascita':'data_nascita'})\n",
    "\n",
    "player=[winner,loser]\n",
    "player = pd.concat(player)\n",
    "player=player.dropna()\n",
    "player=player.drop_duplicates(subset=['player_id', 'player_name','data_nascita'])\n",
    "\n",
    "player_Error_age=player.groupby(['player_name'])['player_name'].count()\n",
    "player_Error_age=player_Error_age[player_Error_age>1]\n",
    "\n",
    "\n",
    "print(player_Error_age)\n",
    "\n",
    "print('')\n",
    "print('Totale nomi con anno nascita diverso = ',end='')\n",
    "print(len(player_Error_age))"
   ]
  },
  {
   "cell_type": "code",
   "execution_count": 86,
   "id": "0JymCWyJ0881",
   "metadata": {
    "executionInfo": {
     "elapsed": 272,
     "status": "ok",
     "timestamp": 1637405781620,
     "user": {
      "displayName": "FEDERICO CANEPUZZI",
      "photoUrl": "https://lh3.googleusercontent.com/a/default-user=s64",
      "userId": "05015019107900810205"
     },
     "user_tz": -60
    },
    "id": "0JymCWyJ0881"
   },
   "outputs": [],
   "source": [
    "#elimino le colonne con la data di nascita create\n",
    "tennis=tennis.drop(['winner_data_nascita', 'loser_data_nascita'], axis=1)"
   ]
  },
  {
   "cell_type": "code",
   "execution_count": null,
   "id": "4e5gzU_A09Bf",
   "metadata": {
    "executionInfo": {
     "elapsed": 268,
     "status": "ok",
     "timestamp": 1637405817618,
     "user": {
      "displayName": "FEDERICO CANEPUZZI",
      "photoUrl": "https://lh3.googleusercontent.com/a/default-user=s64",
      "userId": "05015019107900810205"
     },
     "user_tz": -60
    },
    "id": "4e5gzU_A09Bf"
   },
   "outputs": [],
   "source": []
  },
  {
   "cell_type": "markdown",
   "id": "mQRG0u46zQv0",
   "metadata": {
    "id": "mQRG0u46zQv0"
   },
   "source": [
    "## NULL VALUE IN SCORE"
   ]
  },
  {
   "cell_type": "code",
   "execution_count": 87,
   "id": "30Z6hfWzzQv1",
   "metadata": {
    "colab": {
     "base_uri": "https://localhost:8080/"
    },
    "executionInfo": {
     "elapsed": 278,
     "status": "ok",
     "timestamp": 1637405819171,
     "user": {
      "displayName": "FEDERICO CANEPUZZI",
      "photoUrl": "https://lh3.googleusercontent.com/a/default-user=s64",
      "userId": "05015019107900810205"
     },
     "user_tz": -60
    },
    "id": "30Z6hfWzzQv1",
    "outputId": "95adcf85-c502-4d07-b154-cec2e0d2d2d0"
   },
   "outputs": [
    {
     "data": {
      "text/plain": [
       "6-3 6-4               5367\n",
       "6-3 6-2               5252\n",
       "6-4 6-4               5193\n",
       "6-2 6-2               5089\n",
       "6-3 6-3               4836\n",
       "                      ... \n",
       "4-6 7-6(7) 2-3 RET       1\n",
       "7-5 0-2 RET              1\n",
       "6-7(1) 6-1 0-0 RET       1\n",
       "3-6 2-2 RET              1\n",
       "7-6(4) 2-6 10-5          1\n",
       "Name: score, Length: 9705, dtype: int64"
      ]
     },
     "execution_count": 87,
     "metadata": {},
     "output_type": "execute_result"
    }
   ],
   "source": [
    "tennis['score'].value_counts()"
   ]
  },
  {
   "cell_type": "code",
   "execution_count": 88,
   "id": "MrCwvg7szQv1",
   "metadata": {
    "colab": {
     "base_uri": "https://localhost:8080/",
     "height": 35
    },
    "executionInfo": {
     "elapsed": 4,
     "status": "ok",
     "timestamp": 1637405819556,
     "user": {
      "displayName": "FEDERICO CANEPUZZI",
      "photoUrl": "https://lh3.googleusercontent.com/a/default-user=s64",
      "userId": "05015019107900810205"
     },
     "user_tz": -60
    },
    "id": "MrCwvg7szQv1",
    "outputId": "f7b7db13-b73c-42f4-f1df-a25fc6d44e29"
   },
   "outputs": [
    {
     "data": {
      "text/plain": [
       "'6-3 6-4'"
      ]
     },
     "execution_count": 88,
     "metadata": {},
     "output_type": "execute_result"
    }
   ],
   "source": [
    "# I NULL VALUE SU SCORE SONO RIEMPITI CON LA MODA\n",
    "moda=tennis['score'].mode()\n",
    "moda[0]"
   ]
  },
  {
   "cell_type": "code",
   "execution_count": 89,
   "id": "wBFFTXOAzQv2",
   "metadata": {
    "executionInfo": {
     "elapsed": 4,
     "status": "ok",
     "timestamp": 1637405820279,
     "user": {
      "displayName": "FEDERICO CANEPUZZI",
      "photoUrl": "https://lh3.googleusercontent.com/a/default-user=s64",
      "userId": "05015019107900810205"
     },
     "user_tz": -60
    },
    "id": "wBFFTXOAzQv2"
   },
   "outputs": [],
   "source": [
    "tennis['score'].fillna(moda[0],inplace = True)"
   ]
  },
  {
   "cell_type": "code",
   "execution_count": null,
   "id": "i4a_H-Z5zQv2",
   "metadata": {
    "executionInfo": {
     "elapsed": 2,
     "status": "ok",
     "timestamp": 1637405820985,
     "user": {
      "displayName": "FEDERICO CANEPUZZI",
      "photoUrl": "https://lh3.googleusercontent.com/a/default-user=s64",
      "userId": "05015019107900810205"
     },
     "user_tz": -60
    },
    "id": "i4a_H-Z5zQv2"
   },
   "outputs": [],
   "source": []
  },
  {
   "cell_type": "markdown",
   "id": "oL3XbvfTzQv2",
   "metadata": {
    "id": "oL3XbvfTzQv2"
   },
   "source": [
    "## NULL VALUE IN RANK"
   ]
  },
  {
   "cell_type": "code",
   "execution_count": 90,
   "id": "1r7iUepKzQv2",
   "metadata": {
    "executionInfo": {
     "elapsed": 294,
     "status": "ok",
     "timestamp": 1637405822467,
     "user": {
      "displayName": "FEDERICO CANEPUZZI",
      "photoUrl": "https://lh3.googleusercontent.com/a/default-user=s64",
      "userId": "05015019107900810205"
     },
     "user_tz": -60
    },
    "id": "1r7iUepKzQv2"
   },
   "outputs": [],
   "source": [
    "##per riempire i valori su winner_rank e su loser_rank, è stata calcolata la media per ogni specifico player. \n",
    "#I valori mancanti per un player sono stati riempiti con la sua media su rank. Se un player ha solo valori null\n",
    "#su rank allora gli viene impostata la media di tutte le medie"
   ]
  },
  {
   "cell_type": "code",
   "execution_count": 91,
   "id": "d02Z6WaHzQv3",
   "metadata": {
    "colab": {
     "base_uri": "https://localhost:8080/"
    },
    "executionInfo": {
     "elapsed": 5,
     "status": "ok",
     "timestamp": 1637405822849,
     "user": {
      "displayName": "FEDERICO CANEPUZZI",
      "photoUrl": "https://lh3.googleusercontent.com/a/default-user=s64",
      "userId": "05015019107900810205"
     },
     "user_tz": -60
    },
    "id": "d02Z6WaHzQv3",
    "outputId": "64f8957f-06e0-4711-daf1-d3f9968687fe"
   },
   "outputs": [
    {
     "data": {
      "text/plain": [
       "1.0       514\n",
       "2.0       459\n",
       "5.0       451\n",
       "3.0       438\n",
       "6.0       422\n",
       "         ... \n",
       "1631.0      1\n",
       "1772.0      1\n",
       "1956.0      1\n",
       "1545.0      1\n",
       "1843.0      1\n",
       "Name: winner_rank, Length: 1623, dtype: int64"
      ]
     },
     "execution_count": 91,
     "metadata": {},
     "output_type": "execute_result"
    }
   ],
   "source": [
    "tennis['winner_rank'].value_counts()"
   ]
  },
  {
   "cell_type": "code",
   "execution_count": 92,
   "id": "G2vBoRd1zQv3",
   "metadata": {
    "colab": {
     "base_uri": "https://localhost:8080/",
     "height": 423
    },
    "executionInfo": {
     "elapsed": 684,
     "status": "ok",
     "timestamp": 1637405824663,
     "user": {
      "displayName": "FEDERICO CANEPUZZI",
      "photoUrl": "https://lh3.googleusercontent.com/a/default-user=s64",
      "userId": "05015019107900810205"
     },
     "user_tz": -60
    },
    "id": "G2vBoRd1zQv3",
    "outputId": "c83e8a65-14ac-48ac-9b57-5789d13669d0"
   },
   "outputs": [
    {
     "data": {
      "text/html": [
       "<div>\n",
       "<style scoped>\n",
       "    .dataframe tbody tr th:only-of-type {\n",
       "        vertical-align: middle;\n",
       "    }\n",
       "\n",
       "    .dataframe tbody tr th {\n",
       "        vertical-align: top;\n",
       "    }\n",
       "\n",
       "    .dataframe thead th {\n",
       "        text-align: right;\n",
       "    }\n",
       "</style>\n",
       "<table border=\"1\" class=\"dataframe\">\n",
       "  <thead>\n",
       "    <tr style=\"text-align: right;\">\n",
       "      <th></th>\n",
       "      <th>player_id</th>\n",
       "      <th>player_name</th>\n",
       "      <th>player_rank</th>\n",
       "    </tr>\n",
       "  </thead>\n",
       "  <tbody>\n",
       "    <tr>\n",
       "      <th>167337</th>\n",
       "      <td>241720</td>\n",
       "      <td>Aada Inna</td>\n",
       "      <td>NaN</td>\n",
       "    </tr>\n",
       "    <tr>\n",
       "      <th>155322</th>\n",
       "      <td>222088</td>\n",
       "      <td>Aalisha Alexis</td>\n",
       "      <td>NaN</td>\n",
       "    </tr>\n",
       "    <tr>\n",
       "      <th>155349</th>\n",
       "      <td>222088</td>\n",
       "      <td>Aalisha Alexis</td>\n",
       "      <td>NaN</td>\n",
       "    </tr>\n",
       "    <tr>\n",
       "      <th>140198</th>\n",
       "      <td>222673</td>\n",
       "      <td>Aaliya Ebrahim</td>\n",
       "      <td>NaN</td>\n",
       "    </tr>\n",
       "    <tr>\n",
       "      <th>140250</th>\n",
       "      <td>222673</td>\n",
       "      <td>Aaliya Ebrahim</td>\n",
       "      <td>NaN</td>\n",
       "    </tr>\n",
       "    <tr>\n",
       "      <th>...</th>\n",
       "      <td>...</td>\n",
       "      <td>...</td>\n",
       "      <td>...</td>\n",
       "    </tr>\n",
       "    <tr>\n",
       "      <th>170479</th>\n",
       "      <td>242443</td>\n",
       "      <td>Zuzanna Bednarz</td>\n",
       "      <td>NaN</td>\n",
       "    </tr>\n",
       "    <tr>\n",
       "      <th>152014</th>\n",
       "      <td>222154</td>\n",
       "      <td>Zuzanna Szczepanska</td>\n",
       "      <td>NaN</td>\n",
       "    </tr>\n",
       "    <tr>\n",
       "      <th>170519</th>\n",
       "      <td>222154</td>\n",
       "      <td>Zuzanna Szczepanska</td>\n",
       "      <td>NaN</td>\n",
       "    </tr>\n",
       "    <tr>\n",
       "      <th>151955</th>\n",
       "      <td>222154</td>\n",
       "      <td>Zuzanna Szczepanska</td>\n",
       "      <td>NaN</td>\n",
       "    </tr>\n",
       "    <tr>\n",
       "      <th>103564</th>\n",
       "      <td>200638</td>\n",
       "      <td>Zvonimir Oreskovic</td>\n",
       "      <td>NaN</td>\n",
       "    </tr>\n",
       "  </tbody>\n",
       "</table>\n",
       "<p>371516 rows × 3 columns</p>\n",
       "</div>"
      ],
      "text/plain": [
       "        player_id          player_name  player_rank\n",
       "167337     241720            Aada Inna          NaN\n",
       "155322     222088       Aalisha Alexis          NaN\n",
       "155349     222088       Aalisha Alexis          NaN\n",
       "140198     222673       Aaliya Ebrahim          NaN\n",
       "140250     222673       Aaliya Ebrahim          NaN\n",
       "...           ...                  ...          ...\n",
       "170479     242443      Zuzanna Bednarz          NaN\n",
       "152014     222154  Zuzanna Szczepanska          NaN\n",
       "170519     222154  Zuzanna Szczepanska          NaN\n",
       "151955     222154  Zuzanna Szczepanska          NaN\n",
       "103564     200638   Zvonimir Oreskovic          NaN\n",
       "\n",
       "[371516 rows x 3 columns]"
      ]
     },
     "execution_count": 92,
     "metadata": {},
     "output_type": "execute_result"
    }
   ],
   "source": [
    "winner=tennis[['winner_id','winner_name','winner_rank']]\n",
    "winner=winner.rename(columns={'winner_id': 'player_id','winner_name':'player_name','winner_rank':'player_rank'})\n",
    "          \n",
    "loser=tennis[['loser_id','loser_name','loser_rank']]\n",
    "loser=loser.rename(columns={'loser_id': 'player_id','loser_name':'player_name','loser_rank':'player_rank'})\n",
    "\n",
    "player=[winner,loser]\n",
    "player = pd.concat(player)\n",
    "player=player.sort_values(by=['player_name'])\n",
    "player\n"
   ]
  },
  {
   "cell_type": "code",
   "execution_count": null,
   "id": "tSZvc5_yzQv4",
   "metadata": {
    "executionInfo": {
     "elapsed": 4,
     "status": "ok",
     "timestamp": 1637405824664,
     "user": {
      "displayName": "FEDERICO CANEPUZZI",
      "photoUrl": "https://lh3.googleusercontent.com/a/default-user=s64",
      "userId": "05015019107900810205"
     },
     "user_tz": -60
    },
    "id": "tSZvc5_yzQv4",
    "scrolled": true
   },
   "outputs": [],
   "source": []
  },
  {
   "cell_type": "code",
   "execution_count": 93,
   "id": "Tp607fNlzQv4",
   "metadata": {
    "colab": {
     "base_uri": "https://localhost:8080/",
     "height": 423
    },
    "executionInfo": {
     "elapsed": 5,
     "status": "ok",
     "timestamp": 1637405825739,
     "user": {
      "displayName": "FEDERICO CANEPUZZI",
      "photoUrl": "https://lh3.googleusercontent.com/a/default-user=s64",
      "userId": "05015019107900810205"
     },
     "user_tz": -60
    },
    "id": "Tp607fNlzQv4",
    "outputId": "54f80660-6ff4-4ab2-cc5e-35212b14c056"
   },
   "outputs": [
    {
     "data": {
      "text/html": [
       "<div>\n",
       "<style scoped>\n",
       "    .dataframe tbody tr th:only-of-type {\n",
       "        vertical-align: middle;\n",
       "    }\n",
       "\n",
       "    .dataframe tbody tr th {\n",
       "        vertical-align: top;\n",
       "    }\n",
       "\n",
       "    .dataframe thead th {\n",
       "        text-align: right;\n",
       "    }\n",
       "</style>\n",
       "<table border=\"1\" class=\"dataframe\">\n",
       "  <thead>\n",
       "    <tr style=\"text-align: right;\">\n",
       "      <th></th>\n",
       "      <th>player_id</th>\n",
       "      <th>player_name</th>\n",
       "      <th>player_rank</th>\n",
       "    </tr>\n",
       "  </thead>\n",
       "  <tbody>\n",
       "    <tr>\n",
       "      <th>76205</th>\n",
       "      <td>126608</td>\n",
       "      <td>Aaro Pollanen</td>\n",
       "      <td>1559.0</td>\n",
       "    </tr>\n",
       "    <tr>\n",
       "      <th>103762</th>\n",
       "      <td>132124</td>\n",
       "      <td>Aaron Addison</td>\n",
       "      <td>1037.0</td>\n",
       "    </tr>\n",
       "    <tr>\n",
       "      <th>71687</th>\n",
       "      <td>132124</td>\n",
       "      <td>Aaron Addison</td>\n",
       "      <td>1037.0</td>\n",
       "    </tr>\n",
       "    <tr>\n",
       "      <th>89564</th>\n",
       "      <td>132124</td>\n",
       "      <td>Aaron Addison</td>\n",
       "      <td>1055.0</td>\n",
       "    </tr>\n",
       "    <tr>\n",
       "      <th>72918</th>\n",
       "      <td>132124</td>\n",
       "      <td>Aaron Addison</td>\n",
       "      <td>1254.0</td>\n",
       "    </tr>\n",
       "    <tr>\n",
       "      <th>...</th>\n",
       "      <td>...</td>\n",
       "      <td>...</td>\n",
       "      <td>...</td>\n",
       "    </tr>\n",
       "    <tr>\n",
       "      <th>47274</th>\n",
       "      <td>202636</td>\n",
       "      <td>Zuzana Zlochova</td>\n",
       "      <td>455.0</td>\n",
       "    </tr>\n",
       "    <tr>\n",
       "      <th>47227</th>\n",
       "      <td>202636</td>\n",
       "      <td>Zuzana Zlochova</td>\n",
       "      <td>445.0</td>\n",
       "    </tr>\n",
       "    <tr>\n",
       "      <th>47123</th>\n",
       "      <td>202636</td>\n",
       "      <td>Zuzana Zlochova</td>\n",
       "      <td>544.0</td>\n",
       "    </tr>\n",
       "    <tr>\n",
       "      <th>38361</th>\n",
       "      <td>202636</td>\n",
       "      <td>Zuzana Zlochova</td>\n",
       "      <td>427.0</td>\n",
       "    </tr>\n",
       "    <tr>\n",
       "      <th>133318</th>\n",
       "      <td>202636</td>\n",
       "      <td>Zuzana Zlochova</td>\n",
       "      <td>779.0</td>\n",
       "    </tr>\n",
       "  </tbody>\n",
       "</table>\n",
       "<p>316918 rows × 3 columns</p>\n",
       "</div>"
      ],
      "text/plain": [
       "        player_id      player_name  player_rank\n",
       "76205      126608    Aaro Pollanen       1559.0\n",
       "103762     132124    Aaron Addison       1037.0\n",
       "71687      132124    Aaron Addison       1037.0\n",
       "89564      132124    Aaron Addison       1055.0\n",
       "72918      132124    Aaron Addison       1254.0\n",
       "...           ...              ...          ...\n",
       "47274      202636  Zuzana Zlochova        455.0\n",
       "47227      202636  Zuzana Zlochova        445.0\n",
       "47123      202636  Zuzana Zlochova        544.0\n",
       "38361      202636  Zuzana Zlochova        427.0\n",
       "133318     202636  Zuzana Zlochova        779.0\n",
       "\n",
       "[316918 rows x 3 columns]"
      ]
     },
     "execution_count": 93,
     "metadata": {},
     "output_type": "execute_result"
    }
   ],
   "source": [
    "#elimino le righe con null value\n",
    "player_senza_NAN=player.dropna()\n",
    "player_senza_NAN"
   ]
  },
  {
   "cell_type": "code",
   "execution_count": 94,
   "id": "Tr4iswd6zQv4",
   "metadata": {
    "colab": {
     "base_uri": "https://localhost:8080/"
    },
    "executionInfo": {
     "elapsed": 5,
     "status": "ok",
     "timestamp": 1637405826166,
     "user": {
      "displayName": "FEDERICO CANEPUZZI",
      "photoUrl": "https://lh3.googleusercontent.com/a/default-user=s64",
      "userId": "05015019107900810205"
     },
     "user_tz": -60
    },
    "id": "Tr4iswd6zQv4",
    "outputId": "2fdbc2dc-1079-4a59-9103-ecf24d6d9164"
   },
   "outputs": [
    {
     "data": {
      "text/plain": [
       "player_name\n",
       "Aaro Pollanen               1559.000000\n",
       "Aaron Addison               1130.900000\n",
       "Abbie Myers                  474.929936\n",
       "Abdullah Maqdas             1298.000000\n",
       "Abduvoris Saitmukhamedov    2061.000000\n",
       "                               ...     \n",
       "Zoziya Kardava              1106.833333\n",
       "Zsombor Piros                452.593023\n",
       "Zuzana Luknarova             831.000000\n",
       "Zuzana Zalabska              858.000000\n",
       "Zuzana Zlochova              460.664804\n",
       "Name: player_rank, Length: 4447, dtype: float64"
      ]
     },
     "execution_count": 94,
     "metadata": {},
     "output_type": "execute_result"
    }
   ],
   "source": [
    "#faccio la media di rank su ogni player\n",
    "media_rank=player_senza_NAN.groupby(['player_name'])['player_rank'].mean()\n",
    "media_rank\n"
   ]
  },
  {
   "cell_type": "code",
   "execution_count": null,
   "id": "xiCTm3NwzQv4",
   "metadata": {
    "executionInfo": {
     "elapsed": 2,
     "status": "ok",
     "timestamp": 1637405826523,
     "user": {
      "displayName": "FEDERICO CANEPUZZI",
      "photoUrl": "https://lh3.googleusercontent.com/a/default-user=s64",
      "userId": "05015019107900810205"
     },
     "user_tz": -60
    },
    "id": "xiCTm3NwzQv4"
   },
   "outputs": [],
   "source": []
  },
  {
   "cell_type": "code",
   "execution_count": 95,
   "id": "ZeoBv_tyzQv5",
   "metadata": {
    "colab": {
     "base_uri": "https://localhost:8080/"
    },
    "executionInfo": {
     "elapsed": 6,
     "status": "ok",
     "timestamp": 1637405827233,
     "user": {
      "displayName": "FEDERICO CANEPUZZI",
      "photoUrl": "https://lh3.googleusercontent.com/a/default-user=s64",
      "userId": "05015019107900810205"
     },
     "user_tz": -60
    },
    "id": "ZeoBv_tyzQv5",
    "outputId": "b20ba3bd-8880-41ed-a601-03cb3507e9b6"
   },
   "outputs": [
    {
     "data": {
      "text/plain": [
       "825.0"
      ]
     },
     "execution_count": 95,
     "metadata": {},
     "output_type": "execute_result"
    }
   ],
   "source": [
    "#calcolo la media per i player che non hanno mai il rank\n",
    "media_player_NotIn_media_rank=float(int(media_rank.mean()))\n",
    "media_player_NotIn_media_rank"
   ]
  },
  {
   "cell_type": "code",
   "execution_count": 96,
   "id": "1DZEXod1zQv5",
   "metadata": {
    "executionInfo": {
     "elapsed": 18781,
     "status": "ok",
     "timestamp": 1637405846990,
     "user": {
      "displayName": "FEDERICO CANEPUZZI",
      "photoUrl": "https://lh3.googleusercontent.com/a/default-user=s64",
      "userId": "05015019107900810205"
     },
     "user_tz": -60
    },
    "id": "1DZEXod1zQv5"
   },
   "outputs": [],
   "source": [
    "#itero su tennis, riempiendo i null value con le medie di ogni player in base al rank. \n",
    "#Ricerco il valore sui media_rank\n",
    "for index, row in tennis.iterrows():\n",
    "    \n",
    "    colonne=['winner','loser']\n",
    "    for col in colonne:\n",
    "        if pd.isna(row[col+'_rank']):\n",
    "            if row[col+'_name'] in media_rank:\n",
    "                rank=float(int(media_rank[row[col+'_name']]))\n",
    "        \n",
    "            else:\n",
    "                rank=media_player_NotIn_media_rank\n",
    "\n",
    "            tennis.at[index, col+'_rank'] = rank\n",
    "       \n"
   ]
  },
  {
   "cell_type": "code",
   "execution_count": 97,
   "id": "FqpdkQJAzQv5",
   "metadata": {
    "colab": {
     "base_uri": "https://localhost:8080/"
    },
    "executionInfo": {
     "elapsed": 23,
     "status": "ok",
     "timestamp": 1637405846990,
     "user": {
      "displayName": "FEDERICO CANEPUZZI",
      "photoUrl": "https://lh3.googleusercontent.com/a/default-user=s64",
      "userId": "05015019107900810205"
     },
     "user_tz": -60
    },
    "id": "FqpdkQJAzQv5",
    "outputId": "f6eda430-e917-4369-d7ff-d8b7ad156225"
   },
   "outputs": [
    {
     "name": "stdout",
     "output_type": "stream",
     "text": [
      "<class 'pandas.core.frame.DataFrame'>\n",
      "Int64Index: 185758 entries, 0 to 186072\n",
      "Data columns (total 47 columns):\n",
      " #   Column              Non-Null Count   Dtype  \n",
      "---  ------              --------------   -----  \n",
      " 0   tourney_id          185758 non-null  object \n",
      " 1   tourney_name        185758 non-null  object \n",
      " 2   surface             185596 non-null  object \n",
      " 3   draw_size           185758 non-null  int64  \n",
      " 4   tourney_level       185758 non-null  object \n",
      " 5   tourney_date        185758 non-null  int64  \n",
      " 6   match_num           185758 non-null  int64  \n",
      " 7   winner_id           185758 non-null  int64  \n",
      " 8   winner_name         185758 non-null  object \n",
      " 9   winner_hand         185758 non-null  object \n",
      " 10  winner_ht           185758 non-null  float64\n",
      " 11  winner_ioc          185758 non-null  object \n",
      " 12  winner_age          185518 non-null  float64\n",
      " 13  loser_id            185758 non-null  int64  \n",
      " 14  loser_name          185758 non-null  object \n",
      " 15  loser_hand          185758 non-null  object \n",
      " 16  loser_ht            185758 non-null  float64\n",
      " 17  loser_ioc           185758 non-null  object \n",
      " 18  loser_age           185517 non-null  float64\n",
      " 19  score               185758 non-null  object \n",
      " 20  best_of             185758 non-null  int64  \n",
      " 21  round               185758 non-null  object \n",
      " 22  minutes             81331 non-null   float64\n",
      " 23  w_ace               81979 non-null   float64\n",
      " 24  w_df                81979 non-null   float64\n",
      " 25  w_svpt              81979 non-null   float64\n",
      " 26  w_1stIn             81979 non-null   float64\n",
      " 27  w_1stWon            81979 non-null   float64\n",
      " 28  w_2ndWon            81979 non-null   float64\n",
      " 29  w_SvGms             81983 non-null   float64\n",
      " 30  w_bpSaved           81979 non-null   float64\n",
      " 31  w_bpFaced           81979 non-null   float64\n",
      " 32  l_ace               81979 non-null   float64\n",
      " 33  l_df                81979 non-null   float64\n",
      " 34  l_svpt              81979 non-null   float64\n",
      " 35  l_1stIn             81979 non-null   float64\n",
      " 36  l_1stWon            81979 non-null   float64\n",
      " 37  l_2ndWon            81979 non-null   float64\n",
      " 38  l_SvGms             81983 non-null   float64\n",
      " 39  l_bpSaved           81979 non-null   float64\n",
      " 40  l_bpFaced           81979 non-null   float64\n",
      " 41  winner_rank         185758 non-null  float64\n",
      " 42  winner_rank_points  166373 non-null  float64\n",
      " 43  loser_rank          185758 non-null  float64\n",
      " 44  loser_rank_points   150513 non-null  float64\n",
      " 45  tourney_spectators  185758 non-null  int64  \n",
      " 46  tourney_revenue     185758 non-null  float64\n",
      "dtypes: float64(28), int64(7), object(12)\n",
      "memory usage: 72.1+ MB\n"
     ]
    }
   ],
   "source": [
    "tennis.info()"
   ]
  },
  {
   "cell_type": "code",
   "execution_count": null,
   "id": "m-aEtxO3zQv6",
   "metadata": {
    "executionInfo": {
     "elapsed": 18,
     "status": "ok",
     "timestamp": 1637405846991,
     "user": {
      "displayName": "FEDERICO CANEPUZZI",
      "photoUrl": "https://lh3.googleusercontent.com/a/default-user=s64",
      "userId": "05015019107900810205"
     },
     "user_tz": -60
    },
    "id": "m-aEtxO3zQv6"
   },
   "outputs": [],
   "source": []
  },
  {
   "cell_type": "markdown",
   "id": "iOdKb5jkzQv6",
   "metadata": {
    "id": "iOdKb5jkzQv6"
   },
   "source": [
    "## NULL VALUE IN RANK_POINTS"
   ]
  },
  {
   "cell_type": "code",
   "execution_count": 98,
   "id": "0oCA3WfgzQv6",
   "metadata": {
    "executionInfo": {
     "elapsed": 336,
     "status": "ok",
     "timestamp": 1637406416339,
     "user": {
      "displayName": "FEDERICO CANEPUZZI",
      "photoUrl": "https://lh3.googleusercontent.com/a/default-user=s64",
      "userId": "05015019107900810205"
     },
     "user_tz": -60
    },
    "id": "0oCA3WfgzQv6"
   },
   "outputs": [],
   "source": [
    "##per riempire i valori su winner_rank_points e su loser_rank_points, è stata calcolata la media per ogni specifico player. \n",
    "#I valori mancanti per un player sono stati riempiti con la sua media su rank_points. Se un player ha solo valori null\n",
    "#su rank_points allora gli viene impostata la media di tutte le medie"
   ]
  },
  {
   "cell_type": "code",
   "execution_count": 99,
   "id": "xC5xVoOnzQv6",
   "metadata": {
    "colab": {
     "base_uri": "https://localhost:8080/"
    },
    "executionInfo": {
     "elapsed": 6,
     "status": "ok",
     "timestamp": 1637406416808,
     "user": {
      "displayName": "FEDERICO CANEPUZZI",
      "photoUrl": "https://lh3.googleusercontent.com/a/default-user=s64",
      "userId": "05015019107900810205"
     },
     "user_tz": -60
    },
    "id": "xC5xVoOnzQv6",
    "outputId": "9e1d3ee9-8cf5-408e-8430-0782fa0d6eeb"
   },
   "outputs": [
    {
     "data": {
      "text/plain": [
       "4.0       1376\n",
       "8.0       1300\n",
       "7.0       1264\n",
       "3.0       1245\n",
       "5.0       1232\n",
       "          ... \n",
       "1591.0       1\n",
       "2274.0       1\n",
       "1843.0       1\n",
       "4230.0       1\n",
       "5650.0       1\n",
       "Name: winner_rank_points, Length: 3144, dtype: int64"
      ]
     },
     "execution_count": 99,
     "metadata": {},
     "output_type": "execute_result"
    }
   ],
   "source": [
    "tennis['winner_rank_points'].value_counts()"
   ]
  },
  {
   "cell_type": "code",
   "execution_count": 100,
   "id": "R52CfULOzQv7",
   "metadata": {
    "colab": {
     "base_uri": "https://localhost:8080/",
     "height": 423
    },
    "executionInfo": {
     "elapsed": 533,
     "status": "ok",
     "timestamp": 1637406417782,
     "user": {
      "displayName": "FEDERICO CANEPUZZI",
      "photoUrl": "https://lh3.googleusercontent.com/a/default-user=s64",
      "userId": "05015019107900810205"
     },
     "user_tz": -60
    },
    "id": "R52CfULOzQv7",
    "outputId": "d0fea5c6-5fcd-440f-9238-825cecc5e921"
   },
   "outputs": [
    {
     "data": {
      "text/html": [
       "<div>\n",
       "<style scoped>\n",
       "    .dataframe tbody tr th:only-of-type {\n",
       "        vertical-align: middle;\n",
       "    }\n",
       "\n",
       "    .dataframe tbody tr th {\n",
       "        vertical-align: top;\n",
       "    }\n",
       "\n",
       "    .dataframe thead th {\n",
       "        text-align: right;\n",
       "    }\n",
       "</style>\n",
       "<table border=\"1\" class=\"dataframe\">\n",
       "  <thead>\n",
       "    <tr style=\"text-align: right;\">\n",
       "      <th></th>\n",
       "      <th>player_id</th>\n",
       "      <th>player_name</th>\n",
       "      <th>player_rank_points</th>\n",
       "    </tr>\n",
       "  </thead>\n",
       "  <tbody>\n",
       "    <tr>\n",
       "      <th>167337</th>\n",
       "      <td>241720</td>\n",
       "      <td>Aada Inna</td>\n",
       "      <td>NaN</td>\n",
       "    </tr>\n",
       "    <tr>\n",
       "      <th>155322</th>\n",
       "      <td>222088</td>\n",
       "      <td>Aalisha Alexis</td>\n",
       "      <td>NaN</td>\n",
       "    </tr>\n",
       "    <tr>\n",
       "      <th>155349</th>\n",
       "      <td>222088</td>\n",
       "      <td>Aalisha Alexis</td>\n",
       "      <td>NaN</td>\n",
       "    </tr>\n",
       "    <tr>\n",
       "      <th>140198</th>\n",
       "      <td>222673</td>\n",
       "      <td>Aaliya Ebrahim</td>\n",
       "      <td>NaN</td>\n",
       "    </tr>\n",
       "    <tr>\n",
       "      <th>140250</th>\n",
       "      <td>222673</td>\n",
       "      <td>Aaliya Ebrahim</td>\n",
       "      <td>NaN</td>\n",
       "    </tr>\n",
       "    <tr>\n",
       "      <th>...</th>\n",
       "      <td>...</td>\n",
       "      <td>...</td>\n",
       "      <td>...</td>\n",
       "    </tr>\n",
       "    <tr>\n",
       "      <th>170479</th>\n",
       "      <td>242443</td>\n",
       "      <td>Zuzanna Bednarz</td>\n",
       "      <td>NaN</td>\n",
       "    </tr>\n",
       "    <tr>\n",
       "      <th>152014</th>\n",
       "      <td>222154</td>\n",
       "      <td>Zuzanna Szczepanska</td>\n",
       "      <td>NaN</td>\n",
       "    </tr>\n",
       "    <tr>\n",
       "      <th>170519</th>\n",
       "      <td>222154</td>\n",
       "      <td>Zuzanna Szczepanska</td>\n",
       "      <td>NaN</td>\n",
       "    </tr>\n",
       "    <tr>\n",
       "      <th>151955</th>\n",
       "      <td>222154</td>\n",
       "      <td>Zuzanna Szczepanska</td>\n",
       "      <td>NaN</td>\n",
       "    </tr>\n",
       "    <tr>\n",
       "      <th>103564</th>\n",
       "      <td>200638</td>\n",
       "      <td>Zvonimir Oreskovic</td>\n",
       "      <td>NaN</td>\n",
       "    </tr>\n",
       "  </tbody>\n",
       "</table>\n",
       "<p>371516 rows × 3 columns</p>\n",
       "</div>"
      ],
      "text/plain": [
       "        player_id          player_name  player_rank_points\n",
       "167337     241720            Aada Inna                 NaN\n",
       "155322     222088       Aalisha Alexis                 NaN\n",
       "155349     222088       Aalisha Alexis                 NaN\n",
       "140198     222673       Aaliya Ebrahim                 NaN\n",
       "140250     222673       Aaliya Ebrahim                 NaN\n",
       "...           ...                  ...                 ...\n",
       "170479     242443      Zuzanna Bednarz                 NaN\n",
       "152014     222154  Zuzanna Szczepanska                 NaN\n",
       "170519     222154  Zuzanna Szczepanska                 NaN\n",
       "151955     222154  Zuzanna Szczepanska                 NaN\n",
       "103564     200638   Zvonimir Oreskovic                 NaN\n",
       "\n",
       "[371516 rows x 3 columns]"
      ]
     },
     "execution_count": 100,
     "metadata": {},
     "output_type": "execute_result"
    }
   ],
   "source": [
    "winner=tennis[['winner_id','winner_name','winner_rank_points']]\n",
    "winner=winner.rename(columns={'winner_id': 'player_id','winner_name':'player_name','winner_rank_points':'player_rank_points'})\n",
    "          \n",
    "loser=tennis[['loser_id','loser_name','loser_rank_points']]\n",
    "loser=loser.rename(columns={'loser_id': 'player_id','loser_name':'player_name','loser_rank_points':'player_rank_points'})\n",
    "\n",
    "player=[winner,loser]\n",
    "player = pd.concat(player)\n",
    "player=player.sort_values(by=['player_name'])\n",
    "player"
   ]
  },
  {
   "cell_type": "code",
   "execution_count": 101,
   "id": "HegW6YxEzQv8",
   "metadata": {
    "colab": {
     "base_uri": "https://localhost:8080/",
     "height": 423
    },
    "executionInfo": {
     "elapsed": 11,
     "status": "ok",
     "timestamp": 1637406417783,
     "user": {
      "displayName": "FEDERICO CANEPUZZI",
      "photoUrl": "https://lh3.googleusercontent.com/a/default-user=s64",
      "userId": "05015019107900810205"
     },
     "user_tz": -60
    },
    "id": "HegW6YxEzQv8",
    "outputId": "8aa4e89c-0d28-42a0-f310-d24222de2614"
   },
   "outputs": [
    {
     "data": {
      "text/html": [
       "<div>\n",
       "<style scoped>\n",
       "    .dataframe tbody tr th:only-of-type {\n",
       "        vertical-align: middle;\n",
       "    }\n",
       "\n",
       "    .dataframe tbody tr th {\n",
       "        vertical-align: top;\n",
       "    }\n",
       "\n",
       "    .dataframe thead th {\n",
       "        text-align: right;\n",
       "    }\n",
       "</style>\n",
       "<table border=\"1\" class=\"dataframe\">\n",
       "  <thead>\n",
       "    <tr style=\"text-align: right;\">\n",
       "      <th></th>\n",
       "      <th>player_id</th>\n",
       "      <th>player_name</th>\n",
       "      <th>player_rank_points</th>\n",
       "    </tr>\n",
       "  </thead>\n",
       "  <tbody>\n",
       "    <tr>\n",
       "      <th>76205</th>\n",
       "      <td>126608</td>\n",
       "      <td>Aaro Pollanen</td>\n",
       "      <td>2.0</td>\n",
       "    </tr>\n",
       "    <tr>\n",
       "      <th>103762</th>\n",
       "      <td>132124</td>\n",
       "      <td>Aaron Addison</td>\n",
       "      <td>8.0</td>\n",
       "    </tr>\n",
       "    <tr>\n",
       "      <th>71687</th>\n",
       "      <td>132124</td>\n",
       "      <td>Aaron Addison</td>\n",
       "      <td>10.0</td>\n",
       "    </tr>\n",
       "    <tr>\n",
       "      <th>89564</th>\n",
       "      <td>132124</td>\n",
       "      <td>Aaron Addison</td>\n",
       "      <td>8.0</td>\n",
       "    </tr>\n",
       "    <tr>\n",
       "      <th>72918</th>\n",
       "      <td>132124</td>\n",
       "      <td>Aaron Addison</td>\n",
       "      <td>6.0</td>\n",
       "    </tr>\n",
       "    <tr>\n",
       "      <th>...</th>\n",
       "      <td>...</td>\n",
       "      <td>...</td>\n",
       "      <td>...</td>\n",
       "    </tr>\n",
       "    <tr>\n",
       "      <th>47274</th>\n",
       "      <td>202636</td>\n",
       "      <td>Zuzana Zlochova</td>\n",
       "      <td>71.0</td>\n",
       "    </tr>\n",
       "    <tr>\n",
       "      <th>47227</th>\n",
       "      <td>202636</td>\n",
       "      <td>Zuzana Zlochova</td>\n",
       "      <td>72.0</td>\n",
       "    </tr>\n",
       "    <tr>\n",
       "      <th>47123</th>\n",
       "      <td>202636</td>\n",
       "      <td>Zuzana Zlochova</td>\n",
       "      <td>47.0</td>\n",
       "    </tr>\n",
       "    <tr>\n",
       "      <th>38361</th>\n",
       "      <td>202636</td>\n",
       "      <td>Zuzana Zlochova</td>\n",
       "      <td>78.0</td>\n",
       "    </tr>\n",
       "    <tr>\n",
       "      <th>133318</th>\n",
       "      <td>202636</td>\n",
       "      <td>Zuzana Zlochova</td>\n",
       "      <td>21.0</td>\n",
       "    </tr>\n",
       "  </tbody>\n",
       "</table>\n",
       "<p>316886 rows × 3 columns</p>\n",
       "</div>"
      ],
      "text/plain": [
       "        player_id      player_name  player_rank_points\n",
       "76205      126608    Aaro Pollanen                 2.0\n",
       "103762     132124    Aaron Addison                 8.0\n",
       "71687      132124    Aaron Addison                10.0\n",
       "89564      132124    Aaron Addison                 8.0\n",
       "72918      132124    Aaron Addison                 6.0\n",
       "...           ...              ...                 ...\n",
       "47274      202636  Zuzana Zlochova                71.0\n",
       "47227      202636  Zuzana Zlochova                72.0\n",
       "47123      202636  Zuzana Zlochova                47.0\n",
       "38361      202636  Zuzana Zlochova                78.0\n",
       "133318     202636  Zuzana Zlochova                21.0\n",
       "\n",
       "[316886 rows x 3 columns]"
      ]
     },
     "execution_count": 101,
     "metadata": {},
     "output_type": "execute_result"
    }
   ],
   "source": [
    "#elimino le righe con null value\n",
    "player_senza_NAN=player.dropna()\n",
    "player_senza_NAN"
   ]
  },
  {
   "cell_type": "code",
   "execution_count": 102,
   "id": "UYQewEyOzQv8",
   "metadata": {
    "colab": {
     "base_uri": "https://localhost:8080/"
    },
    "executionInfo": {
     "elapsed": 13,
     "status": "ok",
     "timestamp": 1637406418130,
     "user": {
      "displayName": "FEDERICO CANEPUZZI",
      "photoUrl": "https://lh3.googleusercontent.com/a/default-user=s64",
      "userId": "05015019107900810205"
     },
     "user_tz": -60
    },
    "id": "UYQewEyOzQv8",
    "outputId": "19deac86-63c7-42c4-e8c5-3ef7b26b410e"
   },
   "outputs": [
    {
     "data": {
      "text/plain": [
       "player_name\n",
       "Aaro Pollanen                2.000000\n",
       "Aaron Addison                7.700000\n",
       "Abbie Myers                 98.828025\n",
       "Abdullah Maqdas              4.000000\n",
       "Abduvoris Saitmukhamedov     1.000000\n",
       "                              ...    \n",
       "Zoziya Kardava               9.648148\n",
       "Zsombor Piros               74.174419\n",
       "Zuzana Luknarova            17.000000\n",
       "Zuzana Zalabska             14.000000\n",
       "Zuzana Zlochova             87.782123\n",
       "Name: player_rank_points, Length: 4446, dtype: float64"
      ]
     },
     "execution_count": 102,
     "metadata": {},
     "output_type": "execute_result"
    }
   ],
   "source": [
    "#faccio la media di rank su ogni player\n",
    "media_rank_points=player_senza_NAN.groupby(['player_name'])['player_rank_points'].mean()\n",
    "media_rank_points"
   ]
  },
  {
   "cell_type": "code",
   "execution_count": 103,
   "id": "6mfnoyODzQv8",
   "metadata": {
    "colab": {
     "base_uri": "https://localhost:8080/"
    },
    "executionInfo": {
     "elapsed": 7,
     "status": "ok",
     "timestamp": 1637406418130,
     "user": {
      "displayName": "FEDERICO CANEPUZZI",
      "photoUrl": "https://lh3.googleusercontent.com/a/default-user=s64",
      "userId": "05015019107900810205"
     },
     "user_tz": -60
    },
    "id": "6mfnoyODzQv8",
    "outputId": "e21d2cb0-3772-4c17-e2ec-9b390620e96f"
   },
   "outputs": [
    {
     "data": {
      "text/plain": [
       "142.0"
      ]
     },
     "execution_count": 103,
     "metadata": {},
     "output_type": "execute_result"
    }
   ],
   "source": [
    "#calcolo la media per i player che non hanno mai il rank\n",
    "media_player_NotIn_media_rank_points=float(int(media_rank_points.mean()))\n",
    "media_player_NotIn_media_rank_points"
   ]
  },
  {
   "cell_type": "code",
   "execution_count": 104,
   "id": "GRN7PmnJzQv9",
   "metadata": {
    "executionInfo": {
     "elapsed": 18401,
     "status": "ok",
     "timestamp": 1637406436886,
     "user": {
      "displayName": "FEDERICO CANEPUZZI",
      "photoUrl": "https://lh3.googleusercontent.com/a/default-user=s64",
      "userId": "05015019107900810205"
     },
     "user_tz": -60
    },
    "id": "GRN7PmnJzQv9"
   },
   "outputs": [],
   "source": [
    "#itero su tennis, riempiendo i null value con le medie di ogni player in base al rank_points. Ricerco il valore su\n",
    "#media_rank_points\n",
    "\n",
    "for index, row in tennis.iterrows():\n",
    "    \n",
    "    colonne=['winner','loser']\n",
    "    for col in colonne:\n",
    "        if pd.isna(row[col+'_rank_points']):\n",
    "            if row[col+'_name'] in media_rank_points:\n",
    "                rank_points=float(int(media_rank_points[row[col+'_name']]))\n",
    "        \n",
    "            else:\n",
    "                rank_points=media_player_NotIn_media_rank_points\n",
    "\n",
    "            tennis.at[index, col+'_rank_points'] = rank_points"
   ]
  },
  {
   "cell_type": "code",
   "execution_count": null,
   "id": "6XiYCB9azQv9",
   "metadata": {
    "executionInfo": {
     "elapsed": 25,
     "status": "ok",
     "timestamp": 1637406436887,
     "user": {
      "displayName": "FEDERICO CANEPUZZI",
      "photoUrl": "https://lh3.googleusercontent.com/a/default-user=s64",
      "userId": "05015019107900810205"
     },
     "user_tz": -60
    },
    "id": "6XiYCB9azQv9"
   },
   "outputs": [],
   "source": []
  },
  {
   "cell_type": "markdown",
   "id": "fG2nG_8mzQv9",
   "metadata": {
    "id": "fG2nG_8mzQv9"
   },
   "source": [
    "## PROBLEMI CON I TORNEI"
   ]
  },
  {
   "cell_type": "markdown",
   "id": "nHBccsPnzQv9",
   "metadata": {
    "id": "nHBccsPnzQv9"
   },
   "source": [
    "## Problema con il livello del torneo"
   ]
  },
  {
   "cell_type": "markdown",
   "id": "kh_6tsu9zQv9",
   "metadata": {
    "id": "kh_6tsu9zQv9"
   },
   "source": [
    "Il problema con i valori di level è che per uno stesso torneo id sono associati spesso due livelli differenti del torneo. Questo analizzando i dati è probabilmente causato da tornei dove si giocano in contemporanea partite maschili e femminili, che presentano alcune volte una nomenclatura del livello differente. Per risolvare questo problema e lasciare il torneo id come chiave univoca, abbiamo deciso di sostituire l'id del torneo con la concatenzazione dell'id del torneo + _ + livello del torneo"
   ]
  },
  {
   "cell_type": "code",
   "execution_count": 105,
   "id": "p_-wHxmazQv9",
   "metadata": {
    "colab": {
     "base_uri": "https://localhost:8080/"
    },
    "executionInfo": {
     "elapsed": 23,
     "status": "ok",
     "timestamp": 1637406436887,
     "user": {
      "displayName": "FEDERICO CANEPUZZI",
      "photoUrl": "https://lh3.googleusercontent.com/a/default-user=s64",
      "userId": "05015019107900810205"
     },
     "user_tz": -60
    },
    "id": "p_-wHxmazQv9",
    "outputId": "5479b4d6-b747-4ade-9a03-b2aeb7a79e55"
   },
   "outputs": [
    {
     "data": {
      "text/plain": [
       "15     45804\n",
       "C      40527\n",
       "25     30743\n",
       "A      11678\n",
       "10     11372\n",
       "G       9981\n",
       "I       8452\n",
       "60      6517\n",
       "P       5944\n",
       "M       3877\n",
       "100     2685\n",
       "D       2373\n",
       "80      1909\n",
       "50      1488\n",
       "PM      1478\n",
       "W        436\n",
       "F        211\n",
       "75       155\n",
       "O        128\n",
       "Name: tourney_level, dtype: int64"
      ]
     },
     "execution_count": 105,
     "metadata": {},
     "output_type": "execute_result"
    }
   ],
   "source": [
    "tennis['tourney_level'].value_counts()"
   ]
  },
  {
   "cell_type": "code",
   "execution_count": 106,
   "id": "jW1z0OnmzQv-",
   "metadata": {
    "colab": {
     "base_uri": "https://localhost:8080/"
    },
    "executionInfo": {
     "elapsed": 20,
     "status": "ok",
     "timestamp": 1637406436888,
     "user": {
      "displayName": "FEDERICO CANEPUZZI",
      "photoUrl": "https://lh3.googleusercontent.com/a/default-user=s64",
      "userId": "05015019107900810205"
     },
     "user_tz": -60
    },
    "id": "jW1z0OnmzQv-",
    "outputId": "f9c33b46-ef13-40f8-fe25-285c22f40c5a"
   },
   "outputs": [
    {
     "data": {
      "text/plain": [
       "tourney_id\n",
       "2016-M001    2\n",
       "2018-M007    2\n",
       "2018-M009    2\n",
       "2018-M010    2\n",
       "2018-M014    2\n",
       "2018-M015    2\n",
       "2018-M016    2\n",
       "2018-M020    2\n",
       "2018-M021    2\n",
       "2018-M024    2\n",
       "2018-M035    2\n",
       "2019-M001    2\n",
       "2019-M004    2\n",
       "2019-M006    2\n",
       "2019-M007    2\n",
       "2019-M009    2\n",
       "2019-M010    2\n",
       "2019-M014    2\n",
       "2019-M015    2\n",
       "2019-M016    2\n",
       "2019-M020    2\n",
       "2019-M021    2\n",
       "2019-M024    2\n",
       "2019-M035    2\n",
       "2020-M004    2\n",
       "2020-M009    2\n",
       "2018-M006    2\n",
       "2020-M024    2\n",
       "2018-M004    2\n",
       "2017-M035    2\n",
       "2016-M004    2\n",
       "2016-M006    2\n",
       "2016-M007    2\n",
       "2016-M009    2\n",
       "2016-M010    2\n",
       "2016-M014    2\n",
       "2016-M015    2\n",
       "2016-M020    2\n",
       "2016-M021    2\n",
       "2016-M024    2\n",
       "2016-M035    2\n",
       "2016-M052    2\n",
       "2016-O16     2\n",
       "2017-M001    2\n",
       "2017-M004    2\n",
       "2017-M006    2\n",
       "2017-M007    2\n",
       "2017-M009    2\n",
       "2017-M010    2\n",
       "2017-M014    2\n",
       "2017-M015    2\n",
       "2017-M016    2\n",
       "2017-M020    2\n",
       "2017-M021    2\n",
       "2017-M024    2\n",
       "2018-M001    2\n",
       "2020-M056    2\n",
       "Name: tourney_level, dtype: int64"
      ]
     },
     "execution_count": 106,
     "metadata": {},
     "output_type": "execute_result"
    }
   ],
   "source": [
    "#qui vediamo come per 57 tornei id siano associati due valori diversi in level\n",
    "torneo=tennis[['tourney_id','tourney_name','tourney_level']]\n",
    "torneo=torneo.drop_duplicates(subset=['tourney_id', 'tourney_level'])\n",
    "\n",
    "torneo_Error=torneo.groupby(['tourney_id'])['tourney_level'].count()\n",
    "torneo_Error=torneo_Error[torneo_Error>1]\n",
    "\n",
    "torneo_Error.sort_values()"
   ]
  },
  {
   "cell_type": "code",
   "execution_count": 107,
   "id": "G0FO8z7IzQv-",
   "metadata": {
    "colab": {
     "base_uri": "https://localhost:8080/"
    },
    "executionInfo": {
     "elapsed": 18,
     "status": "ok",
     "timestamp": 1637406436889,
     "user": {
      "displayName": "FEDERICO CANEPUZZI",
      "photoUrl": "https://lh3.googleusercontent.com/a/default-user=s64",
      "userId": "05015019107900810205"
     },
     "user_tz": -60
    },
    "id": "G0FO8z7IzQv-",
    "outputId": "a3bffa06-2dce-4bcb-e684-3be2108a22bb"
   },
   "outputs": [
    {
     "name": "stdout",
     "output_type": "stream",
     "text": [
      "2016-M001 --> P - A\n",
      "2016-M004 --> I - A\n",
      "2016-M006 --> P - M\n",
      "2016-M007 --> P - M\n",
      "2016-M009 --> P - M\n",
      "2016-M010 --> I - A\n",
      "2016-M014 --> P - A\n",
      "2016-M015 --> P - A\n",
      "2016-M020 --> P - A\n",
      "2016-M021 --> P - M\n",
      "2016-M024 --> P - M\n",
      "2016-M035 --> I - A\n",
      "2016-M052 --> I - A\n",
      "2016-O16 --> O - A\n",
      "2017-M001 --> I - A\n",
      "2017-M004 --> I - A\n",
      "2017-M006 --> PM - M\n",
      "2017-M007 --> PM - M\n",
      "2017-M009 --> P - M\n",
      "2017-M010 --> I - A\n",
      "2017-M014 --> I - A\n",
      "2017-M015 --> PM - A\n",
      "2017-M016 --> P - A\n",
      "2017-M020 --> I - A\n",
      "2017-M021 --> PM - M\n",
      "2017-M024 --> P - M\n",
      "2017-M035 --> I - A\n",
      "2018-M001 --> A - P\n",
      "2018-M004 --> A - I\n",
      "2018-M006 --> M - PM\n",
      "2018-M007 --> M - PM\n",
      "2018-M009 --> M - P\n",
      "2018-M010 --> A - I\n",
      "2018-M014 --> A - P\n",
      "2018-M015 --> A - PM\n",
      "2018-M016 --> A - P\n",
      "2018-M020 --> A - P\n",
      "2018-M021 --> M - PM\n",
      "2018-M024 --> M - PM\n",
      "2018-M035 --> A - I\n",
      "2019-M001 --> A - P\n",
      "2019-M004 --> A - I\n",
      "2019-M006 --> M - PM\n",
      "2019-M007 --> M - PM\n",
      "2019-M009 --> M - P\n",
      "2019-M010 --> A - I\n",
      "2019-M014 --> A - I\n",
      "2019-M015 --> A - PM\n",
      "2019-M016 --> A - P\n",
      "2019-M020 --> A - P\n",
      "2019-M021 --> M - PM\n",
      "2019-M024 --> M - P\n",
      "2019-M035 --> A - I\n",
      "2020-M004 --> A - I\n",
      "2020-M009 --> M - P\n",
      "2020-M024 --> M - P\n",
      "2020-M056 --> A - P\n"
     ]
    }
   ],
   "source": [
    "##stampo tutti gli id dei tornei e i nomi con diversi valori su level\n",
    "\n",
    "for index, value in torneo_Error.items():\n",
    "\n",
    "    print(str(index) + ' --> ',end='')\n",
    "\n",
    "    rows=torneo.loc[torneo['tourney_id']==index]\n",
    "    first=True\n",
    "    for index_torneo, row_torneo in rows.iterrows():\n",
    "        if first:\n",
    "            print(str(row_torneo['tourney_level']) + ' - ',end='')\n",
    "            first=False\n",
    "        else:\n",
    "            print(row_torneo['tourney_level'])\n",
    "            "
   ]
  },
  {
   "cell_type": "code",
   "execution_count": 108,
   "id": "4J4eeYawzQv-",
   "metadata": {
    "executionInfo": {
     "elapsed": 7,
     "status": "ok",
     "timestamp": 1637406437297,
     "user": {
      "displayName": "FEDERICO CANEPUZZI",
      "photoUrl": "https://lh3.googleusercontent.com/a/default-user=s64",
      "userId": "05015019107900810205"
     },
     "user_tz": -60
    },
    "id": "4J4eeYawzQv-"
   },
   "outputs": [],
   "source": [
    "#eseguo la concatenazione di tourney_id e tourney_level separati da _\n",
    "#aggiorno il valore di tourney_id\n",
    "tourney_id_level=tennis['tourney_id'].astype(str)+'_'+tennis['tourney_level'].astype(str)\n",
    "tennis['tourney_id']=tourney_id_level"
   ]
  },
  {
   "cell_type": "code",
   "execution_count": 109,
   "id": "rhDSLFtzzQv-",
   "metadata": {
    "colab": {
     "base_uri": "https://localhost:8080/"
    },
    "executionInfo": {
     "elapsed": 8,
     "status": "ok",
     "timestamp": 1637406437298,
     "user": {
      "displayName": "FEDERICO CANEPUZZI",
      "photoUrl": "https://lh3.googleusercontent.com/a/default-user=s64",
      "userId": "05015019107900810205"
     },
     "user_tz": -60
    },
    "id": "rhDSLFtzzQv-",
    "outputId": "d77f7d8c-c36f-4567-bac1-a990fa6e99f1"
   },
   "outputs": [
    {
     "data": {
      "text/plain": [
       "Series([], Name: tourney_level, dtype: int64)"
      ]
     },
     "execution_count": 109,
     "metadata": {},
     "output_type": "execute_result"
    }
   ],
   "source": [
    "#controllo che non ci siano più problemi con il torneo id\n",
    "torneo=tennis[['tourney_id','tourney_name','tourney_level']]\n",
    "torneo=torneo.drop_duplicates(subset=['tourney_id', 'tourney_name','tourney_level'])\n",
    "\n",
    "torneo_Error=torneo.groupby(['tourney_id','tourney_name'])['tourney_level'].count()\n",
    "torneo_Error=torneo_Error[torneo_Error>1]\n",
    "\n",
    "torneo_Error.sort_values()"
   ]
  },
  {
   "cell_type": "code",
   "execution_count": null,
   "id": "BebYLGqyzQv_",
   "metadata": {
    "executionInfo": {
     "elapsed": 4,
     "status": "ok",
     "timestamp": 1637406437298,
     "user": {
      "displayName": "FEDERICO CANEPUZZI",
      "photoUrl": "https://lh3.googleusercontent.com/a/default-user=s64",
      "userId": "05015019107900810205"
     },
     "user_tz": -60
    },
    "id": "BebYLGqyzQv_"
   },
   "outputs": [],
   "source": []
  },
  {
   "cell_type": "code",
   "execution_count": 110,
   "id": "7qpeOqaIzQv_",
   "metadata": {
    "executionInfo": {
     "elapsed": 3,
     "status": "ok",
     "timestamp": 1637406437298,
     "user": {
      "displayName": "FEDERICO CANEPUZZI",
      "photoUrl": "https://lh3.googleusercontent.com/a/default-user=s64",
      "userId": "05015019107900810205"
     },
     "user_tz": -60
    },
    "id": "7qpeOqaIzQv_"
   },
   "outputs": [],
   "source": [
    "##2 tornei presentano stesso torneo id ma diverso nome. 1 è causato da un errore di \n",
    "#digitalizzazione del dato, mentre l'altro presenta rappresenta l'id del torneo di qualificazione\n",
    "#per gli australian open e cambia nome in base a femminile o maschile; si è deciso di\n",
    "#lasciare solo la parte di nome comune\n"
   ]
  },
  {
   "cell_type": "code",
   "execution_count": 111,
   "id": "zE9Y1dLlzQv_",
   "metadata": {
    "colab": {
     "base_uri": "https://localhost:8080/"
    },
    "executionInfo": {
     "elapsed": 288,
     "status": "ok",
     "timestamp": 1637406442363,
     "user": {
      "displayName": "FEDERICO CANEPUZZI",
      "photoUrl": "https://lh3.googleusercontent.com/a/default-user=s64",
      "userId": "05015019107900810205"
     },
     "user_tz": -60
    },
    "id": "zE9Y1dLlzQv_",
    "outputId": "05e20988-cba5-469b-a456-9f6c34d109e2"
   },
   "outputs": [
    {
     "name": "stdout",
     "output_type": "stream",
     "text": [
      "tourney_id\n",
      "2019-560_G    2\n",
      "2021-581_G    2\n",
      "Name: tourney_name, dtype: int64\n",
      "\n",
      "Totale tornei_id con nomi diversi = 2\n"
     ]
    }
   ],
   "source": [
    "#creo un dataframe con id del torneo e nome del torneo\n",
    "torneo=tennis[['tourney_id','tourney_name']]\n",
    "#elimino le righe duplicate\n",
    "torneo=torneo.drop_duplicates(subset=['tourney_id', 'tourney_name'])\n",
    "#faccio una groupby sull'id per vedere quanti nomi diversi sono associati ad ogni id. Elimino i record in cui ad un id\n",
    "#corrisponde solo un nome\n",
    "torneo_Error=torneo.groupby(['tourney_id'])['tourney_name'].count()\n",
    "torneo_Error=torneo_Error[torneo_Error>1]\n",
    "\n",
    "print(torneo_Error)\n",
    "\n",
    "print('')\n",
    "print('Totale tornei_id con nomi diversi = ',end='')\n",
    "print(len(torneo_Error))"
   ]
  },
  {
   "cell_type": "code",
   "execution_count": 112,
   "id": "zVxR43m0zQv_",
   "metadata": {
    "colab": {
     "base_uri": "https://localhost:8080/"
    },
    "executionInfo": {
     "elapsed": 262,
     "status": "ok",
     "timestamp": 1637406444938,
     "user": {
      "displayName": "FEDERICO CANEPUZZI",
      "photoUrl": "https://lh3.googleusercontent.com/a/default-user=s64",
      "userId": "05015019107900810205"
     },
     "user_tz": -60
    },
    "id": "zVxR43m0zQv_",
    "outputId": "d27bb063-2085-48a1-db6b-e1064181dcc3"
   },
   "outputs": [
    {
     "name": "stdout",
     "output_type": "stream",
     "text": [
      "2019-560_G --> US Open - Us Open\n",
      "2021-581_G --> Doha Aus Open Qualies - Dubai Aus Open Qualies\n"
     ]
    }
   ],
   "source": [
    "##stampo tutti gli id dei tornei con diverso valori su name\n",
    "for index, value in torneo_Error.items():\n",
    "    \n",
    "    print(str(index) + ' --> ',end='')\n",
    "\n",
    "    rows=torneo.loc[torneo['tourney_id']==index]\n",
    "    first=True\n",
    "    for index_torneo, row_torneo in rows.iterrows():\n",
    "        if first:\n",
    "            print(str(row_torneo['tourney_name']) + ' - ',end='')\n",
    "            first=False\n",
    "        else:\n",
    "            print(row_torneo['tourney_name'])"
   ]
  },
  {
   "cell_type": "code",
   "execution_count": null,
   "id": "UF_10ElTzQwA",
   "metadata": {
    "executionInfo": {
     "elapsed": 3,
     "status": "ok",
     "timestamp": 1637406446071,
     "user": {
      "displayName": "FEDERICO CANEPUZZI",
      "photoUrl": "https://lh3.googleusercontent.com/a/default-user=s64",
      "userId": "05015019107900810205"
     },
     "user_tz": -60
    },
    "id": "UF_10ElTzQwA"
   },
   "outputs": [],
   "source": []
  },
  {
   "cell_type": "code",
   "execution_count": 113,
   "id": "Ua_v62kIzQwA",
   "metadata": {
    "executionInfo": {
     "elapsed": 391,
     "status": "ok",
     "timestamp": 1637406447502,
     "user": {
      "displayName": "FEDERICO CANEPUZZI",
      "photoUrl": "https://lh3.googleusercontent.com/a/default-user=s64",
      "userId": "05015019107900810205"
     },
     "user_tz": -60
    },
    "id": "Ua_v62kIzQwA"
   },
   "outputs": [],
   "source": [
    "#modifico i nomi dei 2 tornei id 'manualmente'\n",
    "\n",
    "t=tennis.loc[tennis['tourney_name']=='Us Open']\n",
    "for index, row in t.iterrows():\n",
    "    tennis.at[index, 'tourney_name'] = \"US Open\"\n",
    "    \n",
    "t=tennis.loc[tennis['tourney_name']=='Doha Aus Open Qualies']\n",
    "for index, row in t.iterrows():\n",
    "    tennis.at[index, 'tourney_name'] = \"Aus Open Qualies\"\n",
    "\n",
    "t=tennis.loc[tennis['tourney_name']=='Dubai Aus Open Qualies']\n",
    "for index, row in t.iterrows():\n",
    "    tennis.at[index, 'tourney_name'] = \"Aus Open Qualies\"\n",
    "    \n"
   ]
  },
  {
   "cell_type": "code",
   "execution_count": 114,
   "id": "G5NfBZ-pzQwA",
   "metadata": {
    "executionInfo": {
     "elapsed": 2,
     "status": "ok",
     "timestamp": 1637406447875,
     "user": {
      "displayName": "FEDERICO CANEPUZZI",
      "photoUrl": "https://lh3.googleusercontent.com/a/default-user=s64",
      "userId": "05015019107900810205"
     },
     "user_tz": -60
    },
    "id": "G5NfBZ-pzQwA"
   },
   "outputs": [],
   "source": [
    "torneo=tennis[['tourney_id','tourney_name']]\n",
    "torneo=torneo.drop_duplicates(subset=['tourney_id', 'tourney_name'])\n",
    "\n",
    "torneo_Error=torneo.groupby(['tourney_id'])['tourney_name'].count()\n",
    "torneo_Error=torneo_Error[torneo_Error>1]\n",
    "\n",
    "##stampo tutti gli id dei tornei con diverso valori su name\n",
    "for index, value in torneo_Error.items():\n",
    "    \n",
    "    print(str(index) + ' --> ',end='')\n",
    "\n",
    "    rows=torneo.loc[torneo['tourney_id']==index]\n",
    "    first=True\n",
    "    for index_torneo, row_torneo in rows.iterrows():\n",
    "        if first:\n",
    "            print(str(row_torneo['tourney_name']) + ' - ',end='')\n",
    "            first=False\n",
    "        else:\n",
    "            print(row_torneo['tourney_name'])\n"
   ]
  },
  {
   "cell_type": "code",
   "execution_count": 115,
   "id": "WRBSI2dpzQwA",
   "metadata": {
    "executionInfo": {
     "elapsed": 2,
     "status": "ok",
     "timestamp": 1637406448490,
     "user": {
      "displayName": "FEDERICO CANEPUZZI",
      "photoUrl": "https://lh3.googleusercontent.com/a/default-user=s64",
      "userId": "05015019107900810205"
     },
     "user_tz": -60
    },
    "id": "WRBSI2dpzQwA"
   },
   "outputs": [],
   "source": [
    "# modifico i nomi degli altri 22 tornei_id in cui appare la parola Master\n",
    "#itero su torneo_Error, cioè la Series con gli id dei tornei da modificare come index\n",
    "for index, value in torneo_Error.items():\n",
    "    #seleziono solo le righe del dataframe tennis con id torneo == index\n",
    "    rows=tennis.loc[tennis['tourney_id']==index]\n",
    "    for index_tennis, row_tennis in rows.iterrows():\n",
    "        #sostituisco la parola Master, se presente, con niente\n",
    "        new_Name=row_tennis['tourney_name'].replace('Masters','').strip()\n",
    "        tennis.at[index_tennis, 'tourney_name'] = new_Name\n"
   ]
  },
  {
   "cell_type": "code",
   "execution_count": 116,
   "id": "KLQ2iQgdzQwB",
   "metadata": {
    "colab": {
     "base_uri": "https://localhost:8080/"
    },
    "executionInfo": {
     "elapsed": 438,
     "status": "ok",
     "timestamp": 1637406449309,
     "user": {
      "displayName": "FEDERICO CANEPUZZI",
      "photoUrl": "https://lh3.googleusercontent.com/a/default-user=s64",
      "userId": "05015019107900810205"
     },
     "user_tz": -60
    },
    "id": "KLQ2iQgdzQwB",
    "outputId": "864607f5-f970-4b70-f004-d13983a760a1"
   },
   "outputs": [
    {
     "name": "stdout",
     "output_type": "stream",
     "text": [
      "Series([], Name: tourney_name, dtype: int64)\n",
      "\n",
      "Totale tornei_id con nomi diversi = 0\n"
     ]
    }
   ],
   "source": [
    "#controllo se ci sono ancora tornei id con nomi diversi\n",
    "torneo=tennis[['tourney_id','tourney_name']]\n",
    "torneo=torneo.drop_duplicates(subset=['tourney_id', 'tourney_name'])\n",
    "\n",
    "torneo_Error=torneo.groupby(['tourney_id'])['tourney_name'].count()\n",
    "torneo_Error=torneo_Error[torneo_Error>1]\n",
    "\n",
    "print(torneo_Error)\n",
    "\n",
    "print('')\n",
    "print('Totale tornei_id con nomi diversi = ',end='')\n",
    "print(len(torneo_Error)) "
   ]
  },
  {
   "cell_type": "code",
   "execution_count": null,
   "id": "ZtWegmPYzQwB",
   "metadata": {
    "executionInfo": {
     "elapsed": 3,
     "status": "ok",
     "timestamp": 1637406449600,
     "user": {
      "displayName": "FEDERICO CANEPUZZI",
      "photoUrl": "https://lh3.googleusercontent.com/a/default-user=s64",
      "userId": "05015019107900810205"
     },
     "user_tz": -60
    },
    "id": "ZtWegmPYzQwB"
   },
   "outputs": [],
   "source": []
  },
  {
   "cell_type": "code",
   "execution_count": 117,
   "id": "MfYAMqVczQwB",
   "metadata": {
    "colab": {
     "base_uri": "https://localhost:8080/"
    },
    "executionInfo": {
     "elapsed": 5,
     "status": "ok",
     "timestamp": 1637406449874,
     "user": {
      "displayName": "FEDERICO CANEPUZZI",
      "photoUrl": "https://lh3.googleusercontent.com/a/default-user=s64",
      "userId": "05015019107900810205"
     },
     "user_tz": -60
    },
    "id": "MfYAMqVczQwB",
    "outputId": "0a651b2d-d786-4b28-9763-e81d8957233d"
   },
   "outputs": [
    {
     "name": "stdout",
     "output_type": "stream",
     "text": [
      "<class 'pandas.core.frame.DataFrame'>\n",
      "Int64Index: 185758 entries, 0 to 186072\n",
      "Data columns (total 47 columns):\n",
      " #   Column              Non-Null Count   Dtype  \n",
      "---  ------              --------------   -----  \n",
      " 0   tourney_id          185758 non-null  object \n",
      " 1   tourney_name        185758 non-null  object \n",
      " 2   surface             185596 non-null  object \n",
      " 3   draw_size           185758 non-null  int64  \n",
      " 4   tourney_level       185758 non-null  object \n",
      " 5   tourney_date        185758 non-null  int64  \n",
      " 6   match_num           185758 non-null  int64  \n",
      " 7   winner_id           185758 non-null  int64  \n",
      " 8   winner_name         185758 non-null  object \n",
      " 9   winner_hand         185758 non-null  object \n",
      " 10  winner_ht           185758 non-null  float64\n",
      " 11  winner_ioc          185758 non-null  object \n",
      " 12  winner_age          185518 non-null  float64\n",
      " 13  loser_id            185758 non-null  int64  \n",
      " 14  loser_name          185758 non-null  object \n",
      " 15  loser_hand          185758 non-null  object \n",
      " 16  loser_ht            185758 non-null  float64\n",
      " 17  loser_ioc           185758 non-null  object \n",
      " 18  loser_age           185517 non-null  float64\n",
      " 19  score               185758 non-null  object \n",
      " 20  best_of             185758 non-null  int64  \n",
      " 21  round               185758 non-null  object \n",
      " 22  minutes             81331 non-null   float64\n",
      " 23  w_ace               81979 non-null   float64\n",
      " 24  w_df                81979 non-null   float64\n",
      " 25  w_svpt              81979 non-null   float64\n",
      " 26  w_1stIn             81979 non-null   float64\n",
      " 27  w_1stWon            81979 non-null   float64\n",
      " 28  w_2ndWon            81979 non-null   float64\n",
      " 29  w_SvGms             81983 non-null   float64\n",
      " 30  w_bpSaved           81979 non-null   float64\n",
      " 31  w_bpFaced           81979 non-null   float64\n",
      " 32  l_ace               81979 non-null   float64\n",
      " 33  l_df                81979 non-null   float64\n",
      " 34  l_svpt              81979 non-null   float64\n",
      " 35  l_1stIn             81979 non-null   float64\n",
      " 36  l_1stWon            81979 non-null   float64\n",
      " 37  l_2ndWon            81979 non-null   float64\n",
      " 38  l_SvGms             81983 non-null   float64\n",
      " 39  l_bpSaved           81979 non-null   float64\n",
      " 40  l_bpFaced           81979 non-null   float64\n",
      " 41  winner_rank         185758 non-null  float64\n",
      " 42  winner_rank_points  185758 non-null  float64\n",
      " 43  loser_rank          185758 non-null  float64\n",
      " 44  loser_rank_points   185758 non-null  float64\n",
      " 45  tourney_spectators  185758 non-null  int64  \n",
      " 46  tourney_revenue     185758 non-null  float64\n",
      "dtypes: float64(28), int64(7), object(12)\n",
      "memory usage: 72.1+ MB\n"
     ]
    }
   ],
   "source": [
    "tennis.info()"
   ]
  },
  {
   "cell_type": "markdown",
   "id": "I7BQztDNzQwB",
   "metadata": {
    "id": "I7BQztDNzQwB"
   },
   "source": [
    "## problema miss value surface"
   ]
  },
  {
   "cell_type": "code",
   "execution_count": 118,
   "id": "3ADhrkbVzQwB",
   "metadata": {
    "executionInfo": {
     "elapsed": 497,
     "status": "ok",
     "timestamp": 1637406451752,
     "user": {
      "displayName": "FEDERICO CANEPUZZI",
      "photoUrl": "https://lh3.googleusercontent.com/a/default-user=s64",
      "userId": "05015019107900810205"
     },
     "user_tz": -60
    },
    "id": "3ADhrkbVzQwB"
   },
   "outputs": [],
   "source": [
    "# non sono presenti tornei con stesso nome ma diversa superficie. I missing value sono stati riempiti con la moda"
   ]
  },
  {
   "cell_type": "code",
   "execution_count": 119,
   "id": "VP1C6xqDzQwB",
   "metadata": {
    "colab": {
     "base_uri": "https://localhost:8080/"
    },
    "executionInfo": {
     "elapsed": 13,
     "status": "ok",
     "timestamp": 1637406452168,
     "user": {
      "displayName": "FEDERICO CANEPUZZI",
      "photoUrl": "https://lh3.googleusercontent.com/a/default-user=s64",
      "userId": "05015019107900810205"
     },
     "user_tz": -60
    },
    "id": "VP1C6xqDzQwB",
    "outputId": "48a1bcef-bbf1-46ff-8597-a42fb8f6de31"
   },
   "outputs": [
    {
     "data": {
      "text/plain": [
       "Series([], Name: surface, dtype: int64)"
      ]
     },
     "execution_count": 119,
     "metadata": {},
     "output_type": "execute_result"
    }
   ],
   "source": [
    "torneo=tennis[['tourney_id','surface']]\n",
    "torneo=torneo.drop_duplicates(subset=['tourney_id', 'surface'])\n",
    "\n",
    "torneo_Error=torneo.groupby(['tourney_id'])['surface'].count()\n",
    "torneo_Error=torneo_Error[torneo_Error>1]\n",
    "\n",
    "torneo_Error.sort_values()"
   ]
  },
  {
   "cell_type": "code",
   "execution_count": 120,
   "id": "15EA-BvtzQwC",
   "metadata": {
    "colab": {
     "base_uri": "https://localhost:8080/",
     "height": 423
    },
    "executionInfo": {
     "elapsed": 9,
     "status": "ok",
     "timestamp": 1637406452169,
     "user": {
      "displayName": "FEDERICO CANEPUZZI",
      "photoUrl": "https://lh3.googleusercontent.com/a/default-user=s64",
      "userId": "05015019107900810205"
     },
     "user_tz": -60
    },
    "id": "15EA-BvtzQwC",
    "outputId": "6c29dc45-89ec-48fd-c31c-780047a466eb"
   },
   "outputs": [
    {
     "data": {
      "text/html": [
       "<div>\n",
       "<style scoped>\n",
       "    .dataframe tbody tr th:only-of-type {\n",
       "        vertical-align: middle;\n",
       "    }\n",
       "\n",
       "    .dataframe tbody tr th {\n",
       "        vertical-align: top;\n",
       "    }\n",
       "\n",
       "    .dataframe thead th {\n",
       "        text-align: right;\n",
       "    }\n",
       "</style>\n",
       "<table border=\"1\" class=\"dataframe\">\n",
       "  <thead>\n",
       "    <tr style=\"text-align: right;\">\n",
       "      <th></th>\n",
       "      <th>tourney_id</th>\n",
       "      <th>surface</th>\n",
       "    </tr>\n",
       "  </thead>\n",
       "  <tbody>\n",
       "    <tr>\n",
       "      <th>86167</th>\n",
       "      <td>2017-W-FC-2017-G2-AM-A-M-ECU-CUB-01_D</td>\n",
       "      <td>NaN</td>\n",
       "    </tr>\n",
       "    <tr>\n",
       "      <th>86169</th>\n",
       "      <td>2017-W-FC-2017-G2-AM-A-M-ECU-URU-01_D</td>\n",
       "      <td>NaN</td>\n",
       "    </tr>\n",
       "    <tr>\n",
       "      <th>86171</th>\n",
       "      <td>2017-W-FC-2017-G2-AM-A-M-URU-CUB-01_D</td>\n",
       "      <td>NaN</td>\n",
       "    </tr>\n",
       "    <tr>\n",
       "      <th>86173</th>\n",
       "      <td>2017-W-FC-2017-G2-AM-B-M-DOM-BAR-01_D</td>\n",
       "      <td>NaN</td>\n",
       "    </tr>\n",
       "    <tr>\n",
       "      <th>86175</th>\n",
       "      <td>2017-W-FC-2017-G2-AM-B-M-GUA-BAR-01_D</td>\n",
       "      <td>NaN</td>\n",
       "    </tr>\n",
       "    <tr>\n",
       "      <th>...</th>\n",
       "      <td>...</td>\n",
       "      <td>...</td>\n",
       "    </tr>\n",
       "    <tr>\n",
       "      <th>162939</th>\n",
       "      <td>2017-M-DC-2017-G2-EPA-M-MON-SLO-01_D</td>\n",
       "      <td>NaN</td>\n",
       "    </tr>\n",
       "    <tr>\n",
       "      <th>162943</th>\n",
       "      <td>2017-M-DC-2017-G2-EPA-M-NOR-LAT-01_D</td>\n",
       "      <td>NaN</td>\n",
       "    </tr>\n",
       "    <tr>\n",
       "      <th>162955</th>\n",
       "      <td>2017-M-DC-2017-G2-EPA-M-TUR-CYP-01_D</td>\n",
       "      <td>NaN</td>\n",
       "    </tr>\n",
       "    <tr>\n",
       "      <th>162959</th>\n",
       "      <td>2017-M-DC-2017-G2-AO-M-VIE-HKG-01_D</td>\n",
       "      <td>NaN</td>\n",
       "    </tr>\n",
       "    <tr>\n",
       "      <th>162995</th>\n",
       "      <td>2017-M-DC-2017-G1-AO-M-TPE-CHN-01_D</td>\n",
       "      <td>NaN</td>\n",
       "    </tr>\n",
       "  </tbody>\n",
       "</table>\n",
       "<p>62 rows × 2 columns</p>\n",
       "</div>"
      ],
      "text/plain": [
       "                                   tourney_id surface\n",
       "86167   2017-W-FC-2017-G2-AM-A-M-ECU-CUB-01_D     NaN\n",
       "86169   2017-W-FC-2017-G2-AM-A-M-ECU-URU-01_D     NaN\n",
       "86171   2017-W-FC-2017-G2-AM-A-M-URU-CUB-01_D     NaN\n",
       "86173   2017-W-FC-2017-G2-AM-B-M-DOM-BAR-01_D     NaN\n",
       "86175   2017-W-FC-2017-G2-AM-B-M-GUA-BAR-01_D     NaN\n",
       "...                                       ...     ...\n",
       "162939   2017-M-DC-2017-G2-EPA-M-MON-SLO-01_D     NaN\n",
       "162943   2017-M-DC-2017-G2-EPA-M-NOR-LAT-01_D     NaN\n",
       "162955   2017-M-DC-2017-G2-EPA-M-TUR-CYP-01_D     NaN\n",
       "162959    2017-M-DC-2017-G2-AO-M-VIE-HKG-01_D     NaN\n",
       "162995    2017-M-DC-2017-G1-AO-M-TPE-CHN-01_D     NaN\n",
       "\n",
       "[62 rows x 2 columns]"
      ]
     },
     "execution_count": 120,
     "metadata": {},
     "output_type": "execute_result"
    }
   ],
   "source": [
    "tornei_solo_NAN=torneo[torneo['surface'].isna()]\n",
    "\n",
    "tornei_solo_NAN"
   ]
  },
  {
   "cell_type": "code",
   "execution_count": 121,
   "id": "GzPyfiLdzQwC",
   "metadata": {
    "colab": {
     "base_uri": "https://localhost:8080/"
    },
    "executionInfo": {
     "elapsed": 7,
     "status": "ok",
     "timestamp": 1637406452653,
     "user": {
      "displayName": "FEDERICO CANEPUZZI",
      "photoUrl": "https://lh3.googleusercontent.com/a/default-user=s64",
      "userId": "05015019107900810205"
     },
     "user_tz": -60
    },
    "id": "GzPyfiLdzQwC",
    "outputId": "6dfd73eb-12b2-4d24-903d-c479ca26d98a"
   },
   "outputs": [
    {
     "name": "stdout",
     "output_type": "stream",
     "text": [
      "2017-W-FC-2017-G2-AM-A-M-ECU-CUB-01_D\n",
      "2017-W-FC-2017-G2-AM-A-M-ECU-URU-01_D\n",
      "2017-W-FC-2017-G2-AM-A-M-URU-CUB-01_D\n",
      "2017-W-FC-2017-G2-AM-B-M-DOM-BAR-01_D\n",
      "2017-W-FC-2017-G2-AM-B-M-GUA-BAR-01_D\n",
      "2017-W-FC-2017-G2-AM-B-M-GUA-DOM-01_D\n",
      "2017-W-FC-2017-G2-AM-C-M-PUR-HON-01_D\n",
      "2017-W-FC-2017-G2-AM-C-M-PUR-TTO-01_D\n",
      "2017-W-FC-2017-G2-AM-C-M-TTO-HON-01_D\n",
      "2017-W-FC-2017-G2-AM-D-M-BAH-PAN-01_D\n",
      "2017-W-FC-2017-G2-AM-D-M-CRC-BAH-01_D\n",
      "2017-W-FC-2017-G2-AM-D-M-CRC-PAN-01_D\n",
      "2017-W-FC-2017-G2-AM-D-M-PER-BAH-01_D\n",
      "2017-W-FC-2017-G2-AM-D-M-PER-CRC-01_D\n",
      "2017-W-FC-2017-G2-AM-D-M-PER-PAN-01_D\n",
      "2017-W-FC-2017-G2-AM-PP5-8-CUB-TTO-01_D\n",
      "2017-W-FC-2017-G2-AM-PP5-8-DOM-CRC-01_D\n",
      "2017-W-FC-2017-G2-AM-PP9-12-BAR-BAH-01_D\n",
      "2017-W-FC-2017-G2-AM-PP9-12-URU-HON-01_D\n",
      "2017-W-FC-2017-G2-AM-PPO-ECU-PUR-01_D\n",
      "2017-W-FC-2017-G2-AM-PPO-GUA-PER-01_D\n",
      "2016-W-FC-2016-G2-AM-A-M-CHI-CRC-01_D\n",
      "2016-W-FC-2016-G2-AM-A-M-CHI-HON-01_D\n",
      "2016-W-FC-2016-G2-AM-A-M-CRC-HON-01_D\n",
      "2016-W-FC-2016-G2-AM-A-M-VEN-CHI-01_D\n",
      "2016-W-FC-2016-G2-AM-A-M-VEN-CRC-01_D\n",
      "2016-W-FC-2016-G2-AM-A-M-VEN-HON-01_D\n",
      "2016-W-FC-2016-G2-AM-B-M-BAH-URU-01_D\n",
      "2016-W-FC-2016-G2-AM-B-M-DOM-BAH-01_D\n",
      "2016-W-FC-2016-G2-AM-B-M-DOM-GUA-01_D\n",
      "2016-W-FC-2016-G2-AM-B-M-DOM-PUR-01_D\n",
      "2016-W-FC-2016-G2-AM-B-M-DOM-URU-01_D\n",
      "2016-W-FC-2016-G2-AM-B-M-GUA-BAH-01_D\n",
      "2016-W-FC-2016-G2-AM-B-M-GUA-PUR-01_D\n",
      "2016-W-FC-2016-G2-AM-B-M-GUA-URU-01_D\n",
      "2016-W-FC-2016-G2-AM-B-M-PUR-BAH-01_D\n",
      "2016-W-FC-2016-G2-AM-B-M-PUR-URU-01_D\n",
      "2016-W-FC-2016-G2-AM-PP5-8-DOM-CRC-01_D\n",
      "2016-W-FC-2016-G2-AM-PP5-8-HON-URU-01_D\n",
      "2016-W-FC-2016-G2-AM-PPO-PUR-CHI-01_D\n",
      "2016-W-FC-2016-G2-AM-PPO-VEN-GUA-01_D\n",
      "2017-M-DC-2017-G1-EPA-M-ISR-POR-01_D\n",
      "2017-M-DC-2017-G1-AO-M-NZL-IND-01_D\n",
      "2017-M-DC-2017-G1-AM-M-PER-ECU-01_D\n",
      "2017-M-DC-2017-G1-EPA-M-ROU-BLR-01_D\n",
      "2017-M-DC-2017-G1-AO-M-UZB-KOR-01_D\n",
      "2017-M-DC-2017-G1-EPA-M-SVK-HUN-01_D\n",
      "2017-M-DC-2017-G2-AM-M-BAH-VEN-01_D\n",
      "2017-M-DC-2017-G2-AM-M-BAR-PAR-01_D\n",
      "2017-M-DC-2017-G2-AM-M-BOL-ESA-01_D\n",
      "2017-M-DC-2017-G2-EPA-M-EST-RSA-01_D\n",
      "2017-M-DC-2017-G2-EPA-M-FIN-GEO-01_D\n",
      "2017-M-DC-2017-G2-AO-M-INA-PHI-01_D\n",
      "2017-M-DC-2017-G2-AO-M-KUW-THA-01_D\n",
      "2017-M-DC-2017-G2-EPA-M-LTU-MAD-01_D\n",
      "2017-M-DC-2017-G2-EPA-M-MAR-DEN-01_D\n",
      "2017-M-DC-2017-G2-AM-M-MEX-GUA-01_D\n",
      "2017-M-DC-2017-G2-EPA-M-MON-SLO-01_D\n",
      "2017-M-DC-2017-G2-EPA-M-NOR-LAT-01_D\n",
      "2017-M-DC-2017-G2-EPA-M-TUR-CYP-01_D\n",
      "2017-M-DC-2017-G2-AO-M-VIE-HKG-01_D\n",
      "2017-M-DC-2017-G1-AO-M-TPE-CHN-01_D\n"
     ]
    }
   ],
   "source": [
    "for index, row in tornei_solo_NAN.iterrows():\n",
    "    print(row['tourney_id'])\n"
   ]
  },
  {
   "cell_type": "code",
   "execution_count": 122,
   "id": "RsMz-xc7zQwC",
   "metadata": {
    "colab": {
     "base_uri": "https://localhost:8080/"
    },
    "executionInfo": {
     "elapsed": 5,
     "status": "ok",
     "timestamp": 1637406452945,
     "user": {
      "displayName": "FEDERICO CANEPUZZI",
      "photoUrl": "https://lh3.googleusercontent.com/a/default-user=s64",
      "userId": "05015019107900810205"
     },
     "user_tz": -60
    },
    "id": "RsMz-xc7zQwC",
    "outputId": "c7437247-5e70-4c10-f38e-cf29e1b73445"
   },
   "outputs": [
    {
     "data": {
      "text/plain": [
       "Hard      94931\n",
       "Clay      81012\n",
       "Grass      6600\n",
       "Carpet     3053\n",
       "Name: surface, dtype: int64"
      ]
     },
     "execution_count": 122,
     "metadata": {},
     "output_type": "execute_result"
    }
   ],
   "source": [
    "tennis['surface'].value_counts()"
   ]
  },
  {
   "cell_type": "code",
   "execution_count": 123,
   "id": "17hWEO7NzQwC",
   "metadata": {
    "executionInfo": {
     "elapsed": 3,
     "status": "ok",
     "timestamp": 1637406454089,
     "user": {
      "displayName": "FEDERICO CANEPUZZI",
      "photoUrl": "https://lh3.googleusercontent.com/a/default-user=s64",
      "userId": "05015019107900810205"
     },
     "user_tz": -60
    },
    "id": "17hWEO7NzQwC"
   },
   "outputs": [],
   "source": [
    "moda=tennis['surface'].mode()\n",
    "moda=moda[0]"
   ]
  },
  {
   "cell_type": "code",
   "execution_count": 124,
   "id": "OYRrsZxVzQwC",
   "metadata": {
    "executionInfo": {
     "elapsed": 2,
     "status": "ok",
     "timestamp": 1637406454469,
     "user": {
      "displayName": "FEDERICO CANEPUZZI",
      "photoUrl": "https://lh3.googleusercontent.com/a/default-user=s64",
      "userId": "05015019107900810205"
     },
     "user_tz": -60
    },
    "id": "OYRrsZxVzQwC"
   },
   "outputs": [],
   "source": [
    "tennis['surface'].fillna(moda, inplace=True)"
   ]
  },
  {
   "cell_type": "code",
   "execution_count": null,
   "id": "a4C_MeYDzQwD",
   "metadata": {
    "executionInfo": {
     "elapsed": 2,
     "status": "ok",
     "timestamp": 1637406455163,
     "user": {
      "displayName": "FEDERICO CANEPUZZI",
      "photoUrl": "https://lh3.googleusercontent.com/a/default-user=s64",
      "userId": "05015019107900810205"
     },
     "user_tz": -60
    },
    "id": "a4C_MeYDzQwD"
   },
   "outputs": [],
   "source": []
  },
  {
   "cell_type": "markdown",
   "id": "_iLCuxnlzQwD",
   "metadata": {
    "id": "_iLCuxnlzQwD"
   },
   "source": [
    "## PROBLEMI CON DRAW SIZE"
   ]
  },
  {
   "cell_type": "code",
   "execution_count": 125,
   "id": "lBX7UoMdzQwD",
   "metadata": {
    "executionInfo": {
     "elapsed": 363,
     "status": "ok",
     "timestamp": 1637406456948,
     "user": {
      "displayName": "FEDERICO CANEPUZZI",
      "photoUrl": "https://lh3.googleusercontent.com/a/default-user=s64",
      "userId": "05015019107900810205"
     },
     "user_tz": -60
    },
    "id": "lBX7UoMdzQwD"
   },
   "outputs": [],
   "source": [
    "#10 tornei id diversi presentano valori diversi su draw_size. I valori diversi sono stati resi uguali inserendo la moda\n",
    "# su draw size del torneo"
   ]
  },
  {
   "cell_type": "code",
   "execution_count": 126,
   "id": "2MR-wSSJzQwD",
   "metadata": {
    "colab": {
     "base_uri": "https://localhost:8080/"
    },
    "executionInfo": {
     "elapsed": 11,
     "status": "ok",
     "timestamp": 1637406457496,
     "user": {
      "displayName": "FEDERICO CANEPUZZI",
      "photoUrl": "https://lh3.googleusercontent.com/a/default-user=s64",
      "userId": "05015019107900810205"
     },
     "user_tz": -60
    },
    "id": "2MR-wSSJzQwD",
    "outputId": "73b90864-f36b-48d8-9d2f-39746032de82"
   },
   "outputs": [
    {
     "data": {
      "text/plain": [
       "32     150950\n",
       "64      17479\n",
       "128     12426\n",
       "4        1355\n",
       "2        1018\n",
       "48        586\n",
       "30        435\n",
       "31        378\n",
       "28        174\n",
       "29        167\n",
       "8         151\n",
       "24        140\n",
       "12         90\n",
       "25         72\n",
       "27         52\n",
       "54         51\n",
       "20         38\n",
       "15         31\n",
       "18         30\n",
       "16         30\n",
       "19         30\n",
       "10         28\n",
       "26         25\n",
       "23         22\n",
       "Name: draw_size, dtype: int64"
      ]
     },
     "execution_count": 126,
     "metadata": {},
     "output_type": "execute_result"
    }
   ],
   "source": [
    "tennis['draw_size'].value_counts()"
   ]
  },
  {
   "cell_type": "code",
   "execution_count": 127,
   "id": "e2Nc4NnKzQwD",
   "metadata": {
    "colab": {
     "base_uri": "https://localhost:8080/"
    },
    "executionInfo": {
     "elapsed": 6,
     "status": "ok",
     "timestamp": 1637406458234,
     "user": {
      "displayName": "FEDERICO CANEPUZZI",
      "photoUrl": "https://lh3.googleusercontent.com/a/default-user=s64",
      "userId": "05015019107900810205"
     },
     "user_tz": -60
    },
    "id": "e2Nc4NnKzQwD",
    "outputId": "65dd1570-95be-4881-cc94-f33dcde18192"
   },
   "outputs": [
    {
     "name": "stdout",
     "output_type": "stream",
     "text": [
      "Series([], Name: draw_size, dtype: int64)\n",
      "\n",
      "Totale tornei_id con nomi diversi = 0\n"
     ]
    }
   ],
   "source": [
    "torneo=tennis[['tourney_id','draw_size']]\n",
    "torneo=torneo.drop_duplicates(subset=['tourney_id', 'draw_size'])\n",
    "\n",
    "torneo_Error=torneo.groupby(['tourney_id'])['draw_size'].count()\n",
    "torneo_Error=torneo_Error[torneo_Error>1]\n",
    "\n",
    "print(torneo_Error)\n",
    "\n",
    "print('')\n",
    "print('Totale tornei_id con nomi diversi = ',end='')\n",
    "print(len(torneo_Error))"
   ]
  },
  {
   "cell_type": "code",
   "execution_count": null,
   "id": "9xPmuJWlzQwD",
   "metadata": {
    "executionInfo": {
     "elapsed": 5,
     "status": "ok",
     "timestamp": 1637406458697,
     "user": {
      "displayName": "FEDERICO CANEPUZZI",
      "photoUrl": "https://lh3.googleusercontent.com/a/default-user=s64",
      "userId": "05015019107900810205"
     },
     "user_tz": -60
    },
    "id": "9xPmuJWlzQwD"
   },
   "outputs": [],
   "source": []
  },
  {
   "cell_type": "code",
   "execution_count": null,
   "id": "UTBQtO6CzQwE",
   "metadata": {
    "executionInfo": {
     "elapsed": 2,
     "status": "ok",
     "timestamp": 1637406458968,
     "user": {
      "displayName": "FEDERICO CANEPUZZI",
      "photoUrl": "https://lh3.googleusercontent.com/a/default-user=s64",
      "userId": "05015019107900810205"
     },
     "user_tz": -60
    },
    "id": "UTBQtO6CzQwE"
   },
   "outputs": [],
   "source": []
  },
  {
   "cell_type": "code",
   "execution_count": null,
   "id": "H7-v1-VHzQwE",
   "metadata": {
    "executionInfo": {
     "elapsed": 2,
     "status": "ok",
     "timestamp": 1637406459254,
     "user": {
      "displayName": "FEDERICO CANEPUZZI",
      "photoUrl": "https://lh3.googleusercontent.com/a/default-user=s64",
      "userId": "05015019107900810205"
     },
     "user_tz": -60
    },
    "id": "H7-v1-VHzQwE"
   },
   "outputs": [],
   "source": []
  },
  {
   "cell_type": "code",
   "execution_count": null,
   "id": "KFYbbgcqzQwE",
   "metadata": {
    "executionInfo": {
     "elapsed": 2,
     "status": "ok",
     "timestamp": 1637406460215,
     "user": {
      "displayName": "FEDERICO CANEPUZZI",
      "photoUrl": "https://lh3.googleusercontent.com/a/default-user=s64",
      "userId": "05015019107900810205"
     },
     "user_tz": -60
    },
    "id": "KFYbbgcqzQwE"
   },
   "outputs": [],
   "source": []
  },
  {
   "cell_type": "markdown",
   "id": "LoaHiPvwzQwE",
   "metadata": {
    "id": "LoaHiPvwzQwE"
   },
   "source": [
    "## la data del torneo e' ok"
   ]
  },
  {
   "cell_type": "code",
   "execution_count": 128,
   "id": "xx1G5b-EzQwE",
   "metadata": {
    "colab": {
     "base_uri": "https://localhost:8080/"
    },
    "executionInfo": {
     "elapsed": 465,
     "status": "ok",
     "timestamp": 1637406461990,
     "user": {
      "displayName": "FEDERICO CANEPUZZI",
      "photoUrl": "https://lh3.googleusercontent.com/a/default-user=s64",
      "userId": "05015019107900810205"
     },
     "user_tz": -60
    },
    "id": "xx1G5b-EzQwE",
    "outputId": "67ea57d5-37c2-4bbd-c186-dac04d1da3fd",
    "scrolled": true
   },
   "outputs": [
    {
     "data": {
      "text/plain": [
       "Series([], Name: tourney_date, dtype: int64)"
      ]
     },
     "execution_count": 128,
     "metadata": {},
     "output_type": "execute_result"
    }
   ],
   "source": [
    "torneo=tennis[['tourney_id','tourney_name','tourney_date']]\n",
    "torneo=torneo.drop_duplicates(subset=['tourney_id', 'tourney_name','tourney_date'])\n",
    "\n",
    "torneo_Error=torneo.groupby(['tourney_id'])['tourney_date'].count()\n",
    "torneo_Error=torneo_Error[torneo_Error>1]\n",
    "\n",
    "torneo_Error.sort_values()"
   ]
  },
  {
   "cell_type": "markdown",
   "id": "LmASvPgrzQwF",
   "metadata": {
    "id": "LmASvPgrzQwF"
   },
   "source": [
    "## PROBLEMA CON MATCH NUMBER"
   ]
  },
  {
   "cell_type": "markdown",
   "id": "Y40P1N-zzQwF",
   "metadata": {
    "id": "Y40P1N-zzQwF"
   },
   "source": [
    "#sono presenti 21261 valori distinti con più righe uguali su id torneo e match number. Modifico tutti i valori di match_number incrementando ogni volta di 1 per lo stesso torneo, ripartendo da zero per ogni nuovo torneo"
   ]
  },
  {
   "cell_type": "code",
   "execution_count": 129,
   "id": "upXQxYoWzQwF",
   "metadata": {
    "colab": {
     "base_uri": "https://localhost:8080/"
    },
    "executionInfo": {
     "elapsed": 444,
     "status": "ok",
     "timestamp": 1637406463581,
     "user": {
      "displayName": "FEDERICO CANEPUZZI",
      "photoUrl": "https://lh3.googleusercontent.com/a/default-user=s64",
      "userId": "05015019107900810205"
     },
     "user_tz": -60
    },
    "id": "upXQxYoWzQwF",
    "outputId": "6389ebe1-b3a2-4075-f264-7d88bfaf765b"
   },
   "outputs": [
    {
     "data": {
      "text/plain": [
       "tourney_id                  match_num\n",
       "2019-W-ITF-TUN-47A-2019_15  14           2\n",
       "2020-W-ITF-GER-01A-2020_15  104          2\n",
       "                            103          2\n",
       "                            102          2\n",
       "                            101          2\n",
       "                                        ..\n",
       "2019-540_G                  116          4\n",
       "                            117          4\n",
       "                            118          4\n",
       "                            120          4\n",
       "2020-580_G                  106          4\n",
       "Name: match_num, Length: 21261, dtype: int64"
      ]
     },
     "execution_count": 129,
     "metadata": {},
     "output_type": "execute_result"
    }
   ],
   "source": [
    "torneo=tennis[['tourney_id','match_num']]\n",
    "\n",
    "torneo_Error=torneo.groupby(['tourney_id','match_num'])['match_num'].count()\n",
    "torneo_Error=torneo_Error[torneo_Error>1]\n",
    "\n",
    "torneo_Error.sort_values()"
   ]
  },
  {
   "cell_type": "code",
   "execution_count": 130,
   "id": "95UomXoszQwF",
   "metadata": {
    "executionInfo": {
     "elapsed": 4,
     "status": "ok",
     "timestamp": 1637406463973,
     "user": {
      "displayName": "FEDERICO CANEPUZZI",
      "photoUrl": "https://lh3.googleusercontent.com/a/default-user=s64",
      "userId": "05015019107900810205"
     },
     "user_tz": -60
    },
    "id": "95UomXoszQwF"
   },
   "outputs": [],
   "source": [
    "#fa una groupby in base all'id del torneo e per ogni record con stesso torneo id va a \n",
    "#impostare un valore su match che parte da zero viene incrementato ogni nuova row\n",
    "tennis['match_num'] = tennis.groupby('tourney_id').cumcount()"
   ]
  },
  {
   "cell_type": "code",
   "execution_count": 131,
   "id": "HJBA6TE4zQwG",
   "metadata": {
    "colab": {
     "base_uri": "https://localhost:8080/"
    },
    "executionInfo": {
     "elapsed": 386,
     "status": "ok",
     "timestamp": 1637406465306,
     "user": {
      "displayName": "FEDERICO CANEPUZZI",
      "photoUrl": "https://lh3.googleusercontent.com/a/default-user=s64",
      "userId": "05015019107900810205"
     },
     "user_tz": -60
    },
    "id": "HJBA6TE4zQwG",
    "outputId": "96dc6b6a-ca90-46e8-af5d-a3136c7a754f"
   },
   "outputs": [
    {
     "data": {
      "text/plain": [
       "Series([], Name: match_num, dtype: int64)"
      ]
     },
     "execution_count": 131,
     "metadata": {},
     "output_type": "execute_result"
    }
   ],
   "source": [
    "torneo=tennis[['tourney_id','match_num']]\n",
    "\n",
    "torneo_Error=torneo.groupby(['tourney_id','match_num'])['match_num'].count()\n",
    "torneo_Error=torneo_Error[torneo_Error>1]\n",
    "\n",
    "torneo_Error.sort_values()"
   ]
  },
  {
   "cell_type": "code",
   "execution_count": 184,
   "id": "SCfyY_HpzQwG",
   "metadata": {
    "executionInfo": {
     "elapsed": 4,
     "status": "ok",
     "timestamp": 1637406465307,
     "user": {
      "displayName": "FEDERICO CANEPUZZI",
      "photoUrl": "https://lh3.googleusercontent.com/a/default-user=s64",
      "userId": "05015019107900810205"
     },
     "user_tz": -60
    },
    "id": "SCfyY_HpzQwG"
   },
   "outputs": [
    {
     "data": {
      "text/html": [
       "<div>\n",
       "<style scoped>\n",
       "    .dataframe tbody tr th:only-of-type {\n",
       "        vertical-align: middle;\n",
       "    }\n",
       "\n",
       "    .dataframe tbody tr th {\n",
       "        vertical-align: top;\n",
       "    }\n",
       "\n",
       "    .dataframe thead th {\n",
       "        text-align: right;\n",
       "    }\n",
       "</style>\n",
       "<table border=\"1\" class=\"dataframe\">\n",
       "  <thead>\n",
       "    <tr style=\"text-align: right;\">\n",
       "      <th></th>\n",
       "      <th>tourney_id</th>\n",
       "      <th>tourney_name</th>\n",
       "      <th>surface</th>\n",
       "      <th>draw_size</th>\n",
       "      <th>tourney_level</th>\n",
       "      <th>tourney_date</th>\n",
       "      <th>match_num</th>\n",
       "      <th>winner_id</th>\n",
       "      <th>winner_name</th>\n",
       "      <th>winner_hand</th>\n",
       "      <th>winner_ht</th>\n",
       "      <th>winner_ioc</th>\n",
       "      <th>winner_age</th>\n",
       "      <th>loser_id</th>\n",
       "      <th>loser_name</th>\n",
       "      <th>loser_hand</th>\n",
       "      <th>loser_ht</th>\n",
       "      <th>loser_ioc</th>\n",
       "      <th>loser_age</th>\n",
       "      <th>score</th>\n",
       "      <th>best_of</th>\n",
       "      <th>round</th>\n",
       "      <th>minutes</th>\n",
       "      <th>w_ace</th>\n",
       "      <th>w_df</th>\n",
       "      <th>w_svpt</th>\n",
       "      <th>w_1stIn</th>\n",
       "      <th>w_1stWon</th>\n",
       "      <th>w_2ndWon</th>\n",
       "      <th>w_SvGms</th>\n",
       "      <th>w_bpSaved</th>\n",
       "      <th>w_bpFaced</th>\n",
       "      <th>l_ace</th>\n",
       "      <th>l_df</th>\n",
       "      <th>l_svpt</th>\n",
       "      <th>l_1stIn</th>\n",
       "      <th>l_1stWon</th>\n",
       "      <th>l_2ndWon</th>\n",
       "      <th>l_SvGms</th>\n",
       "      <th>l_bpSaved</th>\n",
       "      <th>l_bpFaced</th>\n",
       "      <th>winner_rank</th>\n",
       "      <th>winner_rank_points</th>\n",
       "      <th>loser_rank</th>\n",
       "      <th>loser_rank_points</th>\n",
       "      <th>tourney_spectators</th>\n",
       "      <th>tourney_revenue</th>\n",
       "    </tr>\n",
       "  </thead>\n",
       "  <tbody>\n",
       "    <tr>\n",
       "      <th>0</th>\n",
       "      <td>2019-M020_A</td>\n",
       "      <td>Brisbane</td>\n",
       "      <td>Hard</td>\n",
       "      <td>32</td>\n",
       "      <td>A</td>\n",
       "      <td>20181231</td>\n",
       "      <td>0</td>\n",
       "      <td>105453</td>\n",
       "      <td>Kei Nishikori</td>\n",
       "      <td>R</td>\n",
       "      <td>178.0</td>\n",
       "      <td>JPN</td>\n",
       "      <td>29.004791</td>\n",
       "      <td>106421</td>\n",
       "      <td>Daniil Medvedev</td>\n",
       "      <td>R</td>\n",
       "      <td>198.0</td>\n",
       "      <td>RUS</td>\n",
       "      <td>22.885695</td>\n",
       "      <td>6-4 3-6 6-2</td>\n",
       "      <td>3</td>\n",
       "      <td>F</td>\n",
       "      <td>124.0</td>\n",
       "      <td>3.0</td>\n",
       "      <td>3.0</td>\n",
       "      <td>77.0</td>\n",
       "      <td>44.0</td>\n",
       "      <td>31.0</td>\n",
       "      <td>17.0</td>\n",
       "      <td>13.0</td>\n",
       "      <td>3.0</td>\n",
       "      <td>6.0</td>\n",
       "      <td>8.0</td>\n",
       "      <td>6.0</td>\n",
       "      <td>100.0</td>\n",
       "      <td>54.0</td>\n",
       "      <td>34.0</td>\n",
       "      <td>20.0</td>\n",
       "      <td>14.0</td>\n",
       "      <td>10.0</td>\n",
       "      <td>15.0</td>\n",
       "      <td>9.0</td>\n",
       "      <td>3590.0</td>\n",
       "      <td>16.0</td>\n",
       "      <td>1977.0</td>\n",
       "      <td>3928</td>\n",
       "      <td>742618.69</td>\n",
       "    </tr>\n",
       "    <tr>\n",
       "      <th>1</th>\n",
       "      <td>2019-M020_A</td>\n",
       "      <td>Brisbane</td>\n",
       "      <td>Hard</td>\n",
       "      <td>32</td>\n",
       "      <td>A</td>\n",
       "      <td>20181231</td>\n",
       "      <td>1</td>\n",
       "      <td>106421</td>\n",
       "      <td>Daniil Medvedev</td>\n",
       "      <td>R</td>\n",
       "      <td>198.0</td>\n",
       "      <td>RUS</td>\n",
       "      <td>22.885695</td>\n",
       "      <td>104542</td>\n",
       "      <td>Jo-Wilfried Tsonga</td>\n",
       "      <td>R</td>\n",
       "      <td>188.0</td>\n",
       "      <td>FRA</td>\n",
       "      <td>33.705681</td>\n",
       "      <td>7-6(6) 6-2</td>\n",
       "      <td>3</td>\n",
       "      <td>SF</td>\n",
       "      <td>82.0</td>\n",
       "      <td>10.0</td>\n",
       "      <td>1.0</td>\n",
       "      <td>52.0</td>\n",
       "      <td>33.0</td>\n",
       "      <td>28.0</td>\n",
       "      <td>14.0</td>\n",
       "      <td>10.0</td>\n",
       "      <td>0.0</td>\n",
       "      <td>1.0</td>\n",
       "      <td>17.0</td>\n",
       "      <td>2.0</td>\n",
       "      <td>77.0</td>\n",
       "      <td>52.0</td>\n",
       "      <td>36.0</td>\n",
       "      <td>7.0</td>\n",
       "      <td>10.0</td>\n",
       "      <td>10.0</td>\n",
       "      <td>13.0</td>\n",
       "      <td>16.0</td>\n",
       "      <td>1977.0</td>\n",
       "      <td>239.0</td>\n",
       "      <td>200.0</td>\n",
       "      <td>3928</td>\n",
       "      <td>742618.69</td>\n",
       "    </tr>\n",
       "    <tr>\n",
       "      <th>2</th>\n",
       "      <td>2019-M020_A</td>\n",
       "      <td>Brisbane</td>\n",
       "      <td>Hard</td>\n",
       "      <td>32</td>\n",
       "      <td>A</td>\n",
       "      <td>20181231</td>\n",
       "      <td>2</td>\n",
       "      <td>105453</td>\n",
       "      <td>Kei Nishikori</td>\n",
       "      <td>R</td>\n",
       "      <td>178.0</td>\n",
       "      <td>JPN</td>\n",
       "      <td>29.004791</td>\n",
       "      <td>104871</td>\n",
       "      <td>Jeremy Chardy</td>\n",
       "      <td>R</td>\n",
       "      <td>188.0</td>\n",
       "      <td>FRA</td>\n",
       "      <td>31.882272</td>\n",
       "      <td>6-2 6-2</td>\n",
       "      <td>3</td>\n",
       "      <td>SF</td>\n",
       "      <td>66.0</td>\n",
       "      <td>2.0</td>\n",
       "      <td>2.0</td>\n",
       "      <td>47.0</td>\n",
       "      <td>33.0</td>\n",
       "      <td>26.0</td>\n",
       "      <td>9.0</td>\n",
       "      <td>8.0</td>\n",
       "      <td>2.0</td>\n",
       "      <td>2.0</td>\n",
       "      <td>10.0</td>\n",
       "      <td>3.0</td>\n",
       "      <td>46.0</td>\n",
       "      <td>27.0</td>\n",
       "      <td>15.0</td>\n",
       "      <td>6.0</td>\n",
       "      <td>8.0</td>\n",
       "      <td>1.0</td>\n",
       "      <td>5.0</td>\n",
       "      <td>9.0</td>\n",
       "      <td>3590.0</td>\n",
       "      <td>40.0</td>\n",
       "      <td>1050.0</td>\n",
       "      <td>3928</td>\n",
       "      <td>742618.69</td>\n",
       "    </tr>\n",
       "    <tr>\n",
       "      <th>3</th>\n",
       "      <td>2019-M020_A</td>\n",
       "      <td>Brisbane</td>\n",
       "      <td>Hard</td>\n",
       "      <td>32</td>\n",
       "      <td>A</td>\n",
       "      <td>20181231</td>\n",
       "      <td>3</td>\n",
       "      <td>104542</td>\n",
       "      <td>Jo-Wilfried Tsonga</td>\n",
       "      <td>R</td>\n",
       "      <td>188.0</td>\n",
       "      <td>FRA</td>\n",
       "      <td>33.705681</td>\n",
       "      <td>200282</td>\n",
       "      <td>Alex De Minaur</td>\n",
       "      <td>R</td>\n",
       "      <td>183.0</td>\n",
       "      <td>AUS</td>\n",
       "      <td>19.868583</td>\n",
       "      <td>6-4 7-6(2)</td>\n",
       "      <td>3</td>\n",
       "      <td>QF</td>\n",
       "      <td>106.0</td>\n",
       "      <td>12.0</td>\n",
       "      <td>2.0</td>\n",
       "      <td>68.0</td>\n",
       "      <td>43.0</td>\n",
       "      <td>34.0</td>\n",
       "      <td>15.0</td>\n",
       "      <td>11.0</td>\n",
       "      <td>4.0</td>\n",
       "      <td>5.0</td>\n",
       "      <td>1.0</td>\n",
       "      <td>2.0</td>\n",
       "      <td>81.0</td>\n",
       "      <td>60.0</td>\n",
       "      <td>38.0</td>\n",
       "      <td>9.0</td>\n",
       "      <td>11.0</td>\n",
       "      <td>4.0</td>\n",
       "      <td>6.0</td>\n",
       "      <td>239.0</td>\n",
       "      <td>200.0</td>\n",
       "      <td>31.0</td>\n",
       "      <td>1298.0</td>\n",
       "      <td>3928</td>\n",
       "      <td>742618.69</td>\n",
       "    </tr>\n",
       "    <tr>\n",
       "      <th>4</th>\n",
       "      <td>2019-M020_A</td>\n",
       "      <td>Brisbane</td>\n",
       "      <td>Hard</td>\n",
       "      <td>32</td>\n",
       "      <td>A</td>\n",
       "      <td>20181231</td>\n",
       "      <td>4</td>\n",
       "      <td>106421</td>\n",
       "      <td>Daniil Medvedev</td>\n",
       "      <td>R</td>\n",
       "      <td>198.0</td>\n",
       "      <td>RUS</td>\n",
       "      <td>22.885695</td>\n",
       "      <td>105683</td>\n",
       "      <td>Milos Raonic</td>\n",
       "      <td>R</td>\n",
       "      <td>196.0</td>\n",
       "      <td>CAN</td>\n",
       "      <td>28.010951</td>\n",
       "      <td>6-7(2) 6-3 6-4</td>\n",
       "      <td>3</td>\n",
       "      <td>QF</td>\n",
       "      <td>129.0</td>\n",
       "      <td>12.0</td>\n",
       "      <td>3.0</td>\n",
       "      <td>105.0</td>\n",
       "      <td>68.0</td>\n",
       "      <td>48.0</td>\n",
       "      <td>25.0</td>\n",
       "      <td>16.0</td>\n",
       "      <td>8.0</td>\n",
       "      <td>8.0</td>\n",
       "      <td>29.0</td>\n",
       "      <td>5.0</td>\n",
       "      <td>94.0</td>\n",
       "      <td>56.0</td>\n",
       "      <td>46.0</td>\n",
       "      <td>19.0</td>\n",
       "      <td>15.0</td>\n",
       "      <td>2.0</td>\n",
       "      <td>4.0</td>\n",
       "      <td>16.0</td>\n",
       "      <td>1977.0</td>\n",
       "      <td>18.0</td>\n",
       "      <td>1855.0</td>\n",
       "      <td>3928</td>\n",
       "      <td>742618.69</td>\n",
       "    </tr>\n",
       "    <tr>\n",
       "      <th>...</th>\n",
       "      <td>...</td>\n",
       "      <td>...</td>\n",
       "      <td>...</td>\n",
       "      <td>...</td>\n",
       "      <td>...</td>\n",
       "      <td>...</td>\n",
       "      <td>...</td>\n",
       "      <td>...</td>\n",
       "      <td>...</td>\n",
       "      <td>...</td>\n",
       "      <td>...</td>\n",
       "      <td>...</td>\n",
       "      <td>...</td>\n",
       "      <td>...</td>\n",
       "      <td>...</td>\n",
       "      <td>...</td>\n",
       "      <td>...</td>\n",
       "      <td>...</td>\n",
       "      <td>...</td>\n",
       "      <td>...</td>\n",
       "      <td>...</td>\n",
       "      <td>...</td>\n",
       "      <td>...</td>\n",
       "      <td>...</td>\n",
       "      <td>...</td>\n",
       "      <td>...</td>\n",
       "      <td>...</td>\n",
       "      <td>...</td>\n",
       "      <td>...</td>\n",
       "      <td>...</td>\n",
       "      <td>...</td>\n",
       "      <td>...</td>\n",
       "      <td>...</td>\n",
       "      <td>...</td>\n",
       "      <td>...</td>\n",
       "      <td>...</td>\n",
       "      <td>...</td>\n",
       "      <td>...</td>\n",
       "      <td>...</td>\n",
       "      <td>...</td>\n",
       "      <td>...</td>\n",
       "      <td>...</td>\n",
       "      <td>...</td>\n",
       "      <td>...</td>\n",
       "      <td>...</td>\n",
       "      <td>...</td>\n",
       "      <td>...</td>\n",
       "    </tr>\n",
       "    <tr>\n",
       "      <th>186068</th>\n",
       "      <td>2020-W-ITF-USA-48A-2020_25</td>\n",
       "      <td>W25 Orlando FL</td>\n",
       "      <td>Hard</td>\n",
       "      <td>32</td>\n",
       "      <td>25</td>\n",
       "      <td>20201109</td>\n",
       "      <td>50</td>\n",
       "      <td>215794</td>\n",
       "      <td>Hurricane Tyra Black</td>\n",
       "      <td>R</td>\n",
       "      <td>172.0</td>\n",
       "      <td>USA</td>\n",
       "      <td>19.690623</td>\n",
       "      <td>222081</td>\n",
       "      <td>Eleana Yu</td>\n",
       "      <td>R</td>\n",
       "      <td>172.0</td>\n",
       "      <td>USA</td>\n",
       "      <td>16.002738</td>\n",
       "      <td>7-6(1) 6-1</td>\n",
       "      <td>3</td>\n",
       "      <td>Q2</td>\n",
       "      <td>NaN</td>\n",
       "      <td>NaN</td>\n",
       "      <td>NaN</td>\n",
       "      <td>NaN</td>\n",
       "      <td>NaN</td>\n",
       "      <td>NaN</td>\n",
       "      <td>NaN</td>\n",
       "      <td>NaN</td>\n",
       "      <td>NaN</td>\n",
       "      <td>NaN</td>\n",
       "      <td>NaN</td>\n",
       "      <td>NaN</td>\n",
       "      <td>NaN</td>\n",
       "      <td>NaN</td>\n",
       "      <td>NaN</td>\n",
       "      <td>NaN</td>\n",
       "      <td>NaN</td>\n",
       "      <td>NaN</td>\n",
       "      <td>NaN</td>\n",
       "      <td>598.0</td>\n",
       "      <td>57.0</td>\n",
       "      <td>1216.0</td>\n",
       "      <td>6.0</td>\n",
       "      <td>2312</td>\n",
       "      <td>471620.95</td>\n",
       "    </tr>\n",
       "    <tr>\n",
       "      <th>186069</th>\n",
       "      <td>2020-W-ITF-USA-48A-2020_25</td>\n",
       "      <td>W25 Orlando FL</td>\n",
       "      <td>Hard</td>\n",
       "      <td>32</td>\n",
       "      <td>25</td>\n",
       "      <td>20201109</td>\n",
       "      <td>51</td>\n",
       "      <td>210754</td>\n",
       "      <td>Vivian Heisen</td>\n",
       "      <td>U</td>\n",
       "      <td>172.0</td>\n",
       "      <td>GER</td>\n",
       "      <td>26.869268</td>\n",
       "      <td>220723</td>\n",
       "      <td>Jessica Livianu</td>\n",
       "      <td>R</td>\n",
       "      <td>172.0</td>\n",
       "      <td>USA</td>\n",
       "      <td>22.713210</td>\n",
       "      <td>2-6 6-2 10-3</td>\n",
       "      <td>3</td>\n",
       "      <td>Q2</td>\n",
       "      <td>NaN</td>\n",
       "      <td>NaN</td>\n",
       "      <td>NaN</td>\n",
       "      <td>NaN</td>\n",
       "      <td>NaN</td>\n",
       "      <td>NaN</td>\n",
       "      <td>NaN</td>\n",
       "      <td>NaN</td>\n",
       "      <td>NaN</td>\n",
       "      <td>NaN</td>\n",
       "      <td>NaN</td>\n",
       "      <td>NaN</td>\n",
       "      <td>NaN</td>\n",
       "      <td>NaN</td>\n",
       "      <td>NaN</td>\n",
       "      <td>NaN</td>\n",
       "      <td>NaN</td>\n",
       "      <td>NaN</td>\n",
       "      <td>NaN</td>\n",
       "      <td>429.0</td>\n",
       "      <td>102.0</td>\n",
       "      <td>729.0</td>\n",
       "      <td>35.0</td>\n",
       "      <td>2312</td>\n",
       "      <td>471620.95</td>\n",
       "    </tr>\n",
       "    <tr>\n",
       "      <th>186070</th>\n",
       "      <td>2020-W-ITF-USA-48A-2020_25</td>\n",
       "      <td>W25 Orlando FL</td>\n",
       "      <td>Hard</td>\n",
       "      <td>32</td>\n",
       "      <td>25</td>\n",
       "      <td>20201109</td>\n",
       "      <td>52</td>\n",
       "      <td>211874</td>\n",
       "      <td>Victoria Rodriguez</td>\n",
       "      <td>U</td>\n",
       "      <td>172.0</td>\n",
       "      <td>MEX</td>\n",
       "      <td>25.552361</td>\n",
       "      <td>202478</td>\n",
       "      <td>Tara Moore</td>\n",
       "      <td>R</td>\n",
       "      <td>172.0</td>\n",
       "      <td>GBR</td>\n",
       "      <td>28.260096</td>\n",
       "      <td>6-2 7-6(8)</td>\n",
       "      <td>3</td>\n",
       "      <td>Q2</td>\n",
       "      <td>NaN</td>\n",
       "      <td>NaN</td>\n",
       "      <td>NaN</td>\n",
       "      <td>NaN</td>\n",
       "      <td>NaN</td>\n",
       "      <td>NaN</td>\n",
       "      <td>NaN</td>\n",
       "      <td>NaN</td>\n",
       "      <td>NaN</td>\n",
       "      <td>NaN</td>\n",
       "      <td>NaN</td>\n",
       "      <td>NaN</td>\n",
       "      <td>NaN</td>\n",
       "      <td>NaN</td>\n",
       "      <td>NaN</td>\n",
       "      <td>NaN</td>\n",
       "      <td>NaN</td>\n",
       "      <td>NaN</td>\n",
       "      <td>NaN</td>\n",
       "      <td>643.0</td>\n",
       "      <td>48.0</td>\n",
       "      <td>454.0</td>\n",
       "      <td>93.0</td>\n",
       "      <td>2312</td>\n",
       "      <td>471620.95</td>\n",
       "    </tr>\n",
       "    <tr>\n",
       "      <th>186071</th>\n",
       "      <td>2020-W-ITF-USA-48A-2020_25</td>\n",
       "      <td>W25 Orlando FL</td>\n",
       "      <td>Hard</td>\n",
       "      <td>32</td>\n",
       "      <td>25</td>\n",
       "      <td>20201109</td>\n",
       "      <td>53</td>\n",
       "      <td>213789</td>\n",
       "      <td>Katarina Jokic</td>\n",
       "      <td>U</td>\n",
       "      <td>172.0</td>\n",
       "      <td>BIH</td>\n",
       "      <td>22.559890</td>\n",
       "      <td>205922</td>\n",
       "      <td>Chanelle Van Nguyen</td>\n",
       "      <td>U</td>\n",
       "      <td>172.0</td>\n",
       "      <td>USA</td>\n",
       "      <td>26.806297</td>\n",
       "      <td>6-4 6-2</td>\n",
       "      <td>3</td>\n",
       "      <td>Q2</td>\n",
       "      <td>NaN</td>\n",
       "      <td>NaN</td>\n",
       "      <td>NaN</td>\n",
       "      <td>NaN</td>\n",
       "      <td>NaN</td>\n",
       "      <td>NaN</td>\n",
       "      <td>NaN</td>\n",
       "      <td>NaN</td>\n",
       "      <td>NaN</td>\n",
       "      <td>NaN</td>\n",
       "      <td>NaN</td>\n",
       "      <td>NaN</td>\n",
       "      <td>NaN</td>\n",
       "      <td>NaN</td>\n",
       "      <td>NaN</td>\n",
       "      <td>NaN</td>\n",
       "      <td>NaN</td>\n",
       "      <td>NaN</td>\n",
       "      <td>NaN</td>\n",
       "      <td>923.0</td>\n",
       "      <td>17.0</td>\n",
       "      <td>627.0</td>\n",
       "      <td>51.0</td>\n",
       "      <td>2312</td>\n",
       "      <td>471620.95</td>\n",
       "    </tr>\n",
       "    <tr>\n",
       "      <th>186072</th>\n",
       "      <td>2020-W-ITF-USA-48A-2020_25</td>\n",
       "      <td>W25 Orlando FL</td>\n",
       "      <td>Hard</td>\n",
       "      <td>32</td>\n",
       "      <td>25</td>\n",
       "      <td>20201109</td>\n",
       "      <td>54</td>\n",
       "      <td>215306</td>\n",
       "      <td>Emiliana Arango</td>\n",
       "      <td>R</td>\n",
       "      <td>172.0</td>\n",
       "      <td>COL</td>\n",
       "      <td>19.947981</td>\n",
       "      <td>223453</td>\n",
       "      <td>Brooklyn Olson</td>\n",
       "      <td>U</td>\n",
       "      <td>172.0</td>\n",
       "      <td>USA</td>\n",
       "      <td>22.857534</td>\n",
       "      <td>6-1 6-2</td>\n",
       "      <td>3</td>\n",
       "      <td>Q2</td>\n",
       "      <td>NaN</td>\n",
       "      <td>NaN</td>\n",
       "      <td>NaN</td>\n",
       "      <td>NaN</td>\n",
       "      <td>NaN</td>\n",
       "      <td>NaN</td>\n",
       "      <td>NaN</td>\n",
       "      <td>NaN</td>\n",
       "      <td>NaN</td>\n",
       "      <td>NaN</td>\n",
       "      <td>NaN</td>\n",
       "      <td>NaN</td>\n",
       "      <td>NaN</td>\n",
       "      <td>NaN</td>\n",
       "      <td>NaN</td>\n",
       "      <td>NaN</td>\n",
       "      <td>NaN</td>\n",
       "      <td>NaN</td>\n",
       "      <td>NaN</td>\n",
       "      <td>493.0</td>\n",
       "      <td>83.0</td>\n",
       "      <td>825.0</td>\n",
       "      <td>142.0</td>\n",
       "      <td>2312</td>\n",
       "      <td>471620.95</td>\n",
       "    </tr>\n",
       "  </tbody>\n",
       "</table>\n",
       "<p>185758 rows × 47 columns</p>\n",
       "</div>"
      ],
      "text/plain": [
       "                        tourney_id    tourney_name surface  draw_size  \\\n",
       "0                      2019-M020_A        Brisbane    Hard         32   \n",
       "1                      2019-M020_A        Brisbane    Hard         32   \n",
       "2                      2019-M020_A        Brisbane    Hard         32   \n",
       "3                      2019-M020_A        Brisbane    Hard         32   \n",
       "4                      2019-M020_A        Brisbane    Hard         32   \n",
       "...                            ...             ...     ...        ...   \n",
       "186068  2020-W-ITF-USA-48A-2020_25  W25 Orlando FL    Hard         32   \n",
       "186069  2020-W-ITF-USA-48A-2020_25  W25 Orlando FL    Hard         32   \n",
       "186070  2020-W-ITF-USA-48A-2020_25  W25 Orlando FL    Hard         32   \n",
       "186071  2020-W-ITF-USA-48A-2020_25  W25 Orlando FL    Hard         32   \n",
       "186072  2020-W-ITF-USA-48A-2020_25  W25 Orlando FL    Hard         32   \n",
       "\n",
       "       tourney_level  tourney_date  match_num  winner_id  \\\n",
       "0                  A      20181231          0     105453   \n",
       "1                  A      20181231          1     106421   \n",
       "2                  A      20181231          2     105453   \n",
       "3                  A      20181231          3     104542   \n",
       "4                  A      20181231          4     106421   \n",
       "...              ...           ...        ...        ...   \n",
       "186068            25      20201109         50     215794   \n",
       "186069            25      20201109         51     210754   \n",
       "186070            25      20201109         52     211874   \n",
       "186071            25      20201109         53     213789   \n",
       "186072            25      20201109         54     215306   \n",
       "\n",
       "                 winner_name winner_hand  winner_ht winner_ioc  winner_age  \\\n",
       "0              Kei Nishikori           R      178.0        JPN   29.004791   \n",
       "1            Daniil Medvedev           R      198.0        RUS   22.885695   \n",
       "2              Kei Nishikori           R      178.0        JPN   29.004791   \n",
       "3         Jo-Wilfried Tsonga           R      188.0        FRA   33.705681   \n",
       "4            Daniil Medvedev           R      198.0        RUS   22.885695   \n",
       "...                      ...         ...        ...        ...         ...   \n",
       "186068  Hurricane Tyra Black           R      172.0        USA   19.690623   \n",
       "186069         Vivian Heisen           U      172.0        GER   26.869268   \n",
       "186070    Victoria Rodriguez           U      172.0        MEX   25.552361   \n",
       "186071        Katarina Jokic           U      172.0        BIH   22.559890   \n",
       "186072       Emiliana Arango           R      172.0        COL   19.947981   \n",
       "\n",
       "        loser_id           loser_name loser_hand  loser_ht loser_ioc  \\\n",
       "0         106421      Daniil Medvedev          R     198.0       RUS   \n",
       "1         104542   Jo-Wilfried Tsonga          R     188.0       FRA   \n",
       "2         104871        Jeremy Chardy          R     188.0       FRA   \n",
       "3         200282       Alex De Minaur          R     183.0       AUS   \n",
       "4         105683         Milos Raonic          R     196.0       CAN   \n",
       "...          ...                  ...        ...       ...       ...   \n",
       "186068    222081            Eleana Yu          R     172.0       USA   \n",
       "186069    220723      Jessica Livianu          R     172.0       USA   \n",
       "186070    202478           Tara Moore          R     172.0       GBR   \n",
       "186071    205922  Chanelle Van Nguyen          U     172.0       USA   \n",
       "186072    223453       Brooklyn Olson          U     172.0       USA   \n",
       "\n",
       "        loser_age           score  best_of round  minutes  w_ace  w_df  \\\n",
       "0       22.885695     6-4 3-6 6-2        3     F    124.0    3.0   3.0   \n",
       "1       33.705681      7-6(6) 6-2        3    SF     82.0   10.0   1.0   \n",
       "2       31.882272         6-2 6-2        3    SF     66.0    2.0   2.0   \n",
       "3       19.868583      6-4 7-6(2)        3    QF    106.0   12.0   2.0   \n",
       "4       28.010951  6-7(2) 6-3 6-4        3    QF    129.0   12.0   3.0   \n",
       "...           ...             ...      ...   ...      ...    ...   ...   \n",
       "186068  16.002738      7-6(1) 6-1        3    Q2      NaN    NaN   NaN   \n",
       "186069  22.713210    2-6 6-2 10-3        3    Q2      NaN    NaN   NaN   \n",
       "186070  28.260096      6-2 7-6(8)        3    Q2      NaN    NaN   NaN   \n",
       "186071  26.806297         6-4 6-2        3    Q2      NaN    NaN   NaN   \n",
       "186072  22.857534         6-1 6-2        3    Q2      NaN    NaN   NaN   \n",
       "\n",
       "        w_svpt  w_1stIn  w_1stWon  w_2ndWon  w_SvGms  w_bpSaved  w_bpFaced  \\\n",
       "0         77.0     44.0      31.0      17.0     13.0        3.0        6.0   \n",
       "1         52.0     33.0      28.0      14.0     10.0        0.0        1.0   \n",
       "2         47.0     33.0      26.0       9.0      8.0        2.0        2.0   \n",
       "3         68.0     43.0      34.0      15.0     11.0        4.0        5.0   \n",
       "4        105.0     68.0      48.0      25.0     16.0        8.0        8.0   \n",
       "...        ...      ...       ...       ...      ...        ...        ...   \n",
       "186068     NaN      NaN       NaN       NaN      NaN        NaN        NaN   \n",
       "186069     NaN      NaN       NaN       NaN      NaN        NaN        NaN   \n",
       "186070     NaN      NaN       NaN       NaN      NaN        NaN        NaN   \n",
       "186071     NaN      NaN       NaN       NaN      NaN        NaN        NaN   \n",
       "186072     NaN      NaN       NaN       NaN      NaN        NaN        NaN   \n",
       "\n",
       "        l_ace  l_df  l_svpt  l_1stIn  l_1stWon  l_2ndWon  l_SvGms  l_bpSaved  \\\n",
       "0         8.0   6.0   100.0     54.0      34.0      20.0     14.0       10.0   \n",
       "1        17.0   2.0    77.0     52.0      36.0       7.0     10.0       10.0   \n",
       "2        10.0   3.0    46.0     27.0      15.0       6.0      8.0        1.0   \n",
       "3         1.0   2.0    81.0     60.0      38.0       9.0     11.0        4.0   \n",
       "4        29.0   5.0    94.0     56.0      46.0      19.0     15.0        2.0   \n",
       "...       ...   ...     ...      ...       ...       ...      ...        ...   \n",
       "186068    NaN   NaN     NaN      NaN       NaN       NaN      NaN        NaN   \n",
       "186069    NaN   NaN     NaN      NaN       NaN       NaN      NaN        NaN   \n",
       "186070    NaN   NaN     NaN      NaN       NaN       NaN      NaN        NaN   \n",
       "186071    NaN   NaN     NaN      NaN       NaN       NaN      NaN        NaN   \n",
       "186072    NaN   NaN     NaN      NaN       NaN       NaN      NaN        NaN   \n",
       "\n",
       "        l_bpFaced  winner_rank  winner_rank_points  loser_rank  \\\n",
       "0            15.0          9.0              3590.0        16.0   \n",
       "1            13.0         16.0              1977.0       239.0   \n",
       "2             5.0          9.0              3590.0        40.0   \n",
       "3             6.0        239.0               200.0        31.0   \n",
       "4             4.0         16.0              1977.0        18.0   \n",
       "...           ...          ...                 ...         ...   \n",
       "186068        NaN        598.0                57.0      1216.0   \n",
       "186069        NaN        429.0               102.0       729.0   \n",
       "186070        NaN        643.0                48.0       454.0   \n",
       "186071        NaN        923.0                17.0       627.0   \n",
       "186072        NaN        493.0                83.0       825.0   \n",
       "\n",
       "        loser_rank_points  tourney_spectators  tourney_revenue  \n",
       "0                  1977.0                3928        742618.69  \n",
       "1                   200.0                3928        742618.69  \n",
       "2                  1050.0                3928        742618.69  \n",
       "3                  1298.0                3928        742618.69  \n",
       "4                  1855.0                3928        742618.69  \n",
       "...                   ...                 ...              ...  \n",
       "186068                6.0                2312        471620.95  \n",
       "186069               35.0                2312        471620.95  \n",
       "186070               93.0                2312        471620.95  \n",
       "186071               51.0                2312        471620.95  \n",
       "186072              142.0                2312        471620.95  \n",
       "\n",
       "[185758 rows x 47 columns]"
      ]
     },
     "execution_count": 184,
     "metadata": {},
     "output_type": "execute_result"
    }
   ],
   "source": [
    "tennis"
   ]
  },
  {
   "cell_type": "code",
   "execution_count": 132,
   "id": "ol6MNt-gzQwG",
   "metadata": {
    "colab": {
     "base_uri": "https://localhost:8080/"
    },
    "executionInfo": {
     "elapsed": 8,
     "status": "ok",
     "timestamp": 1637406466304,
     "user": {
      "displayName": "FEDERICO CANEPUZZI",
      "photoUrl": "https://lh3.googleusercontent.com/a/default-user=s64",
      "userId": "05015019107900810205"
     },
     "user_tz": -60
    },
    "id": "ol6MNt-gzQwG",
    "outputId": "a531a8e1-6e1c-4210-9b8b-77fa8ff18dab",
    "scrolled": false
   },
   "outputs": [
    {
     "name": "stdout",
     "output_type": "stream",
     "text": [
      "<class 'pandas.core.frame.DataFrame'>\n",
      "Int64Index: 185758 entries, 0 to 186072\n",
      "Data columns (total 47 columns):\n",
      " #   Column              Non-Null Count   Dtype  \n",
      "---  ------              --------------   -----  \n",
      " 0   tourney_id          185758 non-null  object \n",
      " 1   tourney_name        185758 non-null  object \n",
      " 2   surface             185758 non-null  object \n",
      " 3   draw_size           185758 non-null  int64  \n",
      " 4   tourney_level       185758 non-null  object \n",
      " 5   tourney_date        185758 non-null  int64  \n",
      " 6   match_num           185758 non-null  int64  \n",
      " 7   winner_id           185758 non-null  int64  \n",
      " 8   winner_name         185758 non-null  object \n",
      " 9   winner_hand         185758 non-null  object \n",
      " 10  winner_ht           185758 non-null  float64\n",
      " 11  winner_ioc          185758 non-null  object \n",
      " 12  winner_age          185518 non-null  float64\n",
      " 13  loser_id            185758 non-null  int64  \n",
      " 14  loser_name          185758 non-null  object \n",
      " 15  loser_hand          185758 non-null  object \n",
      " 16  loser_ht            185758 non-null  float64\n",
      " 17  loser_ioc           185758 non-null  object \n",
      " 18  loser_age           185517 non-null  float64\n",
      " 19  score               185758 non-null  object \n",
      " 20  best_of             185758 non-null  int64  \n",
      " 21  round               185758 non-null  object \n",
      " 22  minutes             81331 non-null   float64\n",
      " 23  w_ace               81979 non-null   float64\n",
      " 24  w_df                81979 non-null   float64\n",
      " 25  w_svpt              81979 non-null   float64\n",
      " 26  w_1stIn             81979 non-null   float64\n",
      " 27  w_1stWon            81979 non-null   float64\n",
      " 28  w_2ndWon            81979 non-null   float64\n",
      " 29  w_SvGms             81983 non-null   float64\n",
      " 30  w_bpSaved           81979 non-null   float64\n",
      " 31  w_bpFaced           81979 non-null   float64\n",
      " 32  l_ace               81979 non-null   float64\n",
      " 33  l_df                81979 non-null   float64\n",
      " 34  l_svpt              81979 non-null   float64\n",
      " 35  l_1stIn             81979 non-null   float64\n",
      " 36  l_1stWon            81979 non-null   float64\n",
      " 37  l_2ndWon            81979 non-null   float64\n",
      " 38  l_SvGms             81983 non-null   float64\n",
      " 39  l_bpSaved           81979 non-null   float64\n",
      " 40  l_bpFaced           81979 non-null   float64\n",
      " 41  winner_rank         185758 non-null  float64\n",
      " 42  winner_rank_points  185758 non-null  float64\n",
      " 43  loser_rank          185758 non-null  float64\n",
      " 44  loser_rank_points   185758 non-null  float64\n",
      " 45  tourney_spectators  185758 non-null  int64  \n",
      " 46  tourney_revenue     185758 non-null  float64\n",
      "dtypes: float64(28), int64(7), object(12)\n",
      "memory usage: 72.1+ MB\n"
     ]
    }
   ],
   "source": [
    "tennis.info()"
   ]
  },
  {
   "cell_type": "markdown",
   "id": "lhLPB9SDzQwG",
   "metadata": {
    "id": "lhLPB9SDzQwG"
   },
   "source": [
    "# Geography"
   ]
  },
  {
   "cell_type": "code",
   "execution_count": 133,
   "id": "ce302ddf",
   "metadata": {},
   "outputs": [],
   "source": [
    "#e' necessario installare la libreria countryinfo\n",
    "#pip install countryinfo\n",
    "from countryinfo import CountryInfo"
   ]
  },
  {
   "cell_type": "code",
   "execution_count": 134,
   "id": "UKHxPmdCzQwH",
   "metadata": {
    "id": "UKHxPmdCzQwH"
   },
   "outputs": [],
   "source": [
    "c= set(tennis['winner_ioc'].append(tennis['loser_ioc']))"
   ]
  },
  {
   "cell_type": "code",
   "execution_count": null,
   "id": "12nr5OGqzQwH",
   "metadata": {
    "id": "12nr5OGqzQwH"
   },
   "outputs": [],
   "source": []
  },
  {
   "cell_type": "code",
   "execution_count": 135,
   "id": "1KMlmSeWzQwH",
   "metadata": {
    "id": "1KMlmSeWzQwH"
   },
   "outputs": [],
   "source": [
    "g= pd.read_csv('data/countries.csv')"
   ]
  },
  {
   "cell_type": "code",
   "execution_count": 136,
   "id": "4e2180ec",
   "metadata": {},
   "outputs": [
    {
     "data": {
      "text/html": [
       "<div>\n",
       "<style scoped>\n",
       "    .dataframe tbody tr th:only-of-type {\n",
       "        vertical-align: middle;\n",
       "    }\n",
       "\n",
       "    .dataframe tbody tr th {\n",
       "        vertical-align: top;\n",
       "    }\n",
       "\n",
       "    .dataframe thead th {\n",
       "        text-align: right;\n",
       "    }\n",
       "</style>\n",
       "<table border=\"1\" class=\"dataframe\">\n",
       "  <thead>\n",
       "    <tr style=\"text-align: right;\">\n",
       "      <th></th>\n",
       "      <th>country_code</th>\n",
       "      <th>country_name</th>\n",
       "      <th>continent</th>\n",
       "    </tr>\n",
       "  </thead>\n",
       "  <tbody>\n",
       "    <tr>\n",
       "      <th>0</th>\n",
       "      <td>JPN</td>\n",
       "      <td>Japan</td>\n",
       "      <td>Asia</td>\n",
       "    </tr>\n",
       "    <tr>\n",
       "      <th>1</th>\n",
       "      <td>RUS</td>\n",
       "      <td>Russia</td>\n",
       "      <td>Europe</td>\n",
       "    </tr>\n",
       "    <tr>\n",
       "      <th>2</th>\n",
       "      <td>FRA</td>\n",
       "      <td>France</td>\n",
       "      <td>Europe</td>\n",
       "    </tr>\n",
       "    <tr>\n",
       "      <th>3</th>\n",
       "      <td>AUS</td>\n",
       "      <td>Australia</td>\n",
       "      <td>Oceania</td>\n",
       "    </tr>\n",
       "    <tr>\n",
       "      <th>4</th>\n",
       "      <td>CAN</td>\n",
       "      <td>Canada</td>\n",
       "      <td>America</td>\n",
       "    </tr>\n",
       "    <tr>\n",
       "      <th>...</th>\n",
       "      <td>...</td>\n",
       "      <td>...</td>\n",
       "      <td>...</td>\n",
       "    </tr>\n",
       "    <tr>\n",
       "      <th>119</th>\n",
       "      <td>AND</td>\n",
       "      <td>Andorra</td>\n",
       "      <td>Europe</td>\n",
       "    </tr>\n",
       "    <tr>\n",
       "      <th>120</th>\n",
       "      <td>DEU</td>\n",
       "      <td>Germany</td>\n",
       "      <td>Europe</td>\n",
       "    </tr>\n",
       "    <tr>\n",
       "      <th>121</th>\n",
       "      <td>NLD</td>\n",
       "      <td>Netherlands</td>\n",
       "      <td>Europe</td>\n",
       "    </tr>\n",
       "    <tr>\n",
       "      <th>122</th>\n",
       "      <td>NGA</td>\n",
       "      <td>Nigeria</td>\n",
       "      <td>Africa</td>\n",
       "    </tr>\n",
       "    <tr>\n",
       "      <th>123</th>\n",
       "      <td>GRC</td>\n",
       "      <td>Greece</td>\n",
       "      <td>Europe</td>\n",
       "    </tr>\n",
       "  </tbody>\n",
       "</table>\n",
       "<p>124 rows × 3 columns</p>\n",
       "</div>"
      ],
      "text/plain": [
       "    country_code country_name continent\n",
       "0            JPN        Japan      Asia\n",
       "1            RUS       Russia    Europe\n",
       "2            FRA       France    Europe\n",
       "3            AUS    Australia   Oceania\n",
       "4            CAN       Canada   America\n",
       "..           ...          ...       ...\n",
       "119          AND      Andorra    Europe\n",
       "120          DEU      Germany    Europe\n",
       "121          NLD  Netherlands    Europe\n",
       "122          NGA      Nigeria    Africa\n",
       "123          GRC       Greece    Europe\n",
       "\n",
       "[124 rows x 3 columns]"
      ]
     },
     "execution_count": 136,
     "metadata": {},
     "output_type": "execute_result"
    }
   ],
   "source": [
    "g"
   ]
  },
  {
   "cell_type": "code",
   "execution_count": 137,
   "id": "nrS_pe6GzQwH",
   "metadata": {
    "id": "nrS_pe6GzQwH",
    "outputId": "c658f6eb-9001-4d01-ca49-636fd7101679"
   },
   "outputs": [
    {
     "data": {
      "text/plain": [
       "0      JPN\n",
       "1      RUS\n",
       "2      FRA\n",
       "3      AUS\n",
       "4      CAN\n",
       "      ... \n",
       "119    AND\n",
       "120    DEU\n",
       "121    NLD\n",
       "122    NGA\n",
       "123    GRC\n",
       "Name: country_code, Length: 124, dtype: object"
      ]
     },
     "execution_count": 137,
     "metadata": {},
     "output_type": "execute_result"
    }
   ],
   "source": [
    "g['country_code']"
   ]
  },
  {
   "cell_type": "markdown",
   "id": "FD4GrC6DzQwI",
   "metadata": {
    "id": "FD4GrC6DzQwI"
   },
   "source": [
    "Ci sono 154 distinti codici IOC in tennis.csv, invece in 'country.csv' ne abbiamo solo 124"
   ]
  },
  {
   "cell_type": "code",
   "execution_count": 138,
   "id": "bYOKMXBlzQwI",
   "metadata": {
    "id": "bYOKMXBlzQwI",
    "outputId": "1fc03443-e78b-4bdf-d3e8-f1bd516da1ee"
   },
   "outputs": [
    {
     "data": {
      "text/plain": [
       "154"
      ]
     },
     "execution_count": 138,
     "metadata": {},
     "output_type": "execute_result"
    }
   ],
   "source": [
    "len(c)"
   ]
  },
  {
   "cell_type": "code",
   "execution_count": 139,
   "id": "LRpmpEFRzQwI",
   "metadata": {
    "id": "LRpmpEFRzQwI",
    "outputId": "ef19a0c1-c085-46de-a8e2-0e9f84ec035f"
   },
   "outputs": [
    {
     "data": {
      "text/plain": [
       "124"
      ]
     },
     "execution_count": 139,
     "metadata": {},
     "output_type": "execute_result"
    }
   ],
   "source": [
    "len(g['country_code'])"
   ]
  },
  {
   "cell_type": "markdown",
   "id": "WHGwSIO5zQwI",
   "metadata": {
    "id": "WHGwSIO5zQwI"
   },
   "source": [
    "## Riempimento dei missing value in country_name"
   ]
  },
  {
   "cell_type": "markdown",
   "id": "-WTNByL1zQwI",
   "metadata": {
    "id": "-WTNByL1zQwI"
   },
   "source": [
    "Utilizziamo quindi un dataset esterno contenente i codici IOC (International Olympic Committee) per riempire i codici mancanti mostrati sotto"
   ]
  },
  {
   "cell_type": "code",
   "execution_count": 140,
   "id": "MIjBxYe_zQwJ",
   "metadata": {
    "id": "MIjBxYe_zQwJ"
   },
   "outputs": [],
   "source": [
    "missing=list(c - set(g['country_code']))"
   ]
  },
  {
   "cell_type": "code",
   "execution_count": 141,
   "id": "W455EaWwzQwJ",
   "metadata": {
    "id": "W455EaWwzQwJ",
    "outputId": "91da190a-6405-4f53-e49b-ead554200e72",
    "scrolled": true
   },
   "outputs": [
    {
     "data": {
      "text/plain": [
       "['QAT',\n",
       " 'ERI',\n",
       " 'BOT',\n",
       " 'CRI',\n",
       " 'JOR',\n",
       " 'AHO',\n",
       " 'LBN',\n",
       " 'GHA',\n",
       " 'LVA',\n",
       " 'SMR',\n",
       " 'BEN',\n",
       " 'JAM',\n",
       " 'ITF',\n",
       " 'SAU',\n",
       " 'TTO',\n",
       " 'COD',\n",
       " 'BAN',\n",
       " 'UAE',\n",
       " 'ZAM',\n",
       " 'AZE',\n",
       " 'MRN',\n",
       " 'TKM',\n",
       " 'BGR',\n",
       " 'BRN',\n",
       " 'SYR',\n",
       " 'VIN',\n",
       " 'ANT',\n",
       " 'BER',\n",
       " 'LBA',\n",
       " 'TOG']"
      ]
     },
     "execution_count": 141,
     "metadata": {},
     "output_type": "execute_result"
    }
   ],
   "source": [
    "missing"
   ]
  },
  {
   "cell_type": "code",
   "execution_count": 142,
   "id": "9N4jY2twzQwJ",
   "metadata": {
    "id": "9N4jY2twzQwJ"
   },
   "outputs": [],
   "source": [
    "g_new= g.append(pd.DataFrame(dict({'country_code': missing}))).reset_index(drop=True)"
   ]
  },
  {
   "cell_type": "code",
   "execution_count": 143,
   "id": "TS0Ny824zQwJ",
   "metadata": {
    "id": "TS0Ny824zQwJ",
    "outputId": "4ee49274-034a-4974-b78f-cfc16a49f8b2"
   },
   "outputs": [
    {
     "data": {
      "text/html": [
       "<div>\n",
       "<style scoped>\n",
       "    .dataframe tbody tr th:only-of-type {\n",
       "        vertical-align: middle;\n",
       "    }\n",
       "\n",
       "    .dataframe tbody tr th {\n",
       "        vertical-align: top;\n",
       "    }\n",
       "\n",
       "    .dataframe thead th {\n",
       "        text-align: right;\n",
       "    }\n",
       "</style>\n",
       "<table border=\"1\" class=\"dataframe\">\n",
       "  <thead>\n",
       "    <tr style=\"text-align: right;\">\n",
       "      <th></th>\n",
       "      <th>country_code</th>\n",
       "      <th>country_name</th>\n",
       "      <th>continent</th>\n",
       "    </tr>\n",
       "  </thead>\n",
       "  <tbody>\n",
       "    <tr>\n",
       "      <th>0</th>\n",
       "      <td>JPN</td>\n",
       "      <td>Japan</td>\n",
       "      <td>Asia</td>\n",
       "    </tr>\n",
       "    <tr>\n",
       "      <th>1</th>\n",
       "      <td>RUS</td>\n",
       "      <td>Russia</td>\n",
       "      <td>Europe</td>\n",
       "    </tr>\n",
       "    <tr>\n",
       "      <th>2</th>\n",
       "      <td>FRA</td>\n",
       "      <td>France</td>\n",
       "      <td>Europe</td>\n",
       "    </tr>\n",
       "    <tr>\n",
       "      <th>3</th>\n",
       "      <td>AUS</td>\n",
       "      <td>Australia</td>\n",
       "      <td>Oceania</td>\n",
       "    </tr>\n",
       "    <tr>\n",
       "      <th>4</th>\n",
       "      <td>CAN</td>\n",
       "      <td>Canada</td>\n",
       "      <td>America</td>\n",
       "    </tr>\n",
       "    <tr>\n",
       "      <th>...</th>\n",
       "      <td>...</td>\n",
       "      <td>...</td>\n",
       "      <td>...</td>\n",
       "    </tr>\n",
       "    <tr>\n",
       "      <th>149</th>\n",
       "      <td>VIN</td>\n",
       "      <td>NaN</td>\n",
       "      <td>NaN</td>\n",
       "    </tr>\n",
       "    <tr>\n",
       "      <th>150</th>\n",
       "      <td>ANT</td>\n",
       "      <td>NaN</td>\n",
       "      <td>NaN</td>\n",
       "    </tr>\n",
       "    <tr>\n",
       "      <th>151</th>\n",
       "      <td>BER</td>\n",
       "      <td>NaN</td>\n",
       "      <td>NaN</td>\n",
       "    </tr>\n",
       "    <tr>\n",
       "      <th>152</th>\n",
       "      <td>LBA</td>\n",
       "      <td>NaN</td>\n",
       "      <td>NaN</td>\n",
       "    </tr>\n",
       "    <tr>\n",
       "      <th>153</th>\n",
       "      <td>TOG</td>\n",
       "      <td>NaN</td>\n",
       "      <td>NaN</td>\n",
       "    </tr>\n",
       "  </tbody>\n",
       "</table>\n",
       "<p>154 rows × 3 columns</p>\n",
       "</div>"
      ],
      "text/plain": [
       "    country_code country_name continent\n",
       "0            JPN        Japan      Asia\n",
       "1            RUS       Russia    Europe\n",
       "2            FRA       France    Europe\n",
       "3            AUS    Australia   Oceania\n",
       "4            CAN       Canada   America\n",
       "..           ...          ...       ...\n",
       "149          VIN          NaN       NaN\n",
       "150          ANT          NaN       NaN\n",
       "151          BER          NaN       NaN\n",
       "152          LBA          NaN       NaN\n",
       "153          TOG          NaN       NaN\n",
       "\n",
       "[154 rows x 3 columns]"
      ]
     },
     "execution_count": 143,
     "metadata": {},
     "output_type": "execute_result"
    }
   ],
   "source": [
    "g_new"
   ]
  },
  {
   "cell_type": "code",
   "execution_count": 144,
   "id": "qCU7BaG4zQwJ",
   "metadata": {
    "id": "qCU7BaG4zQwJ",
    "outputId": "e77b1642-cf12-448c-c0ab-497e2e98e5ca"
   },
   "outputs": [
    {
     "data": {
      "text/plain": [
       "0      JPN\n",
       "1      RUS\n",
       "2      FRA\n",
       "3      AUS\n",
       "4      CAN\n",
       "      ... \n",
       "149    VIN\n",
       "150    ANT\n",
       "151    BER\n",
       "152    LBA\n",
       "153    TOG\n",
       "Name: country_code, Length: 154, dtype: object"
      ]
     },
     "execution_count": 144,
     "metadata": {},
     "output_type": "execute_result"
    }
   ],
   "source": [
    "g_new['country_code']"
   ]
  },
  {
   "cell_type": "code",
   "execution_count": 145,
   "id": "0grCRmPezQwK",
   "metadata": {
    "id": "0grCRmPezQwK"
   },
   "outputs": [],
   "source": [
    "ioc= pd.read_csv('data/IOC_codes.csv')"
   ]
  },
  {
   "cell_type": "code",
   "execution_count": 146,
   "id": "2XUavVukzQwK",
   "metadata": {
    "id": "2XUavVukzQwK",
    "outputId": "61d3df5b-9e6c-49aa-9647-46152830acce"
   },
   "outputs": [
    {
     "data": {
      "text/html": [
       "<div>\n",
       "<style scoped>\n",
       "    .dataframe tbody tr th:only-of-type {\n",
       "        vertical-align: middle;\n",
       "    }\n",
       "\n",
       "    .dataframe tbody tr th {\n",
       "        vertical-align: top;\n",
       "    }\n",
       "\n",
       "    .dataframe thead th {\n",
       "        text-align: right;\n",
       "    }\n",
       "</style>\n",
       "<table border=\"1\" class=\"dataframe\">\n",
       "  <thead>\n",
       "    <tr style=\"text-align: right;\">\n",
       "      <th></th>\n",
       "      <th>Country</th>\n",
       "      <th>NOC</th>\n",
       "      <th>ISO code</th>\n",
       "    </tr>\n",
       "  </thead>\n",
       "  <tbody>\n",
       "    <tr>\n",
       "      <th>0</th>\n",
       "      <td>Afghanistan</td>\n",
       "      <td>AFG</td>\n",
       "      <td>AF</td>\n",
       "    </tr>\n",
       "    <tr>\n",
       "      <th>1</th>\n",
       "      <td>Albania</td>\n",
       "      <td>ALB</td>\n",
       "      <td>AL</td>\n",
       "    </tr>\n",
       "    <tr>\n",
       "      <th>2</th>\n",
       "      <td>Algeria</td>\n",
       "      <td>ALG</td>\n",
       "      <td>DZ</td>\n",
       "    </tr>\n",
       "    <tr>\n",
       "      <th>3</th>\n",
       "      <td>American Samoa*</td>\n",
       "      <td>ASA</td>\n",
       "      <td>AS</td>\n",
       "    </tr>\n",
       "    <tr>\n",
       "      <th>4</th>\n",
       "      <td>Andorra</td>\n",
       "      <td>AND</td>\n",
       "      <td>AD</td>\n",
       "    </tr>\n",
       "    <tr>\n",
       "      <th>...</th>\n",
       "      <td>...</td>\n",
       "      <td>...</td>\n",
       "      <td>...</td>\n",
       "    </tr>\n",
       "    <tr>\n",
       "      <th>196</th>\n",
       "      <td>Vietnam</td>\n",
       "      <td>VIE</td>\n",
       "      <td>VN</td>\n",
       "    </tr>\n",
       "    <tr>\n",
       "      <th>197</th>\n",
       "      <td>Virgin Islands*</td>\n",
       "      <td>ISV</td>\n",
       "      <td>VI</td>\n",
       "    </tr>\n",
       "    <tr>\n",
       "      <th>198</th>\n",
       "      <td>Yemen</td>\n",
       "      <td>YEM</td>\n",
       "      <td>YE</td>\n",
       "    </tr>\n",
       "    <tr>\n",
       "      <th>199</th>\n",
       "      <td>Zambia</td>\n",
       "      <td>ZAM</td>\n",
       "      <td>ZM</td>\n",
       "    </tr>\n",
       "    <tr>\n",
       "      <th>200</th>\n",
       "      <td>Zimbabwe</td>\n",
       "      <td>ZIM</td>\n",
       "      <td>ZW</td>\n",
       "    </tr>\n",
       "  </tbody>\n",
       "</table>\n",
       "<p>201 rows × 3 columns</p>\n",
       "</div>"
      ],
      "text/plain": [
       "             Country  NOC ISO code\n",
       "0        Afghanistan  AFG       AF\n",
       "1            Albania  ALB       AL\n",
       "2            Algeria  ALG       DZ\n",
       "3    American Samoa*  ASA       AS\n",
       "4            Andorra  AND       AD\n",
       "..               ...  ...      ...\n",
       "196          Vietnam  VIE       VN\n",
       "197  Virgin Islands*  ISV       VI\n",
       "198            Yemen  YEM       YE\n",
       "199           Zambia  ZAM       ZM\n",
       "200         Zimbabwe  ZIM       ZW\n",
       "\n",
       "[201 rows x 3 columns]"
      ]
     },
     "execution_count": 146,
     "metadata": {},
     "output_type": "execute_result"
    }
   ],
   "source": [
    "ioc"
   ]
  },
  {
   "cell_type": "code",
   "execution_count": 147,
   "id": "fb81a5a6",
   "metadata": {},
   "outputs": [
    {
     "data": {
      "text/plain": [
       "0      False\n",
       "1      False\n",
       "2      False\n",
       "3      False\n",
       "4      False\n",
       "       ...  \n",
       "149     True\n",
       "150     True\n",
       "151     True\n",
       "152     True\n",
       "153     True\n",
       "Length: 154, dtype: bool"
      ]
     },
     "execution_count": 147,
     "metadata": {},
     "output_type": "execute_result"
    }
   ],
   "source": [
    "g_new.isnull().any(axis=1)"
   ]
  },
  {
   "cell_type": "code",
   "execution_count": 148,
   "id": "38Oi438RzQwK",
   "metadata": {
    "id": "38Oi438RzQwK",
    "outputId": "ddffaa1d-d4e5-4d38-f172-9f7f255499e0"
   },
   "outputs": [
    {
     "name": "stdout",
     "output_type": "stream",
     "text": [
      "QAT\n",
      "ERI\n",
      "BOT\n",
      "CRI\n",
      "not found\n",
      "JOR\n",
      "AHO\n",
      "LBN\n",
      "not found\n",
      "GHA\n",
      "LVA\n",
      "not found\n",
      "SMR\n",
      "BEN\n",
      "JAM\n",
      "ITF\n",
      "not found\n",
      "SAU\n",
      "not found\n",
      "TTO\n",
      "not found\n",
      "COD\n",
      "BAN\n",
      "UAE\n",
      "ZAM\n",
      "AZE\n",
      "MRN\n",
      "not found\n",
      "TKM\n",
      "BGR\n",
      "not found\n",
      "BRN\n",
      "SYR\n",
      "VIN\n",
      "ANT\n",
      "BER\n",
      "LBA\n",
      "TOG\n"
     ]
    }
   ],
   "source": [
    "unknown=[]\n",
    "for index,row in g_new[g_new.isnull().any(axis=1)].iterrows():\n",
    "    try:\n",
    "        print(row['country_code'])\n",
    "        g_new.at[index,'country_name']= ioc[ioc['NOC']==row['country_code']].iloc[0].at['Country']\n",
    "    except:\n",
    "        unknown.append(row['country_code'])\n",
    "        print('not found')"
   ]
  },
  {
   "cell_type": "code",
   "execution_count": 149,
   "id": "q9A_JIzbzQwK",
   "metadata": {
    "id": "q9A_JIzbzQwK",
    "outputId": "2a4590f9-8386-4b75-9ea6-c07fbf7f1965"
   },
   "outputs": [
    {
     "data": {
      "text/html": [
       "<div>\n",
       "<style scoped>\n",
       "    .dataframe tbody tr th:only-of-type {\n",
       "        vertical-align: middle;\n",
       "    }\n",
       "\n",
       "    .dataframe tbody tr th {\n",
       "        vertical-align: top;\n",
       "    }\n",
       "\n",
       "    .dataframe thead th {\n",
       "        text-align: right;\n",
       "    }\n",
       "</style>\n",
       "<table border=\"1\" class=\"dataframe\">\n",
       "  <thead>\n",
       "    <tr style=\"text-align: right;\">\n",
       "      <th></th>\n",
       "      <th>country_code</th>\n",
       "      <th>country_name</th>\n",
       "      <th>continent</th>\n",
       "    </tr>\n",
       "  </thead>\n",
       "  <tbody>\n",
       "    <tr>\n",
       "      <th>127</th>\n",
       "      <td>CRI</td>\n",
       "      <td>NaN</td>\n",
       "      <td>NaN</td>\n",
       "    </tr>\n",
       "    <tr>\n",
       "      <th>130</th>\n",
       "      <td>LBN</td>\n",
       "      <td>NaN</td>\n",
       "      <td>NaN</td>\n",
       "    </tr>\n",
       "    <tr>\n",
       "      <th>132</th>\n",
       "      <td>LVA</td>\n",
       "      <td>NaN</td>\n",
       "      <td>NaN</td>\n",
       "    </tr>\n",
       "    <tr>\n",
       "      <th>136</th>\n",
       "      <td>ITF</td>\n",
       "      <td>NaN</td>\n",
       "      <td>NaN</td>\n",
       "    </tr>\n",
       "    <tr>\n",
       "      <th>137</th>\n",
       "      <td>SAU</td>\n",
       "      <td>NaN</td>\n",
       "      <td>NaN</td>\n",
       "    </tr>\n",
       "    <tr>\n",
       "      <th>138</th>\n",
       "      <td>TTO</td>\n",
       "      <td>NaN</td>\n",
       "      <td>NaN</td>\n",
       "    </tr>\n",
       "    <tr>\n",
       "      <th>144</th>\n",
       "      <td>MRN</td>\n",
       "      <td>NaN</td>\n",
       "      <td>NaN</td>\n",
       "    </tr>\n",
       "    <tr>\n",
       "      <th>146</th>\n",
       "      <td>BGR</td>\n",
       "      <td>NaN</td>\n",
       "      <td>NaN</td>\n",
       "    </tr>\n",
       "  </tbody>\n",
       "</table>\n",
       "</div>"
      ],
      "text/plain": [
       "    country_code country_name continent\n",
       "127          CRI          NaN       NaN\n",
       "130          LBN          NaN       NaN\n",
       "132          LVA          NaN       NaN\n",
       "136          ITF          NaN       NaN\n",
       "137          SAU          NaN       NaN\n",
       "138          TTO          NaN       NaN\n",
       "144          MRN          NaN       NaN\n",
       "146          BGR          NaN       NaN"
      ]
     },
     "execution_count": 149,
     "metadata": {},
     "output_type": "execute_result"
    }
   ],
   "source": [
    "g_new[g_new['country_name'].isnull()]"
   ]
  },
  {
   "cell_type": "markdown",
   "id": "D3V4G89izQwK",
   "metadata": {
    "id": "D3V4G89izQwK"
   },
   "source": [
    "I restanti sono stati estrapolati dalla lista presente su wikipedia al link https://en.wikipedia.org/wiki/List_of_IOC_country_codes"
   ]
  },
  {
   "cell_type": "code",
   "execution_count": 150,
   "id": "0f960c33",
   "metadata": {},
   "outputs": [],
   "source": [
    "index_LBN=g_new.index[g_new['country_code'] == 'LBN']\n",
    "index_CRI=g_new.index[g_new['country_code'] == 'CRI']\n",
    "index_BGR=g_new.index[g_new['country_code'] == 'BGR']\n",
    "index_SAU=g_new.index[g_new['country_code'] == 'SAU']\n",
    "index_TTO=g_new.index[g_new['country_code'] == 'TTO']\n",
    "index_LVA=g_new.index[g_new['country_code'] == 'LVA']\n"
   ]
  },
  {
   "cell_type": "code",
   "execution_count": 151,
   "id": "n3llElx0zQwK",
   "metadata": {
    "id": "n3llElx0zQwK"
   },
   "outputs": [],
   "source": [
    "\n",
    "g_new.at[index_TTO,'country_name']='Trinidad e Tobago'\n",
    "g_new.at[index_BGR,'country_name']='Bulgaria'\n",
    "g_new.at[index_LBN,'country_name']='Lebanon'\n",
    "g_new.at[index_CRI,'country_name']='Costa Rica'\n",
    "g_new.at[index_SAU,'country_name']='Saudi Arabia'\n",
    "g_new.at[index_LVA,'country_name']='Latvia'"
   ]
  },
  {
   "cell_type": "code",
   "execution_count": 152,
   "id": "NgnhL98ezQwL",
   "metadata": {
    "id": "NgnhL98ezQwL",
    "outputId": "25bcc2ce-ad02-49f4-a43b-693041ce49bf"
   },
   "outputs": [
    {
     "data": {
      "text/html": [
       "<div>\n",
       "<style scoped>\n",
       "    .dataframe tbody tr th:only-of-type {\n",
       "        vertical-align: middle;\n",
       "    }\n",
       "\n",
       "    .dataframe tbody tr th {\n",
       "        vertical-align: top;\n",
       "    }\n",
       "\n",
       "    .dataframe thead th {\n",
       "        text-align: right;\n",
       "    }\n",
       "</style>\n",
       "<table border=\"1\" class=\"dataframe\">\n",
       "  <thead>\n",
       "    <tr style=\"text-align: right;\">\n",
       "      <th></th>\n",
       "      <th>country_code</th>\n",
       "      <th>country_name</th>\n",
       "      <th>continent</th>\n",
       "    </tr>\n",
       "  </thead>\n",
       "  <tbody>\n",
       "    <tr>\n",
       "      <th>136</th>\n",
       "      <td>ITF</td>\n",
       "      <td>NaN</td>\n",
       "      <td>NaN</td>\n",
       "    </tr>\n",
       "    <tr>\n",
       "      <th>144</th>\n",
       "      <td>MRN</td>\n",
       "      <td>NaN</td>\n",
       "      <td>NaN</td>\n",
       "    </tr>\n",
       "  </tbody>\n",
       "</table>\n",
       "</div>"
      ],
      "text/plain": [
       "    country_code country_name continent\n",
       "136          ITF          NaN       NaN\n",
       "144          MRN          NaN       NaN"
      ]
     },
     "execution_count": 152,
     "metadata": {},
     "output_type": "execute_result"
    }
   ],
   "source": [
    "g_new[g_new['country_name'].isnull()]"
   ]
  },
  {
   "cell_type": "markdown",
   "id": "1nuy2I3nzQwL",
   "metadata": {
    "id": "1nuy2I3nzQwL"
   },
   "source": [
    "Non è stato trovato nessun match con MRN, perciò lo si è scoperto cercando il nome alle tennista a cui è assegnato"
   ]
  },
  {
   "cell_type": "code",
   "execution_count": 153,
   "id": "S6IoxvcizQwL",
   "metadata": {
    "id": "S6IoxvcizQwL",
    "outputId": "b78e1771-474e-4c11-df93-78f239cdb0d3"
   },
   "outputs": [
    {
     "data": {
      "text/html": [
       "<div>\n",
       "<style scoped>\n",
       "    .dataframe tbody tr th:only-of-type {\n",
       "        vertical-align: middle;\n",
       "    }\n",
       "\n",
       "    .dataframe tbody tr th {\n",
       "        vertical-align: top;\n",
       "    }\n",
       "\n",
       "    .dataframe thead th {\n",
       "        text-align: right;\n",
       "    }\n",
       "</style>\n",
       "<table border=\"1\" class=\"dataframe\">\n",
       "  <thead>\n",
       "    <tr style=\"text-align: right;\">\n",
       "      <th></th>\n",
       "      <th>tourney_id</th>\n",
       "      <th>tourney_name</th>\n",
       "      <th>surface</th>\n",
       "      <th>draw_size</th>\n",
       "      <th>tourney_level</th>\n",
       "      <th>tourney_date</th>\n",
       "      <th>match_num</th>\n",
       "      <th>winner_id</th>\n",
       "      <th>winner_name</th>\n",
       "      <th>winner_hand</th>\n",
       "      <th>winner_ht</th>\n",
       "      <th>winner_ioc</th>\n",
       "      <th>winner_age</th>\n",
       "      <th>loser_id</th>\n",
       "      <th>loser_name</th>\n",
       "      <th>loser_hand</th>\n",
       "      <th>loser_ht</th>\n",
       "      <th>loser_ioc</th>\n",
       "      <th>loser_age</th>\n",
       "      <th>score</th>\n",
       "      <th>best_of</th>\n",
       "      <th>round</th>\n",
       "      <th>minutes</th>\n",
       "      <th>w_ace</th>\n",
       "      <th>w_df</th>\n",
       "      <th>w_svpt</th>\n",
       "      <th>w_1stIn</th>\n",
       "      <th>w_1stWon</th>\n",
       "      <th>w_2ndWon</th>\n",
       "      <th>w_SvGms</th>\n",
       "      <th>w_bpSaved</th>\n",
       "      <th>w_bpFaced</th>\n",
       "      <th>l_ace</th>\n",
       "      <th>l_df</th>\n",
       "      <th>l_svpt</th>\n",
       "      <th>l_1stIn</th>\n",
       "      <th>l_1stWon</th>\n",
       "      <th>l_2ndWon</th>\n",
       "      <th>l_SvGms</th>\n",
       "      <th>l_bpSaved</th>\n",
       "      <th>l_bpFaced</th>\n",
       "      <th>winner_rank</th>\n",
       "      <th>winner_rank_points</th>\n",
       "      <th>loser_rank</th>\n",
       "      <th>loser_rank_points</th>\n",
       "      <th>tourney_spectators</th>\n",
       "      <th>tourney_revenue</th>\n",
       "    </tr>\n",
       "  </thead>\n",
       "  <tbody>\n",
       "    <tr>\n",
       "      <th>52835</th>\n",
       "      <td>2016-W-WITF-FRA-01A-2016_10</td>\n",
       "      <td>Fort de France Martinique $10K</td>\n",
       "      <td>Hard</td>\n",
       "      <td>15</td>\n",
       "      <td>10</td>\n",
       "      <td>20160111</td>\n",
       "      <td>9</td>\n",
       "      <td>206091</td>\n",
       "      <td>Yolande Leacock</td>\n",
       "      <td>R</td>\n",
       "      <td>172.0</td>\n",
       "      <td>TRI</td>\n",
       "      <td>25.004791</td>\n",
       "      <td>214249</td>\n",
       "      <td>Angela Charles Alfred</td>\n",
       "      <td>U</td>\n",
       "      <td>172.0</td>\n",
       "      <td>MRN</td>\n",
       "      <td>16.350445</td>\n",
       "      <td>7-5 6-1</td>\n",
       "      <td>3</td>\n",
       "      <td>R32</td>\n",
       "      <td>NaN</td>\n",
       "      <td>NaN</td>\n",
       "      <td>NaN</td>\n",
       "      <td>NaN</td>\n",
       "      <td>NaN</td>\n",
       "      <td>NaN</td>\n",
       "      <td>NaN</td>\n",
       "      <td>NaN</td>\n",
       "      <td>NaN</td>\n",
       "      <td>NaN</td>\n",
       "      <td>NaN</td>\n",
       "      <td>NaN</td>\n",
       "      <td>NaN</td>\n",
       "      <td>NaN</td>\n",
       "      <td>NaN</td>\n",
       "      <td>NaN</td>\n",
       "      <td>NaN</td>\n",
       "      <td>NaN</td>\n",
       "      <td>NaN</td>\n",
       "      <td>1188.0</td>\n",
       "      <td>3.0</td>\n",
       "      <td>825.0</td>\n",
       "      <td>142.0</td>\n",
       "      <td>1442</td>\n",
       "      <td>293875.10</td>\n",
       "    </tr>\n",
       "    <tr>\n",
       "      <th>122845</th>\n",
       "      <td>2018-W-WITF-FRA-01A-2018_15</td>\n",
       "      <td>Fort de France Martinique $15K</td>\n",
       "      <td>Hard</td>\n",
       "      <td>30</td>\n",
       "      <td>15</td>\n",
       "      <td>20180108</td>\n",
       "      <td>5</td>\n",
       "      <td>201767</td>\n",
       "      <td>Sylvia Schenck</td>\n",
       "      <td>U</td>\n",
       "      <td>172.0</td>\n",
       "      <td>USA</td>\n",
       "      <td>53.949350</td>\n",
       "      <td>220990</td>\n",
       "      <td>Dieuvela Gaspard</td>\n",
       "      <td>R</td>\n",
       "      <td>172.0</td>\n",
       "      <td>MRN</td>\n",
       "      <td>16.837782</td>\n",
       "      <td>6-1 6-1</td>\n",
       "      <td>3</td>\n",
       "      <td>R32</td>\n",
       "      <td>NaN</td>\n",
       "      <td>NaN</td>\n",
       "      <td>NaN</td>\n",
       "      <td>NaN</td>\n",
       "      <td>NaN</td>\n",
       "      <td>NaN</td>\n",
       "      <td>NaN</td>\n",
       "      <td>NaN</td>\n",
       "      <td>NaN</td>\n",
       "      <td>NaN</td>\n",
       "      <td>NaN</td>\n",
       "      <td>NaN</td>\n",
       "      <td>NaN</td>\n",
       "      <td>NaN</td>\n",
       "      <td>NaN</td>\n",
       "      <td>NaN</td>\n",
       "      <td>NaN</td>\n",
       "      <td>NaN</td>\n",
       "      <td>NaN</td>\n",
       "      <td>825.0</td>\n",
       "      <td>142.0</td>\n",
       "      <td>825.0</td>\n",
       "      <td>142.0</td>\n",
       "      <td>2737</td>\n",
       "      <td>536533.77</td>\n",
       "    </tr>\n",
       "    <tr>\n",
       "      <th>142053</th>\n",
       "      <td>2019-W-ITF-FRA-02A-2019_15</td>\n",
       "      <td>W15 Fort de France Martinique</td>\n",
       "      <td>Hard</td>\n",
       "      <td>32</td>\n",
       "      <td>15</td>\n",
       "      <td>20190107</td>\n",
       "      <td>12</td>\n",
       "      <td>215431</td>\n",
       "      <td>Emily Appleton</td>\n",
       "      <td>U</td>\n",
       "      <td>172.0</td>\n",
       "      <td>GBR</td>\n",
       "      <td>19.351129</td>\n",
       "      <td>220990</td>\n",
       "      <td>Dieuvela Gaspard</td>\n",
       "      <td>R</td>\n",
       "      <td>172.0</td>\n",
       "      <td>MRN</td>\n",
       "      <td>17.834360</td>\n",
       "      <td>6-1 6-0</td>\n",
       "      <td>3</td>\n",
       "      <td>R32</td>\n",
       "      <td>NaN</td>\n",
       "      <td>NaN</td>\n",
       "      <td>NaN</td>\n",
       "      <td>NaN</td>\n",
       "      <td>NaN</td>\n",
       "      <td>NaN</td>\n",
       "      <td>NaN</td>\n",
       "      <td>NaN</td>\n",
       "      <td>NaN</td>\n",
       "      <td>NaN</td>\n",
       "      <td>NaN</td>\n",
       "      <td>NaN</td>\n",
       "      <td>NaN</td>\n",
       "      <td>NaN</td>\n",
       "      <td>NaN</td>\n",
       "      <td>NaN</td>\n",
       "      <td>NaN</td>\n",
       "      <td>NaN</td>\n",
       "      <td>NaN</td>\n",
       "      <td>740.0</td>\n",
       "      <td>11.0</td>\n",
       "      <td>825.0</td>\n",
       "      <td>142.0</td>\n",
       "      <td>3319</td>\n",
       "      <td>627368.84</td>\n",
       "    </tr>\n",
       "  </tbody>\n",
       "</table>\n",
       "</div>"
      ],
      "text/plain": [
       "                         tourney_id                    tourney_name surface  \\\n",
       "52835   2016-W-WITF-FRA-01A-2016_10  Fort de France Martinique $10K    Hard   \n",
       "122845  2018-W-WITF-FRA-01A-2018_15  Fort de France Martinique $15K    Hard   \n",
       "142053   2019-W-ITF-FRA-02A-2019_15   W15 Fort de France Martinique    Hard   \n",
       "\n",
       "        draw_size tourney_level  tourney_date  match_num  winner_id  \\\n",
       "52835          15            10      20160111          9     206091   \n",
       "122845         30            15      20180108          5     201767   \n",
       "142053         32            15      20190107         12     215431   \n",
       "\n",
       "            winner_name winner_hand  winner_ht winner_ioc  winner_age  \\\n",
       "52835   Yolande Leacock           R      172.0        TRI   25.004791   \n",
       "122845   Sylvia Schenck           U      172.0        USA   53.949350   \n",
       "142053   Emily Appleton           U      172.0        GBR   19.351129   \n",
       "\n",
       "        loser_id             loser_name loser_hand  loser_ht loser_ioc  \\\n",
       "52835     214249  Angela Charles Alfred          U     172.0       MRN   \n",
       "122845    220990       Dieuvela Gaspard          R     172.0       MRN   \n",
       "142053    220990       Dieuvela Gaspard          R     172.0       MRN   \n",
       "\n",
       "        loser_age    score  best_of round  minutes  w_ace  w_df  w_svpt  \\\n",
       "52835   16.350445  7-5 6-1        3   R32      NaN    NaN   NaN     NaN   \n",
       "122845  16.837782  6-1 6-1        3   R32      NaN    NaN   NaN     NaN   \n",
       "142053  17.834360  6-1 6-0        3   R32      NaN    NaN   NaN     NaN   \n",
       "\n",
       "        w_1stIn  w_1stWon  w_2ndWon  w_SvGms  w_bpSaved  w_bpFaced  l_ace  \\\n",
       "52835       NaN       NaN       NaN      NaN        NaN        NaN    NaN   \n",
       "122845      NaN       NaN       NaN      NaN        NaN        NaN    NaN   \n",
       "142053      NaN       NaN       NaN      NaN        NaN        NaN    NaN   \n",
       "\n",
       "        l_df  l_svpt  l_1stIn  l_1stWon  l_2ndWon  l_SvGms  l_bpSaved  \\\n",
       "52835    NaN     NaN      NaN       NaN       NaN      NaN        NaN   \n",
       "122845   NaN     NaN      NaN       NaN       NaN      NaN        NaN   \n",
       "142053   NaN     NaN      NaN       NaN       NaN      NaN        NaN   \n",
       "\n",
       "        l_bpFaced  winner_rank  winner_rank_points  loser_rank  \\\n",
       "52835         NaN       1188.0                 3.0       825.0   \n",
       "122845        NaN        825.0               142.0       825.0   \n",
       "142053        NaN        740.0                11.0       825.0   \n",
       "\n",
       "        loser_rank_points  tourney_spectators  tourney_revenue  \n",
       "52835               142.0                1442        293875.10  \n",
       "122845              142.0                2737        536533.77  \n",
       "142053              142.0                3319        627368.84  "
      ]
     },
     "execution_count": 153,
     "metadata": {},
     "output_type": "execute_result"
    }
   ],
   "source": [
    "tennis[(tennis['winner_ioc']=='MRN') | (tennis['loser_ioc']=='MRN')]"
   ]
  },
  {
   "cell_type": "code",
   "execution_count": 154,
   "id": "oiP7haBuzQwL",
   "metadata": {
    "id": "oiP7haBuzQwL"
   },
   "outputs": [],
   "source": [
    "g_new.at[g_new.index[g_new['country_code'] == 'MRN'],'country_name']='Martinique'"
   ]
  },
  {
   "cell_type": "code",
   "execution_count": 155,
   "id": "5jW1Le0OzQwL",
   "metadata": {
    "id": "5jW1Le0OzQwL",
    "outputId": "98cf84cc-c030-4783-851e-4223861f01e2"
   },
   "outputs": [
    {
     "data": {
      "text/html": [
       "<div>\n",
       "<style scoped>\n",
       "    .dataframe tbody tr th:only-of-type {\n",
       "        vertical-align: middle;\n",
       "    }\n",
       "\n",
       "    .dataframe tbody tr th {\n",
       "        vertical-align: top;\n",
       "    }\n",
       "\n",
       "    .dataframe thead th {\n",
       "        text-align: right;\n",
       "    }\n",
       "</style>\n",
       "<table border=\"1\" class=\"dataframe\">\n",
       "  <thead>\n",
       "    <tr style=\"text-align: right;\">\n",
       "      <th></th>\n",
       "      <th>country_code</th>\n",
       "      <th>country_name</th>\n",
       "      <th>continent</th>\n",
       "    </tr>\n",
       "  </thead>\n",
       "  <tbody>\n",
       "    <tr>\n",
       "      <th>136</th>\n",
       "      <td>ITF</td>\n",
       "      <td>NaN</td>\n",
       "      <td>NaN</td>\n",
       "    </tr>\n",
       "  </tbody>\n",
       "</table>\n",
       "</div>"
      ],
      "text/plain": [
       "    country_code country_name continent\n",
       "136          ITF          NaN       NaN"
      ]
     },
     "execution_count": 155,
     "metadata": {},
     "output_type": "execute_result"
    }
   ],
   "source": [
    "g_new[g_new['country_name'].isnull()]"
   ]
  },
  {
   "cell_type": "markdown",
   "id": "zMIvmbnVzQwL",
   "metadata": {
    "id": "zMIvmbnVzQwL"
   },
   "source": [
    "Per quest'ultimo si è scoperto si tratti solamente di un typo si trattava infatti di un tennista italiano"
   ]
  },
  {
   "cell_type": "code",
   "execution_count": 156,
   "id": "AIlhfbTgzQwL",
   "metadata": {
    "id": "AIlhfbTgzQwL",
    "outputId": "bb1a24f5-ed4d-4995-cb4e-aaabb05a73ee"
   },
   "outputs": [
    {
     "data": {
      "text/html": [
       "<div>\n",
       "<style scoped>\n",
       "    .dataframe tbody tr th:only-of-type {\n",
       "        vertical-align: middle;\n",
       "    }\n",
       "\n",
       "    .dataframe tbody tr th {\n",
       "        vertical-align: top;\n",
       "    }\n",
       "\n",
       "    .dataframe thead th {\n",
       "        text-align: right;\n",
       "    }\n",
       "</style>\n",
       "<table border=\"1\" class=\"dataframe\">\n",
       "  <thead>\n",
       "    <tr style=\"text-align: right;\">\n",
       "      <th></th>\n",
       "      <th>tourney_id</th>\n",
       "      <th>tourney_name</th>\n",
       "      <th>surface</th>\n",
       "      <th>draw_size</th>\n",
       "      <th>tourney_level</th>\n",
       "      <th>tourney_date</th>\n",
       "      <th>match_num</th>\n",
       "      <th>winner_id</th>\n",
       "      <th>winner_name</th>\n",
       "      <th>winner_hand</th>\n",
       "      <th>winner_ht</th>\n",
       "      <th>winner_ioc</th>\n",
       "      <th>winner_age</th>\n",
       "      <th>loser_id</th>\n",
       "      <th>loser_name</th>\n",
       "      <th>loser_hand</th>\n",
       "      <th>loser_ht</th>\n",
       "      <th>loser_ioc</th>\n",
       "      <th>loser_age</th>\n",
       "      <th>score</th>\n",
       "      <th>best_of</th>\n",
       "      <th>round</th>\n",
       "      <th>minutes</th>\n",
       "      <th>w_ace</th>\n",
       "      <th>w_df</th>\n",
       "      <th>w_svpt</th>\n",
       "      <th>w_1stIn</th>\n",
       "      <th>w_1stWon</th>\n",
       "      <th>w_2ndWon</th>\n",
       "      <th>w_SvGms</th>\n",
       "      <th>w_bpSaved</th>\n",
       "      <th>w_bpFaced</th>\n",
       "      <th>l_ace</th>\n",
       "      <th>l_df</th>\n",
       "      <th>l_svpt</th>\n",
       "      <th>l_1stIn</th>\n",
       "      <th>l_1stWon</th>\n",
       "      <th>l_2ndWon</th>\n",
       "      <th>l_SvGms</th>\n",
       "      <th>l_bpSaved</th>\n",
       "      <th>l_bpFaced</th>\n",
       "      <th>winner_rank</th>\n",
       "      <th>winner_rank_points</th>\n",
       "      <th>loser_rank</th>\n",
       "      <th>loser_rank_points</th>\n",
       "      <th>tourney_spectators</th>\n",
       "      <th>tourney_revenue</th>\n",
       "    </tr>\n",
       "  </thead>\n",
       "  <tbody>\n",
       "    <tr>\n",
       "      <th>72194</th>\n",
       "      <td>2016-7021_C</td>\n",
       "      <td>Mestre CH</td>\n",
       "      <td>Clay</td>\n",
       "      <td>32</td>\n",
       "      <td>C</td>\n",
       "      <td>20160516</td>\n",
       "      <td>13</td>\n",
       "      <td>106049</td>\n",
       "      <td>Ivan Sabanov</td>\n",
       "      <td>R</td>\n",
       "      <td>185.0</td>\n",
       "      <td>CRO</td>\n",
       "      <td>23.723477</td>\n",
       "      <td>206839</td>\n",
       "      <td>Filippo Piranomonte</td>\n",
       "      <td>U</td>\n",
       "      <td>185.0</td>\n",
       "      <td>ITF</td>\n",
       "      <td>14.409309</td>\n",
       "      <td>6-3 6-3</td>\n",
       "      <td>3</td>\n",
       "      <td>Q1</td>\n",
       "      <td>NaN</td>\n",
       "      <td>1.0</td>\n",
       "      <td>6.0</td>\n",
       "      <td>56.0</td>\n",
       "      <td>39.0</td>\n",
       "      <td>28.0</td>\n",
       "      <td>9.0</td>\n",
       "      <td>9.0</td>\n",
       "      <td>5.0</td>\n",
       "      <td>6.0</td>\n",
       "      <td>0.0</td>\n",
       "      <td>2.0</td>\n",
       "      <td>54.0</td>\n",
       "      <td>35.0</td>\n",
       "      <td>19.0</td>\n",
       "      <td>11.0</td>\n",
       "      <td>9.0</td>\n",
       "      <td>7.0</td>\n",
       "      <td>11.0</td>\n",
       "      <td>1149.0</td>\n",
       "      <td>8.0</td>\n",
       "      <td>825.0</td>\n",
       "      <td>142.0</td>\n",
       "      <td>4277</td>\n",
       "      <td>1144423.86</td>\n",
       "    </tr>\n",
       "  </tbody>\n",
       "</table>\n",
       "</div>"
      ],
      "text/plain": [
       "        tourney_id tourney_name surface  draw_size tourney_level  \\\n",
       "72194  2016-7021_C    Mestre CH    Clay         32             C   \n",
       "\n",
       "       tourney_date  match_num  winner_id   winner_name winner_hand  \\\n",
       "72194      20160516         13     106049  Ivan Sabanov           R   \n",
       "\n",
       "       winner_ht winner_ioc  winner_age  loser_id           loser_name  \\\n",
       "72194      185.0        CRO   23.723477    206839  Filippo Piranomonte   \n",
       "\n",
       "      loser_hand  loser_ht loser_ioc  loser_age    score  best_of round  \\\n",
       "72194          U     185.0       ITF  14.409309  6-3 6-3        3    Q1   \n",
       "\n",
       "       minutes  w_ace  w_df  w_svpt  w_1stIn  w_1stWon  w_2ndWon  w_SvGms  \\\n",
       "72194      NaN    1.0   6.0    56.0     39.0      28.0       9.0      9.0   \n",
       "\n",
       "       w_bpSaved  w_bpFaced  l_ace  l_df  l_svpt  l_1stIn  l_1stWon  l_2ndWon  \\\n",
       "72194        5.0        6.0    0.0   2.0    54.0     35.0      19.0      11.0   \n",
       "\n",
       "       l_SvGms  l_bpSaved  l_bpFaced  winner_rank  winner_rank_points  \\\n",
       "72194      9.0        7.0       11.0       1149.0                 8.0   \n",
       "\n",
       "       loser_rank  loser_rank_points  tourney_spectators  tourney_revenue  \n",
       "72194       825.0              142.0                4277       1144423.86  "
      ]
     },
     "execution_count": 156,
     "metadata": {},
     "output_type": "execute_result"
    }
   ],
   "source": [
    "tennis[(tennis['winner_ioc']=='ITF') | (tennis['loser_ioc']=='ITF')]"
   ]
  },
  {
   "cell_type": "code",
   "execution_count": 157,
   "id": "V7JmMD6zzQwM",
   "metadata": {
    "id": "V7JmMD6zzQwM"
   },
   "outputs": [],
   "source": [
    "g_new= g_new.drop(g_new[g_new['country_name'].isnull()].index, axis=0)"
   ]
  },
  {
   "cell_type": "code",
   "execution_count": 158,
   "id": "9VDtcyKJzQwM",
   "metadata": {
    "id": "9VDtcyKJzQwM"
   },
   "outputs": [],
   "source": [
    "g_new.reset_index(drop=True, inplace=True)"
   ]
  },
  {
   "cell_type": "code",
   "execution_count": 159,
   "id": "NR-f1eahzQwM",
   "metadata": {
    "id": "NR-f1eahzQwM",
    "outputId": "9ddcc949-bfd9-44ad-87d8-7a551168f453"
   },
   "outputs": [
    {
     "data": {
      "text/html": [
       "<div>\n",
       "<style scoped>\n",
       "    .dataframe tbody tr th:only-of-type {\n",
       "        vertical-align: middle;\n",
       "    }\n",
       "\n",
       "    .dataframe tbody tr th {\n",
       "        vertical-align: top;\n",
       "    }\n",
       "\n",
       "    .dataframe thead th {\n",
       "        text-align: right;\n",
       "    }\n",
       "</style>\n",
       "<table border=\"1\" class=\"dataframe\">\n",
       "  <thead>\n",
       "    <tr style=\"text-align: right;\">\n",
       "      <th></th>\n",
       "      <th>country_code</th>\n",
       "      <th>country_name</th>\n",
       "      <th>continent</th>\n",
       "    </tr>\n",
       "  </thead>\n",
       "  <tbody>\n",
       "    <tr>\n",
       "      <th>0</th>\n",
       "      <td>JPN</td>\n",
       "      <td>Japan</td>\n",
       "      <td>Asia</td>\n",
       "    </tr>\n",
       "    <tr>\n",
       "      <th>1</th>\n",
       "      <td>RUS</td>\n",
       "      <td>Russia</td>\n",
       "      <td>Europe</td>\n",
       "    </tr>\n",
       "    <tr>\n",
       "      <th>2</th>\n",
       "      <td>FRA</td>\n",
       "      <td>France</td>\n",
       "      <td>Europe</td>\n",
       "    </tr>\n",
       "    <tr>\n",
       "      <th>3</th>\n",
       "      <td>AUS</td>\n",
       "      <td>Australia</td>\n",
       "      <td>Oceania</td>\n",
       "    </tr>\n",
       "    <tr>\n",
       "      <th>4</th>\n",
       "      <td>CAN</td>\n",
       "      <td>Canada</td>\n",
       "      <td>America</td>\n",
       "    </tr>\n",
       "    <tr>\n",
       "      <th>...</th>\n",
       "      <td>...</td>\n",
       "      <td>...</td>\n",
       "      <td>...</td>\n",
       "    </tr>\n",
       "    <tr>\n",
       "      <th>148</th>\n",
       "      <td>VIN</td>\n",
       "      <td>Saint Vincent and the Grenadines</td>\n",
       "      <td>NaN</td>\n",
       "    </tr>\n",
       "    <tr>\n",
       "      <th>149</th>\n",
       "      <td>ANT</td>\n",
       "      <td>Antigua and Barbuda</td>\n",
       "      <td>NaN</td>\n",
       "    </tr>\n",
       "    <tr>\n",
       "      <th>150</th>\n",
       "      <td>BER</td>\n",
       "      <td>Bermuda*</td>\n",
       "      <td>NaN</td>\n",
       "    </tr>\n",
       "    <tr>\n",
       "      <th>151</th>\n",
       "      <td>LBA</td>\n",
       "      <td>Libya</td>\n",
       "      <td>NaN</td>\n",
       "    </tr>\n",
       "    <tr>\n",
       "      <th>152</th>\n",
       "      <td>TOG</td>\n",
       "      <td>Togo</td>\n",
       "      <td>NaN</td>\n",
       "    </tr>\n",
       "  </tbody>\n",
       "</table>\n",
       "<p>153 rows × 3 columns</p>\n",
       "</div>"
      ],
      "text/plain": [
       "    country_code                      country_name continent\n",
       "0            JPN                             Japan      Asia\n",
       "1            RUS                            Russia    Europe\n",
       "2            FRA                            France    Europe\n",
       "3            AUS                         Australia   Oceania\n",
       "4            CAN                            Canada   America\n",
       "..           ...                               ...       ...\n",
       "148          VIN  Saint Vincent and the Grenadines       NaN\n",
       "149          ANT               Antigua and Barbuda       NaN\n",
       "150          BER                          Bermuda*       NaN\n",
       "151          LBA                             Libya       NaN\n",
       "152          TOG                              Togo       NaN\n",
       "\n",
       "[153 rows x 3 columns]"
      ]
     },
     "execution_count": 159,
     "metadata": {},
     "output_type": "execute_result"
    }
   ],
   "source": [
    "g_new"
   ]
  },
  {
   "cell_type": "code",
   "execution_count": 160,
   "id": "2Dnv0ZR4zQwM",
   "metadata": {
    "id": "2Dnv0ZR4zQwM"
   },
   "outputs": [],
   "source": [
    "for index,row in tennis[(tennis['winner_ioc']=='ITF') | (tennis['loser_ioc']=='ITF')].iterrows():\n",
    "    if row['winner_ioc']=='ITF':\n",
    "        tennis.at[index,'winner_ioc']= 'ITA'\n",
    "    if row['loser_ioc']=='ITF':\n",
    "        tennis.at[index,'loser_ioc']= 'ITA'"
   ]
  },
  {
   "cell_type": "markdown",
   "id": "efxe_SThzQwM",
   "metadata": {
    "id": "efxe_SThzQwM"
   },
   "source": [
    "## Riempimento missing value in continent"
   ]
  },
  {
   "cell_type": "markdown",
   "id": "KRRbrg_DzQwN",
   "metadata": {
    "id": "KRRbrg_DzQwN"
   },
   "source": [
    "Per reperire il continente corrispondente e successivamente anche la lingua utilizzeremo la libreria CountryInfo"
   ]
  },
  {
   "cell_type": "code",
   "execution_count": 161,
   "id": "u_G6m8mhzQwN",
   "metadata": {
    "id": "u_G6m8mhzQwN",
    "outputId": "29c4fa81-23ed-4814-c498-003e4f79184b"
   },
   "outputs": [
    {
     "data": {
      "text/html": [
       "<div>\n",
       "<style scoped>\n",
       "    .dataframe tbody tr th:only-of-type {\n",
       "        vertical-align: middle;\n",
       "    }\n",
       "\n",
       "    .dataframe tbody tr th {\n",
       "        vertical-align: top;\n",
       "    }\n",
       "\n",
       "    .dataframe thead th {\n",
       "        text-align: right;\n",
       "    }\n",
       "</style>\n",
       "<table border=\"1\" class=\"dataframe\">\n",
       "  <thead>\n",
       "    <tr style=\"text-align: right;\">\n",
       "      <th></th>\n",
       "      <th>country_code</th>\n",
       "      <th>country_name</th>\n",
       "      <th>continent</th>\n",
       "    </tr>\n",
       "  </thead>\n",
       "  <tbody>\n",
       "    <tr>\n",
       "      <th>124</th>\n",
       "      <td>QAT</td>\n",
       "      <td>Qatar</td>\n",
       "      <td>NaN</td>\n",
       "    </tr>\n",
       "    <tr>\n",
       "      <th>125</th>\n",
       "      <td>ERI</td>\n",
       "      <td>Eritrea</td>\n",
       "      <td>NaN</td>\n",
       "    </tr>\n",
       "    <tr>\n",
       "      <th>126</th>\n",
       "      <td>BOT</td>\n",
       "      <td>Botswana</td>\n",
       "      <td>NaN</td>\n",
       "    </tr>\n",
       "    <tr>\n",
       "      <th>127</th>\n",
       "      <td>CRI</td>\n",
       "      <td>Costa Rica</td>\n",
       "      <td>NaN</td>\n",
       "    </tr>\n",
       "    <tr>\n",
       "      <th>128</th>\n",
       "      <td>JOR</td>\n",
       "      <td>Jordan</td>\n",
       "      <td>NaN</td>\n",
       "    </tr>\n",
       "    <tr>\n",
       "      <th>129</th>\n",
       "      <td>AHO</td>\n",
       "      <td>Netherlands Antilles*</td>\n",
       "      <td>NaN</td>\n",
       "    </tr>\n",
       "    <tr>\n",
       "      <th>130</th>\n",
       "      <td>LBN</td>\n",
       "      <td>Lebanon</td>\n",
       "      <td>NaN</td>\n",
       "    </tr>\n",
       "    <tr>\n",
       "      <th>131</th>\n",
       "      <td>GHA</td>\n",
       "      <td>Ghana</td>\n",
       "      <td>NaN</td>\n",
       "    </tr>\n",
       "    <tr>\n",
       "      <th>132</th>\n",
       "      <td>LVA</td>\n",
       "      <td>Latvia</td>\n",
       "      <td>NaN</td>\n",
       "    </tr>\n",
       "    <tr>\n",
       "      <th>133</th>\n",
       "      <td>SMR</td>\n",
       "      <td>San Marino</td>\n",
       "      <td>NaN</td>\n",
       "    </tr>\n",
       "    <tr>\n",
       "      <th>134</th>\n",
       "      <td>BEN</td>\n",
       "      <td>Benin</td>\n",
       "      <td>NaN</td>\n",
       "    </tr>\n",
       "    <tr>\n",
       "      <th>135</th>\n",
       "      <td>JAM</td>\n",
       "      <td>Jamaica</td>\n",
       "      <td>NaN</td>\n",
       "    </tr>\n",
       "    <tr>\n",
       "      <th>136</th>\n",
       "      <td>SAU</td>\n",
       "      <td>Saudi Arabia</td>\n",
       "      <td>NaN</td>\n",
       "    </tr>\n",
       "    <tr>\n",
       "      <th>137</th>\n",
       "      <td>TTO</td>\n",
       "      <td>Trinidad e Tobago</td>\n",
       "      <td>NaN</td>\n",
       "    </tr>\n",
       "    <tr>\n",
       "      <th>138</th>\n",
       "      <td>COD</td>\n",
       "      <td>Congo, Dem Rep</td>\n",
       "      <td>NaN</td>\n",
       "    </tr>\n",
       "    <tr>\n",
       "      <th>139</th>\n",
       "      <td>BAN</td>\n",
       "      <td>Bangladesh</td>\n",
       "      <td>NaN</td>\n",
       "    </tr>\n",
       "    <tr>\n",
       "      <th>140</th>\n",
       "      <td>UAE</td>\n",
       "      <td>United Arab Emirates</td>\n",
       "      <td>NaN</td>\n",
       "    </tr>\n",
       "    <tr>\n",
       "      <th>141</th>\n",
       "      <td>ZAM</td>\n",
       "      <td>Zambia</td>\n",
       "      <td>NaN</td>\n",
       "    </tr>\n",
       "    <tr>\n",
       "      <th>142</th>\n",
       "      <td>AZE</td>\n",
       "      <td>Azerbaijan</td>\n",
       "      <td>NaN</td>\n",
       "    </tr>\n",
       "    <tr>\n",
       "      <th>143</th>\n",
       "      <td>MRN</td>\n",
       "      <td>Martinique</td>\n",
       "      <td>NaN</td>\n",
       "    </tr>\n",
       "    <tr>\n",
       "      <th>144</th>\n",
       "      <td>TKM</td>\n",
       "      <td>Turkmenistan</td>\n",
       "      <td>NaN</td>\n",
       "    </tr>\n",
       "    <tr>\n",
       "      <th>145</th>\n",
       "      <td>BGR</td>\n",
       "      <td>Bulgaria</td>\n",
       "      <td>NaN</td>\n",
       "    </tr>\n",
       "    <tr>\n",
       "      <th>146</th>\n",
       "      <td>BRN</td>\n",
       "      <td>Bahrain</td>\n",
       "      <td>NaN</td>\n",
       "    </tr>\n",
       "    <tr>\n",
       "      <th>147</th>\n",
       "      <td>SYR</td>\n",
       "      <td>Syria</td>\n",
       "      <td>NaN</td>\n",
       "    </tr>\n",
       "    <tr>\n",
       "      <th>148</th>\n",
       "      <td>VIN</td>\n",
       "      <td>Saint Vincent and the Grenadines</td>\n",
       "      <td>NaN</td>\n",
       "    </tr>\n",
       "    <tr>\n",
       "      <th>149</th>\n",
       "      <td>ANT</td>\n",
       "      <td>Antigua and Barbuda</td>\n",
       "      <td>NaN</td>\n",
       "    </tr>\n",
       "    <tr>\n",
       "      <th>150</th>\n",
       "      <td>BER</td>\n",
       "      <td>Bermuda*</td>\n",
       "      <td>NaN</td>\n",
       "    </tr>\n",
       "    <tr>\n",
       "      <th>151</th>\n",
       "      <td>LBA</td>\n",
       "      <td>Libya</td>\n",
       "      <td>NaN</td>\n",
       "    </tr>\n",
       "    <tr>\n",
       "      <th>152</th>\n",
       "      <td>TOG</td>\n",
       "      <td>Togo</td>\n",
       "      <td>NaN</td>\n",
       "    </tr>\n",
       "  </tbody>\n",
       "</table>\n",
       "</div>"
      ],
      "text/plain": [
       "    country_code                      country_name continent\n",
       "124          QAT                             Qatar       NaN\n",
       "125          ERI                           Eritrea       NaN\n",
       "126          BOT                          Botswana       NaN\n",
       "127          CRI                        Costa Rica       NaN\n",
       "128          JOR                            Jordan       NaN\n",
       "129          AHO             Netherlands Antilles*       NaN\n",
       "130          LBN                           Lebanon       NaN\n",
       "131          GHA                             Ghana       NaN\n",
       "132          LVA                            Latvia       NaN\n",
       "133          SMR                        San Marino       NaN\n",
       "134          BEN                             Benin       NaN\n",
       "135          JAM                           Jamaica       NaN\n",
       "136          SAU                      Saudi Arabia       NaN\n",
       "137          TTO                 Trinidad e Tobago       NaN\n",
       "138          COD                    Congo, Dem Rep       NaN\n",
       "139          BAN                        Bangladesh       NaN\n",
       "140          UAE              United Arab Emirates       NaN\n",
       "141          ZAM                            Zambia       NaN\n",
       "142          AZE                        Azerbaijan       NaN\n",
       "143          MRN                        Martinique       NaN\n",
       "144          TKM                      Turkmenistan       NaN\n",
       "145          BGR                          Bulgaria       NaN\n",
       "146          BRN                           Bahrain       NaN\n",
       "147          SYR                             Syria       NaN\n",
       "148          VIN  Saint Vincent and the Grenadines       NaN\n",
       "149          ANT               Antigua and Barbuda       NaN\n",
       "150          BER                          Bermuda*       NaN\n",
       "151          LBA                             Libya       NaN\n",
       "152          TOG                              Togo       NaN"
      ]
     },
     "execution_count": 161,
     "metadata": {},
     "output_type": "execute_result"
    }
   ],
   "source": [
    "g_new[g_new['continent'].isnull()]"
   ]
  },
  {
   "cell_type": "code",
   "execution_count": 162,
   "id": "49af4a9e",
   "metadata": {},
   "outputs": [
    {
     "data": {
      "text/plain": [
       "'Asia'"
      ]
     },
     "execution_count": 162,
     "metadata": {},
     "output_type": "execute_result"
    }
   ],
   "source": [
    "CountryInfo('Bahrain').region()"
   ]
  },
  {
   "cell_type": "code",
   "execution_count": 163,
   "id": "SHfuyNR7zQwN",
   "metadata": {
    "id": "SHfuyNR7zQwN",
    "outputId": "68f73aca-f114-48da-aeae-d2022b248c73"
   },
   "outputs": [
    {
     "name": "stdout",
     "output_type": "stream",
     "text": [
      "Netherlands Antilles* not found\n",
      "Trinidad e Tobago not found\n",
      "Congo, Dem Rep not found\n",
      "Bermuda* not found\n"
     ]
    }
   ],
   "source": [
    "for index,row in g_new[g_new['continent'].isnull()].iterrows():\n",
    "    country= CountryInfo(row['country_name'])\n",
    "    try:\n",
    "        g_new.at[index,'continent']=country.region()\n",
    "    except:\n",
    "        print(row['country_name']+' not found')"
   ]
  },
  {
   "cell_type": "markdown",
   "id": "0tKKVk4YzQwO",
   "metadata": {
    "id": "0tKKVk4YzQwO"
   },
   "source": [
    "Per i paesi senza match procediamo sostituendoli manualmente"
   ]
  },
  {
   "cell_type": "code",
   "execution_count": 164,
   "id": "w4OObaKVzQwO",
   "metadata": {
    "id": "w4OObaKVzQwO",
    "outputId": "e4d135f4-d53f-475a-aa1e-3c04aaee997a"
   },
   "outputs": [
    {
     "data": {
      "text/html": [
       "<div>\n",
       "<style scoped>\n",
       "    .dataframe tbody tr th:only-of-type {\n",
       "        vertical-align: middle;\n",
       "    }\n",
       "\n",
       "    .dataframe tbody tr th {\n",
       "        vertical-align: top;\n",
       "    }\n",
       "\n",
       "    .dataframe thead th {\n",
       "        text-align: right;\n",
       "    }\n",
       "</style>\n",
       "<table border=\"1\" class=\"dataframe\">\n",
       "  <thead>\n",
       "    <tr style=\"text-align: right;\">\n",
       "      <th></th>\n",
       "      <th>country_code</th>\n",
       "      <th>country_name</th>\n",
       "      <th>continent</th>\n",
       "    </tr>\n",
       "  </thead>\n",
       "  <tbody>\n",
       "    <tr>\n",
       "      <th>129</th>\n",
       "      <td>AHO</td>\n",
       "      <td>Netherlands Antilles*</td>\n",
       "      <td>NaN</td>\n",
       "    </tr>\n",
       "    <tr>\n",
       "      <th>137</th>\n",
       "      <td>TTO</td>\n",
       "      <td>Trinidad e Tobago</td>\n",
       "      <td>NaN</td>\n",
       "    </tr>\n",
       "    <tr>\n",
       "      <th>138</th>\n",
       "      <td>COD</td>\n",
       "      <td>Congo, Dem Rep</td>\n",
       "      <td>NaN</td>\n",
       "    </tr>\n",
       "    <tr>\n",
       "      <th>150</th>\n",
       "      <td>BER</td>\n",
       "      <td>Bermuda*</td>\n",
       "      <td>NaN</td>\n",
       "    </tr>\n",
       "  </tbody>\n",
       "</table>\n",
       "</div>"
      ],
      "text/plain": [
       "    country_code           country_name continent\n",
       "129          AHO  Netherlands Antilles*       NaN\n",
       "137          TTO      Trinidad e Tobago       NaN\n",
       "138          COD         Congo, Dem Rep       NaN\n",
       "150          BER               Bermuda*       NaN"
      ]
     },
     "execution_count": 164,
     "metadata": {},
     "output_type": "execute_result"
    }
   ],
   "source": [
    "g_new[g_new['continent'].isnull()]"
   ]
  },
  {
   "cell_type": "code",
   "execution_count": 165,
   "id": "06pb73PEzQwO",
   "metadata": {
    "id": "06pb73PEzQwO"
   },
   "outputs": [],
   "source": [
    "\n",
    "g_new.at[g_new.index[g_new['country_code'] == 'COD'],'continent']='Africa'\n",
    "g_new.at[g_new.index[g_new['country_code'] == 'TTO'],'continent']='America'\n",
    "g_new.at[g_new.index[g_new['country_code'] == 'AHO'],'continent']='America'\n",
    "g_new.at[g_new.index[g_new['country_code'] == 'BER'],'continent']='America'"
   ]
  },
  {
   "cell_type": "code",
   "execution_count": 166,
   "id": "Uh5nzgfKzQwP",
   "metadata": {
    "id": "Uh5nzgfKzQwP"
   },
   "outputs": [],
   "source": [
    "g_new['continent'].replace('Americas','America', inplace=True, regex=True)"
   ]
  },
  {
   "cell_type": "code",
   "execution_count": 167,
   "id": "6jLeLICCzQwP",
   "metadata": {
    "id": "6jLeLICCzQwP",
    "outputId": "e572f195-5e5c-4c96-a12b-e477c2f9f611"
   },
   "outputs": [
    {
     "data": {
      "text/html": [
       "<div>\n",
       "<style scoped>\n",
       "    .dataframe tbody tr th:only-of-type {\n",
       "        vertical-align: middle;\n",
       "    }\n",
       "\n",
       "    .dataframe tbody tr th {\n",
       "        vertical-align: top;\n",
       "    }\n",
       "\n",
       "    .dataframe thead th {\n",
       "        text-align: right;\n",
       "    }\n",
       "</style>\n",
       "<table border=\"1\" class=\"dataframe\">\n",
       "  <thead>\n",
       "    <tr style=\"text-align: right;\">\n",
       "      <th></th>\n",
       "      <th>country_code</th>\n",
       "      <th>country_name</th>\n",
       "      <th>continent</th>\n",
       "    </tr>\n",
       "  </thead>\n",
       "  <tbody>\n",
       "    <tr>\n",
       "      <th>124</th>\n",
       "      <td>QAT</td>\n",
       "      <td>Qatar</td>\n",
       "      <td>Asia</td>\n",
       "    </tr>\n",
       "    <tr>\n",
       "      <th>125</th>\n",
       "      <td>ERI</td>\n",
       "      <td>Eritrea</td>\n",
       "      <td>Africa</td>\n",
       "    </tr>\n",
       "    <tr>\n",
       "      <th>126</th>\n",
       "      <td>BOT</td>\n",
       "      <td>Botswana</td>\n",
       "      <td>Africa</td>\n",
       "    </tr>\n",
       "    <tr>\n",
       "      <th>127</th>\n",
       "      <td>CRI</td>\n",
       "      <td>Costa Rica</td>\n",
       "      <td>America</td>\n",
       "    </tr>\n",
       "    <tr>\n",
       "      <th>128</th>\n",
       "      <td>JOR</td>\n",
       "      <td>Jordan</td>\n",
       "      <td>Asia</td>\n",
       "    </tr>\n",
       "    <tr>\n",
       "      <th>129</th>\n",
       "      <td>AHO</td>\n",
       "      <td>Netherlands Antilles*</td>\n",
       "      <td>America</td>\n",
       "    </tr>\n",
       "    <tr>\n",
       "      <th>130</th>\n",
       "      <td>LBN</td>\n",
       "      <td>Lebanon</td>\n",
       "      <td>Asia</td>\n",
       "    </tr>\n",
       "    <tr>\n",
       "      <th>131</th>\n",
       "      <td>GHA</td>\n",
       "      <td>Ghana</td>\n",
       "      <td>Africa</td>\n",
       "    </tr>\n",
       "    <tr>\n",
       "      <th>132</th>\n",
       "      <td>LVA</td>\n",
       "      <td>Latvia</td>\n",
       "      <td>Europe</td>\n",
       "    </tr>\n",
       "    <tr>\n",
       "      <th>133</th>\n",
       "      <td>SMR</td>\n",
       "      <td>San Marino</td>\n",
       "      <td>Europe</td>\n",
       "    </tr>\n",
       "    <tr>\n",
       "      <th>134</th>\n",
       "      <td>BEN</td>\n",
       "      <td>Benin</td>\n",
       "      <td>Africa</td>\n",
       "    </tr>\n",
       "    <tr>\n",
       "      <th>135</th>\n",
       "      <td>JAM</td>\n",
       "      <td>Jamaica</td>\n",
       "      <td>America</td>\n",
       "    </tr>\n",
       "    <tr>\n",
       "      <th>136</th>\n",
       "      <td>SAU</td>\n",
       "      <td>Saudi Arabia</td>\n",
       "      <td>Asia</td>\n",
       "    </tr>\n",
       "    <tr>\n",
       "      <th>137</th>\n",
       "      <td>TTO</td>\n",
       "      <td>Trinidad e Tobago</td>\n",
       "      <td>America</td>\n",
       "    </tr>\n",
       "    <tr>\n",
       "      <th>138</th>\n",
       "      <td>COD</td>\n",
       "      <td>Congo, Dem Rep</td>\n",
       "      <td>Africa</td>\n",
       "    </tr>\n",
       "    <tr>\n",
       "      <th>139</th>\n",
       "      <td>BAN</td>\n",
       "      <td>Bangladesh</td>\n",
       "      <td>Asia</td>\n",
       "    </tr>\n",
       "    <tr>\n",
       "      <th>140</th>\n",
       "      <td>UAE</td>\n",
       "      <td>United Arab Emirates</td>\n",
       "      <td>Asia</td>\n",
       "    </tr>\n",
       "    <tr>\n",
       "      <th>141</th>\n",
       "      <td>ZAM</td>\n",
       "      <td>Zambia</td>\n",
       "      <td>Africa</td>\n",
       "    </tr>\n",
       "    <tr>\n",
       "      <th>142</th>\n",
       "      <td>AZE</td>\n",
       "      <td>Azerbaijan</td>\n",
       "      <td>Asia</td>\n",
       "    </tr>\n",
       "    <tr>\n",
       "      <th>143</th>\n",
       "      <td>MRN</td>\n",
       "      <td>Martinique</td>\n",
       "      <td>America</td>\n",
       "    </tr>\n",
       "    <tr>\n",
       "      <th>144</th>\n",
       "      <td>TKM</td>\n",
       "      <td>Turkmenistan</td>\n",
       "      <td>Asia</td>\n",
       "    </tr>\n",
       "    <tr>\n",
       "      <th>145</th>\n",
       "      <td>BGR</td>\n",
       "      <td>Bulgaria</td>\n",
       "      <td>Europe</td>\n",
       "    </tr>\n",
       "    <tr>\n",
       "      <th>146</th>\n",
       "      <td>BRN</td>\n",
       "      <td>Bahrain</td>\n",
       "      <td>Asia</td>\n",
       "    </tr>\n",
       "    <tr>\n",
       "      <th>147</th>\n",
       "      <td>SYR</td>\n",
       "      <td>Syria</td>\n",
       "      <td>Asia</td>\n",
       "    </tr>\n",
       "    <tr>\n",
       "      <th>148</th>\n",
       "      <td>VIN</td>\n",
       "      <td>Saint Vincent and the Grenadines</td>\n",
       "      <td>America</td>\n",
       "    </tr>\n",
       "    <tr>\n",
       "      <th>149</th>\n",
       "      <td>ANT</td>\n",
       "      <td>Antigua and Barbuda</td>\n",
       "      <td>America</td>\n",
       "    </tr>\n",
       "    <tr>\n",
       "      <th>150</th>\n",
       "      <td>BER</td>\n",
       "      <td>Bermuda*</td>\n",
       "      <td>America</td>\n",
       "    </tr>\n",
       "    <tr>\n",
       "      <th>151</th>\n",
       "      <td>LBA</td>\n",
       "      <td>Libya</td>\n",
       "      <td>Africa</td>\n",
       "    </tr>\n",
       "    <tr>\n",
       "      <th>152</th>\n",
       "      <td>TOG</td>\n",
       "      <td>Togo</td>\n",
       "      <td>Africa</td>\n",
       "    </tr>\n",
       "  </tbody>\n",
       "</table>\n",
       "</div>"
      ],
      "text/plain": [
       "    country_code                      country_name continent\n",
       "124          QAT                             Qatar      Asia\n",
       "125          ERI                           Eritrea    Africa\n",
       "126          BOT                          Botswana    Africa\n",
       "127          CRI                        Costa Rica   America\n",
       "128          JOR                            Jordan      Asia\n",
       "129          AHO             Netherlands Antilles*   America\n",
       "130          LBN                           Lebanon      Asia\n",
       "131          GHA                             Ghana    Africa\n",
       "132          LVA                            Latvia    Europe\n",
       "133          SMR                        San Marino    Europe\n",
       "134          BEN                             Benin    Africa\n",
       "135          JAM                           Jamaica   America\n",
       "136          SAU                      Saudi Arabia      Asia\n",
       "137          TTO                 Trinidad e Tobago   America\n",
       "138          COD                    Congo, Dem Rep    Africa\n",
       "139          BAN                        Bangladesh      Asia\n",
       "140          UAE              United Arab Emirates      Asia\n",
       "141          ZAM                            Zambia    Africa\n",
       "142          AZE                        Azerbaijan      Asia\n",
       "143          MRN                        Martinique   America\n",
       "144          TKM                      Turkmenistan      Asia\n",
       "145          BGR                          Bulgaria    Europe\n",
       "146          BRN                           Bahrain      Asia\n",
       "147          SYR                             Syria      Asia\n",
       "148          VIN  Saint Vincent and the Grenadines   America\n",
       "149          ANT               Antigua and Barbuda   America\n",
       "150          BER                          Bermuda*   America\n",
       "151          LBA                             Libya    Africa\n",
       "152          TOG                              Togo    Africa"
      ]
     },
     "execution_count": 167,
     "metadata": {},
     "output_type": "execute_result"
    }
   ],
   "source": [
    "g_new[124:160]"
   ]
  },
  {
   "cell_type": "markdown",
   "id": "wlb170Z_zQwP",
   "metadata": {
    "id": "wlb170Z_zQwP"
   },
   "source": [
    "## Aggiunta attributo language "
   ]
  },
  {
   "cell_type": "markdown",
   "id": "dwBbvBDQzQwP",
   "metadata": {
    "id": "dwBbvBDQzQwP"
   },
   "source": [
    "Qui, sempre utilizzando la libreria andiamo ad ottenere la prima lingua (tra quelle ufficiali)"
   ]
  },
  {
   "cell_type": "code",
   "execution_count": 168,
   "id": "55b57218",
   "metadata": {},
   "outputs": [
    {
     "data": {
      "text/plain": [
       "['it']"
      ]
     },
     "execution_count": 168,
     "metadata": {},
     "output_type": "execute_result"
    }
   ],
   "source": [
    "CountryInfo('Italy').languages()"
   ]
  },
  {
   "cell_type": "code",
   "execution_count": 169,
   "id": "ZjZ6RvlrzQwQ",
   "metadata": {
    "id": "ZjZ6RvlrzQwQ",
    "outputId": "5e7eb31e-d0c0-4566-9fe3-6263ee7efc16"
   },
   "outputs": [
    {
     "name": "stdout",
     "output_type": "stream",
     "text": [
      "New Zeland not found\n",
      "Urugay not found\n",
      "Montenegro not found\n",
      "Bahamas not found\n",
      "North Macedonia not found\n",
      "Malaysia not found\n",
      "Kosovo not found\n",
      "Unknown not found\n",
      "Andorra not found\n",
      "Netherlands Antilles* not found\n",
      "Trinidad e Tobago not found\n",
      "Congo, Dem Rep not found\n",
      "Bermuda* not found\n"
     ]
    }
   ],
   "source": [
    "for index, row in g_new.iterrows():\n",
    "    c= CountryInfo(row['country_name'])\n",
    "    try:\n",
    "        g_new.at[index,'language']=c.languages()[0]\n",
    "    except: \n",
    "        print(row['country_name']+' not found')"
   ]
  },
  {
   "cell_type": "code",
   "execution_count": 170,
   "id": "xwtgev8xzQwR",
   "metadata": {
    "id": "xwtgev8xzQwR",
    "outputId": "803c594c-34ad-4fb6-d763-f60e29d079ce"
   },
   "outputs": [
    {
     "data": {
      "text/html": [
       "<div>\n",
       "<style scoped>\n",
       "    .dataframe tbody tr th:only-of-type {\n",
       "        vertical-align: middle;\n",
       "    }\n",
       "\n",
       "    .dataframe tbody tr th {\n",
       "        vertical-align: top;\n",
       "    }\n",
       "\n",
       "    .dataframe thead th {\n",
       "        text-align: right;\n",
       "    }\n",
       "</style>\n",
       "<table border=\"1\" class=\"dataframe\">\n",
       "  <thead>\n",
       "    <tr style=\"text-align: right;\">\n",
       "      <th></th>\n",
       "      <th>country_code</th>\n",
       "      <th>country_name</th>\n",
       "      <th>continent</th>\n",
       "      <th>language</th>\n",
       "    </tr>\n",
       "  </thead>\n",
       "  <tbody>\n",
       "    <tr>\n",
       "      <th>27</th>\n",
       "      <td>NZL</td>\n",
       "      <td>New Zeland</td>\n",
       "      <td>Oceania</td>\n",
       "      <td>NaN</td>\n",
       "    </tr>\n",
       "    <tr>\n",
       "      <th>34</th>\n",
       "      <td>URU</td>\n",
       "      <td>Urugay</td>\n",
       "      <td>America</td>\n",
       "      <td>NaN</td>\n",
       "    </tr>\n",
       "    <tr>\n",
       "      <th>76</th>\n",
       "      <td>MNE</td>\n",
       "      <td>Montenegro</td>\n",
       "      <td>Europe</td>\n",
       "      <td>NaN</td>\n",
       "    </tr>\n",
       "    <tr>\n",
       "      <th>82</th>\n",
       "      <td>BAH</td>\n",
       "      <td>Bahamas</td>\n",
       "      <td>America</td>\n",
       "      <td>NaN</td>\n",
       "    </tr>\n",
       "    <tr>\n",
       "      <th>87</th>\n",
       "      <td>MKD</td>\n",
       "      <td>North Macedonia</td>\n",
       "      <td>Europe</td>\n",
       "      <td>NaN</td>\n",
       "    </tr>\n",
       "    <tr>\n",
       "      <th>89</th>\n",
       "      <td>MAS</td>\n",
       "      <td>Malaysia</td>\n",
       "      <td>Asia</td>\n",
       "      <td>NaN</td>\n",
       "    </tr>\n",
       "    <tr>\n",
       "      <th>98</th>\n",
       "      <td>UNK</td>\n",
       "      <td>Kosovo</td>\n",
       "      <td>Europe</td>\n",
       "      <td>NaN</td>\n",
       "    </tr>\n",
       "    <tr>\n",
       "      <th>107</th>\n",
       "      <td>POC</td>\n",
       "      <td>Unknown</td>\n",
       "      <td>Unknown</td>\n",
       "      <td>NaN</td>\n",
       "    </tr>\n",
       "    <tr>\n",
       "      <th>119</th>\n",
       "      <td>AND</td>\n",
       "      <td>Andorra</td>\n",
       "      <td>Europe</td>\n",
       "      <td>NaN</td>\n",
       "    </tr>\n",
       "    <tr>\n",
       "      <th>129</th>\n",
       "      <td>AHO</td>\n",
       "      <td>Netherlands Antilles*</td>\n",
       "      <td>America</td>\n",
       "      <td>NaN</td>\n",
       "    </tr>\n",
       "    <tr>\n",
       "      <th>137</th>\n",
       "      <td>TTO</td>\n",
       "      <td>Trinidad e Tobago</td>\n",
       "      <td>America</td>\n",
       "      <td>NaN</td>\n",
       "    </tr>\n",
       "    <tr>\n",
       "      <th>138</th>\n",
       "      <td>COD</td>\n",
       "      <td>Congo, Dem Rep</td>\n",
       "      <td>Africa</td>\n",
       "      <td>NaN</td>\n",
       "    </tr>\n",
       "    <tr>\n",
       "      <th>150</th>\n",
       "      <td>BER</td>\n",
       "      <td>Bermuda*</td>\n",
       "      <td>America</td>\n",
       "      <td>NaN</td>\n",
       "    </tr>\n",
       "  </tbody>\n",
       "</table>\n",
       "</div>"
      ],
      "text/plain": [
       "    country_code           country_name continent language\n",
       "27           NZL             New Zeland   Oceania      NaN\n",
       "34           URU                 Urugay   America      NaN\n",
       "76           MNE             Montenegro    Europe      NaN\n",
       "82           BAH                Bahamas   America      NaN\n",
       "87           MKD        North Macedonia    Europe      NaN\n",
       "89           MAS               Malaysia      Asia      NaN\n",
       "98           UNK                 Kosovo    Europe      NaN\n",
       "107          POC                Unknown   Unknown      NaN\n",
       "119          AND                Andorra    Europe      NaN\n",
       "129          AHO  Netherlands Antilles*   America      NaN\n",
       "137          TTO      Trinidad e Tobago   America      NaN\n",
       "138          COD         Congo, Dem Rep    Africa      NaN\n",
       "150          BER               Bermuda*   America      NaN"
      ]
     },
     "execution_count": 170,
     "metadata": {},
     "output_type": "execute_result"
    }
   ],
   "source": [
    "g_new[g_new['language'].isnull()]"
   ]
  },
  {
   "cell_type": "code",
   "execution_count": 171,
   "id": "10aNGEipzQwR",
   "metadata": {
    "id": "10aNGEipzQwR"
   },
   "outputs": [],
   "source": [
    "g_new.at[g_new.index[g_new['country_code'] == 'POC'],'country_name']='Philippines'\n",
    "g_new.at[g_new.index[g_new['country_code'] == 'POC'],'continent']='Asia'\n",
    "g_new.at[g_new.index[g_new['country_code'] == 'POC'],'language']='fil'"
   ]
  },
  {
   "cell_type": "code",
   "execution_count": 172,
   "id": "umE6mOWYzQwR",
   "metadata": {
    "id": "umE6mOWYzQwR",
    "outputId": "2b69fcf6-8b90-4e48-eb15-09dcc3530123"
   },
   "outputs": [
    {
     "data": {
      "text/html": [
       "<div>\n",
       "<style scoped>\n",
       "    .dataframe tbody tr th:only-of-type {\n",
       "        vertical-align: middle;\n",
       "    }\n",
       "\n",
       "    .dataframe tbody tr th {\n",
       "        vertical-align: top;\n",
       "    }\n",
       "\n",
       "    .dataframe thead th {\n",
       "        text-align: right;\n",
       "    }\n",
       "</style>\n",
       "<table border=\"1\" class=\"dataframe\">\n",
       "  <thead>\n",
       "    <tr style=\"text-align: right;\">\n",
       "      <th></th>\n",
       "      <th>country_code</th>\n",
       "      <th>country_name</th>\n",
       "      <th>continent</th>\n",
       "      <th>language</th>\n",
       "    </tr>\n",
       "  </thead>\n",
       "  <tbody>\n",
       "    <tr>\n",
       "      <th>0</th>\n",
       "      <td>JPN</td>\n",
       "      <td>Japan</td>\n",
       "      <td>Asia</td>\n",
       "      <td>ja</td>\n",
       "    </tr>\n",
       "    <tr>\n",
       "      <th>1</th>\n",
       "      <td>RUS</td>\n",
       "      <td>Russia</td>\n",
       "      <td>Europe</td>\n",
       "      <td>ru</td>\n",
       "    </tr>\n",
       "    <tr>\n",
       "      <th>2</th>\n",
       "      <td>FRA</td>\n",
       "      <td>France</td>\n",
       "      <td>Europe</td>\n",
       "      <td>fr</td>\n",
       "    </tr>\n",
       "    <tr>\n",
       "      <th>3</th>\n",
       "      <td>AUS</td>\n",
       "      <td>Australia</td>\n",
       "      <td>Oceania</td>\n",
       "      <td>en</td>\n",
       "    </tr>\n",
       "    <tr>\n",
       "      <th>4</th>\n",
       "      <td>CAN</td>\n",
       "      <td>Canada</td>\n",
       "      <td>America</td>\n",
       "      <td>en</td>\n",
       "    </tr>\n",
       "    <tr>\n",
       "      <th>...</th>\n",
       "      <td>...</td>\n",
       "      <td>...</td>\n",
       "      <td>...</td>\n",
       "      <td>...</td>\n",
       "    </tr>\n",
       "    <tr>\n",
       "      <th>148</th>\n",
       "      <td>VIN</td>\n",
       "      <td>Saint Vincent and the Grenadines</td>\n",
       "      <td>America</td>\n",
       "      <td>en</td>\n",
       "    </tr>\n",
       "    <tr>\n",
       "      <th>149</th>\n",
       "      <td>ANT</td>\n",
       "      <td>Antigua and Barbuda</td>\n",
       "      <td>America</td>\n",
       "      <td>en</td>\n",
       "    </tr>\n",
       "    <tr>\n",
       "      <th>150</th>\n",
       "      <td>BER</td>\n",
       "      <td>Bermuda*</td>\n",
       "      <td>America</td>\n",
       "      <td>NaN</td>\n",
       "    </tr>\n",
       "    <tr>\n",
       "      <th>151</th>\n",
       "      <td>LBA</td>\n",
       "      <td>Libya</td>\n",
       "      <td>Africa</td>\n",
       "      <td>ar</td>\n",
       "    </tr>\n",
       "    <tr>\n",
       "      <th>152</th>\n",
       "      <td>TOG</td>\n",
       "      <td>Togo</td>\n",
       "      <td>Africa</td>\n",
       "      <td>fr</td>\n",
       "    </tr>\n",
       "  </tbody>\n",
       "</table>\n",
       "<p>153 rows × 4 columns</p>\n",
       "</div>"
      ],
      "text/plain": [
       "    country_code                      country_name continent language\n",
       "0            JPN                             Japan      Asia       ja\n",
       "1            RUS                            Russia    Europe       ru\n",
       "2            FRA                            France    Europe       fr\n",
       "3            AUS                         Australia   Oceania       en\n",
       "4            CAN                            Canada   America       en\n",
       "..           ...                               ...       ...      ...\n",
       "148          VIN  Saint Vincent and the Grenadines   America       en\n",
       "149          ANT               Antigua and Barbuda   America       en\n",
       "150          BER                          Bermuda*   America      NaN\n",
       "151          LBA                             Libya    Africa       ar\n",
       "152          TOG                              Togo    Africa       fr\n",
       "\n",
       "[153 rows x 4 columns]"
      ]
     },
     "execution_count": 172,
     "metadata": {},
     "output_type": "execute_result"
    }
   ],
   "source": [
    "g_new"
   ]
  },
  {
   "cell_type": "code",
   "execution_count": 173,
   "id": "WCrecVbszQwS",
   "metadata": {
    "id": "WCrecVbszQwS",
    "outputId": "966ac945-a6c0-42dd-9be9-afd2704123ac"
   },
   "outputs": [
    {
     "data": {
      "text/html": [
       "<div>\n",
       "<style scoped>\n",
       "    .dataframe tbody tr th:only-of-type {\n",
       "        vertical-align: middle;\n",
       "    }\n",
       "\n",
       "    .dataframe tbody tr th {\n",
       "        vertical-align: top;\n",
       "    }\n",
       "\n",
       "    .dataframe thead th {\n",
       "        text-align: right;\n",
       "    }\n",
       "</style>\n",
       "<table border=\"1\" class=\"dataframe\">\n",
       "  <thead>\n",
       "    <tr style=\"text-align: right;\">\n",
       "      <th></th>\n",
       "      <th>country_code</th>\n",
       "      <th>country_name</th>\n",
       "      <th>continent</th>\n",
       "      <th>language</th>\n",
       "    </tr>\n",
       "  </thead>\n",
       "  <tbody>\n",
       "    <tr>\n",
       "      <th>27</th>\n",
       "      <td>NZL</td>\n",
       "      <td>New Zeland</td>\n",
       "      <td>Oceania</td>\n",
       "      <td>NaN</td>\n",
       "    </tr>\n",
       "    <tr>\n",
       "      <th>34</th>\n",
       "      <td>URU</td>\n",
       "      <td>Urugay</td>\n",
       "      <td>America</td>\n",
       "      <td>NaN</td>\n",
       "    </tr>\n",
       "    <tr>\n",
       "      <th>76</th>\n",
       "      <td>MNE</td>\n",
       "      <td>Montenegro</td>\n",
       "      <td>Europe</td>\n",
       "      <td>NaN</td>\n",
       "    </tr>\n",
       "    <tr>\n",
       "      <th>82</th>\n",
       "      <td>BAH</td>\n",
       "      <td>Bahamas</td>\n",
       "      <td>America</td>\n",
       "      <td>NaN</td>\n",
       "    </tr>\n",
       "    <tr>\n",
       "      <th>87</th>\n",
       "      <td>MKD</td>\n",
       "      <td>North Macedonia</td>\n",
       "      <td>Europe</td>\n",
       "      <td>NaN</td>\n",
       "    </tr>\n",
       "    <tr>\n",
       "      <th>89</th>\n",
       "      <td>MAS</td>\n",
       "      <td>Malaysia</td>\n",
       "      <td>Asia</td>\n",
       "      <td>NaN</td>\n",
       "    </tr>\n",
       "    <tr>\n",
       "      <th>98</th>\n",
       "      <td>UNK</td>\n",
       "      <td>Kosovo</td>\n",
       "      <td>Europe</td>\n",
       "      <td>NaN</td>\n",
       "    </tr>\n",
       "    <tr>\n",
       "      <th>119</th>\n",
       "      <td>AND</td>\n",
       "      <td>Andorra</td>\n",
       "      <td>Europe</td>\n",
       "      <td>NaN</td>\n",
       "    </tr>\n",
       "    <tr>\n",
       "      <th>129</th>\n",
       "      <td>AHO</td>\n",
       "      <td>Netherlands Antilles*</td>\n",
       "      <td>America</td>\n",
       "      <td>NaN</td>\n",
       "    </tr>\n",
       "    <tr>\n",
       "      <th>137</th>\n",
       "      <td>TTO</td>\n",
       "      <td>Trinidad e Tobago</td>\n",
       "      <td>America</td>\n",
       "      <td>NaN</td>\n",
       "    </tr>\n",
       "    <tr>\n",
       "      <th>138</th>\n",
       "      <td>COD</td>\n",
       "      <td>Congo, Dem Rep</td>\n",
       "      <td>Africa</td>\n",
       "      <td>NaN</td>\n",
       "    </tr>\n",
       "    <tr>\n",
       "      <th>150</th>\n",
       "      <td>BER</td>\n",
       "      <td>Bermuda*</td>\n",
       "      <td>America</td>\n",
       "      <td>NaN</td>\n",
       "    </tr>\n",
       "  </tbody>\n",
       "</table>\n",
       "</div>"
      ],
      "text/plain": [
       "    country_code           country_name continent language\n",
       "27           NZL             New Zeland   Oceania      NaN\n",
       "34           URU                 Urugay   America      NaN\n",
       "76           MNE             Montenegro    Europe      NaN\n",
       "82           BAH                Bahamas   America      NaN\n",
       "87           MKD        North Macedonia    Europe      NaN\n",
       "89           MAS               Malaysia      Asia      NaN\n",
       "98           UNK                 Kosovo    Europe      NaN\n",
       "119          AND                Andorra    Europe      NaN\n",
       "129          AHO  Netherlands Antilles*   America      NaN\n",
       "137          TTO      Trinidad e Tobago   America      NaN\n",
       "138          COD         Congo, Dem Rep    Africa      NaN\n",
       "150          BER               Bermuda*   America      NaN"
      ]
     },
     "execution_count": 173,
     "metadata": {},
     "output_type": "execute_result"
    }
   ],
   "source": [
    "g_new[g_new['language'].isnull()]"
   ]
  },
  {
   "cell_type": "code",
   "execution_count": 174,
   "id": "9xDpN9Y9zQwS",
   "metadata": {
    "id": "9xDpN9Y9zQwS"
   },
   "outputs": [],
   "source": [
    "g_new.at[g_new.index[g_new['country_code'] == 'NZL'],'country_name']='New Zealand'\n",
    "g_new.at[g_new.index[g_new['country_code'] == 'URU'],'country_name']='Uruguay'"
   ]
  },
  {
   "cell_type": "code",
   "execution_count": 175,
   "id": "fTQ1GkwjzQwS",
   "metadata": {
    "id": "fTQ1GkwjzQwS",
    "outputId": "7451022b-d5a3-4058-c5fb-c4e14ffeb56e"
   },
   "outputs": [
    {
     "name": "stdout",
     "output_type": "stream",
     "text": [
      "Montenegro not found\n",
      "Bahamas not found\n",
      "North Macedonia not found\n",
      "Malaysia not found\n",
      "Kosovo not found\n",
      "Andorra not found\n",
      "Netherlands Antilles* not found\n",
      "Trinidad e Tobago not found\n",
      "Congo, Dem Rep not found\n",
      "Bermuda* not found\n"
     ]
    }
   ],
   "source": [
    "for index, row in g_new[g_new['language'].isnull()].iterrows():\n",
    "    c= CountryInfo(row['country_name'])\n",
    "    try:\n",
    "        g_new.at[index,'language']=c.languages()[0]\n",
    "    except: \n",
    "        print(row['country_name']+' not found')"
   ]
  },
  {
   "cell_type": "code",
   "execution_count": 176,
   "id": "4ciMnYdlzQwT",
   "metadata": {
    "id": "4ciMnYdlzQwT",
    "outputId": "76e3cfeb-375b-4d9b-b9fa-37538ea3ea48"
   },
   "outputs": [
    {
     "data": {
      "text/html": [
       "<div>\n",
       "<style scoped>\n",
       "    .dataframe tbody tr th:only-of-type {\n",
       "        vertical-align: middle;\n",
       "    }\n",
       "\n",
       "    .dataframe tbody tr th {\n",
       "        vertical-align: top;\n",
       "    }\n",
       "\n",
       "    .dataframe thead th {\n",
       "        text-align: right;\n",
       "    }\n",
       "</style>\n",
       "<table border=\"1\" class=\"dataframe\">\n",
       "  <thead>\n",
       "    <tr style=\"text-align: right;\">\n",
       "      <th></th>\n",
       "      <th>country_code</th>\n",
       "      <th>country_name</th>\n",
       "      <th>continent</th>\n",
       "      <th>language</th>\n",
       "    </tr>\n",
       "  </thead>\n",
       "  <tbody>\n",
       "    <tr>\n",
       "      <th>76</th>\n",
       "      <td>MNE</td>\n",
       "      <td>Montenegro</td>\n",
       "      <td>Europe</td>\n",
       "      <td>NaN</td>\n",
       "    </tr>\n",
       "    <tr>\n",
       "      <th>82</th>\n",
       "      <td>BAH</td>\n",
       "      <td>Bahamas</td>\n",
       "      <td>America</td>\n",
       "      <td>NaN</td>\n",
       "    </tr>\n",
       "    <tr>\n",
       "      <th>87</th>\n",
       "      <td>MKD</td>\n",
       "      <td>North Macedonia</td>\n",
       "      <td>Europe</td>\n",
       "      <td>NaN</td>\n",
       "    </tr>\n",
       "    <tr>\n",
       "      <th>89</th>\n",
       "      <td>MAS</td>\n",
       "      <td>Malaysia</td>\n",
       "      <td>Asia</td>\n",
       "      <td>NaN</td>\n",
       "    </tr>\n",
       "    <tr>\n",
       "      <th>98</th>\n",
       "      <td>UNK</td>\n",
       "      <td>Kosovo</td>\n",
       "      <td>Europe</td>\n",
       "      <td>NaN</td>\n",
       "    </tr>\n",
       "    <tr>\n",
       "      <th>119</th>\n",
       "      <td>AND</td>\n",
       "      <td>Andorra</td>\n",
       "      <td>Europe</td>\n",
       "      <td>NaN</td>\n",
       "    </tr>\n",
       "    <tr>\n",
       "      <th>129</th>\n",
       "      <td>AHO</td>\n",
       "      <td>Netherlands Antilles*</td>\n",
       "      <td>America</td>\n",
       "      <td>NaN</td>\n",
       "    </tr>\n",
       "    <tr>\n",
       "      <th>137</th>\n",
       "      <td>TTO</td>\n",
       "      <td>Trinidad e Tobago</td>\n",
       "      <td>America</td>\n",
       "      <td>NaN</td>\n",
       "    </tr>\n",
       "    <tr>\n",
       "      <th>138</th>\n",
       "      <td>COD</td>\n",
       "      <td>Congo, Dem Rep</td>\n",
       "      <td>Africa</td>\n",
       "      <td>NaN</td>\n",
       "    </tr>\n",
       "    <tr>\n",
       "      <th>150</th>\n",
       "      <td>BER</td>\n",
       "      <td>Bermuda*</td>\n",
       "      <td>America</td>\n",
       "      <td>NaN</td>\n",
       "    </tr>\n",
       "  </tbody>\n",
       "</table>\n",
       "</div>"
      ],
      "text/plain": [
       "    country_code           country_name continent language\n",
       "76           MNE             Montenegro    Europe      NaN\n",
       "82           BAH                Bahamas   America      NaN\n",
       "87           MKD        North Macedonia    Europe      NaN\n",
       "89           MAS               Malaysia      Asia      NaN\n",
       "98           UNK                 Kosovo    Europe      NaN\n",
       "119          AND                Andorra    Europe      NaN\n",
       "129          AHO  Netherlands Antilles*   America      NaN\n",
       "137          TTO      Trinidad e Tobago   America      NaN\n",
       "138          COD         Congo, Dem Rep    Africa      NaN\n",
       "150          BER               Bermuda*   America      NaN"
      ]
     },
     "execution_count": 176,
     "metadata": {},
     "output_type": "execute_result"
    }
   ],
   "source": [
    "g_new[g_new['language'].isnull()]"
   ]
  },
  {
   "cell_type": "markdown",
   "id": "hrEF8ydlzQwT",
   "metadata": {
    "id": "hrEF8ydlzQwT"
   },
   "source": [
    "Per i paesi senza match andiamo ad inserirla manualmente"
   ]
  },
  {
   "cell_type": "code",
   "execution_count": 177,
   "id": "hB-ju6m9zQwT",
   "metadata": {
    "id": "hB-ju6m9zQwT"
   },
   "outputs": [],
   "source": [
    "g_new.at[g_new.index[g_new['country_code'] == 'MNE'],'language']='sr'\n",
    "g_new.at[g_new.index[g_new['country_code'] == 'BAH'],'language']='en'\n",
    "g_new.at[g_new.index[g_new['country_code'] == 'MKD'],'language']='mk'\n",
    "g_new.at[g_new.index[g_new['country_code'] == 'MAS'],'language']='ms'\n",
    "g_new.at[g_new.index[g_new['country_code'] == 'UNK'],'language']='sq'\n",
    "g_new.at[g_new.index[g_new['country_code'] == 'AND'],'language']='ca'\n",
    "g_new.at[g_new.index[g_new['country_code'] == 'BER'],'language']='en'\n",
    "g_new.at[g_new.index[g_new['country_code'] == 'AHO'],'language']='fr'\n",
    "g_new.at[g_new.index[g_new['country_code'] == 'TTO'],'language']='en'\n",
    "g_new.at[g_new.index[g_new['country_code'] == 'COD'],'language']='en'"
   ]
  },
  {
   "cell_type": "code",
   "execution_count": 178,
   "id": "50EvuiXdzQwU",
   "metadata": {
    "id": "50EvuiXdzQwU",
    "outputId": "32c290ed-1e6f-423f-e36f-63433425f817"
   },
   "outputs": [
    {
     "data": {
      "text/html": [
       "<div>\n",
       "<style scoped>\n",
       "    .dataframe tbody tr th:only-of-type {\n",
       "        vertical-align: middle;\n",
       "    }\n",
       "\n",
       "    .dataframe tbody tr th {\n",
       "        vertical-align: top;\n",
       "    }\n",
       "\n",
       "    .dataframe thead th {\n",
       "        text-align: right;\n",
       "    }\n",
       "</style>\n",
       "<table border=\"1\" class=\"dataframe\">\n",
       "  <thead>\n",
       "    <tr style=\"text-align: right;\">\n",
       "      <th></th>\n",
       "      <th>country_code</th>\n",
       "      <th>country_name</th>\n",
       "      <th>continent</th>\n",
       "      <th>language</th>\n",
       "    </tr>\n",
       "  </thead>\n",
       "  <tbody>\n",
       "    <tr>\n",
       "      <th>0</th>\n",
       "      <td>JPN</td>\n",
       "      <td>Japan</td>\n",
       "      <td>Asia</td>\n",
       "      <td>ja</td>\n",
       "    </tr>\n",
       "    <tr>\n",
       "      <th>1</th>\n",
       "      <td>RUS</td>\n",
       "      <td>Russia</td>\n",
       "      <td>Europe</td>\n",
       "      <td>ru</td>\n",
       "    </tr>\n",
       "    <tr>\n",
       "      <th>2</th>\n",
       "      <td>FRA</td>\n",
       "      <td>France</td>\n",
       "      <td>Europe</td>\n",
       "      <td>fr</td>\n",
       "    </tr>\n",
       "    <tr>\n",
       "      <th>3</th>\n",
       "      <td>AUS</td>\n",
       "      <td>Australia</td>\n",
       "      <td>Oceania</td>\n",
       "      <td>en</td>\n",
       "    </tr>\n",
       "    <tr>\n",
       "      <th>4</th>\n",
       "      <td>CAN</td>\n",
       "      <td>Canada</td>\n",
       "      <td>America</td>\n",
       "      <td>en</td>\n",
       "    </tr>\n",
       "    <tr>\n",
       "      <th>...</th>\n",
       "      <td>...</td>\n",
       "      <td>...</td>\n",
       "      <td>...</td>\n",
       "      <td>...</td>\n",
       "    </tr>\n",
       "    <tr>\n",
       "      <th>148</th>\n",
       "      <td>VIN</td>\n",
       "      <td>Saint Vincent and the Grenadines</td>\n",
       "      <td>America</td>\n",
       "      <td>en</td>\n",
       "    </tr>\n",
       "    <tr>\n",
       "      <th>149</th>\n",
       "      <td>ANT</td>\n",
       "      <td>Antigua and Barbuda</td>\n",
       "      <td>America</td>\n",
       "      <td>en</td>\n",
       "    </tr>\n",
       "    <tr>\n",
       "      <th>150</th>\n",
       "      <td>BER</td>\n",
       "      <td>Bermuda*</td>\n",
       "      <td>America</td>\n",
       "      <td>en</td>\n",
       "    </tr>\n",
       "    <tr>\n",
       "      <th>151</th>\n",
       "      <td>LBA</td>\n",
       "      <td>Libya</td>\n",
       "      <td>Africa</td>\n",
       "      <td>ar</td>\n",
       "    </tr>\n",
       "    <tr>\n",
       "      <th>152</th>\n",
       "      <td>TOG</td>\n",
       "      <td>Togo</td>\n",
       "      <td>Africa</td>\n",
       "      <td>fr</td>\n",
       "    </tr>\n",
       "  </tbody>\n",
       "</table>\n",
       "<p>153 rows × 4 columns</p>\n",
       "</div>"
      ],
      "text/plain": [
       "    country_code                      country_name continent language\n",
       "0            JPN                             Japan      Asia       ja\n",
       "1            RUS                            Russia    Europe       ru\n",
       "2            FRA                            France    Europe       fr\n",
       "3            AUS                         Australia   Oceania       en\n",
       "4            CAN                            Canada   America       en\n",
       "..           ...                               ...       ...      ...\n",
       "148          VIN  Saint Vincent and the Grenadines   America       en\n",
       "149          ANT               Antigua and Barbuda   America       en\n",
       "150          BER                          Bermuda*   America       en\n",
       "151          LBA                             Libya    Africa       ar\n",
       "152          TOG                              Togo    Africa       fr\n",
       "\n",
       "[153 rows x 4 columns]"
      ]
     },
     "execution_count": 178,
     "metadata": {},
     "output_type": "execute_result"
    }
   ],
   "source": [
    "g_new"
   ]
  },
  {
   "cell_type": "code",
   "execution_count": 179,
   "id": "4y3ctNYSzQwU",
   "metadata": {
    "id": "4y3ctNYSzQwU",
    "outputId": "12425b10-b945-4a9b-900d-4c6f8b02d32d"
   },
   "outputs": [
    {
     "data": {
      "text/plain": [
       "country_code    False\n",
       "country_name    False\n",
       "continent       False\n",
       "language        False\n",
       "dtype: bool"
      ]
     },
     "execution_count": 179,
     "metadata": {},
     "output_type": "execute_result"
    }
   ],
   "source": [
    "g_new.isnull().any(axis=0)"
   ]
  },
  {
   "cell_type": "code",
   "execution_count": 180,
   "id": "BWVEn1r8zQwU",
   "metadata": {
    "id": "BWVEn1r8zQwU"
   },
   "outputs": [],
   "source": [
    "g_new.drop('country_name', axis=1, inplace=True)"
   ]
  },
  {
   "cell_type": "code",
   "execution_count": 181,
   "id": "BKpMukQrzQwU",
   "metadata": {
    "id": "BKpMukQrzQwU"
   },
   "outputs": [],
   "source": [
    "g_new.rename(columns={'country_code':'country_ioc'}, inplace=True)"
   ]
  },
  {
   "cell_type": "code",
   "execution_count": null,
   "id": "9i_-7kkCzQwV",
   "metadata": {
    "id": "9i_-7kkCzQwV"
   },
   "outputs": [],
   "source": []
  },
  {
   "cell_type": "code",
   "execution_count": null,
   "id": "aTVR-p34zQwV",
   "metadata": {
    "id": "aTVR-p34zQwV"
   },
   "outputs": [],
   "source": []
  },
  {
   "cell_type": "code",
   "execution_count": null,
   "id": "cFx2TlESzQwV",
   "metadata": {
    "id": "cFx2TlESzQwV"
   },
   "outputs": [],
   "source": []
  },
  {
   "cell_type": "code",
   "execution_count": null,
   "id": "cOi8TwW4zQwV",
   "metadata": {
    "id": "cOi8TwW4zQwV"
   },
   "outputs": [],
   "source": []
  },
  {
   "cell_type": "code",
   "execution_count": 182,
   "id": "zBHiHGlHzQwV",
   "metadata": {
    "id": "zBHiHGlHzQwV"
   },
   "outputs": [],
   "source": [
    "g_new.to_csv('table/countries_new.csv',index=False)"
   ]
  },
  {
   "cell_type": "code",
   "execution_count": 183,
   "id": "H23h1u4mzQwV",
   "metadata": {
    "id": "H23h1u4mzQwV"
   },
   "outputs": [],
   "source": [
    "tennis.to_csv('data/tennis_new.csv', index=False)\n",
    "male.to_csv('data/male_new.csv', index=False)\n",
    "female.to_csv('data/female_new.csv', index=False)"
   ]
  },
  {
   "cell_type": "code",
   "execution_count": null,
   "id": "f632d832",
   "metadata": {},
   "outputs": [],
   "source": []
  }
 ],
 "metadata": {
  "colab": {
   "name": "Preprocessing.ipynb",
   "provenance": [],
   "toc_visible": true
  },
  "kernelspec": {
   "display_name": "Python 3 (ipykernel)",
   "language": "python",
   "name": "python3"
  },
  "language_info": {
   "codemirror_mode": {
    "name": "ipython",
    "version": 3
   },
   "file_extension": ".py",
   "mimetype": "text/x-python",
   "name": "python",
   "nbconvert_exporter": "python",
   "pygments_lexer": "ipython3",
   "version": "3.8.3"
  }
 },
 "nbformat": 4,
 "nbformat_minor": 5
}
